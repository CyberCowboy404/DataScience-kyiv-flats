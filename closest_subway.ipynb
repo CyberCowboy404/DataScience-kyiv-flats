{
 "cells": [
  {
   "cell_type": "code",
   "execution_count": 5,
   "metadata": {},
   "outputs": [],
   "source": [
    "import math\n",
    "import requests\n",
    "from bs4 import BeautifulSoup\n",
    "\n",
    "def get_subway_coordinates(subway_links):\n",
    "    subway_coordinates = []\n",
    "    for link in subway_links:\n",
    "        page = requests.get(link)\n",
    "        soup = BeautifulSoup(page.content, 'html.parser')\n",
    "        table = soup.find('table', class_='infobox')\n",
    "        rows = table.find_all('tr')\n",
    "        page = soup.find(id='firstHeading').text\n",
    "        for row in rows:\n",
    "            if 'Coordinates' in row.text:\n",
    "                coordinates = row.find('span', class_='geo').text\n",
    "                coordinates = coordinates.split(';')\n",
    "                latitude = float(coordinates[0])\n",
    "                longitude = float(coordinates[1])\n",
    "                subway_coordinates.append((page, latitude, longitude))\n",
    "    return subway_coordinates\n",
    "\n",
    "def get_distance(lat1, lon1, lat2, lon2):\n",
    "    R = 6373.0\n",
    "    lat1 = math.radians(lat1)\n",
    "    lon1 = math.radians(lon1)\n",
    "    lat2 = math.radians(lat2)\n",
    "    lon2 = math.radians(lon2)\n",
    "    dlon = lon2 - lon1\n",
    "    dlat = lat2 - lat1\n",
    "    a = math.sin(dlat / 2)**2 + math.cos(lat1) * math.cos(lat2) * math.sin(dlon / 2)**2\n",
    "    c = 2 * math.atan2(math.sqrt(a), math.sqrt(1 - a))\n",
    "    distance = R * c\n",
    "    return distance\n",
    "\n",
    "def get_closest_subway(lat, lon, subway_coordinates):\n",
    "    min_distance = get_distance(lat, lon, subway_coordinates[0][0], subway_coordinates[0][1])\n",
    "    closest_subway = subway_coordinates[0]\n",
    "    for subway in subway_coordinates:\n",
    "        distance = get_distance(lat, lon, subway[0], subway[1])\n",
    "        if distance < min_distance:\n",
    "            min_distance = distance\n",
    "            closest_subway = subway\n",
    "    return closest_subway\n",
    "\n",
    "\n"
   ]
  },
  {
   "cell_type": "code",
   "execution_count": 7,
   "metadata": {},
   "outputs": [],
   "source": [
    "import csv\n",
    "subway_links = ['https://en.wikipedia.org/wiki/Akademmistechko_(Kyiv_Metro)', 'https://en.wikipedia.org/wiki/Zhytomyrska_(Kyiv_Metro)', 'https://en.wikipedia.org/wiki/Sviatoshyn_(Kyiv_Metro)', 'https://en.wikipedia.org/wiki/Nyvky_(Kyiv_Metro)', 'https://en.wikipedia.org/wiki/Beresteiska_(Kyiv_Metro)', 'https://en.wikipedia.org/wiki/Shuliavska_(Kyiv_Metro)', 'https://en.wikipedia.org/wiki/Politekhnichnyi_Instytut_(Kyiv_Metro)', 'https://en.wikipedia.org/wiki/Vokzalna_(Kyiv_Metro)', 'https://en.wikipedia.org/wiki/Universytet_(Kyiv_Metro)', 'https://en.wikipedia.org/wiki/Teatralna_(Kyiv_Metro)', 'https://en.wikipedia.org/wiki/Khreshchatyk_(Kyiv_Metro)', 'https://en.wikipedia.org/wiki/Arsenalna_(Kyiv_Metro)', 'https://en.wikipedia.org/wiki/Dnipro_(Kyiv_Metro)', 'https://en.wikipedia.org/wiki/Hydropark_(Kyiv_Metro)', 'https://en.wikipedia.org/wiki/Livoberezhna_(Kyiv_Metro)', 'https://en.wikipedia.org/wiki/Darnytsia_(Kyiv_Metro)', 'https://en.wikipedia.org/wiki/Chernihivska_(Kyiv_Metro)', 'https://en.wikipedia.org/wiki/Lisova_(Kyiv_Metro)']\n",
    "\n",
    "subwayCords = get_subway_coordinates(subway_links)\n",
    "\n",
    "#to csv\n",
    "with open('subway_coordinates.csv', 'w', newline='') as file:\n",
    "    writer = csv.writer(file)\n",
    "    writer.writerows(subwayCords)\n"
   ]
  }
 ],
 "metadata": {
  "kernelspec": {
   "display_name": "Python 3",
   "language": "python",
   "name": "python3"
  },
  "language_info": {
   "codemirror_mode": {
    "name": "ipython",
    "version": 3
   },
   "file_extension": ".py",
   "mimetype": "text/x-python",
   "name": "python",
   "nbconvert_exporter": "python",
   "pygments_lexer": "ipython3",
   "version": "3.9.6"
  },
  "orig_nbformat": 4
 },
 "nbformat": 4,
 "nbformat_minor": 2
}
