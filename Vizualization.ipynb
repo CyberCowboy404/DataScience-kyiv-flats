{
 "cells": [
  {
   "cell_type": "code",
   "execution_count": 1,
   "id": "0775f667",
   "metadata": {},
   "outputs": [],
   "source": [
    "import numpy as np\n",
    "import pandas as pd\n",
    "import matplotlib.pyplot as plt\n",
    "from sklearn.linear_model import LinearRegression"
   ]
  },
  {
   "cell_type": "code",
   "execution_count": 2,
   "id": "7d4c306f",
   "metadata": {},
   "outputs": [
    {
     "data": {
      "text/html": [
       "<div>\n",
       "<style scoped>\n",
       "    .dataframe tbody tr th:only-of-type {\n",
       "        vertical-align: middle;\n",
       "    }\n",
       "\n",
       "    .dataframe tbody tr th {\n",
       "        vertical-align: top;\n",
       "    }\n",
       "\n",
       "    .dataframe thead th {\n",
       "        text-align: right;\n",
       "    }\n",
       "</style>\n",
       "<table border=\"1\" class=\"dataframe\">\n",
       "  <thead>\n",
       "    <tr style=\"text-align: right;\">\n",
       "      <th></th>\n",
       "      <th>rooms</th>\n",
       "      <th>price</th>\n",
       "      <th>flat_area</th>\n",
       "      <th>district</th>\n",
       "      <th>address</th>\n",
       "      <th>latitude</th>\n",
       "      <th>longitude</th>\n",
       "      <th>subway</th>\n",
       "      <th>prestigious</th>\n",
       "    </tr>\n",
       "  </thead>\n",
       "  <tbody>\n",
       "    <tr>\n",
       "      <th>0</th>\n",
       "      <td>2</td>\n",
       "      <td>25000.0</td>\n",
       "      <td>131.0</td>\n",
       "      <td>Голосіївський</td>\n",
       "      <td>Рудницького Степана вул. (Вільямса академіка),...</td>\n",
       "      <td>50.384365</td>\n",
       "      <td>30.456032</td>\n",
       "      <td>Іподром</td>\n",
       "      <td>3</td>\n",
       "    </tr>\n",
       "    <tr>\n",
       "      <th>1</th>\n",
       "      <td>2</td>\n",
       "      <td>15500.0</td>\n",
       "      <td>114.0</td>\n",
       "      <td>Солом'янський</td>\n",
       "      <td>Лобановського просп. (Червонозоряний), 4в</td>\n",
       "      <td>50.422333</td>\n",
       "      <td>30.462494</td>\n",
       "      <td>NaN</td>\n",
       "      <td>2</td>\n",
       "    </tr>\n",
       "    <tr>\n",
       "      <th>2</th>\n",
       "      <td>1</td>\n",
       "      <td>7000.0</td>\n",
       "      <td>55.0</td>\n",
       "      <td>Оболонський</td>\n",
       "      <td>Оболонський просп., 43</td>\n",
       "      <td>50.520855</td>\n",
       "      <td>30.497644</td>\n",
       "      <td>Героїв Дніпра</td>\n",
       "      <td>2</td>\n",
       "    </tr>\n",
       "    <tr>\n",
       "      <th>3</th>\n",
       "      <td>2</td>\n",
       "      <td>20000.0</td>\n",
       "      <td>117.0</td>\n",
       "      <td>Печерський</td>\n",
       "      <td>Лесі Українки бульв., 5</td>\n",
       "      <td>50.435211</td>\n",
       "      <td>30.530174</td>\n",
       "      <td>NaN</td>\n",
       "      <td>3</td>\n",
       "    </tr>\n",
       "    <tr>\n",
       "      <th>4</th>\n",
       "      <td>3</td>\n",
       "      <td>12000.0</td>\n",
       "      <td>140.0</td>\n",
       "      <td>Дарницький</td>\n",
       "      <td>Драгоманова вул., 25</td>\n",
       "      <td>50.404091</td>\n",
       "      <td>30.637787</td>\n",
       "      <td>NaN</td>\n",
       "      <td>1</td>\n",
       "    </tr>\n",
       "    <tr>\n",
       "      <th>...</th>\n",
       "      <td>...</td>\n",
       "      <td>...</td>\n",
       "      <td>...</td>\n",
       "      <td>...</td>\n",
       "      <td>...</td>\n",
       "      <td>...</td>\n",
       "      <td>...</td>\n",
       "      <td>...</td>\n",
       "      <td>...</td>\n",
       "    </tr>\n",
       "    <tr>\n",
       "      <th>3420</th>\n",
       "      <td>3</td>\n",
       "      <td>18000.0</td>\n",
       "      <td>212.0</td>\n",
       "      <td>Дніпровський</td>\n",
       "      <td>Всеволода Нестайка вул. (Мильчакова Олександра...</td>\n",
       "      <td>50.455528</td>\n",
       "      <td>30.599482</td>\n",
       "      <td>NaN</td>\n",
       "      <td>1</td>\n",
       "    </tr>\n",
       "    <tr>\n",
       "      <th>3421</th>\n",
       "      <td>2</td>\n",
       "      <td>10000.0</td>\n",
       "      <td>110.0</td>\n",
       "      <td>Дарницький</td>\n",
       "      <td>Вишняківська вул., 13б</td>\n",
       "      <td>50.393749</td>\n",
       "      <td>30.645185</td>\n",
       "      <td>NaN</td>\n",
       "      <td>1</td>\n",
       "    </tr>\n",
       "    <tr>\n",
       "      <th>3422</th>\n",
       "      <td>1</td>\n",
       "      <td>8000.0</td>\n",
       "      <td>43.0</td>\n",
       "      <td>Святошинський</td>\n",
       "      <td>Туполєва академіка вул., 7Б</td>\n",
       "      <td>50.480324</td>\n",
       "      <td>30.394669</td>\n",
       "      <td>NaN</td>\n",
       "      <td>2</td>\n",
       "    </tr>\n",
       "    <tr>\n",
       "      <th>3423</th>\n",
       "      <td>2</td>\n",
       "      <td>15000.0</td>\n",
       "      <td>107.0</td>\n",
       "      <td>Святошинський</td>\n",
       "      <td>Клавдієвська вул., 40 г</td>\n",
       "      <td>50.477707</td>\n",
       "      <td>30.339081</td>\n",
       "      <td>NaN</td>\n",
       "      <td>2</td>\n",
       "    </tr>\n",
       "    <tr>\n",
       "      <th>3424</th>\n",
       "      <td>1</td>\n",
       "      <td>4500.0</td>\n",
       "      <td>51.0</td>\n",
       "      <td>Деснянський</td>\n",
       "      <td>Лісовий просп., 15</td>\n",
       "      <td>50.482262</td>\n",
       "      <td>30.627872</td>\n",
       "      <td>NaN</td>\n",
       "      <td>1</td>\n",
       "    </tr>\n",
       "  </tbody>\n",
       "</table>\n",
       "<p>3425 rows × 9 columns</p>\n",
       "</div>"
      ],
      "text/plain": [
       "      rooms    price  flat_area       district  \\\n",
       "0         2  25000.0      131.0  Голосіївський   \n",
       "1         2  15500.0      114.0  Солом'янський   \n",
       "2         1   7000.0       55.0    Оболонський   \n",
       "3         2  20000.0      117.0     Печерський   \n",
       "4         3  12000.0      140.0     Дарницький   \n",
       "...     ...      ...        ...            ...   \n",
       "3420      3  18000.0      212.0   Дніпровський   \n",
       "3421      2  10000.0      110.0     Дарницький   \n",
       "3422      1   8000.0       43.0  Святошинський   \n",
       "3423      2  15000.0      107.0  Святошинський   \n",
       "3424      1   4500.0       51.0    Деснянський   \n",
       "\n",
       "                                                address   latitude  longitude  \\\n",
       "0     Рудницького Степана вул. (Вільямса академіка),...  50.384365  30.456032   \n",
       "1             Лобановського просп. (Червонозоряний), 4в  50.422333  30.462494   \n",
       "2                                Оболонський просп., 43  50.520855  30.497644   \n",
       "3                               Лесі Українки бульв., 5  50.435211  30.530174   \n",
       "4                                  Драгоманова вул., 25  50.404091  30.637787   \n",
       "...                                                 ...        ...        ...   \n",
       "3420  Всеволода Нестайка вул. (Мильчакова Олександра...  50.455528  30.599482   \n",
       "3421                             Вишняківська вул., 13б  50.393749  30.645185   \n",
       "3422                        Туполєва академіка вул., 7Б  50.480324  30.394669   \n",
       "3423                            Клавдієвська вул., 40 г  50.477707  30.339081   \n",
       "3424                                 Лісовий просп., 15  50.482262  30.627872   \n",
       "\n",
       "             subway  prestigious  \n",
       "0           Іподром            3  \n",
       "1               NaN            2  \n",
       "2     Героїв Дніпра            2  \n",
       "3               NaN            3  \n",
       "4               NaN            1  \n",
       "...             ...          ...  \n",
       "3420            NaN            1  \n",
       "3421            NaN            1  \n",
       "3422            NaN            2  \n",
       "3423            NaN            2  \n",
       "3424            NaN            1  \n",
       "\n",
       "[3425 rows x 9 columns]"
      ]
     },
     "execution_count": 2,
     "metadata": {},
     "output_type": "execute_result"
    }
   ],
   "source": [
    "df = pd.read_excel('C:/Users/liman/Documents/Main Academy/orenda_Kyiv_lun_rieltor.xlsx')\n",
    "df"
   ]
  },
  {
   "cell_type": "code",
   "execution_count": 3,
   "id": "e4083f2b",
   "metadata": {},
   "outputs": [
    {
     "data": {
      "text/html": [
       "<div>\n",
       "<style scoped>\n",
       "    .dataframe tbody tr th:only-of-type {\n",
       "        vertical-align: middle;\n",
       "    }\n",
       "\n",
       "    .dataframe tbody tr th {\n",
       "        vertical-align: top;\n",
       "    }\n",
       "\n",
       "    .dataframe thead th {\n",
       "        text-align: right;\n",
       "    }\n",
       "</style>\n",
       "<table border=\"1\" class=\"dataframe\">\n",
       "  <thead>\n",
       "    <tr style=\"text-align: right;\">\n",
       "      <th></th>\n",
       "      <th>rooms</th>\n",
       "      <th>price</th>\n",
       "      <th>flat_area</th>\n",
       "      <th>district</th>\n",
       "      <th>address</th>\n",
       "      <th>latitude</th>\n",
       "      <th>longitude</th>\n",
       "      <th>subway</th>\n",
       "      <th>prestigious</th>\n",
       "    </tr>\n",
       "  </thead>\n",
       "  <tbody>\n",
       "    <tr>\n",
       "      <th>0</th>\n",
       "      <td>2</td>\n",
       "      <td>25000.0</td>\n",
       "      <td>131.0</td>\n",
       "      <td>Голосіївський</td>\n",
       "      <td>Рудницького Степана вул. (Вільямса академіка),...</td>\n",
       "      <td>50.384365</td>\n",
       "      <td>30.456032</td>\n",
       "      <td>Іподром</td>\n",
       "      <td>3</td>\n",
       "    </tr>\n",
       "    <tr>\n",
       "      <th>1</th>\n",
       "      <td>2</td>\n",
       "      <td>15500.0</td>\n",
       "      <td>114.0</td>\n",
       "      <td>Солом'янський</td>\n",
       "      <td>Лобановського просп. (Червонозоряний), 4в</td>\n",
       "      <td>50.422333</td>\n",
       "      <td>30.462494</td>\n",
       "      <td>NaN</td>\n",
       "      <td>2</td>\n",
       "    </tr>\n",
       "    <tr>\n",
       "      <th>2</th>\n",
       "      <td>1</td>\n",
       "      <td>7000.0</td>\n",
       "      <td>55.0</td>\n",
       "      <td>Оболонський</td>\n",
       "      <td>Оболонський просп., 43</td>\n",
       "      <td>50.520855</td>\n",
       "      <td>30.497644</td>\n",
       "      <td>Героїв Дніпра</td>\n",
       "      <td>2</td>\n",
       "    </tr>\n",
       "    <tr>\n",
       "      <th>3</th>\n",
       "      <td>2</td>\n",
       "      <td>20000.0</td>\n",
       "      <td>117.0</td>\n",
       "      <td>Печерський</td>\n",
       "      <td>Лесі Українки бульв., 5</td>\n",
       "      <td>50.435211</td>\n",
       "      <td>30.530174</td>\n",
       "      <td>NaN</td>\n",
       "      <td>3</td>\n",
       "    </tr>\n",
       "    <tr>\n",
       "      <th>4</th>\n",
       "      <td>3</td>\n",
       "      <td>12000.0</td>\n",
       "      <td>140.0</td>\n",
       "      <td>Дарницький</td>\n",
       "      <td>Драгоманова вул., 25</td>\n",
       "      <td>50.404091</td>\n",
       "      <td>30.637787</td>\n",
       "      <td>NaN</td>\n",
       "      <td>1</td>\n",
       "    </tr>\n",
       "    <tr>\n",
       "      <th>...</th>\n",
       "      <td>...</td>\n",
       "      <td>...</td>\n",
       "      <td>...</td>\n",
       "      <td>...</td>\n",
       "      <td>...</td>\n",
       "      <td>...</td>\n",
       "      <td>...</td>\n",
       "      <td>...</td>\n",
       "      <td>...</td>\n",
       "    </tr>\n",
       "    <tr>\n",
       "      <th>3420</th>\n",
       "      <td>3</td>\n",
       "      <td>18000.0</td>\n",
       "      <td>212.0</td>\n",
       "      <td>Дніпровський</td>\n",
       "      <td>Всеволода Нестайка вул. (Мильчакова Олександра...</td>\n",
       "      <td>50.455528</td>\n",
       "      <td>30.599482</td>\n",
       "      <td>NaN</td>\n",
       "      <td>1</td>\n",
       "    </tr>\n",
       "    <tr>\n",
       "      <th>3421</th>\n",
       "      <td>2</td>\n",
       "      <td>10000.0</td>\n",
       "      <td>110.0</td>\n",
       "      <td>Дарницький</td>\n",
       "      <td>Вишняківська вул., 13б</td>\n",
       "      <td>50.393749</td>\n",
       "      <td>30.645185</td>\n",
       "      <td>NaN</td>\n",
       "      <td>1</td>\n",
       "    </tr>\n",
       "    <tr>\n",
       "      <th>3422</th>\n",
       "      <td>1</td>\n",
       "      <td>8000.0</td>\n",
       "      <td>43.0</td>\n",
       "      <td>Святошинський</td>\n",
       "      <td>Туполєва академіка вул., 7Б</td>\n",
       "      <td>50.480324</td>\n",
       "      <td>30.394669</td>\n",
       "      <td>NaN</td>\n",
       "      <td>2</td>\n",
       "    </tr>\n",
       "    <tr>\n",
       "      <th>3423</th>\n",
       "      <td>2</td>\n",
       "      <td>15000.0</td>\n",
       "      <td>107.0</td>\n",
       "      <td>Святошинський</td>\n",
       "      <td>Клавдієвська вул., 40 г</td>\n",
       "      <td>50.477707</td>\n",
       "      <td>30.339081</td>\n",
       "      <td>NaN</td>\n",
       "      <td>2</td>\n",
       "    </tr>\n",
       "    <tr>\n",
       "      <th>3424</th>\n",
       "      <td>1</td>\n",
       "      <td>4500.0</td>\n",
       "      <td>51.0</td>\n",
       "      <td>Деснянський</td>\n",
       "      <td>Лісовий просп., 15</td>\n",
       "      <td>50.482262</td>\n",
       "      <td>30.627872</td>\n",
       "      <td>NaN</td>\n",
       "      <td>1</td>\n",
       "    </tr>\n",
       "  </tbody>\n",
       "</table>\n",
       "<p>3425 rows × 9 columns</p>\n",
       "</div>"
      ],
      "text/plain": [
       "      rooms    price  flat_area       district  \\\n",
       "0         2  25000.0      131.0  Голосіївський   \n",
       "1         2  15500.0      114.0  Солом'янський   \n",
       "2         1   7000.0       55.0    Оболонський   \n",
       "3         2  20000.0      117.0     Печерський   \n",
       "4         3  12000.0      140.0     Дарницький   \n",
       "...     ...      ...        ...            ...   \n",
       "3420      3  18000.0      212.0   Дніпровський   \n",
       "3421      2  10000.0      110.0     Дарницький   \n",
       "3422      1   8000.0       43.0  Святошинський   \n",
       "3423      2  15000.0      107.0  Святошинський   \n",
       "3424      1   4500.0       51.0    Деснянський   \n",
       "\n",
       "                                                address   latitude  longitude  \\\n",
       "0     Рудницького Степана вул. (Вільямса академіка),...  50.384365  30.456032   \n",
       "1             Лобановського просп. (Червонозоряний), 4в  50.422333  30.462494   \n",
       "2                                Оболонський просп., 43  50.520855  30.497644   \n",
       "3                               Лесі Українки бульв., 5  50.435211  30.530174   \n",
       "4                                  Драгоманова вул., 25  50.404091  30.637787   \n",
       "...                                                 ...        ...        ...   \n",
       "3420  Всеволода Нестайка вул. (Мильчакова Олександра...  50.455528  30.599482   \n",
       "3421                             Вишняківська вул., 13б  50.393749  30.645185   \n",
       "3422                        Туполєва академіка вул., 7Б  50.480324  30.394669   \n",
       "3423                            Клавдієвська вул., 40 г  50.477707  30.339081   \n",
       "3424                                 Лісовий просп., 15  50.482262  30.627872   \n",
       "\n",
       "             subway  prestigious  \n",
       "0           Іподром            3  \n",
       "1               NaN            2  \n",
       "2     Героїв Дніпра            2  \n",
       "3               NaN            3  \n",
       "4               NaN            1  \n",
       "...             ...          ...  \n",
       "3420            NaN            1  \n",
       "3421            NaN            1  \n",
       "3422            NaN            2  \n",
       "3423            NaN            2  \n",
       "3424            NaN            1  \n",
       "\n",
       "[3425 rows x 9 columns]"
      ]
     },
     "execution_count": 3,
     "metadata": {},
     "output_type": "execute_result"
    }
   ],
   "source": [
    "df['rooms'] = pd.to_numeric(df['rooms'])\n",
    "\n",
    "df    "
   ]
  },
  {
   "cell_type": "code",
   "execution_count": 4,
   "id": "e8eccf2e",
   "metadata": {},
   "outputs": [
    {
     "data": {
      "text/plain": [
       "600000.0"
      ]
     },
     "execution_count": 4,
     "metadata": {},
     "output_type": "execute_result"
    }
   ],
   "source": [
    "max_value = df['price'].max()\n",
    "max_value"
   ]
  },
  {
   "cell_type": "code",
   "execution_count": 5,
   "id": "bd91709b",
   "metadata": {},
   "outputs": [
    {
     "name": "stdout",
     "output_type": "stream",
     "text": [
      "Maximum value in the column that satisfies the condition: nan\n"
     ]
    }
   ],
   "source": [
    "max_value = df.loc[df['rooms'] == '1', 'price'].max()\n",
    "\n",
    "print('Maximum value in the column that satisfies the condition:', max_value)\n",
    "\n"
   ]
  },
  {
   "cell_type": "code",
   "execution_count": 6,
   "id": "b3845725",
   "metadata": {},
   "outputs": [
    {
     "data": {
      "text/html": [
       "<div>\n",
       "<style scoped>\n",
       "    .dataframe tbody tr th:only-of-type {\n",
       "        vertical-align: middle;\n",
       "    }\n",
       "\n",
       "    .dataframe tbody tr th {\n",
       "        vertical-align: top;\n",
       "    }\n",
       "\n",
       "    .dataframe thead th {\n",
       "        text-align: right;\n",
       "    }\n",
       "</style>\n",
       "<table border=\"1\" class=\"dataframe\">\n",
       "  <thead>\n",
       "    <tr style=\"text-align: right;\">\n",
       "      <th></th>\n",
       "      <th>rooms</th>\n",
       "      <th>price</th>\n",
       "      <th>flat_area</th>\n",
       "      <th>district</th>\n",
       "      <th>address</th>\n",
       "      <th>latitude</th>\n",
       "      <th>longitude</th>\n",
       "      <th>subway</th>\n",
       "      <th>prestigious</th>\n",
       "    </tr>\n",
       "  </thead>\n",
       "  <tbody>\n",
       "  </tbody>\n",
       "</table>\n",
       "</div>"
      ],
      "text/plain": [
       "Empty DataFrame\n",
       "Columns: [rooms, price, flat_area, district, address, latitude, longitude, subway, prestigious]\n",
       "Index: []"
      ]
     },
     "execution_count": 6,
     "metadata": {},
     "output_type": "execute_result"
    }
   ],
   "source": [
    "max_row = df.loc[df['price'] == max_value]\n",
    "max_row"
   ]
  },
  {
   "cell_type": "code",
   "execution_count": 7,
   "id": "a0977bdf",
   "metadata": {},
   "outputs": [
    {
     "name": "stdout",
     "output_type": "stream",
     "text": [
      "Maximum value in the column that satisfies the condition: nan\n"
     ]
    }
   ],
   "source": [
    "# Find the maximum value in the 'column_name' column that satisfies a condition on the 'condition_column' column\n",
    "max_values = df.loc[df['rooms'] == '2', 'price'].max()\n",
    "\n",
    "print('Maximum value in the column that satisfies the condition:', max_values)"
   ]
  },
  {
   "cell_type": "code",
   "execution_count": 8,
   "id": "702d295d",
   "metadata": {},
   "outputs": [
    {
     "data": {
      "text/plain": [
       "2000.0"
      ]
     },
     "execution_count": 8,
     "metadata": {},
     "output_type": "execute_result"
    }
   ],
   "source": [
    "min_value = df['price'].min()\n",
    "min_value"
   ]
  },
  {
   "cell_type": "code",
   "execution_count": 9,
   "id": "af6e736c",
   "metadata": {},
   "outputs": [
    {
     "data": {
      "text/html": [
       "<div>\n",
       "<style scoped>\n",
       "    .dataframe tbody tr th:only-of-type {\n",
       "        vertical-align: middle;\n",
       "    }\n",
       "\n",
       "    .dataframe tbody tr th {\n",
       "        vertical-align: top;\n",
       "    }\n",
       "\n",
       "    .dataframe thead th {\n",
       "        text-align: right;\n",
       "    }\n",
       "</style>\n",
       "<table border=\"1\" class=\"dataframe\">\n",
       "  <thead>\n",
       "    <tr style=\"text-align: right;\">\n",
       "      <th></th>\n",
       "      <th>rooms</th>\n",
       "      <th>price</th>\n",
       "      <th>flat_area</th>\n",
       "      <th>district</th>\n",
       "      <th>address</th>\n",
       "      <th>latitude</th>\n",
       "      <th>longitude</th>\n",
       "      <th>subway</th>\n",
       "      <th>prestigious</th>\n",
       "    </tr>\n",
       "  </thead>\n",
       "  <tbody>\n",
       "    <tr>\n",
       "      <th>3099</th>\n",
       "      <td>2</td>\n",
       "      <td>2000.0</td>\n",
       "      <td>82.0</td>\n",
       "      <td>Деснянський</td>\n",
       "      <td>Червоної Калини просп. (Маяковського Володимир...</td>\n",
       "      <td>50.526424</td>\n",
       "      <td>30.620691</td>\n",
       "      <td>NaN</td>\n",
       "      <td>1</td>\n",
       "    </tr>\n",
       "    <tr>\n",
       "      <th>3103</th>\n",
       "      <td>1</td>\n",
       "      <td>2000.0</td>\n",
       "      <td>76.0</td>\n",
       "      <td>Подільський</td>\n",
       "      <td>Свободи просп., 4</td>\n",
       "      <td>50.507080</td>\n",
       "      <td>30.436203</td>\n",
       "      <td>NaN</td>\n",
       "      <td>3</td>\n",
       "    </tr>\n",
       "  </tbody>\n",
       "</table>\n",
       "</div>"
      ],
      "text/plain": [
       "      rooms   price  flat_area     district  \\\n",
       "3099      2  2000.0       82.0  Деснянський   \n",
       "3103      1  2000.0       76.0  Подільський   \n",
       "\n",
       "                                                address   latitude  longitude  \\\n",
       "3099  Червоної Калини просп. (Маяковського Володимир...  50.526424  30.620691   \n",
       "3103                                  Свободи просп., 4  50.507080  30.436203   \n",
       "\n",
       "     subway  prestigious  \n",
       "3099    NaN            1  \n",
       "3103    NaN            3  "
      ]
     },
     "execution_count": 9,
     "metadata": {},
     "output_type": "execute_result"
    }
   ],
   "source": [
    "min_row = df.loc[df['price'] == min_value]\n",
    "min_row"
   ]
  },
  {
   "cell_type": "code",
   "execution_count": 10,
   "id": "1da15bdc",
   "metadata": {},
   "outputs": [],
   "source": [
    "  df.to_csv('orenda_Kyiv_lun_rieltor.csv', index=False)"
   ]
  },
  {
   "cell_type": "code",
   "execution_count": 11,
   "id": "1595d7c7",
   "metadata": {},
   "outputs": [
    {
     "data": {
      "text/html": [
       "<div>\n",
       "<style scoped>\n",
       "    .dataframe tbody tr th:only-of-type {\n",
       "        vertical-align: middle;\n",
       "    }\n",
       "\n",
       "    .dataframe tbody tr th {\n",
       "        vertical-align: top;\n",
       "    }\n",
       "\n",
       "    .dataframe thead th {\n",
       "        text-align: right;\n",
       "    }\n",
       "</style>\n",
       "<table border=\"1\" class=\"dataframe\">\n",
       "  <thead>\n",
       "    <tr style=\"text-align: right;\">\n",
       "      <th></th>\n",
       "      <th>rooms</th>\n",
       "      <th>price</th>\n",
       "      <th>flat_area</th>\n",
       "      <th>district</th>\n",
       "      <th>address</th>\n",
       "      <th>latitude</th>\n",
       "      <th>longitude</th>\n",
       "      <th>subway</th>\n",
       "      <th>prestigious</th>\n",
       "    </tr>\n",
       "  </thead>\n",
       "  <tbody>\n",
       "  </tbody>\n",
       "</table>\n",
       "</div>"
      ],
      "text/plain": [
       "Empty DataFrame\n",
       "Columns: [rooms, price, flat_area, district, address, latitude, longitude, subway, prestigious]\n",
       "Index: []"
      ]
     },
     "execution_count": 11,
     "metadata": {},
     "output_type": "execute_result"
    }
   ],
   "source": [
    "max_row = df.loc[df['price'] == max_value]\n",
    "max_row"
   ]
  },
  {
   "cell_type": "code",
   "execution_count": null,
   "id": "f9215e24",
   "metadata": {},
   "outputs": [],
   "source": []
  },
  {
   "cell_type": "code",
   "execution_count": 12,
   "id": "c4c8e0b3",
   "metadata": {},
   "outputs": [
    {
     "name": "stderr",
     "output_type": "stream",
     "text": [
      "C:\\Users\\liman\\AppData\\Local\\Temp\\ipykernel_19060\\4021167946.py:5: UserWarning: To output multiple subplots, the figure containing the passed axes is being cleared.\n",
      "  pd.plotting.scatter_matrix(subset_df, alpha=0.5, ax=ax, c='navy');\n"
     ]
    },
    {
     "data": {
      "image/png": "[encoded data removed]",
      "text/plain": [
       "<Figure size 500x500 with 16 Axes>"
      ]
     },
     "metadata": {},
     "output_type": "display_data"
    }
   ],
   "source": [
    "# Subset the DataFrame to only include the selected column\n",
    "subset_df = df[['rooms', 'flat_area', 'prestigious', 'price']]\n",
    "\n",
    "fig, ax = plt.subplots(figsize=(5, 5))\n",
    "pd.plotting.scatter_matrix(subset_df, alpha=0.5, ax=ax, c='navy');"
   ]
  },
  {
   "cell_type": "code",
   "execution_count": 13,
   "id": "50aa317e",
   "metadata": {},
   "outputs": [],
   "source": [
    "import matplotlib.pyplot as plt\n",
    "import seaborn as sns"
   ]
  },
  {
   "cell_type": "code",
   "execution_count": null,
   "id": "c4b7eb03",
   "metadata": {},
   "outputs": [],
   "source": []
  },
  {
   "cell_type": "code",
   "execution_count": 14,
   "id": "3055956b",
   "metadata": {},
   "outputs": [
    {
     "data": {
      "text/plain": [
       "<AxesSubplot:>"
      ]
     },
     "execution_count": 14,
     "metadata": {},
     "output_type": "execute_result"
    },
    {
     "data": {
      "image/png": "[encoded data removed]",
      "text/plain": [
       "<Figure size 640x480 with 2 Axes>"
      ]
     },
     "metadata": {},
     "output_type": "display_data"
    }
   ],
   "source": [
    "corr=df[['rooms', 'flat_area', 'prestigious', 'price']].corr()\n",
    "sns.heatmap(corr,annot=True,linewidths=1.5,cmap=\"YlGnBu\")"
   ]
  },
  {
   "cell_type": "code",
   "execution_count": 15,
   "id": "d3581d3c",
   "metadata": {},
   "outputs": [],
   "source": [
    "from sklearn.linear_model import LinearRegression\n",
    "\n",
    "from sklearn.linear_model import LinearRegression\n",
    "from sklearn.model_selection import train_test_split"
   ]
  },
  {
   "cell_type": "code",
   "execution_count": 16,
   "id": "d3ac3bd3",
   "metadata": {},
   "outputs": [
    {
     "data": {
      "text/plain": [
       "LinearRegression()"
      ]
     },
     "execution_count": 16,
     "metadata": {},
     "output_type": "execute_result"
    }
   ],
   "source": [
    "reg=LinearRegression()\n",
    "reg"
   ]
  },
  {
   "cell_type": "code",
   "execution_count": 17,
   "id": "c730b429",
   "metadata": {},
   "outputs": [],
   "source": [
    "X=df[['rooms', 'flat_area', 'prestigious']]\n",
    "y=df['price']\n",
    "\n",
    "X_train, X_test, y_train, y_test = train_test_split(X, y, test_size = 0.2)\n"
   ]
  },
  {
   "cell_type": "code",
   "execution_count": 18,
   "id": "afc3b4ac",
   "metadata": {},
   "outputs": [
    {
     "data": {
      "text/plain": [
       "LinearRegression()"
      ]
     },
     "execution_count": 18,
     "metadata": {},
     "output_type": "execute_result"
    }
   ],
   "source": [
    "reg.fit(X_train, y_train)"
   ]
  },
  {
   "cell_type": "code",
   "execution_count": 19,
   "id": "b8717793",
   "metadata": {},
   "outputs": [
    {
     "data": {
      "text/plain": [
       "0.5441046494736582"
      ]
     },
     "execution_count": 19,
     "metadata": {},
     "output_type": "execute_result"
    }
   ],
   "source": [
    "reg.score(X_train, y_train)"
   ]
  },
  {
   "cell_type": "code",
   "execution_count": 20,
   "id": "9f2c3f8f",
   "metadata": {},
   "outputs": [
    {
     "data": {
      "text/plain": [
       "0.5162226407415154"
      ]
     },
     "execution_count": 20,
     "metadata": {},
     "output_type": "execute_result"
    }
   ],
   "source": [
    "reg.score(X_test, y_test)"
   ]
  },
  {
   "cell_type": "code",
   "execution_count": 21,
   "id": "30a00c07",
   "metadata": {},
   "outputs": [
    {
     "name": "stderr",
     "output_type": "stream",
     "text": [
      "C:\\Users\\liman\\AppData\\Local\\Temp\\ipykernel_19060\\2013158146.py:1: UserWarning: \n",
      "\n",
      "`distplot` is a deprecated function and will be removed in seaborn v0.14.0.\n",
      "\n",
      "Please adapt your code to use either `displot` (a figure-level function with\n",
      "similar flexibility) or `histplot` (an axes-level function for histograms).\n",
      "\n",
      "For a guide to updating your code to use the new functions, please see\n",
      "https://gist.github.com/mwaskom/de44147ed2974457ad6372750bbe5751\n",
      "\n",
      "  sns.distplot(df['price']);\n"
     ]
    },
    {
     "data": {
      "image/png": "[encoded data removed]",
      "text/plain": [
       "<Figure size 640x480 with 1 Axes>"
      ]
     },
     "metadata": {},
     "output_type": "display_data"
    }
   ],
   "source": [
    "sns.distplot(df['price']);"
   ]
  },
  {
   "cell_type": "code",
   "execution_count": 22,
   "id": "9d2bcb98",
   "metadata": {},
   "outputs": [
    {
     "data": {
      "text/plain": [
       "LinearRegression()"
      ]
     },
     "execution_count": 22,
     "metadata": {},
     "output_type": "execute_result"
    }
   ],
   "source": [
    "reg=LinearRegression()\n",
    "reg"
   ]
  },
  {
   "cell_type": "code",
   "execution_count": 23,
   "id": "e952b3fd",
   "metadata": {},
   "outputs": [],
   "source": [
    "# worse\n",
    "X=df[['rooms', 'flat_area']]\n",
    "y=df['price']\n",
    "\n",
    "X_train, X_test, y_train, y_test = train_test_split(X, y, test_size = 0.2)\n"
   ]
  },
  {
   "cell_type": "code",
   "execution_count": 24,
   "id": "e3e3059a",
   "metadata": {},
   "outputs": [
    {
     "data": {
      "text/plain": [
       "LinearRegression()"
      ]
     },
     "execution_count": 24,
     "metadata": {},
     "output_type": "execute_result"
    }
   ],
   "source": [
    "reg.fit(X_train, y_train)"
   ]
  },
  {
   "cell_type": "code",
   "execution_count": 25,
   "id": "f2d97395",
   "metadata": {},
   "outputs": [
    {
     "data": {
      "text/plain": [
       "0.5074888886670113"
      ]
     },
     "execution_count": 25,
     "metadata": {},
     "output_type": "execute_result"
    }
   ],
   "source": [
    "reg.score(X_train, y_train)"
   ]
  },
  {
   "cell_type": "code",
   "execution_count": 35,
   "id": "c293fc5a",
   "metadata": {},
   "outputs": [
    {
     "data": {
      "text/html": [
       "<div>\n",
       "<style scoped>\n",
       "    .dataframe tbody tr th:only-of-type {\n",
       "        vertical-align: middle;\n",
       "    }\n",
       "\n",
       "    .dataframe tbody tr th {\n",
       "        vertical-align: top;\n",
       "    }\n",
       "\n",
       "    .dataframe thead th {\n",
       "        text-align: right;\n",
       "    }\n",
       "</style>\n",
       "<table border=\"1\" class=\"dataframe\">\n",
       "  <thead>\n",
       "    <tr style=\"text-align: right;\">\n",
       "      <th></th>\n",
       "      <th>rooms</th>\n",
       "      <th>price</th>\n",
       "      <th>flat_area</th>\n",
       "      <th>district</th>\n",
       "      <th>address</th>\n",
       "      <th>latitude</th>\n",
       "      <th>longitude</th>\n",
       "      <th>subway</th>\n",
       "      <th>prestigious</th>\n",
       "    </tr>\n",
       "  </thead>\n",
       "  <tbody>\n",
       "    <tr>\n",
       "      <th>0</th>\n",
       "      <td>2</td>\n",
       "      <td>25000.0</td>\n",
       "      <td>131.0</td>\n",
       "      <td>Голосіївський</td>\n",
       "      <td>Рудницького Степана вул. (Вільямса академіка),...</td>\n",
       "      <td>50.384365</td>\n",
       "      <td>30.456032</td>\n",
       "      <td>Іподром</td>\n",
       "      <td>3</td>\n",
       "    </tr>\n",
       "    <tr>\n",
       "      <th>1</th>\n",
       "      <td>2</td>\n",
       "      <td>15500.0</td>\n",
       "      <td>114.0</td>\n",
       "      <td>Солом'янський</td>\n",
       "      <td>Лобановського просп. (Червонозоряний), 4в</td>\n",
       "      <td>50.422333</td>\n",
       "      <td>30.462494</td>\n",
       "      <td>NaN</td>\n",
       "      <td>2</td>\n",
       "    </tr>\n",
       "    <tr>\n",
       "      <th>2</th>\n",
       "      <td>1</td>\n",
       "      <td>7000.0</td>\n",
       "      <td>55.0</td>\n",
       "      <td>Оболонський</td>\n",
       "      <td>Оболонський просп., 43</td>\n",
       "      <td>50.520855</td>\n",
       "      <td>30.497644</td>\n",
       "      <td>Героїв Дніпра</td>\n",
       "      <td>2</td>\n",
       "    </tr>\n",
       "    <tr>\n",
       "      <th>3</th>\n",
       "      <td>2</td>\n",
       "      <td>20000.0</td>\n",
       "      <td>117.0</td>\n",
       "      <td>Печерський</td>\n",
       "      <td>Лесі Українки бульв., 5</td>\n",
       "      <td>50.435211</td>\n",
       "      <td>30.530174</td>\n",
       "      <td>NaN</td>\n",
       "      <td>3</td>\n",
       "    </tr>\n",
       "    <tr>\n",
       "      <th>4</th>\n",
       "      <td>3</td>\n",
       "      <td>12000.0</td>\n",
       "      <td>140.0</td>\n",
       "      <td>Дарницький</td>\n",
       "      <td>Драгоманова вул., 25</td>\n",
       "      <td>50.404091</td>\n",
       "      <td>30.637787</td>\n",
       "      <td>NaN</td>\n",
       "      <td>1</td>\n",
       "    </tr>\n",
       "    <tr>\n",
       "      <th>...</th>\n",
       "      <td>...</td>\n",
       "      <td>...</td>\n",
       "      <td>...</td>\n",
       "      <td>...</td>\n",
       "      <td>...</td>\n",
       "      <td>...</td>\n",
       "      <td>...</td>\n",
       "      <td>...</td>\n",
       "      <td>...</td>\n",
       "    </tr>\n",
       "    <tr>\n",
       "      <th>3420</th>\n",
       "      <td>3</td>\n",
       "      <td>18000.0</td>\n",
       "      <td>212.0</td>\n",
       "      <td>Дніпровський</td>\n",
       "      <td>Всеволода Нестайка вул. (Мильчакова Олександра...</td>\n",
       "      <td>50.455528</td>\n",
       "      <td>30.599482</td>\n",
       "      <td>NaN</td>\n",
       "      <td>1</td>\n",
       "    </tr>\n",
       "    <tr>\n",
       "      <th>3421</th>\n",
       "      <td>2</td>\n",
       "      <td>10000.0</td>\n",
       "      <td>110.0</td>\n",
       "      <td>Дарницький</td>\n",
       "      <td>Вишняківська вул., 13б</td>\n",
       "      <td>50.393749</td>\n",
       "      <td>30.645185</td>\n",
       "      <td>NaN</td>\n",
       "      <td>1</td>\n",
       "    </tr>\n",
       "    <tr>\n",
       "      <th>3422</th>\n",
       "      <td>1</td>\n",
       "      <td>8000.0</td>\n",
       "      <td>43.0</td>\n",
       "      <td>Святошинський</td>\n",
       "      <td>Туполєва академіка вул., 7Б</td>\n",
       "      <td>50.480324</td>\n",
       "      <td>30.394669</td>\n",
       "      <td>NaN</td>\n",
       "      <td>2</td>\n",
       "    </tr>\n",
       "    <tr>\n",
       "      <th>3423</th>\n",
       "      <td>2</td>\n",
       "      <td>15000.0</td>\n",
       "      <td>107.0</td>\n",
       "      <td>Святошинський</td>\n",
       "      <td>Клавдієвська вул., 40 г</td>\n",
       "      <td>50.477707</td>\n",
       "      <td>30.339081</td>\n",
       "      <td>NaN</td>\n",
       "      <td>2</td>\n",
       "    </tr>\n",
       "    <tr>\n",
       "      <th>3424</th>\n",
       "      <td>1</td>\n",
       "      <td>4500.0</td>\n",
       "      <td>51.0</td>\n",
       "      <td>Деснянський</td>\n",
       "      <td>Лісовий просп., 15</td>\n",
       "      <td>50.482262</td>\n",
       "      <td>30.627872</td>\n",
       "      <td>NaN</td>\n",
       "      <td>1</td>\n",
       "    </tr>\n",
       "  </tbody>\n",
       "</table>\n",
       "<p>3425 rows × 9 columns</p>\n",
       "</div>"
      ],
      "text/plain": [
       "      rooms    price  flat_area       district  \\\n",
       "0         2  25000.0      131.0  Голосіївський   \n",
       "1         2  15500.0      114.0  Солом'янський   \n",
       "2         1   7000.0       55.0    Оболонський   \n",
       "3         2  20000.0      117.0     Печерський   \n",
       "4         3  12000.0      140.0     Дарницький   \n",
       "...     ...      ...        ...            ...   \n",
       "3420      3  18000.0      212.0   Дніпровський   \n",
       "3421      2  10000.0      110.0     Дарницький   \n",
       "3422      1   8000.0       43.0  Святошинський   \n",
       "3423      2  15000.0      107.0  Святошинський   \n",
       "3424      1   4500.0       51.0    Деснянський   \n",
       "\n",
       "                                                address   latitude  longitude  \\\n",
       "0     Рудницького Степана вул. (Вільямса академіка),...  50.384365  30.456032   \n",
       "1             Лобановського просп. (Червонозоряний), 4в  50.422333  30.462494   \n",
       "2                                Оболонський просп., 43  50.520855  30.497644   \n",
       "3                               Лесі Українки бульв., 5  50.435211  30.530174   \n",
       "4                                  Драгоманова вул., 25  50.404091  30.637787   \n",
       "...                                                 ...        ...        ...   \n",
       "3420  Всеволода Нестайка вул. (Мильчакова Олександра...  50.455528  30.599482   \n",
       "3421                             Вишняківська вул., 13б  50.393749  30.645185   \n",
       "3422                        Туполєва академіка вул., 7Б  50.480324  30.394669   \n",
       "3423                            Клавдієвська вул., 40 г  50.477707  30.339081   \n",
       "3424                                 Лісовий просп., 15  50.482262  30.627872   \n",
       "\n",
       "             subway  prestigious  \n",
       "0           Іподром            3  \n",
       "1               NaN            2  \n",
       "2     Героїв Дніпра            2  \n",
       "3               NaN            3  \n",
       "4               NaN            1  \n",
       "...             ...          ...  \n",
       "3420            NaN            1  \n",
       "3421            NaN            1  \n",
       "3422            NaN            2  \n",
       "3423            NaN            2  \n",
       "3424            NaN            1  \n",
       "\n",
       "[3425 rows x 9 columns]"
      ]
     },
     "execution_count": 35,
     "metadata": {},
     "output_type": "execute_result"
    }
   ],
   "source": [
    "df = pd.read_excel('C:/Users/liman/Desktop/working_orenda_Kyiv_lun_rieltor.xlsx')\n",
    "df"
   ]
  },
  {
   "cell_type": "code",
   "execution_count": 27,
   "id": "91fc306f",
   "metadata": {},
   "outputs": [
    {
     "name": "stdout",
     "output_type": "stream",
     "text": [
      "      rooms    price  flat_area       district  \\\n",
      "0         2  25000.0      131.0  Голосіївський   \n",
      "1         2  15500.0      114.0  Солом'янський   \n",
      "2         1   7000.0       55.0    Оболонський   \n",
      "3         2  20000.0      117.0     Печерський   \n",
      "4         3  12000.0      140.0     Дарницький   \n",
      "...     ...      ...        ...            ...   \n",
      "3420      3  18000.0      212.0   Дніпровський   \n",
      "3421      2  10000.0      110.0     Дарницький   \n",
      "3422      1   8000.0       43.0  Святошинський   \n",
      "3423      2  15000.0      107.0  Святошинський   \n",
      "3424      1   4500.0       51.0    Деснянський   \n",
      "\n",
      "                                                address   latitude  longitude  \\\n",
      "0     Рудницького Степана вул. (Вільямса академіка),...  50.384365  30.456032   \n",
      "1             Лобановського просп. (Червонозоряний), 4в  50.422333  30.462494   \n",
      "2                                Оболонський просп., 43  50.520855  30.497644   \n",
      "3                               Лесі Українки бульв., 5  50.435211  30.530174   \n",
      "4                                  Драгоманова вул., 25  50.404091  30.637787   \n",
      "...                                                 ...        ...        ...   \n",
      "3420  Всеволода Нестайка вул. (Мильчакова Олександра...  50.455528  30.599482   \n",
      "3421                             Вишняківська вул., 13б  50.393749  30.645185   \n",
      "3422                        Туполєва академіка вул., 7Б  50.480324  30.394669   \n",
      "3423                            Клавдієвська вул., 40 г  50.477707  30.339081   \n",
      "3424                                 Лісовий просп., 15  50.482262  30.627872   \n",
      "\n",
      "             subway  prestigious condition  \n",
      "0           Іподром            3         4  \n",
      "1               NaN            2         4  \n",
      "2     Героїв Дніпра            2         2  \n",
      "3               NaN            3         4  \n",
      "4               NaN            1         3  \n",
      "...             ...          ...       ...  \n",
      "3420            NaN            1         4  \n",
      "3421            NaN            1         3  \n",
      "3422            NaN            2         3  \n",
      "3423            NaN            2         3  \n",
      "3424            NaN            1         2  \n",
      "\n",
      "[3425 rows x 10 columns]\n"
     ]
    }
   ],
   "source": [
    "# df['condition'] = df['price'].astype(\"category\")\n",
    "\n",
    "# d = dict(enumerate(df['condition'].astype('category').cat.categories))\n",
    "# print(\"The codes for the conditions:\", d)\n",
    "\n",
    "bins = [0, 2000, 7000, 15000, 50000, 200000, float('inf')]\n",
    "# labels = ['very modest', 'modest', 'simple', 'medium', 'high', 'lux']\n",
    "labels = ['1', '2', '3', '4', '5', '6']\n",
    "\n",
    "# use pd.cut() to create a new column of categories\n",
    "df['condition'] = pd.cut(df['price'], bins=bins, labels=labels)\n",
    "\n",
    "\n",
    "# view the new df\n",
    "print(df)\n",
    "\n",
    "# 4 lux => 200000\n",
    "# 3 50 000 < euro < 200000\n",
    "# 2    15000 < simple <=50000\n",
    "# 1 7000 < modest < 15000\n",
    "# 0 2000<= very modest <= 7000"
   ]
  },
  {
   "cell_type": "code",
   "execution_count": 28,
   "id": "76cf487c",
   "metadata": {},
   "outputs": [
    {
     "data": {
      "text/plain": [
       "LinearRegression()"
      ]
     },
     "execution_count": 28,
     "metadata": {},
     "output_type": "execute_result"
    }
   ],
   "source": [
    "reg=LinearRegression()\n",
    "reg"
   ]
  },
  {
   "cell_type": "code",
   "execution_count": 29,
   "id": "e552449f",
   "metadata": {},
   "outputs": [],
   "source": [
    "X=df[['rooms', 'flat_area', 'prestigious', 'condition']]\n",
    "y=df['price']\n",
    "\n",
    "X_train, X_test, y_train, y_test = train_test_split(X, y)"
   ]
  },
  {
   "cell_type": "code",
   "execution_count": 30,
   "id": "ff6e1d6a",
   "metadata": {},
   "outputs": [
    {
     "name": "stderr",
     "output_type": "stream",
     "text": [
      "C:\\Users\\liman\\anaconda3\\lib\\site-packages\\sklearn\\utils\\validation.py:964: FutureWarning: Arrays of bytes/strings is being converted to decimal numbers if dtype='numeric'. This behavior is deprecated in 0.24 and will be removed in 1.1 (renaming of 0.26). Please convert your data to numeric values explicitly instead.\n",
      "  X = check_array(\n"
     ]
    },
    {
     "data": {
      "text/plain": [
       "LinearRegression()"
      ]
     },
     "execution_count": 30,
     "metadata": {},
     "output_type": "execute_result"
    }
   ],
   "source": [
    "reg.fit(X_train, y_train)"
   ]
  },
  {
   "cell_type": "code",
   "execution_count": 31,
   "id": "b6425b4c",
   "metadata": {},
   "outputs": [
    {
     "name": "stderr",
     "output_type": "stream",
     "text": [
      "C:\\Users\\liman\\anaconda3\\lib\\site-packages\\sklearn\\base.py:566: FutureWarning: Arrays of bytes/strings is being converted to decimal numbers if dtype='numeric'. This behavior is deprecated in 0.24 and will be removed in 1.1 (renaming of 0.26). Please convert your data to numeric values explicitly instead.\n",
      "  X = check_array(X, **check_params)\n"
     ]
    },
    {
     "data": {
      "text/plain": [
       "0.5796713815055314"
      ]
     },
     "execution_count": 31,
     "metadata": {},
     "output_type": "execute_result"
    }
   ],
   "source": [
    "reg.score(X_train, y_train)"
   ]
  },
  {
   "cell_type": "code",
   "execution_count": 32,
   "id": "e1828aaf",
   "metadata": {},
   "outputs": [
    {
     "name": "stderr",
     "output_type": "stream",
     "text": [
      "C:\\Users\\liman\\anaconda3\\lib\\site-packages\\sklearn\\base.py:566: FutureWarning: Arrays of bytes/strings is being converted to decimal numbers if dtype='numeric'. This behavior is deprecated in 0.24 and will be removed in 1.1 (renaming of 0.26). Please convert your data to numeric values explicitly instead.\n",
      "  X = check_array(X, **check_params)\n"
     ]
    },
    {
     "data": {
      "text/plain": [
       "0.5714361223597053"
      ]
     },
     "execution_count": 32,
     "metadata": {},
     "output_type": "execute_result"
    }
   ],
   "source": [
    "reg.score(X_test, y_test)"
   ]
  },
  {
   "cell_type": "code",
   "execution_count": 36,
   "id": "4a21b757",
   "metadata": {},
   "outputs": [
    {
     "data": {
      "text/html": [
       "<div>\n",
       "<style scoped>\n",
       "    .dataframe tbody tr th:only-of-type {\n",
       "        vertical-align: middle;\n",
       "    }\n",
       "\n",
       "    .dataframe tbody tr th {\n",
       "        vertical-align: top;\n",
       "    }\n",
       "\n",
       "    .dataframe thead th {\n",
       "        text-align: right;\n",
       "    }\n",
       "</style>\n",
       "<table border=\"1\" class=\"dataframe\">\n",
       "  <thead>\n",
       "    <tr style=\"text-align: right;\">\n",
       "      <th></th>\n",
       "      <th>rooms</th>\n",
       "      <th>price</th>\n",
       "      <th>flat_area</th>\n",
       "      <th>district</th>\n",
       "      <th>address</th>\n",
       "      <th>subway</th>\n",
       "      <th>prestigious</th>\n",
       "      <th>Closest_subway</th>\n",
       "      <th>Closest_subway_location</th>\n",
       "      <th>Distance Text</th>\n",
       "      <th>Distance Value</th>\n",
       "      <th>Duration Text</th>\n",
       "      <th>Duration Value</th>\n",
       "      <th>target_location</th>\n",
       "    </tr>\n",
       "  </thead>\n",
       "  <tbody>\n",
       "    <tr>\n",
       "      <th>0</th>\n",
       "      <td>2</td>\n",
       "      <td>25000.0</td>\n",
       "      <td>131.0</td>\n",
       "      <td>Голосіївський</td>\n",
       "      <td>Рудницького Степана вул. (Вільямса академіка),...</td>\n",
       "      <td>Іподром</td>\n",
       "      <td>3</td>\n",
       "      <td>Ipodrom</td>\n",
       "      <td>50.37657470000001, 30.4688445</td>\n",
       "      <td>1.5 km</td>\n",
       "      <td>1485.0</td>\n",
       "      <td>19 mins</td>\n",
       "      <td>1150.0</td>\n",
       "      <td>50.38436508,30.4560318</td>\n",
       "    </tr>\n",
       "    <tr>\n",
       "      <th>1</th>\n",
       "      <td>2</td>\n",
       "      <td>15500.0</td>\n",
       "      <td>114.0</td>\n",
       "      <td>Солом'янський</td>\n",
       "      <td>Лобановського просп. (Червонозоряний), 4в</td>\n",
       "      <td>NaN</td>\n",
       "      <td>2</td>\n",
       "      <td>NaN</td>\n",
       "      <td>NaN</td>\n",
       "      <td>NaN</td>\n",
       "      <td>NaN</td>\n",
       "      <td>NaN</td>\n",
       "      <td>NaN</td>\n",
       "      <td>50.42233276,30.4624939</td>\n",
       "    </tr>\n",
       "    <tr>\n",
       "      <th>2</th>\n",
       "      <td>1</td>\n",
       "      <td>7000.0</td>\n",
       "      <td>55.0</td>\n",
       "      <td>Оболонський</td>\n",
       "      <td>Оболонський просп., 43</td>\n",
       "      <td>Героїв Дніпра</td>\n",
       "      <td>2</td>\n",
       "      <td>Heroyiv Dnipra</td>\n",
       "      <td>50.52273400000001, 30.49887</td>\n",
       "      <td>0.3 km</td>\n",
       "      <td>288.0</td>\n",
       "      <td>3 mins</td>\n",
       "      <td>207.0</td>\n",
       "      <td>50.52085495,30.49764442</td>\n",
       "    </tr>\n",
       "    <tr>\n",
       "      <th>3</th>\n",
       "      <td>2</td>\n",
       "      <td>20000.0</td>\n",
       "      <td>117.0</td>\n",
       "      <td>Печерський</td>\n",
       "      <td>Лесі Українки бульв., 5</td>\n",
       "      <td>NaN</td>\n",
       "      <td>3</td>\n",
       "      <td>Klovska</td>\n",
       "      <td>50.4369687, 30.531807</td>\n",
       "      <td>1.0 km</td>\n",
       "      <td>1039.0</td>\n",
       "      <td>13 mins</td>\n",
       "      <td>753.0</td>\n",
       "      <td>50.43521118,30.53017426</td>\n",
       "    </tr>\n",
       "    <tr>\n",
       "      <th>4</th>\n",
       "      <td>3</td>\n",
       "      <td>12000.0</td>\n",
       "      <td>140.0</td>\n",
       "      <td>Дарницький</td>\n",
       "      <td>Драгоманова вул., 25</td>\n",
       "      <td>NaN</td>\n",
       "      <td>1</td>\n",
       "      <td>Pozniaky</td>\n",
       "      <td>50.3978642, 30.6347451</td>\n",
       "      <td>1.0 km</td>\n",
       "      <td>964.0</td>\n",
       "      <td>12 mins</td>\n",
       "      <td>728.0</td>\n",
       "      <td>50.40409088,30.63778687</td>\n",
       "    </tr>\n",
       "    <tr>\n",
       "      <th>...</th>\n",
       "      <td>...</td>\n",
       "      <td>...</td>\n",
       "      <td>...</td>\n",
       "      <td>...</td>\n",
       "      <td>...</td>\n",
       "      <td>...</td>\n",
       "      <td>...</td>\n",
       "      <td>...</td>\n",
       "      <td>...</td>\n",
       "      <td>...</td>\n",
       "      <td>...</td>\n",
       "      <td>...</td>\n",
       "      <td>...</td>\n",
       "      <td>...</td>\n",
       "    </tr>\n",
       "    <tr>\n",
       "      <th>3421</th>\n",
       "      <td>3</td>\n",
       "      <td>18000.0</td>\n",
       "      <td>212.0</td>\n",
       "      <td>Дніпровський</td>\n",
       "      <td>Всеволода Нестайка вул. (Мильчакова Олександра...</td>\n",
       "      <td>NaN</td>\n",
       "      <td>1</td>\n",
       "      <td>Livoberezhna</td>\n",
       "      <td>50.451864, 30.59815699999999</td>\n",
       "      <td>0.6 km</td>\n",
       "      <td>558.0</td>\n",
       "      <td>7 mins</td>\n",
       "      <td>403.0</td>\n",
       "      <td>50.45552826,30.59948158</td>\n",
       "    </tr>\n",
       "    <tr>\n",
       "      <th>3422</th>\n",
       "      <td>2</td>\n",
       "      <td>10000.0</td>\n",
       "      <td>110.0</td>\n",
       "      <td>Дарницький</td>\n",
       "      <td>Вишняківська вул., 13б</td>\n",
       "      <td>NaN</td>\n",
       "      <td>1</td>\n",
       "      <td>Pozniaky</td>\n",
       "      <td>50.3978642, 30.6347451</td>\n",
       "      <td>1.2 km</td>\n",
       "      <td>1172.0</td>\n",
       "      <td>15 mins</td>\n",
       "      <td>901.0</td>\n",
       "      <td>50.39374924,30.64518547</td>\n",
       "    </tr>\n",
       "    <tr>\n",
       "      <th>3423</th>\n",
       "      <td>1</td>\n",
       "      <td>8000.0</td>\n",
       "      <td>43.0</td>\n",
       "      <td>Святошинський</td>\n",
       "      <td>Туполєва академіка вул., 7Б</td>\n",
       "      <td>NaN</td>\n",
       "      <td>2</td>\n",
       "      <td>Nyvky</td>\n",
       "      <td>50.4586495, 30.40437299999999</td>\n",
       "      <td>3.1 km</td>\n",
       "      <td>3083.0</td>\n",
       "      <td>37 mins</td>\n",
       "      <td>2244.0</td>\n",
       "      <td>50.48032379,30.39466858</td>\n",
       "    </tr>\n",
       "    <tr>\n",
       "      <th>3424</th>\n",
       "      <td>2</td>\n",
       "      <td>15000.0</td>\n",
       "      <td>107.0</td>\n",
       "      <td>Святошинський</td>\n",
       "      <td>Клавдієвська вул., 40 г</td>\n",
       "      <td>NaN</td>\n",
       "      <td>2</td>\n",
       "      <td>Akademmistechko</td>\n",
       "      <td>50.4649376, 30.3550961</td>\n",
       "      <td>2.3 km</td>\n",
       "      <td>2258.0</td>\n",
       "      <td>28 mins</td>\n",
       "      <td>1660.0</td>\n",
       "      <td>50.47770691,30.33908081</td>\n",
       "    </tr>\n",
       "    <tr>\n",
       "      <th>3425</th>\n",
       "      <td>1</td>\n",
       "      <td>4500.0</td>\n",
       "      <td>51.0</td>\n",
       "      <td>Деснянський</td>\n",
       "      <td>Лісовий просп., 15</td>\n",
       "      <td>NaN</td>\n",
       "      <td>1</td>\n",
       "      <td>Lisova</td>\n",
       "      <td>50.4646598, 30.64556570000001</td>\n",
       "      <td>3.3 km</td>\n",
       "      <td>3277.0</td>\n",
       "      <td>41 mins</td>\n",
       "      <td>2456.0</td>\n",
       "      <td>50.48226166,30.62787247</td>\n",
       "    </tr>\n",
       "  </tbody>\n",
       "</table>\n",
       "<p>3426 rows × 14 columns</p>\n",
       "</div>"
      ],
      "text/plain": [
       "      rooms    price  flat_area       district  \\\n",
       "0         2  25000.0      131.0  Голосіївський   \n",
       "1         2  15500.0      114.0  Солом'янський   \n",
       "2         1   7000.0       55.0    Оболонський   \n",
       "3         2  20000.0      117.0     Печерський   \n",
       "4         3  12000.0      140.0     Дарницький   \n",
       "...     ...      ...        ...            ...   \n",
       "3421      3  18000.0      212.0   Дніпровський   \n",
       "3422      2  10000.0      110.0     Дарницький   \n",
       "3423      1   8000.0       43.0  Святошинський   \n",
       "3424      2  15000.0      107.0  Святошинський   \n",
       "3425      1   4500.0       51.0    Деснянський   \n",
       "\n",
       "                                                address         subway  \\\n",
       "0     Рудницького Степана вул. (Вільямса академіка),...        Іподром   \n",
       "1             Лобановського просп. (Червонозоряний), 4в            NaN   \n",
       "2                                Оболонський просп., 43  Героїв Дніпра   \n",
       "3                               Лесі Українки бульв., 5            NaN   \n",
       "4                                  Драгоманова вул., 25            NaN   \n",
       "...                                                 ...            ...   \n",
       "3421  Всеволода Нестайка вул. (Мильчакова Олександра...            NaN   \n",
       "3422                             Вишняківська вул., 13б            NaN   \n",
       "3423                        Туполєва академіка вул., 7Б            NaN   \n",
       "3424                            Клавдієвська вул., 40 г            NaN   \n",
       "3425                                 Лісовий просп., 15            NaN   \n",
       "\n",
       "      prestigious   Closest_subway        Closest_subway_location  \\\n",
       "0               3          Ipodrom  50.37657470000001, 30.4688445   \n",
       "1               2              NaN                            NaN   \n",
       "2               2   Heroyiv Dnipra    50.52273400000001, 30.49887   \n",
       "3               3          Klovska          50.4369687, 30.531807   \n",
       "4               1         Pozniaky         50.3978642, 30.6347451   \n",
       "...           ...              ...                            ...   \n",
       "3421            1     Livoberezhna   50.451864, 30.59815699999999   \n",
       "3422            1         Pozniaky         50.3978642, 30.6347451   \n",
       "3423            2            Nyvky  50.4586495, 30.40437299999999   \n",
       "3424            2  Akademmistechko         50.4649376, 30.3550961   \n",
       "3425            1           Lisova  50.4646598, 30.64556570000001   \n",
       "\n",
       "     Distance Text  Distance Value Duration Text  Duration Value  \\\n",
       "0           1.5 km          1485.0       19 mins          1150.0   \n",
       "1              NaN             NaN           NaN             NaN   \n",
       "2           0.3 km           288.0        3 mins           207.0   \n",
       "3           1.0 km          1039.0       13 mins           753.0   \n",
       "4           1.0 km           964.0       12 mins           728.0   \n",
       "...            ...             ...           ...             ...   \n",
       "3421        0.6 km           558.0        7 mins           403.0   \n",
       "3422        1.2 km          1172.0       15 mins           901.0   \n",
       "3423        3.1 km          3083.0       37 mins          2244.0   \n",
       "3424        2.3 km          2258.0       28 mins          1660.0   \n",
       "3425        3.3 km          3277.0       41 mins          2456.0   \n",
       "\n",
       "              target_location  \n",
       "0      50.38436508,30.4560318  \n",
       "1      50.42233276,30.4624939  \n",
       "2     50.52085495,30.49764442  \n",
       "3     50.43521118,30.53017426  \n",
       "4     50.40409088,30.63778687  \n",
       "...                       ...  \n",
       "3421  50.45552826,30.59948158  \n",
       "3422  50.39374924,30.64518547  \n",
       "3423  50.48032379,30.39466858  \n",
       "3424  50.47770691,30.33908081  \n",
       "3425  50.48226166,30.62787247  \n",
       "\n",
       "[3426 rows x 14 columns]"
      ]
     },
     "execution_count": 36,
     "metadata": {},
     "output_type": "execute_result"
    }
   ],
   "source": [
    "df = pd.read_csv('C:/Users/liman/Documents/Main Academy/rieltor_subways_formatted.csv')\n",
    "df"
   ]
  },
  {
   "cell_type": "code",
   "execution_count": 34,
   "id": "3540f14f",
   "metadata": {},
   "outputs": [
    {
     "ename": "PermissionError",
     "evalue": "[Errno 13] Permission denied: 'rieltor_subways_formatted.xlsx'",
     "output_type": "error",
     "traceback": [
      "\u001b[1;31m---------------------------------------------------------------------------\u001b[0m",
      "\u001b[1;31mPermissionError\u001b[0m                           Traceback (most recent call last)",
      "Cell \u001b[1;32mIn[34], line 1\u001b[0m\n\u001b[1;32m----> 1\u001b[0m \u001b[43mdf\u001b[49m\u001b[38;5;241;43m.\u001b[39;49m\u001b[43mto_excel\u001b[49m\u001b[43m(\u001b[49m\u001b[38;5;124;43m'\u001b[39;49m\u001b[38;5;124;43mrieltor_subways_formatted.xlsx\u001b[39;49m\u001b[38;5;124;43m'\u001b[39;49m\u001b[43m,\u001b[49m\u001b[43m \u001b[49m\u001b[43mindex\u001b[49m\u001b[38;5;241;43m=\u001b[39;49m\u001b[38;5;28;43;01mFalse\u001b[39;49;00m\u001b[43m)\u001b[49m\n",
      "File \u001b[1;32m~\\anaconda3\\lib\\site-packages\\pandas\\core\\generic.py:2345\u001b[0m, in \u001b[0;36mNDFrame.to_excel\u001b[1;34m(self, excel_writer, sheet_name, na_rep, float_format, columns, header, index, index_label, startrow, startcol, engine, merge_cells, encoding, inf_rep, verbose, freeze_panes, storage_options)\u001b[0m\n\u001b[0;32m   2332\u001b[0m \u001b[38;5;28;01mfrom\u001b[39;00m \u001b[38;5;21;01mpandas\u001b[39;00m\u001b[38;5;21;01m.\u001b[39;00m\u001b[38;5;21;01mio\u001b[39;00m\u001b[38;5;21;01m.\u001b[39;00m\u001b[38;5;21;01mformats\u001b[39;00m\u001b[38;5;21;01m.\u001b[39;00m\u001b[38;5;21;01mexcel\u001b[39;00m \u001b[38;5;28;01mimport\u001b[39;00m ExcelFormatter\n\u001b[0;32m   2334\u001b[0m formatter \u001b[38;5;241m=\u001b[39m ExcelFormatter(\n\u001b[0;32m   2335\u001b[0m     df,\n\u001b[0;32m   2336\u001b[0m     na_rep\u001b[38;5;241m=\u001b[39mna_rep,\n\u001b[1;32m   (...)\u001b[0m\n\u001b[0;32m   2343\u001b[0m     inf_rep\u001b[38;5;241m=\u001b[39minf_rep,\n\u001b[0;32m   2344\u001b[0m )\n\u001b[1;32m-> 2345\u001b[0m \u001b[43mformatter\u001b[49m\u001b[38;5;241;43m.\u001b[39;49m\u001b[43mwrite\u001b[49m\u001b[43m(\u001b[49m\n\u001b[0;32m   2346\u001b[0m \u001b[43m    \u001b[49m\u001b[43mexcel_writer\u001b[49m\u001b[43m,\u001b[49m\n\u001b[0;32m   2347\u001b[0m \u001b[43m    \u001b[49m\u001b[43msheet_name\u001b[49m\u001b[38;5;241;43m=\u001b[39;49m\u001b[43msheet_name\u001b[49m\u001b[43m,\u001b[49m\n\u001b[0;32m   2348\u001b[0m \u001b[43m    \u001b[49m\u001b[43mstartrow\u001b[49m\u001b[38;5;241;43m=\u001b[39;49m\u001b[43mstartrow\u001b[49m\u001b[43m,\u001b[49m\n\u001b[0;32m   2349\u001b[0m \u001b[43m    \u001b[49m\u001b[43mstartcol\u001b[49m\u001b[38;5;241;43m=\u001b[39;49m\u001b[43mstartcol\u001b[49m\u001b[43m,\u001b[49m\n\u001b[0;32m   2350\u001b[0m \u001b[43m    \u001b[49m\u001b[43mfreeze_panes\u001b[49m\u001b[38;5;241;43m=\u001b[39;49m\u001b[43mfreeze_panes\u001b[49m\u001b[43m,\u001b[49m\n\u001b[0;32m   2351\u001b[0m \u001b[43m    \u001b[49m\u001b[43mengine\u001b[49m\u001b[38;5;241;43m=\u001b[39;49m\u001b[43mengine\u001b[49m\u001b[43m,\u001b[49m\n\u001b[0;32m   2352\u001b[0m \u001b[43m    \u001b[49m\u001b[43mstorage_options\u001b[49m\u001b[38;5;241;43m=\u001b[39;49m\u001b[43mstorage_options\u001b[49m\u001b[43m,\u001b[49m\n\u001b[0;32m   2353\u001b[0m \u001b[43m\u001b[49m\u001b[43m)\u001b[49m\n",
      "File \u001b[1;32m~\\anaconda3\\lib\\site-packages\\pandas\\io\\formats\\excel.py:888\u001b[0m, in \u001b[0;36mExcelFormatter.write\u001b[1;34m(self, writer, sheet_name, startrow, startcol, freeze_panes, engine, storage_options)\u001b[0m\n\u001b[0;32m    884\u001b[0m     need_save \u001b[38;5;241m=\u001b[39m \u001b[38;5;28;01mFalse\u001b[39;00m\n\u001b[0;32m    885\u001b[0m \u001b[38;5;28;01melse\u001b[39;00m:\n\u001b[0;32m    886\u001b[0m     \u001b[38;5;66;03m# error: Cannot instantiate abstract class 'ExcelWriter' with abstract\u001b[39;00m\n\u001b[0;32m    887\u001b[0m     \u001b[38;5;66;03m# attributes 'engine', 'save', 'supported_extensions' and 'write_cells'\u001b[39;00m\n\u001b[1;32m--> 888\u001b[0m     writer \u001b[38;5;241m=\u001b[39m \u001b[43mExcelWriter\u001b[49m\u001b[43m(\u001b[49m\u001b[43m  \u001b[49m\u001b[38;5;66;43;03m# type: ignore[abstract]\u001b[39;49;00m\n\u001b[0;32m    889\u001b[0m \u001b[43m        \u001b[49m\u001b[43mwriter\u001b[49m\u001b[43m,\u001b[49m\u001b[43m \u001b[49m\u001b[43mengine\u001b[49m\u001b[38;5;241;43m=\u001b[39;49m\u001b[43mengine\u001b[49m\u001b[43m,\u001b[49m\u001b[43m \u001b[49m\u001b[43mstorage_options\u001b[49m\u001b[38;5;241;43m=\u001b[39;49m\u001b[43mstorage_options\u001b[49m\n\u001b[0;32m    890\u001b[0m \u001b[43m    \u001b[49m\u001b[43m)\u001b[49m\n\u001b[0;32m    891\u001b[0m     need_save \u001b[38;5;241m=\u001b[39m \u001b[38;5;28;01mTrue\u001b[39;00m\n\u001b[0;32m    893\u001b[0m \u001b[38;5;28;01mtry\u001b[39;00m:\n",
      "File \u001b[1;32m~\\anaconda3\\lib\\site-packages\\pandas\\io\\excel\\_xlsxwriter.py:191\u001b[0m, in \u001b[0;36mXlsxWriter.__init__\u001b[1;34m(self, path, engine, date_format, datetime_format, mode, storage_options, if_sheet_exists, engine_kwargs, **kwargs)\u001b[0m\n\u001b[0;32m    188\u001b[0m \u001b[38;5;28;01mif\u001b[39;00m mode \u001b[38;5;241m==\u001b[39m \u001b[38;5;124m\"\u001b[39m\u001b[38;5;124ma\u001b[39m\u001b[38;5;124m\"\u001b[39m:\n\u001b[0;32m    189\u001b[0m     \u001b[38;5;28;01mraise\u001b[39;00m \u001b[38;5;167;01mValueError\u001b[39;00m(\u001b[38;5;124m\"\u001b[39m\u001b[38;5;124mAppend mode is not supported with xlsxwriter!\u001b[39m\u001b[38;5;124m\"\u001b[39m)\n\u001b[1;32m--> 191\u001b[0m \u001b[38;5;28;43msuper\u001b[39;49m\u001b[43m(\u001b[49m\u001b[43m)\u001b[49m\u001b[38;5;241;43m.\u001b[39;49m\u001b[38;5;21;43m__init__\u001b[39;49m\u001b[43m(\u001b[49m\n\u001b[0;32m    192\u001b[0m \u001b[43m    \u001b[49m\u001b[43mpath\u001b[49m\u001b[43m,\u001b[49m\n\u001b[0;32m    193\u001b[0m \u001b[43m    \u001b[49m\u001b[43mengine\u001b[49m\u001b[38;5;241;43m=\u001b[39;49m\u001b[43mengine\u001b[49m\u001b[43m,\u001b[49m\n\u001b[0;32m    194\u001b[0m \u001b[43m    \u001b[49m\u001b[43mdate_format\u001b[49m\u001b[38;5;241;43m=\u001b[39;49m\u001b[43mdate_format\u001b[49m\u001b[43m,\u001b[49m\n\u001b[0;32m    195\u001b[0m \u001b[43m    \u001b[49m\u001b[43mdatetime_format\u001b[49m\u001b[38;5;241;43m=\u001b[39;49m\u001b[43mdatetime_format\u001b[49m\u001b[43m,\u001b[49m\n\u001b[0;32m    196\u001b[0m \u001b[43m    \u001b[49m\u001b[43mmode\u001b[49m\u001b[38;5;241;43m=\u001b[39;49m\u001b[43mmode\u001b[49m\u001b[43m,\u001b[49m\n\u001b[0;32m    197\u001b[0m \u001b[43m    \u001b[49m\u001b[43mstorage_options\u001b[49m\u001b[38;5;241;43m=\u001b[39;49m\u001b[43mstorage_options\u001b[49m\u001b[43m,\u001b[49m\n\u001b[0;32m    198\u001b[0m \u001b[43m    \u001b[49m\u001b[43mif_sheet_exists\u001b[49m\u001b[38;5;241;43m=\u001b[39;49m\u001b[43mif_sheet_exists\u001b[49m\u001b[43m,\u001b[49m\n\u001b[0;32m    199\u001b[0m \u001b[43m    \u001b[49m\u001b[43mengine_kwargs\u001b[49m\u001b[38;5;241;43m=\u001b[39;49m\u001b[43mengine_kwargs\u001b[49m\u001b[43m,\u001b[49m\n\u001b[0;32m    200\u001b[0m \u001b[43m\u001b[49m\u001b[43m)\u001b[49m\n\u001b[0;32m    202\u001b[0m \u001b[38;5;28mself\u001b[39m\u001b[38;5;241m.\u001b[39mbook \u001b[38;5;241m=\u001b[39m Workbook(\u001b[38;5;28mself\u001b[39m\u001b[38;5;241m.\u001b[39mhandles\u001b[38;5;241m.\u001b[39mhandle, \u001b[38;5;241m*\u001b[39m\u001b[38;5;241m*\u001b[39mengine_kwargs)\n",
      "File \u001b[1;32m~\\anaconda3\\lib\\site-packages\\pandas\\io\\excel\\_base.py:1106\u001b[0m, in \u001b[0;36mExcelWriter.__init__\u001b[1;34m(self, path, engine, date_format, datetime_format, mode, storage_options, if_sheet_exists, engine_kwargs, **kwargs)\u001b[0m\n\u001b[0;32m   1102\u001b[0m \u001b[38;5;28mself\u001b[39m\u001b[38;5;241m.\u001b[39mhandles \u001b[38;5;241m=\u001b[39m IOHandles(\n\u001b[0;32m   1103\u001b[0m     cast(IO[\u001b[38;5;28mbytes\u001b[39m], path), compression\u001b[38;5;241m=\u001b[39m{\u001b[38;5;124m\"\u001b[39m\u001b[38;5;124mcompression\u001b[39m\u001b[38;5;124m\"\u001b[39m: \u001b[38;5;28;01mNone\u001b[39;00m}\n\u001b[0;32m   1104\u001b[0m )\n\u001b[0;32m   1105\u001b[0m \u001b[38;5;28;01mif\u001b[39;00m \u001b[38;5;129;01mnot\u001b[39;00m \u001b[38;5;28misinstance\u001b[39m(path, ExcelWriter):\n\u001b[1;32m-> 1106\u001b[0m     \u001b[38;5;28mself\u001b[39m\u001b[38;5;241m.\u001b[39mhandles \u001b[38;5;241m=\u001b[39m \u001b[43mget_handle\u001b[49m\u001b[43m(\u001b[49m\n\u001b[0;32m   1107\u001b[0m \u001b[43m        \u001b[49m\u001b[43mpath\u001b[49m\u001b[43m,\u001b[49m\u001b[43m \u001b[49m\u001b[43mmode\u001b[49m\u001b[43m,\u001b[49m\u001b[43m \u001b[49m\u001b[43mstorage_options\u001b[49m\u001b[38;5;241;43m=\u001b[39;49m\u001b[43mstorage_options\u001b[49m\u001b[43m,\u001b[49m\u001b[43m \u001b[49m\u001b[43mis_text\u001b[49m\u001b[38;5;241;43m=\u001b[39;49m\u001b[38;5;28;43;01mFalse\u001b[39;49;00m\n\u001b[0;32m   1108\u001b[0m \u001b[43m    \u001b[49m\u001b[43m)\u001b[49m\n\u001b[0;32m   1109\u001b[0m \u001b[38;5;28mself\u001b[39m\u001b[38;5;241m.\u001b[39msheets: \u001b[38;5;28mdict\u001b[39m[\u001b[38;5;28mstr\u001b[39m, Any] \u001b[38;5;241m=\u001b[39m {}\n\u001b[0;32m   1110\u001b[0m \u001b[38;5;28mself\u001b[39m\u001b[38;5;241m.\u001b[39mcur_sheet \u001b[38;5;241m=\u001b[39m \u001b[38;5;28;01mNone\u001b[39;00m\n",
      "File \u001b[1;32m~\\anaconda3\\lib\\site-packages\\pandas\\io\\common.py:795\u001b[0m, in \u001b[0;36mget_handle\u001b[1;34m(path_or_buf, mode, encoding, compression, memory_map, is_text, errors, storage_options)\u001b[0m\n\u001b[0;32m    786\u001b[0m         handle \u001b[38;5;241m=\u001b[39m \u001b[38;5;28mopen\u001b[39m(\n\u001b[0;32m    787\u001b[0m             handle,\n\u001b[0;32m    788\u001b[0m             ioargs\u001b[38;5;241m.\u001b[39mmode,\n\u001b[1;32m   (...)\u001b[0m\n\u001b[0;32m    791\u001b[0m             newline\u001b[38;5;241m=\u001b[39m\u001b[38;5;124m\"\u001b[39m\u001b[38;5;124m\"\u001b[39m,\n\u001b[0;32m    792\u001b[0m         )\n\u001b[0;32m    793\u001b[0m     \u001b[38;5;28;01melse\u001b[39;00m:\n\u001b[0;32m    794\u001b[0m         \u001b[38;5;66;03m# Binary mode\u001b[39;00m\n\u001b[1;32m--> 795\u001b[0m         handle \u001b[38;5;241m=\u001b[39m \u001b[38;5;28;43mopen\u001b[39;49m\u001b[43m(\u001b[49m\u001b[43mhandle\u001b[49m\u001b[43m,\u001b[49m\u001b[43m \u001b[49m\u001b[43mioargs\u001b[49m\u001b[38;5;241;43m.\u001b[39;49m\u001b[43mmode\u001b[49m\u001b[43m)\u001b[49m\n\u001b[0;32m    796\u001b[0m     handles\u001b[38;5;241m.\u001b[39mappend(handle)\n\u001b[0;32m    798\u001b[0m \u001b[38;5;66;03m# Convert BytesIO or file objects passed with an encoding\u001b[39;00m\n",
      "\u001b[1;31mPermissionError\u001b[0m: [Errno 13] Permission denied: 'rieltor_subways_formatted.xlsx'"
     ]
    }
   ],
   "source": [
    "df.to_excel('rieltor_subways_formatted.xlsx', index=False)"
   ]
  },
  {
   "cell_type": "code",
   "execution_count": 38,
   "id": "9fb3006e",
   "metadata": {},
   "outputs": [
    {
     "data": {
      "text/html": [
       "<div>\n",
       "<style scoped>\n",
       "    .dataframe tbody tr th:only-of-type {\n",
       "        vertical-align: middle;\n",
       "    }\n",
       "\n",
       "    .dataframe tbody tr th {\n",
       "        vertical-align: top;\n",
       "    }\n",
       "\n",
       "    .dataframe thead th {\n",
       "        text-align: right;\n",
       "    }\n",
       "</style>\n",
       "<table border=\"1\" class=\"dataframe\">\n",
       "  <thead>\n",
       "    <tr style=\"text-align: right;\">\n",
       "      <th></th>\n",
       "      <th>rooms</th>\n",
       "      <th>price</th>\n",
       "      <th>flat_area</th>\n",
       "      <th>district</th>\n",
       "      <th>address</th>\n",
       "      <th>subway</th>\n",
       "      <th>prestigious</th>\n",
       "      <th>Closest_subway</th>\n",
       "      <th>Closest_subway_location</th>\n",
       "      <th>Distance Text</th>\n",
       "      <th>Distance Value</th>\n",
       "      <th>Duration Text</th>\n",
       "      <th>Duration Value</th>\n",
       "      <th>target_location</th>\n",
       "    </tr>\n",
       "  </thead>\n",
       "  <tbody>\n",
       "    <tr>\n",
       "      <th>0</th>\n",
       "      <td>2</td>\n",
       "      <td>25000.0</td>\n",
       "      <td>131.0</td>\n",
       "      <td>Голосіївський</td>\n",
       "      <td>Рудницького Степана вул. (Вільямса академіка),...</td>\n",
       "      <td>Іподром</td>\n",
       "      <td>3</td>\n",
       "      <td>Ipodrom</td>\n",
       "      <td>50.37657470000001, 30.4688445</td>\n",
       "      <td>1.5 km</td>\n",
       "      <td>1485.0</td>\n",
       "      <td>19 mins</td>\n",
       "      <td>1150.0</td>\n",
       "      <td>50.38436508,30.4560318</td>\n",
       "    </tr>\n",
       "    <tr>\n",
       "      <th>1</th>\n",
       "      <td>2</td>\n",
       "      <td>15500.0</td>\n",
       "      <td>114.0</td>\n",
       "      <td>Солом'янський</td>\n",
       "      <td>Лобановського просп. (Червонозоряний), 4в</td>\n",
       "      <td>NaN</td>\n",
       "      <td>2</td>\n",
       "      <td>NaN</td>\n",
       "      <td>NaN</td>\n",
       "      <td>NaN</td>\n",
       "      <td>NaN</td>\n",
       "      <td>NaN</td>\n",
       "      <td>NaN</td>\n",
       "      <td>50.42233276,30.4624939</td>\n",
       "    </tr>\n",
       "    <tr>\n",
       "      <th>2</th>\n",
       "      <td>1</td>\n",
       "      <td>7000.0</td>\n",
       "      <td>55.0</td>\n",
       "      <td>Оболонський</td>\n",
       "      <td>Оболонський просп., 43</td>\n",
       "      <td>Героїв Дніпра</td>\n",
       "      <td>2</td>\n",
       "      <td>Heroyiv Dnipra</td>\n",
       "      <td>50.52273400000001, 30.49887</td>\n",
       "      <td>0.3 km</td>\n",
       "      <td>288.0</td>\n",
       "      <td>3 mins</td>\n",
       "      <td>207.0</td>\n",
       "      <td>50.52085495,30.49764442</td>\n",
       "    </tr>\n",
       "    <tr>\n",
       "      <th>3</th>\n",
       "      <td>2</td>\n",
       "      <td>20000.0</td>\n",
       "      <td>117.0</td>\n",
       "      <td>Печерський</td>\n",
       "      <td>Лесі Українки бульв., 5</td>\n",
       "      <td>NaN</td>\n",
       "      <td>3</td>\n",
       "      <td>Klovska</td>\n",
       "      <td>50.4369687, 30.531807</td>\n",
       "      <td>1.0 km</td>\n",
       "      <td>1039.0</td>\n",
       "      <td>13 mins</td>\n",
       "      <td>753.0</td>\n",
       "      <td>50.43521118,30.53017426</td>\n",
       "    </tr>\n",
       "    <tr>\n",
       "      <th>4</th>\n",
       "      <td>3</td>\n",
       "      <td>12000.0</td>\n",
       "      <td>140.0</td>\n",
       "      <td>Дарницький</td>\n",
       "      <td>Драгоманова вул., 25</td>\n",
       "      <td>NaN</td>\n",
       "      <td>1</td>\n",
       "      <td>Pozniaky</td>\n",
       "      <td>50.3978642, 30.6347451</td>\n",
       "      <td>1.0 km</td>\n",
       "      <td>964.0</td>\n",
       "      <td>12 mins</td>\n",
       "      <td>728.0</td>\n",
       "      <td>50.40409088,30.63778687</td>\n",
       "    </tr>\n",
       "    <tr>\n",
       "      <th>...</th>\n",
       "      <td>...</td>\n",
       "      <td>...</td>\n",
       "      <td>...</td>\n",
       "      <td>...</td>\n",
       "      <td>...</td>\n",
       "      <td>...</td>\n",
       "      <td>...</td>\n",
       "      <td>...</td>\n",
       "      <td>...</td>\n",
       "      <td>...</td>\n",
       "      <td>...</td>\n",
       "      <td>...</td>\n",
       "      <td>...</td>\n",
       "      <td>...</td>\n",
       "    </tr>\n",
       "    <tr>\n",
       "      <th>3415</th>\n",
       "      <td>3</td>\n",
       "      <td>18000.0</td>\n",
       "      <td>212.0</td>\n",
       "      <td>Дніпровський</td>\n",
       "      <td>Всеволода Нестайка вул. (Мильчакова Олександра...</td>\n",
       "      <td>NaN</td>\n",
       "      <td>1</td>\n",
       "      <td>Livoberezhna</td>\n",
       "      <td>50.451864, 30.59815699999999</td>\n",
       "      <td>0.6 km</td>\n",
       "      <td>558.0</td>\n",
       "      <td>7 mins</td>\n",
       "      <td>403.0</td>\n",
       "      <td>50.45552826,30.59948158</td>\n",
       "    </tr>\n",
       "    <tr>\n",
       "      <th>3416</th>\n",
       "      <td>2</td>\n",
       "      <td>10000.0</td>\n",
       "      <td>110.0</td>\n",
       "      <td>Дарницький</td>\n",
       "      <td>Вишняківська вул., 13б</td>\n",
       "      <td>NaN</td>\n",
       "      <td>1</td>\n",
       "      <td>Pozniaky</td>\n",
       "      <td>50.3978642, 30.6347451</td>\n",
       "      <td>1.2 km</td>\n",
       "      <td>1172.0</td>\n",
       "      <td>15 mins</td>\n",
       "      <td>901.0</td>\n",
       "      <td>50.39374924,30.64518547</td>\n",
       "    </tr>\n",
       "    <tr>\n",
       "      <th>3417</th>\n",
       "      <td>1</td>\n",
       "      <td>8000.0</td>\n",
       "      <td>43.0</td>\n",
       "      <td>Святошинський</td>\n",
       "      <td>Туполєва академіка вул., 7Б</td>\n",
       "      <td>NaN</td>\n",
       "      <td>2</td>\n",
       "      <td>Nyvky</td>\n",
       "      <td>50.4586495, 30.40437299999999</td>\n",
       "      <td>3.1 km</td>\n",
       "      <td>3083.0</td>\n",
       "      <td>37 mins</td>\n",
       "      <td>2244.0</td>\n",
       "      <td>50.48032379,30.39466858</td>\n",
       "    </tr>\n",
       "    <tr>\n",
       "      <th>3418</th>\n",
       "      <td>2</td>\n",
       "      <td>15000.0</td>\n",
       "      <td>107.0</td>\n",
       "      <td>Святошинський</td>\n",
       "      <td>Клавдієвська вул., 40 г</td>\n",
       "      <td>NaN</td>\n",
       "      <td>2</td>\n",
       "      <td>Akademmistechko</td>\n",
       "      <td>50.4649376, 30.3550961</td>\n",
       "      <td>2.3 km</td>\n",
       "      <td>2258.0</td>\n",
       "      <td>28 mins</td>\n",
       "      <td>1660.0</td>\n",
       "      <td>50.47770691,30.33908081</td>\n",
       "    </tr>\n",
       "    <tr>\n",
       "      <th>3419</th>\n",
       "      <td>1</td>\n",
       "      <td>4500.0</td>\n",
       "      <td>51.0</td>\n",
       "      <td>Деснянський</td>\n",
       "      <td>Лісовий просп., 15</td>\n",
       "      <td>NaN</td>\n",
       "      <td>1</td>\n",
       "      <td>Lisova</td>\n",
       "      <td>50.4646598, 30.64556570000001</td>\n",
       "      <td>3.3 km</td>\n",
       "      <td>3277.0</td>\n",
       "      <td>41 mins</td>\n",
       "      <td>2456.0</td>\n",
       "      <td>50.48226166,30.62787247</td>\n",
       "    </tr>\n",
       "  </tbody>\n",
       "</table>\n",
       "<p>3420 rows × 14 columns</p>\n",
       "</div>"
      ],
      "text/plain": [
       "      rooms    price  flat_area       district  \\\n",
       "0         2  25000.0      131.0  Голосіївський   \n",
       "1         2  15500.0      114.0  Солом'янський   \n",
       "2         1   7000.0       55.0    Оболонський   \n",
       "3         2  20000.0      117.0     Печерський   \n",
       "4         3  12000.0      140.0     Дарницький   \n",
       "...     ...      ...        ...            ...   \n",
       "3415      3  18000.0      212.0   Дніпровський   \n",
       "3416      2  10000.0      110.0     Дарницький   \n",
       "3417      1   8000.0       43.0  Святошинський   \n",
       "3418      2  15000.0      107.0  Святошинський   \n",
       "3419      1   4500.0       51.0    Деснянський   \n",
       "\n",
       "                                                address         subway  \\\n",
       "0     Рудницького Степана вул. (Вільямса академіка),...        Іподром   \n",
       "1             Лобановського просп. (Червонозоряний), 4в            NaN   \n",
       "2                                Оболонський просп., 43  Героїв Дніпра   \n",
       "3                               Лесі Українки бульв., 5            NaN   \n",
       "4                                  Драгоманова вул., 25            NaN   \n",
       "...                                                 ...            ...   \n",
       "3415  Всеволода Нестайка вул. (Мильчакова Олександра...            NaN   \n",
       "3416                             Вишняківська вул., 13б            NaN   \n",
       "3417                        Туполєва академіка вул., 7Б            NaN   \n",
       "3418                            Клавдієвська вул., 40 г            NaN   \n",
       "3419                                 Лісовий просп., 15            NaN   \n",
       "\n",
       "      prestigious   Closest_subway        Closest_subway_location  \\\n",
       "0               3          Ipodrom  50.37657470000001, 30.4688445   \n",
       "1               2              NaN                            NaN   \n",
       "2               2   Heroyiv Dnipra    50.52273400000001, 30.49887   \n",
       "3               3          Klovska          50.4369687, 30.531807   \n",
       "4               1         Pozniaky         50.3978642, 30.6347451   \n",
       "...           ...              ...                            ...   \n",
       "3415            1     Livoberezhna   50.451864, 30.59815699999999   \n",
       "3416            1         Pozniaky         50.3978642, 30.6347451   \n",
       "3417            2            Nyvky  50.4586495, 30.40437299999999   \n",
       "3418            2  Akademmistechko         50.4649376, 30.3550961   \n",
       "3419            1           Lisova  50.4646598, 30.64556570000001   \n",
       "\n",
       "     Distance Text  Distance Value Duration Text  Duration Value  \\\n",
       "0           1.5 km          1485.0       19 mins          1150.0   \n",
       "1              NaN             NaN           NaN             NaN   \n",
       "2           0.3 km           288.0        3 mins           207.0   \n",
       "3           1.0 km          1039.0       13 mins           753.0   \n",
       "4           1.0 km           964.0       12 mins           728.0   \n",
       "...            ...             ...           ...             ...   \n",
       "3415        0.6 km           558.0        7 mins           403.0   \n",
       "3416        1.2 km          1172.0       15 mins           901.0   \n",
       "3417        3.1 km          3083.0       37 mins          2244.0   \n",
       "3418        2.3 km          2258.0       28 mins          1660.0   \n",
       "3419        3.3 km          3277.0       41 mins          2456.0   \n",
       "\n",
       "              target_location  \n",
       "0      50.38436508,30.4560318  \n",
       "1      50.42233276,30.4624939  \n",
       "2     50.52085495,30.49764442  \n",
       "3     50.43521118,30.53017426  \n",
       "4     50.40409088,30.63778687  \n",
       "...                       ...  \n",
       "3415  50.45552826,30.59948158  \n",
       "3416  50.39374924,30.64518547  \n",
       "3417  50.48032379,30.39466858  \n",
       "3418  50.47770691,30.33908081  \n",
       "3419  50.48226166,30.62787247  \n",
       "\n",
       "[3420 rows x 14 columns]"
      ]
     },
     "execution_count": 38,
     "metadata": {},
     "output_type": "execute_result"
    }
   ],
   "source": [
    "#needed file on desktop\n",
    "df = pd.read_excel('C:/Users/liman/Documents/Main Academy/rieltor_subways_formatted.xlsx')\n",
    "df"
   ]
  },
  {
   "cell_type": "code",
   "execution_count": 84,
   "id": "ddeda26d",
   "metadata": {},
   "outputs": [],
   "source": [
    "df.to_csv('working_rieltor_subways_formatted.csv', index=False)"
   ]
  },
  {
   "cell_type": "code",
   "execution_count": 39,
   "id": "b4946cef",
   "metadata": {},
   "outputs": [
    {
     "data": {
      "text/plain": [
       "369400.0"
      ]
     },
     "execution_count": 39,
     "metadata": {},
     "output_type": "execute_result"
    }
   ],
   "source": [
    "max_value = df['price'].max()\n",
    "max_value"
   ]
  },
  {
   "cell_type": "code",
   "execution_count": 40,
   "id": "4e4ef041",
   "metadata": {},
   "outputs": [
    {
     "data": {
      "text/plain": [
       "2000.0"
      ]
     },
     "execution_count": 40,
     "metadata": {},
     "output_type": "execute_result"
    }
   ],
   "source": [
    "max_value = df['price'].min()\n",
    "max_value"
   ]
  },
  {
   "cell_type": "code",
   "execution_count": 41,
   "id": "4f50f0b4",
   "metadata": {},
   "outputs": [
    {
     "name": "stdout",
     "output_type": "stream",
     "text": [
      "      rooms    price  flat_area       district  \\\n",
      "0         2  25000.0      131.0  Голосіївський   \n",
      "1         2  15500.0      114.0  Солом'янський   \n",
      "2         1   7000.0       55.0    Оболонський   \n",
      "3         2  20000.0      117.0     Печерський   \n",
      "4         3  12000.0      140.0     Дарницький   \n",
      "...     ...      ...        ...            ...   \n",
      "3415      3  18000.0      212.0   Дніпровський   \n",
      "3416      2  10000.0      110.0     Дарницький   \n",
      "3417      1   8000.0       43.0  Святошинський   \n",
      "3418      2  15000.0      107.0  Святошинський   \n",
      "3419      1   4500.0       51.0    Деснянський   \n",
      "\n",
      "                                                address         subway  \\\n",
      "0     Рудницького Степана вул. (Вільямса академіка),...        Іподром   \n",
      "1             Лобановського просп. (Червонозоряний), 4в            NaN   \n",
      "2                                Оболонський просп., 43  Героїв Дніпра   \n",
      "3                               Лесі Українки бульв., 5            NaN   \n",
      "4                                  Драгоманова вул., 25            NaN   \n",
      "...                                                 ...            ...   \n",
      "3415  Всеволода Нестайка вул. (Мильчакова Олександра...            NaN   \n",
      "3416                             Вишняківська вул., 13б            NaN   \n",
      "3417                        Туполєва академіка вул., 7Б            NaN   \n",
      "3418                            Клавдієвська вул., 40 г            NaN   \n",
      "3419                                 Лісовий просп., 15            NaN   \n",
      "\n",
      "      prestigious   Closest_subway        Closest_subway_location  \\\n",
      "0               3          Ipodrom  50.37657470000001, 30.4688445   \n",
      "1               2              NaN                            NaN   \n",
      "2               2   Heroyiv Dnipra    50.52273400000001, 30.49887   \n",
      "3               3          Klovska          50.4369687, 30.531807   \n",
      "4               1         Pozniaky         50.3978642, 30.6347451   \n",
      "...           ...              ...                            ...   \n",
      "3415            1     Livoberezhna   50.451864, 30.59815699999999   \n",
      "3416            1         Pozniaky         50.3978642, 30.6347451   \n",
      "3417            2            Nyvky  50.4586495, 30.40437299999999   \n",
      "3418            2  Akademmistechko         50.4649376, 30.3550961   \n",
      "3419            1           Lisova  50.4646598, 30.64556570000001   \n",
      "\n",
      "     Distance Text  Distance Value Duration Text  Duration Value  \\\n",
      "0           1.5 km          1485.0       19 mins          1150.0   \n",
      "1              NaN             NaN           NaN             NaN   \n",
      "2           0.3 km           288.0        3 mins           207.0   \n",
      "3           1.0 km          1039.0       13 mins           753.0   \n",
      "4           1.0 km           964.0       12 mins           728.0   \n",
      "...            ...             ...           ...             ...   \n",
      "3415        0.6 km           558.0        7 mins           403.0   \n",
      "3416        1.2 km          1172.0       15 mins           901.0   \n",
      "3417        3.1 km          3083.0       37 mins          2244.0   \n",
      "3418        2.3 km          2258.0       28 mins          1660.0   \n",
      "3419        3.3 km          3277.0       41 mins          2456.0   \n",
      "\n",
      "              target_location  condition  \n",
      "0      50.38436508,30.4560318          4  \n",
      "1      50.42233276,30.4624939          4  \n",
      "2     50.52085495,30.49764442          2  \n",
      "3     50.43521118,30.53017426          4  \n",
      "4     50.40409088,30.63778687          3  \n",
      "...                       ...        ...  \n",
      "3415  50.45552826,30.59948158          4  \n",
      "3416  50.39374924,30.64518547          3  \n",
      "3417  50.48032379,30.39466858          3  \n",
      "3418  50.47770691,30.33908081          3  \n",
      "3419  50.48226166,30.62787247          2  \n",
      "\n",
      "[3420 rows x 15 columns]\n"
     ]
    }
   ],
   "source": [
    "bins = [0, 2000, 7000, 15000, 50000, 200000, float('inf')]\n",
    "# labels = ['very modest', 'modest', 'simple', 'medium', 'high', 'lux']\n",
    "labels = ['1', '2', '3', '4', '5', '6']\n",
    "\n",
    "# use pd.cut() to create a new column of categories\n",
    "df['condition'] = pd.cut(df['price'], bins=bins, labels=labels)\n",
    "\n",
    "df['condition'] = pd.to_numeric(df['condition'])\n",
    "# view the new df\n",
    "print(df)"
   ]
  },
  {
   "cell_type": "code",
   "execution_count": 42,
   "id": "1d19f5dc",
   "metadata": {},
   "outputs": [
    {
     "name": "stderr",
     "output_type": "stream",
     "text": [
      "C:\\Users\\liman\\AppData\\Local\\Temp\\ipykernel_19060\\2013158146.py:1: UserWarning: \n",
      "\n",
      "`distplot` is a deprecated function and will be removed in seaborn v0.14.0.\n",
      "\n",
      "Please adapt your code to use either `displot` (a figure-level function with\n",
      "similar flexibility) or `histplot` (an axes-level function for histograms).\n",
      "\n",
      "For a guide to updating your code to use the new functions, please see\n",
      "https://gist.github.com/mwaskom/de44147ed2974457ad6372750bbe5751\n",
      "\n",
      "  sns.distplot(df['price']);\n"
     ]
    },
    {
     "data": {
      "image/png": "[encoded data removed]",
      "text/plain": [
       "<Figure size 640x480 with 1 Axes>"
      ]
     },
     "metadata": {},
     "output_type": "display_data"
    }
   ],
   "source": [
    "sns.distplot(df['price']);"
   ]
  },
  {
   "cell_type": "code",
   "execution_count": 43,
   "id": "846f0258",
   "metadata": {},
   "outputs": [
    {
     "data": {
      "text/plain": [
       "<AxesSubplot:>"
      ]
     },
     "execution_count": 43,
     "metadata": {},
     "output_type": "execute_result"
    },
    {
     "data": {
      "image/png": "[encoded data removed]",
      "text/plain": [
       "<Figure size 640x480 with 2 Axes>"
      ]
     },
     "metadata": {},
     "output_type": "display_data"
    }
   ],
   "source": [
    "corr=df[['price','rooms', 'flat_area', 'prestigious',  'condition', 'Distance Value', 'Duration Value']].corr()\n",
    "sns.heatmap(corr,annot=True,linewidths=1.5,cmap=\"YlGnBu\")"
   ]
  },
  {
   "cell_type": "code",
   "execution_count": 104,
   "id": "d7dae698",
   "metadata": {},
   "outputs": [
    {
     "name": "stderr",
     "output_type": "stream",
     "text": [
      "C:\\Users\\liman\\AppData\\Local\\Temp\\ipykernel_19060\\1812576092.py:4: UserWarning: To output multiple subplots, the figure containing the passed axes is being cleared.\n",
      "  scatter_matrix=pd.plotting.scatter_matrix(subset_df, alpha=0.5, ax=ax, c='navy')\n"
     ]
    },
    {
     "data": {
      "image/png": "[encoded data removed]",
      "text/plain": [
       "<Figure size 500x500 with 49 Axes>"
      ]
     },
     "metadata": {},
     "output_type": "display_data"
    }
   ],
   "source": [
    "subset_df = df[['price','rooms', 'flat_area', 'prestigious',  'condition', 'Distance Value', 'Duration Value']]\n",
    "\n",
    "fig, ax = plt.subplots(figsize=(5, 5))\n",
    "scatter_matrix=pd.plotting.scatter_matrix(subset_df, alpha=0.5, ax=ax, c='navy')\n",
    "\n",
    "for ax in scatter_matrix.ravel():\n",
    "    ax.set_xlabel(ax.get_xlabel(), fontsize = 7, rotation = 90)\n",
    "    ax.set_ylabel(ax.get_ylabel(), fontsize = 5, rotation = 0)\n",
    "    #y ticklabels\n",
    "    plt.setp(ax.yaxis.get_majorticklabels(), 'size', 5) \n",
    "#x ticklabels\n",
    "    plt.setp(ax.xaxis.get_majorticklabels(), 'size', 5) \n",
    " "
   ]
  },
  {
   "cell_type": "code",
   "execution_count": 46,
   "id": "064eda7e",
   "metadata": {},
   "outputs": [
    {
     "data": {
      "text/plain": [
       "LinearRegression()"
      ]
     },
     "execution_count": 46,
     "metadata": {},
     "output_type": "execute_result"
    }
   ],
   "source": [
    "reg=LinearRegression()\n",
    "reg"
   ]
  },
  {
   "cell_type": "code",
   "execution_count": 57,
   "id": "7cc143b1",
   "metadata": {},
   "outputs": [],
   "source": [
    "X=df[['rooms', 'flat_area', 'prestigious',  'condition', 'Distance Value', 'Duration Value']]\n",
    "y=df['price']\n",
    "\n",
    "X_train, X_test, y_train, y_test = train_test_split(X, y)"
   ]
  },
  {
   "cell_type": "code",
   "execution_count": 59,
   "id": "62792e2e",
   "metadata": {},
   "outputs": [
    {
     "ename": "ValueError",
     "evalue": "Input contains NaN, infinity or a value too large for dtype('float64').",
     "output_type": "error",
     "traceback": [
      "\u001b[1;31m---------------------------------------------------------------------------\u001b[0m",
      "\u001b[1;31mValueError\u001b[0m                                Traceback (most recent call last)",
      "Cell \u001b[1;32mIn[59], line 1\u001b[0m\n\u001b[1;32m----> 1\u001b[0m \u001b[43mreg\u001b[49m\u001b[38;5;241;43m.\u001b[39;49m\u001b[43mfit\u001b[49m\u001b[43m(\u001b[49m\u001b[43mX_train\u001b[49m\u001b[43m,\u001b[49m\u001b[43m \u001b[49m\u001b[43my_train\u001b[49m\u001b[43m)\u001b[49m\n",
      "File \u001b[1;32m~\\anaconda3\\lib\\site-packages\\sklearn\\linear_model\\_base.py:662\u001b[0m, in \u001b[0;36mLinearRegression.fit\u001b[1;34m(self, X, y, sample_weight)\u001b[0m\n\u001b[0;32m    658\u001b[0m n_jobs_ \u001b[38;5;241m=\u001b[39m \u001b[38;5;28mself\u001b[39m\u001b[38;5;241m.\u001b[39mn_jobs\n\u001b[0;32m    660\u001b[0m accept_sparse \u001b[38;5;241m=\u001b[39m \u001b[38;5;28;01mFalse\u001b[39;00m \u001b[38;5;28;01mif\u001b[39;00m \u001b[38;5;28mself\u001b[39m\u001b[38;5;241m.\u001b[39mpositive \u001b[38;5;28;01melse\u001b[39;00m [\u001b[38;5;124m\"\u001b[39m\u001b[38;5;124mcsr\u001b[39m\u001b[38;5;124m\"\u001b[39m, \u001b[38;5;124m\"\u001b[39m\u001b[38;5;124mcsc\u001b[39m\u001b[38;5;124m\"\u001b[39m, \u001b[38;5;124m\"\u001b[39m\u001b[38;5;124mcoo\u001b[39m\u001b[38;5;124m\"\u001b[39m]\n\u001b[1;32m--> 662\u001b[0m X, y \u001b[38;5;241m=\u001b[39m \u001b[38;5;28;43mself\u001b[39;49m\u001b[38;5;241;43m.\u001b[39;49m\u001b[43m_validate_data\u001b[49m\u001b[43m(\u001b[49m\n\u001b[0;32m    663\u001b[0m \u001b[43m    \u001b[49m\u001b[43mX\u001b[49m\u001b[43m,\u001b[49m\u001b[43m \u001b[49m\u001b[43my\u001b[49m\u001b[43m,\u001b[49m\u001b[43m \u001b[49m\u001b[43maccept_sparse\u001b[49m\u001b[38;5;241;43m=\u001b[39;49m\u001b[43maccept_sparse\u001b[49m\u001b[43m,\u001b[49m\u001b[43m \u001b[49m\u001b[43my_numeric\u001b[49m\u001b[38;5;241;43m=\u001b[39;49m\u001b[38;5;28;43;01mTrue\u001b[39;49;00m\u001b[43m,\u001b[49m\u001b[43m \u001b[49m\u001b[43mmulti_output\u001b[49m\u001b[38;5;241;43m=\u001b[39;49m\u001b[38;5;28;43;01mTrue\u001b[39;49;00m\n\u001b[0;32m    664\u001b[0m \u001b[43m\u001b[49m\u001b[43m)\u001b[49m\n\u001b[0;32m    666\u001b[0m \u001b[38;5;28;01mif\u001b[39;00m sample_weight \u001b[38;5;129;01mis\u001b[39;00m \u001b[38;5;129;01mnot\u001b[39;00m \u001b[38;5;28;01mNone\u001b[39;00m:\n\u001b[0;32m    667\u001b[0m     sample_weight \u001b[38;5;241m=\u001b[39m _check_sample_weight(sample_weight, X, dtype\u001b[38;5;241m=\u001b[39mX\u001b[38;5;241m.\u001b[39mdtype)\n",
      "File \u001b[1;32m~\\anaconda3\\lib\\site-packages\\sklearn\\base.py:581\u001b[0m, in \u001b[0;36mBaseEstimator._validate_data\u001b[1;34m(self, X, y, reset, validate_separately, **check_params)\u001b[0m\n\u001b[0;32m    579\u001b[0m         y \u001b[38;5;241m=\u001b[39m check_array(y, \u001b[38;5;241m*\u001b[39m\u001b[38;5;241m*\u001b[39mcheck_y_params)\n\u001b[0;32m    580\u001b[0m     \u001b[38;5;28;01melse\u001b[39;00m:\n\u001b[1;32m--> 581\u001b[0m         X, y \u001b[38;5;241m=\u001b[39m check_X_y(X, y, \u001b[38;5;241m*\u001b[39m\u001b[38;5;241m*\u001b[39mcheck_params)\n\u001b[0;32m    582\u001b[0m     out \u001b[38;5;241m=\u001b[39m X, y\n\u001b[0;32m    584\u001b[0m \u001b[38;5;28;01mif\u001b[39;00m \u001b[38;5;129;01mnot\u001b[39;00m no_val_X \u001b[38;5;129;01mand\u001b[39;00m check_params\u001b[38;5;241m.\u001b[39mget(\u001b[38;5;124m\"\u001b[39m\u001b[38;5;124mensure_2d\u001b[39m\u001b[38;5;124m\"\u001b[39m, \u001b[38;5;28;01mTrue\u001b[39;00m):\n",
      "File \u001b[1;32m~\\anaconda3\\lib\\site-packages\\sklearn\\utils\\validation.py:964\u001b[0m, in \u001b[0;36mcheck_X_y\u001b[1;34m(X, y, accept_sparse, accept_large_sparse, dtype, order, copy, force_all_finite, ensure_2d, allow_nd, multi_output, ensure_min_samples, ensure_min_features, y_numeric, estimator)\u001b[0m\n\u001b[0;32m    961\u001b[0m \u001b[38;5;28;01mif\u001b[39;00m y \u001b[38;5;129;01mis\u001b[39;00m \u001b[38;5;28;01mNone\u001b[39;00m:\n\u001b[0;32m    962\u001b[0m     \u001b[38;5;28;01mraise\u001b[39;00m \u001b[38;5;167;01mValueError\u001b[39;00m(\u001b[38;5;124m\"\u001b[39m\u001b[38;5;124my cannot be None\u001b[39m\u001b[38;5;124m\"\u001b[39m)\n\u001b[1;32m--> 964\u001b[0m X \u001b[38;5;241m=\u001b[39m \u001b[43mcheck_array\u001b[49m\u001b[43m(\u001b[49m\n\u001b[0;32m    965\u001b[0m \u001b[43m    \u001b[49m\u001b[43mX\u001b[49m\u001b[43m,\u001b[49m\n\u001b[0;32m    966\u001b[0m \u001b[43m    \u001b[49m\u001b[43maccept_sparse\u001b[49m\u001b[38;5;241;43m=\u001b[39;49m\u001b[43maccept_sparse\u001b[49m\u001b[43m,\u001b[49m\n\u001b[0;32m    967\u001b[0m \u001b[43m    \u001b[49m\u001b[43maccept_large_sparse\u001b[49m\u001b[38;5;241;43m=\u001b[39;49m\u001b[43maccept_large_sparse\u001b[49m\u001b[43m,\u001b[49m\n\u001b[0;32m    968\u001b[0m \u001b[43m    \u001b[49m\u001b[43mdtype\u001b[49m\u001b[38;5;241;43m=\u001b[39;49m\u001b[43mdtype\u001b[49m\u001b[43m,\u001b[49m\n\u001b[0;32m    969\u001b[0m \u001b[43m    \u001b[49m\u001b[43morder\u001b[49m\u001b[38;5;241;43m=\u001b[39;49m\u001b[43morder\u001b[49m\u001b[43m,\u001b[49m\n\u001b[0;32m    970\u001b[0m \u001b[43m    \u001b[49m\u001b[43mcopy\u001b[49m\u001b[38;5;241;43m=\u001b[39;49m\u001b[43mcopy\u001b[49m\u001b[43m,\u001b[49m\n\u001b[0;32m    971\u001b[0m \u001b[43m    \u001b[49m\u001b[43mforce_all_finite\u001b[49m\u001b[38;5;241;43m=\u001b[39;49m\u001b[43mforce_all_finite\u001b[49m\u001b[43m,\u001b[49m\n\u001b[0;32m    972\u001b[0m \u001b[43m    \u001b[49m\u001b[43mensure_2d\u001b[49m\u001b[38;5;241;43m=\u001b[39;49m\u001b[43mensure_2d\u001b[49m\u001b[43m,\u001b[49m\n\u001b[0;32m    973\u001b[0m \u001b[43m    \u001b[49m\u001b[43mallow_nd\u001b[49m\u001b[38;5;241;43m=\u001b[39;49m\u001b[43mallow_nd\u001b[49m\u001b[43m,\u001b[49m\n\u001b[0;32m    974\u001b[0m \u001b[43m    \u001b[49m\u001b[43mensure_min_samples\u001b[49m\u001b[38;5;241;43m=\u001b[39;49m\u001b[43mensure_min_samples\u001b[49m\u001b[43m,\u001b[49m\n\u001b[0;32m    975\u001b[0m \u001b[43m    \u001b[49m\u001b[43mensure_min_features\u001b[49m\u001b[38;5;241;43m=\u001b[39;49m\u001b[43mensure_min_features\u001b[49m\u001b[43m,\u001b[49m\n\u001b[0;32m    976\u001b[0m \u001b[43m    \u001b[49m\u001b[43mestimator\u001b[49m\u001b[38;5;241;43m=\u001b[39;49m\u001b[43mestimator\u001b[49m\u001b[43m,\u001b[49m\n\u001b[0;32m    977\u001b[0m \u001b[43m\u001b[49m\u001b[43m)\u001b[49m\n\u001b[0;32m    979\u001b[0m y \u001b[38;5;241m=\u001b[39m _check_y(y, multi_output\u001b[38;5;241m=\u001b[39mmulti_output, y_numeric\u001b[38;5;241m=\u001b[39my_numeric)\n\u001b[0;32m    981\u001b[0m check_consistent_length(X, y)\n",
      "File \u001b[1;32m~\\anaconda3\\lib\\site-packages\\sklearn\\utils\\validation.py:800\u001b[0m, in \u001b[0;36mcheck_array\u001b[1;34m(array, accept_sparse, accept_large_sparse, dtype, order, copy, force_all_finite, ensure_2d, allow_nd, ensure_min_samples, ensure_min_features, estimator)\u001b[0m\n\u001b[0;32m    794\u001b[0m         \u001b[38;5;28;01mraise\u001b[39;00m \u001b[38;5;167;01mValueError\u001b[39;00m(\n\u001b[0;32m    795\u001b[0m             \u001b[38;5;124m\"\u001b[39m\u001b[38;5;124mFound array with dim \u001b[39m\u001b[38;5;132;01m%d\u001b[39;00m\u001b[38;5;124m. \u001b[39m\u001b[38;5;132;01m%s\u001b[39;00m\u001b[38;5;124m expected <= 2.\u001b[39m\u001b[38;5;124m\"\u001b[39m\n\u001b[0;32m    796\u001b[0m             \u001b[38;5;241m%\u001b[39m (array\u001b[38;5;241m.\u001b[39mndim, estimator_name)\n\u001b[0;32m    797\u001b[0m         )\n\u001b[0;32m    799\u001b[0m     \u001b[38;5;28;01mif\u001b[39;00m force_all_finite:\n\u001b[1;32m--> 800\u001b[0m         \u001b[43m_assert_all_finite\u001b[49m\u001b[43m(\u001b[49m\u001b[43marray\u001b[49m\u001b[43m,\u001b[49m\u001b[43m \u001b[49m\u001b[43mallow_nan\u001b[49m\u001b[38;5;241;43m=\u001b[39;49m\u001b[43mforce_all_finite\u001b[49m\u001b[43m \u001b[49m\u001b[38;5;241;43m==\u001b[39;49m\u001b[43m \u001b[49m\u001b[38;5;124;43m\"\u001b[39;49m\u001b[38;5;124;43mallow-nan\u001b[39;49m\u001b[38;5;124;43m\"\u001b[39;49m\u001b[43m)\u001b[49m\n\u001b[0;32m    802\u001b[0m \u001b[38;5;28;01mif\u001b[39;00m ensure_min_samples \u001b[38;5;241m>\u001b[39m \u001b[38;5;241m0\u001b[39m:\n\u001b[0;32m    803\u001b[0m     n_samples \u001b[38;5;241m=\u001b[39m _num_samples(array)\n",
      "File \u001b[1;32m~\\anaconda3\\lib\\site-packages\\sklearn\\utils\\validation.py:114\u001b[0m, in \u001b[0;36m_assert_all_finite\u001b[1;34m(X, allow_nan, msg_dtype)\u001b[0m\n\u001b[0;32m    107\u001b[0m     \u001b[38;5;28;01mif\u001b[39;00m (\n\u001b[0;32m    108\u001b[0m         allow_nan\n\u001b[0;32m    109\u001b[0m         \u001b[38;5;129;01mand\u001b[39;00m np\u001b[38;5;241m.\u001b[39misinf(X)\u001b[38;5;241m.\u001b[39many()\n\u001b[0;32m    110\u001b[0m         \u001b[38;5;129;01mor\u001b[39;00m \u001b[38;5;129;01mnot\u001b[39;00m allow_nan\n\u001b[0;32m    111\u001b[0m         \u001b[38;5;129;01mand\u001b[39;00m \u001b[38;5;129;01mnot\u001b[39;00m np\u001b[38;5;241m.\u001b[39misfinite(X)\u001b[38;5;241m.\u001b[39mall()\n\u001b[0;32m    112\u001b[0m     ):\n\u001b[0;32m    113\u001b[0m         type_err \u001b[38;5;241m=\u001b[39m \u001b[38;5;124m\"\u001b[39m\u001b[38;5;124minfinity\u001b[39m\u001b[38;5;124m\"\u001b[39m \u001b[38;5;28;01mif\u001b[39;00m allow_nan \u001b[38;5;28;01melse\u001b[39;00m \u001b[38;5;124m\"\u001b[39m\u001b[38;5;124mNaN, infinity\u001b[39m\u001b[38;5;124m\"\u001b[39m\n\u001b[1;32m--> 114\u001b[0m         \u001b[38;5;28;01mraise\u001b[39;00m \u001b[38;5;167;01mValueError\u001b[39;00m(\n\u001b[0;32m    115\u001b[0m             msg_err\u001b[38;5;241m.\u001b[39mformat(\n\u001b[0;32m    116\u001b[0m                 type_err, msg_dtype \u001b[38;5;28;01mif\u001b[39;00m msg_dtype \u001b[38;5;129;01mis\u001b[39;00m \u001b[38;5;129;01mnot\u001b[39;00m \u001b[38;5;28;01mNone\u001b[39;00m \u001b[38;5;28;01melse\u001b[39;00m X\u001b[38;5;241m.\u001b[39mdtype\n\u001b[0;32m    117\u001b[0m             )\n\u001b[0;32m    118\u001b[0m         )\n\u001b[0;32m    119\u001b[0m \u001b[38;5;66;03m# for object dtype data, we only check for NaNs (GH-13254)\u001b[39;00m\n\u001b[0;32m    120\u001b[0m \u001b[38;5;28;01melif\u001b[39;00m X\u001b[38;5;241m.\u001b[39mdtype \u001b[38;5;241m==\u001b[39m np\u001b[38;5;241m.\u001b[39mdtype(\u001b[38;5;124m\"\u001b[39m\u001b[38;5;124mobject\u001b[39m\u001b[38;5;124m\"\u001b[39m) \u001b[38;5;129;01mand\u001b[39;00m \u001b[38;5;129;01mnot\u001b[39;00m allow_nan:\n",
      "\u001b[1;31mValueError\u001b[0m: Input contains NaN, infinity or a value too large for dtype('float64')."
     ]
    }
   ],
   "source": [
    "reg.fit(X_train, y_train)"
   ]
  },
  {
   "cell_type": "code",
   "execution_count": 60,
   "id": "d81c0c98",
   "metadata": {},
   "outputs": [
    {
     "name": "stdout",
     "output_type": "stream",
     "text": [
      "rooms               0\n",
      "flat_area           0\n",
      "prestigious         0\n",
      "condition           0\n",
      "Distance Value    200\n",
      "Duration Value    200\n",
      "dtype: int64\n"
     ]
    }
   ],
   "source": [
    "print(X_train.isnull().sum())\n"
   ]
  },
  {
   "cell_type": "code",
   "execution_count": 61,
   "id": "d5de26f4",
   "metadata": {},
   "outputs": [
    {
     "name": "stdout",
     "output_type": "stream",
     "text": [
      "rooms             0\n",
      "flat_area         0\n",
      "prestigious       0\n",
      "condition         0\n",
      "Distance Value    0\n",
      "Duration Value    0\n",
      "dtype: int64\n"
     ]
    }
   ],
   "source": [
    "print(X_train.isin([np.inf, -np.inf]).sum())"
   ]
  },
  {
   "cell_type": "code",
   "execution_count": 62,
   "id": "73f01539",
   "metadata": {},
   "outputs": [],
   "source": [
    "X=df[['rooms', 'flat_area', 'prestigious', 'condition']]\n",
    "y=df['price']\n",
    "\n",
    "X_train, X_test, y_train, y_test = train_test_split(X, y, test_size = 0.2)"
   ]
  },
  {
   "cell_type": "code",
   "execution_count": 63,
   "id": "07b10e3a",
   "metadata": {},
   "outputs": [
    {
     "data": {
      "text/plain": [
       "LinearRegression()"
      ]
     },
     "execution_count": 63,
     "metadata": {},
     "output_type": "execute_result"
    }
   ],
   "source": [
    "reg.fit(X_train, y_train)"
   ]
  },
  {
   "cell_type": "code",
   "execution_count": 64,
   "id": "bf016d76",
   "metadata": {},
   "outputs": [
    {
     "data": {
      "text/plain": [
       "0.6407369191559951"
      ]
     },
     "execution_count": 64,
     "metadata": {},
     "output_type": "execute_result"
    }
   ],
   "source": [
    "reg.score(X_train, y_train)"
   ]
  },
  {
   "cell_type": "code",
   "execution_count": 65,
   "id": "d68cd324",
   "metadata": {},
   "outputs": [
    {
     "data": {
      "text/plain": [
       "0.7353273114122219"
      ]
     },
     "execution_count": 65,
     "metadata": {},
     "output_type": "execute_result"
    }
   ],
   "source": [
    "reg.score(X_test, y_test)"
   ]
  },
  {
   "cell_type": "code",
   "execution_count": null,
   "id": "b2bf975b",
   "metadata": {},
   "outputs": [],
   "source": []
  }
 ],
 "metadata": {
  "kernelspec": {
   "display_name": "Python 3 (ipykernel)",
   "language": "python",
   "name": "python3"
  },
  "language_info": {
   "codemirror_mode": {
    "name": "ipython",
    "version": 3
   },
   "file_extension": ".py",
   "mimetype": "text/x-python",
   "name": "python",
   "nbconvert_exporter": "python",
   "pygments_lexer": "ipython3",
   "version": "3.9.13"
  }
 },
 "nbformat": 4,
 "nbformat_minor": 5
}
