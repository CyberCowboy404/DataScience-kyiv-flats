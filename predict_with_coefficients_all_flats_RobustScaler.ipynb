{
 "cells": [
  {
   "cell_type": "markdown",
   "metadata": {},
   "source": [
    "<b> Data Vocabulary of Features taken to analysis:\n",
    "\n",
    "\"rooms\" - quantity of rooms\n",
    "\n",
    "\"price\" - price in hryvnas\n",
    "\n",
    "\"flat_area\" - area of a flat in square meters\n",
    "\n",
    "\"prestigious\" - code of districts:\n",
    "code_prestigious = {'Печерський': 3,\n",
    "                'Шевченківський': 3,\n",
    "                'Голосіївський': 3,\n",
    "                'Подільський': 2,\n",
    "                'Святошинський': 1,\n",
    "                'Солом\\'янський': 2,\n",
    "                'Оболонський': 2,\n",
    "                'Дніпровський': 1,\n",
    "                'Дарницький': 1,\n",
    "                'Деснянський': 1}\n",
    "\n",
    "code of flat types:\n",
    "\"code_type\" = {'Дизайнерський ремонт': 5,\n",
    "                'Євроремонт': 4,\n",
    "                'Чудовий стан': 4,\n",
    "                'Хороший стан': 3,\n",
    "                'Задовільний стан': 1,\n",
    "                'Перша здача': 2,\n",
    "                'Потрібен капітальний ремонт': 1,\n",
    "                'Незавершений ремонт': 1,\n",
    "                'Потрібен косметичний ремонт': 1,\n",
    "                'Від будівельників вільне планування': 1,\n",
    "                 'Незавершений ремонт': 1}\n",
    "\n",
    "codes of distances to metro: 1 - closer than 2 km, 2 - from 2 to 5 km, 3 - more than 5 km"
   ]
  },
  {
   "cell_type": "markdown",
   "metadata": {},
   "source": [
    "<b>Results: \n",
    "    \n",
    "Robust Scaling did not influence the results \n",
    "\n"
   ]
  },
  {
   "cell_type": "code",
   "execution_count": 106,
   "metadata": {},
   "outputs": [
    {
     "name": "stdout",
     "output_type": "stream",
     "text": [
      "6020\n",
      "Train score: 0.5790962964878814\n",
      "Test score: 0.5435417979998884\n",
      "Mean Squared Error (MSE) for mse_y_train_y_pred: 420578325.65022373\n",
      "Root Mean Squared Error (RMSE) for mse_y_train_y_pred: 20508.00637922233\n",
      "Mean Squared Error (MSE) for mse_y_test_y_pred: 420578325.65022373\n",
      "Root Mean Squared Error (RMSE) for mse_y_test_y_pred: 20508.00637922233\n",
      "Model cofficients: [ 22165.93244852 -13905.25911664  -1114.00590556   3135.13339275\n",
      "  11972.13713674]\n"
     ]
    }
   ],
   "source": [
    "import pandas as pd\n",
    "from sklearn.linear_model import LinearRegression\n",
    "from sklearn.model_selection import train_test_split\n",
    "from sklearn.preprocessing import LabelEncoder\n",
    "from sklearn.metrics import mean_squared_error\n",
    "import numpy as np\n",
    "from sklearn.preprocessing import RobustScaler\n",
    "\n",
    "df = pd.read_csv('all_flats_metro.csv')\n",
    "\n",
    "# df = df[df['rooms'] <= 3]\n",
    "# df = df[df['price'] <= 200000]\n",
    "\n",
    "print(len(df))\n",
    "\n",
    "#Linear regression\n",
    "\n",
    "df['flat_area'] = df['flat_area'].astype(int)\n",
    "df['price'] = df['price'].astype(int)\n",
    "df['rooms'] = df['rooms'].astype(int)\n",
    "\n",
    "# print(df.head(5))\n",
    "\n",
    "label_encoder = LabelEncoder()\n",
    "df['region_name_encoded'] = label_encoder.fit_transform(df['district'])\n",
    "\n",
    "X = df[['flat_area', 'rooms', 'distance_category', 'code type', 'prestigious']]\n",
    "y = df['price']\n",
    "\n",
    "# Scale the features using RobustScaler\n",
    "rbscaler = RobustScaler()\n",
    "X_rbscaled = rbscaler.fit_transform(X)\n",
    "\n",
    "X_train, X_test, y_train, y_test = train_test_split(X_rbscaled, y, test_size=0.25, random_state=1)\n",
    "\n",
    "model = LinearRegression()\n",
    "model.fit(X_train, y_train)\n",
    "\n",
    "y_pred_train=model.predict(X_train)\n",
    "mse_y_train_y_pred=mean_squared_error(y_train, y_pred_train)\n",
    "rmse_y_train_y_pred=np.sqrt(mean_squared_error(y_train, y_pred_train))\n",
    "\n",
    "y_pred_test = model.predict(X_test)\n",
    "mse_y_test_y_pred = mean_squared_error(y_test, y_pred_test)\n",
    "rmse_y_test_y_pred=np.sqrt(mean_squared_error(y_test, y_pred_test))\n",
    "\n",
    "score_train = model.score(X_train, y_train)\n",
    "score_test = model.score(X_test, y_test)\n",
    "\n",
    "print('Train score:', score_train)\n",
    "print('Test score:', score_test)\n",
    "\n",
    "print('Mean Squared Error (MSE) for mse_y_train_y_pred:', mse_y_train_y_pred)\n",
    "print('Root Mean Squared Error (RMSE) for mse_y_train_y_pred:', rmse_y_train_y_pred)\n",
    "print('Mean Squared Error (MSE) for mse_y_test_y_pred:', mse_y_train_y_pred)\n",
    "print('Root Mean Squared Error (RMSE) for mse_y_test_y_pred:', rmse_y_train_y_pred)\n",
    "\n",
    "print('Model cofficients:', model.coef_)"
   ]
  },
  {
   "cell_type": "code",
   "execution_count": 107,
   "metadata": {},
   "outputs": [
    {
     "data": {
      "text/html": [
       "<div>\n",
       "<style scoped>\n",
       "    .dataframe tbody tr th:only-of-type {\n",
       "        vertical-align: middle;\n",
       "    }\n",
       "\n",
       "    .dataframe tbody tr th {\n",
       "        vertical-align: top;\n",
       "    }\n",
       "\n",
       "    .dataframe thead th {\n",
       "        text-align: right;\n",
       "    }\n",
       "</style>\n",
       "<table border=\"1\" class=\"dataframe\">\n",
       "  <thead>\n",
       "    <tr style=\"text-align: right;\">\n",
       "      <th></th>\n",
       "      <th>Model coefficients</th>\n",
       "    </tr>\n",
       "  </thead>\n",
       "  <tbody>\n",
       "    <tr>\n",
       "      <th>flat_area</th>\n",
       "      <td>22165.932449</td>\n",
       "    </tr>\n",
       "    <tr>\n",
       "      <th>rooms</th>\n",
       "      <td>-13905.259117</td>\n",
       "    </tr>\n",
       "    <tr>\n",
       "      <th>distance_category</th>\n",
       "      <td>-1114.005906</td>\n",
       "    </tr>\n",
       "    <tr>\n",
       "      <th>code type</th>\n",
       "      <td>3135.133393</td>\n",
       "    </tr>\n",
       "    <tr>\n",
       "      <th>prestigious</th>\n",
       "      <td>11972.137137</td>\n",
       "    </tr>\n",
       "  </tbody>\n",
       "</table>\n",
       "</div>"
      ],
      "text/plain": [
       "                   Model coefficients\n",
       "flat_area                22165.932449\n",
       "rooms                   -13905.259117\n",
       "distance_category        -1114.005906\n",
       "code type                 3135.133393\n",
       "prestigious              11972.137137"
      ]
     },
     "execution_count": 107,
     "metadata": {},
     "output_type": "execute_result"
    }
   ],
   "source": [
    "# Оцінка кoефіцієнтів\n",
    "df_coef = pd.DataFrame(model.coef_, X.columns, columns=['Model coefficients'])\n",
    "df_coef"
   ]
  },
  {
   "cell_type": "code",
   "execution_count": 108,
   "metadata": {},
   "outputs": [
    {
     "name": "stdout",
     "output_type": "stream",
     "text": [
      "Price for 40 sqmeters, 1 room, close to metro, Хороший стан of flat, prestigious district: [11111.82443188] hryvnas\n"
     ]
    },
    {
     "name": "stderr",
     "output_type": "stream",
     "text": [
      "C:\\Users\\liman\\anaconda3\\lib\\site-packages\\sklearn\\base.py:450: UserWarning: X does not have valid feature names, but RobustScaler was fitted with feature names\n",
      "  warnings.warn(\n"
     ]
    }
   ],
   "source": [
    "#Prediction\n",
    "price_pred = model.predict(rbscaler.transform([[40, 1, 1, 4, 3]])) # 40 sqmeters, 1 room, close to metro, good state of flat, prestigious district\n",
    "print(\"Price for 40 sqmeters, 1 room, close to metro, Хороший стан of flat, prestigious district:\", price_pred, \"hryvnas\")"
   ]
  },
  {
   "cell_type": "code",
   "execution_count": 109,
   "metadata": {},
   "outputs": [
    {
     "name": "stdout",
     "output_type": "stream",
     "text": [
      "Price for 60 sqmeters, 2 rooms, close to metro, Євроремонт state of flat, prestigious district: [13719.2362224] hryvnas\n"
     ]
    },
    {
     "name": "stderr",
     "output_type": "stream",
     "text": [
      "C:\\Users\\liman\\anaconda3\\lib\\site-packages\\sklearn\\base.py:450: UserWarning: X does not have valid feature names, but RobustScaler was fitted with feature names\n",
      "  warnings.warn(\n"
     ]
    }
   ],
   "source": [
    "#Prediction\n",
    "price_pred = model.predict(rbscaler.transform([[60, 2, 1, 5, 3]])) # 40 sqmeters, 1 room, close to metro, good state of flat, prestigious district\n",
    "print(\"Price for 60 sqmeters, 2 rooms, close to metro, Євроремонт state of flat, prestigious district:\", price_pred, \"hryvnas\")"
   ]
  },
  {
   "cell_type": "code",
   "execution_count": 110,
   "metadata": {},
   "outputs": [
    {
     "name": "stdout",
     "output_type": "stream",
     "text": [
      "Price for 40 sqmeters, 1 room, close to metro, Хороший стан of flat, not prestigious district: [-860.31270486] hryvnas\n"
     ]
    },
    {
     "name": "stderr",
     "output_type": "stream",
     "text": [
      "C:\\Users\\liman\\anaconda3\\lib\\site-packages\\sklearn\\base.py:450: UserWarning: X does not have valid feature names, but RobustScaler was fitted with feature names\n",
      "  warnings.warn(\n"
     ]
    }
   ],
   "source": [
    "#Prediction\n",
    "price_pred = model.predict(rbscaler.transform([[40, 1, 1, 4, 1]])) # 40 sqmeters, 1 room, close to metro, good state of flat, prestigious district\n",
    "print(\"Price for 40 sqmeters, 1 room, close to metro, Хороший стан of flat, not prestigious district:\", price_pred, \"hryvnas\")"
   ]
  },
  {
   "cell_type": "code",
   "execution_count": 111,
   "metadata": {},
   "outputs": [
    {
     "name": "stdout",
     "output_type": "stream",
     "text": [
      "Price for 160 sqmeters, 4 rooms, distant from metro, Дизайнерський ремонт of flat, prestigious district: [29710.5050751] hryvnas\n"
     ]
    },
    {
     "name": "stderr",
     "output_type": "stream",
     "text": [
      "C:\\Users\\liman\\anaconda3\\lib\\site-packages\\sklearn\\base.py:450: UserWarning: X does not have valid feature names, but RobustScaler was fitted with feature names\n",
      "  warnings.warn(\n"
     ]
    }
   ],
   "source": [
    "#Prediction\n",
    "price_pred = model.predict(rbscaler.transform([[160, 4, 3, 5, 3]])) # 40 sqmeters, 1 room, close to metro, good state of flat, prestigious district\n",
    "print(\"Price for 160 sqmeters, 4 rooms, distant from metro, Дизайнерський ремонт of flat, prestigious district:\", price_pred, \"hryvnas\")"
   ]
  },
  {
   "cell_type": "code",
   "execution_count": 112,
   "metadata": {},
   "outputs": [
    {
     "name": "stdout",
     "output_type": "stream",
     "text": [
      "Price for 40 sqmeters, 1 room, close to metro, Потрібен капітальний ремонт,prestigious district 1: [-10265.71288311] hryvnas\n"
     ]
    },
    {
     "name": "stderr",
     "output_type": "stream",
     "text": [
      "C:\\Users\\liman\\anaconda3\\lib\\site-packages\\sklearn\\base.py:450: UserWarning: X does not have valid feature names, but RobustScaler was fitted with feature names\n",
      "  warnings.warn(\n"
     ]
    }
   ],
   "source": [
    "#Prediction\n",
    "price_pred = model.predict(rbscaler.transform([[40, 1, 1, 1, 1]])) # 40 sqmeters, 1 room, close to metro, good state of flat, prestigious district\n",
    "print(\"Price for 40 sqmeters, 1 room, close to metro, Потрібен капітальний ремонт,prestigious district 1:\", price_pred, \"hryvnas\")"
   ]
  },
  {
   "cell_type": "code",
   "execution_count": 113,
   "metadata": {},
   "outputs": [
    {
     "data": {
      "text/plain": [
       "Lasso(alpha=1)"
      ]
     },
     "execution_count": 113,
     "metadata": {},
     "output_type": "execute_result"
    }
   ],
   "source": [
    "#Lasso of the model\n",
    "\n",
    "from sklearn.linear_model import Lasso\n",
    "\n",
    "lasso_model = Lasso(alpha=1)\n",
    "\n",
    "lasso_model.fit(X_train, y_train)\n"
   ]
  },
  {
   "cell_type": "code",
   "execution_count": 114,
   "metadata": {},
   "outputs": [
    {
     "name": "stdout",
     "output_type": "stream",
     "text": [
      "Train score for lasso_model: 0.5790962658614771\n",
      "Test score for lasso_model: 0.5435554880682734\n",
      "Mean Squared Error (MSE) for lasso_mse_y_train_y_pred: 420578356.2529525\n",
      "Root Mean Squared Error (RMSE) for lasso_mse_y_train_y_pred: 20508.007125338936\n",
      "Mean Squared Error (MSE) for lasso_mse_y_test_y_pred: 420578356.2529525\n",
      "Root Mean Squared Error (RMSE) for lasso_mse_y_test_y_pred: 20508.007125338936\n",
      "Model cofficients: [ 22160.3256866  -13888.57254149  -1110.98871816   3135.3699397\n",
      "  11966.72165519]\n"
     ]
    }
   ],
   "source": [
    "y_pred_train=lasso_model.predict(X_train)\n",
    "lasso_mse_y_train_y_pred=mean_squared_error(y_train, y_pred_train)\n",
    "lasso_rmse_y_train_y_pred=np.sqrt(mean_squared_error(y_train, y_pred_train))\n",
    "\n",
    "lasso_y_pred_test = lasso_model.predict(X_test)\n",
    "lasso_mse_y_test_y_pred = mean_squared_error(y_test, y_pred_test)\n",
    "lasso_rmse_y_test_y_pred=np.sqrt(mean_squared_error(y_test, y_pred_test))\n",
    "\n",
    "lasso_score_train = lasso_model.score(X_train, y_train)\n",
    "lasso_score_test = lasso_model.score(X_test, y_test)\n",
    "\n",
    "print('Train score for lasso_model:', lasso_score_train)\n",
    "print('Test score for lasso_model:', lasso_score_test)\n",
    "\n",
    "print('Mean Squared Error (MSE) for lasso_mse_y_train_y_pred:', lasso_mse_y_train_y_pred)\n",
    "print('Root Mean Squared Error (RMSE) for lasso_mse_y_train_y_pred:', lasso_rmse_y_train_y_pred)\n",
    "print('Mean Squared Error (MSE) for lasso_mse_y_test_y_pred:', lasso_mse_y_train_y_pred)\n",
    "print('Root Mean Squared Error (RMSE) for lasso_mse_y_test_y_pred:', lasso_rmse_y_train_y_pred)\n",
    "\n",
    "print('Model cofficients:', lasso_model.coef_)"
   ]
  },
  {
   "cell_type": "code",
   "execution_count": 115,
   "metadata": {},
   "outputs": [
    {
     "data": {
      "text/html": [
       "<div>\n",
       "<style scoped>\n",
       "    .dataframe tbody tr th:only-of-type {\n",
       "        vertical-align: middle;\n",
       "    }\n",
       "\n",
       "    .dataframe tbody tr th {\n",
       "        vertical-align: top;\n",
       "    }\n",
       "\n",
       "    .dataframe thead th {\n",
       "        text-align: right;\n",
       "    }\n",
       "</style>\n",
       "<table border=\"1\" class=\"dataframe\">\n",
       "  <thead>\n",
       "    <tr style=\"text-align: right;\">\n",
       "      <th></th>\n",
       "      <th>Model coefficients</th>\n",
       "    </tr>\n",
       "  </thead>\n",
       "  <tbody>\n",
       "    <tr>\n",
       "      <th>flat_area</th>\n",
       "      <td>22160.325687</td>\n",
       "    </tr>\n",
       "    <tr>\n",
       "      <th>rooms</th>\n",
       "      <td>-13888.572541</td>\n",
       "    </tr>\n",
       "    <tr>\n",
       "      <th>distance_category</th>\n",
       "      <td>-1110.988718</td>\n",
       "    </tr>\n",
       "    <tr>\n",
       "      <th>code type</th>\n",
       "      <td>3135.369940</td>\n",
       "    </tr>\n",
       "    <tr>\n",
       "      <th>prestigious</th>\n",
       "      <td>11966.721655</td>\n",
       "    </tr>\n",
       "  </tbody>\n",
       "</table>\n",
       "</div>"
      ],
      "text/plain": [
       "                   Model coefficients\n",
       "flat_area                22160.325687\n",
       "rooms                   -13888.572541\n",
       "distance_category        -1110.988718\n",
       "code type                 3135.369940\n",
       "prestigious              11966.721655"
      ]
     },
     "execution_count": 115,
     "metadata": {},
     "output_type": "execute_result"
    }
   ],
   "source": [
    "# Оцінка кoефіцієнтів\n",
    "lasso_df_coef = pd.DataFrame(lasso_model.coef_, X.columns, columns=['Model coefficients'])\n",
    "lasso_df_coef"
   ]
  },
  {
   "cell_type": "code",
   "execution_count": 116,
   "metadata": {},
   "outputs": [
    {
     "name": "stdout",
     "output_type": "stream",
     "text": [
      "Price for 40 sqmeters, 1 room, close to metro, Хороший стан of flat, prestigious district: [11106.59128469] hryvnas\n"
     ]
    },
    {
     "name": "stderr",
     "output_type": "stream",
     "text": [
      "C:\\Users\\liman\\anaconda3\\lib\\site-packages\\sklearn\\base.py:450: UserWarning: X does not have valid feature names, but RobustScaler was fitted with feature names\n",
      "  warnings.warn(\n"
     ]
    }
   ],
   "source": [
    "#Prediction\n",
    "price_pred = lasso_model.predict(rbscaler.transform([[40, 1, 1, 4, 3]])) # 40 sqmeters, 1 room, close to metro, good state of flat, prestigious district\n",
    "print(\"Price for 40 sqmeters, 1 room, close to metro, Хороший стан of flat, prestigious district:\", price_pred, \"hryvnas\")"
   ]
  },
  {
   "cell_type": "code",
   "execution_count": 117,
   "metadata": {},
   "outputs": [
    {
     "name": "stdout",
     "output_type": "stream",
     "text": [
      "Price for 40 sqmeters, 1 room, close to metro, Хороший стан of flat, not prestigious district: [-860.1303705] hryvnas\n"
     ]
    },
    {
     "name": "stderr",
     "output_type": "stream",
     "text": [
      "C:\\Users\\liman\\anaconda3\\lib\\site-packages\\sklearn\\base.py:450: UserWarning: X does not have valid feature names, but RobustScaler was fitted with feature names\n",
      "  warnings.warn(\n"
     ]
    }
   ],
   "source": [
    "#Prediction\n",
    "price_pred = lasso_model.predict(rbscaler.transform([[40, 1, 1, 4, 1]])) # 40 sqmeters, 1 room, close to metro, good state of flat, prestigious district\n",
    "print(\"Price for 40 sqmeters, 1 room, close to metro, Хороший стан of flat, not prestigious district:\", price_pred, \"hryvnas\")"
   ]
  },
  {
   "cell_type": "code",
   "execution_count": 118,
   "metadata": {},
   "outputs": [
    {
     "name": "stdout",
     "output_type": "stream",
     "text": [
      "Price for 40 sqmeters, 1 room, close to metro, Потрібен капітальний ремонт,prestigious district 1: [-10265.71288311] hryvnas\n"
     ]
    },
    {
     "name": "stderr",
     "output_type": "stream",
     "text": [
      "C:\\Users\\liman\\anaconda3\\lib\\site-packages\\sklearn\\base.py:450: UserWarning: X does not have valid feature names, but RobustScaler was fitted with feature names\n",
      "  warnings.warn(\n"
     ]
    }
   ],
   "source": [
    "#Prediction\n",
    "price_pred = model.predict(rbscaler.transform([[40, 1, 1, 1, 1]])) # 40 sqmeters, 1 room, close to metro, good state of flat, prestigious district\n",
    "print(\"Price for 40 sqmeters, 1 room, close to metro, Потрібен капітальний ремонт,prestigious district 1:\", price_pred, \"hryvnas\")"
   ]
  },
  {
   "cell_type": "code",
   "execution_count": 119,
   "metadata": {},
   "outputs": [
    {
     "data": {
      "text/plain": [
       "Ridge(alpha=1)"
      ]
     },
     "execution_count": 119,
     "metadata": {},
     "output_type": "execute_result"
    }
   ],
   "source": [
    "from sklearn.linear_model import Ridge\n",
    "\n",
    "ridge_model = Ridge(alpha=1)\n",
    "\n",
    "ridge_model.fit(X_train, y_train)\n"
   ]
  },
  {
   "cell_type": "code",
   "execution_count": 120,
   "metadata": {},
   "outputs": [
    {
     "name": "stdout",
     "output_type": "stream",
     "text": [
      "Train score for ridge_model: 0.5790959606214958\n",
      "Test score for ridge_model: 0.5435870227984104\n",
      "Mean Squared Error (MSE) for ridge_mse_y_train_y_pred: 420578661.25696933\n",
      "Root Mean Squared Error (RMSE) for ridge_mse_y_train_y_pred: 20508.014561555425\n",
      "Mean Squared Error (MSE) for ridge_mse_y_test_y_pred: 420578661.25696933\n",
      "Root Mean Squared Error (RMSE) for ridge_mse_y_test_y_pred: 20508.014561555425\n",
      "Model cofficients: [ 22143.5274979  -13846.75913089  -1116.9793743    3138.59833989\n",
      "  11953.45626482]\n"
     ]
    }
   ],
   "source": [
    "y_pred_train=ridge_model.predict(X_train)\n",
    "ridge_mse_y_train_y_pred=mean_squared_error(y_train, y_pred_train)\n",
    "ridge_rmse_y_train_y_pred=np.sqrt(mean_squared_error(y_train, y_pred_train))\n",
    "\n",
    "ridge_y_pred_test = ridge_model.predict(X_test)\n",
    "ridge_mse_y_test_y_pred = mean_squared_error(y_test, y_pred_test)\n",
    "ridge_rmse_y_test_y_pred=np.sqrt(mean_squared_error(y_test, y_pred_test))\n",
    "\n",
    "ridge_score_train = ridge_model.score(X_train, y_train)\n",
    "ridge_score_test = ridge_model.score(X_test, y_test)\n",
    "\n",
    "print('Train score for ridge_model:', ridge_score_train)\n",
    "print('Test score for ridge_model:', ridge_score_test)\n",
    "\n",
    "print('Mean Squared Error (MSE) for ridge_mse_y_train_y_pred:', ridge_mse_y_train_y_pred)\n",
    "print('Root Mean Squared Error (RMSE) for ridge_mse_y_train_y_pred:', ridge_rmse_y_train_y_pred)\n",
    "print('Mean Squared Error (MSE) for ridge_mse_y_test_y_pred:', ridge_mse_y_train_y_pred)\n",
    "print('Root Mean Squared Error (RMSE) for ridge_mse_y_test_y_pred:', ridge_rmse_y_train_y_pred)\n",
    "\n",
    "print('Model cofficients:', ridge_model.coef_)"
   ]
  },
  {
   "cell_type": "code",
   "execution_count": 121,
   "metadata": {},
   "outputs": [
    {
     "data": {
      "text/html": [
       "<div>\n",
       "<style scoped>\n",
       "    .dataframe tbody tr th:only-of-type {\n",
       "        vertical-align: middle;\n",
       "    }\n",
       "\n",
       "    .dataframe tbody tr th {\n",
       "        vertical-align: top;\n",
       "    }\n",
       "\n",
       "    .dataframe thead th {\n",
       "        text-align: right;\n",
       "    }\n",
       "</style>\n",
       "<table border=\"1\" class=\"dataframe\">\n",
       "  <thead>\n",
       "    <tr style=\"text-align: right;\">\n",
       "      <th></th>\n",
       "      <th>Model coefficients</th>\n",
       "    </tr>\n",
       "  </thead>\n",
       "  <tbody>\n",
       "    <tr>\n",
       "      <th>flat_area</th>\n",
       "      <td>22143.527498</td>\n",
       "    </tr>\n",
       "    <tr>\n",
       "      <th>rooms</th>\n",
       "      <td>-13846.759131</td>\n",
       "    </tr>\n",
       "    <tr>\n",
       "      <th>distance_category</th>\n",
       "      <td>-1116.979374</td>\n",
       "    </tr>\n",
       "    <tr>\n",
       "      <th>code type</th>\n",
       "      <td>3138.598340</td>\n",
       "    </tr>\n",
       "    <tr>\n",
       "      <th>prestigious</th>\n",
       "      <td>11953.456265</td>\n",
       "    </tr>\n",
       "  </tbody>\n",
       "</table>\n",
       "</div>"
      ],
      "text/plain": [
       "                   Model coefficients\n",
       "flat_area                22143.527498\n",
       "rooms                   -13846.759131\n",
       "distance_category        -1116.979374\n",
       "code type                 3138.598340\n",
       "prestigious              11953.456265"
      ]
     },
     "execution_count": 121,
     "metadata": {},
     "output_type": "execute_result"
    }
   ],
   "source": [
    "# Оцінка кoефіцієнтів\n",
    "ridge_df_coef = pd.DataFrame(ridge_model.coef_, X.columns, columns=['Model coefficients'])\n",
    "ridge_df_coef"
   ]
  },
  {
   "cell_type": "code",
   "execution_count": 122,
   "metadata": {},
   "outputs": [
    {
     "name": "stdout",
     "output_type": "stream",
     "text": [
      "Price for 40 sqmeters, 1 room, close to metro, Хороший стан of flat, prestigious district: [11100.85681017] hryvnas\n"
     ]
    },
    {
     "name": "stderr",
     "output_type": "stream",
     "text": [
      "C:\\Users\\liman\\anaconda3\\lib\\site-packages\\sklearn\\base.py:450: UserWarning: X does not have valid feature names, but RobustScaler was fitted with feature names\n",
      "  warnings.warn(\n"
     ]
    }
   ],
   "source": [
    "#Prediction\n",
    "price_pred = ridge_model.predict(rbscaler.transform([[40, 1, 1, 4, 3]])) # 40 sqmeters, 1 room, close to metro, good state of flat, prestigious district\n",
    "print(\"Price for 40 sqmeters, 1 room, close to metro, Хороший стан of flat, prestigious district:\", price_pred, \"hryvnas\")"
   ]
  },
  {
   "cell_type": "code",
   "execution_count": 123,
   "metadata": {},
   "outputs": [
    {
     "name": "stdout",
     "output_type": "stream",
     "text": [
      "Price for 40 sqmeters, 1 room, close to metro, Потрібен капітальний ремонт,prestigious district 1: [-10268.39447434] hryvnas\n"
     ]
    },
    {
     "name": "stderr",
     "output_type": "stream",
     "text": [
      "C:\\Users\\liman\\anaconda3\\lib\\site-packages\\sklearn\\base.py:450: UserWarning: X does not have valid feature names, but RobustScaler was fitted with feature names\n",
      "  warnings.warn(\n"
     ]
    }
   ],
   "source": [
    "#Prediction\n",
    "price_pred = ridge_model.predict(rbscaler.transform([[40, 1, 1, 1, 1]])) # 40 sqmeters, 1 room, close to metro, good state of flat, prestigious district\n",
    "print(\"Price for 40 sqmeters, 1 room, close to metro, Потрібен капітальний ремонт,prestigious district 1:\", price_pred, \"hryvnas\")"
   ]
  },
  {
   "cell_type": "code",
   "execution_count": 124,
   "metadata": {},
   "outputs": [
    {
     "data": {
      "text/plain": [
       "DecisionTreeRegressor(max_depth=4)"
      ]
     },
     "execution_count": 124,
     "metadata": {},
     "output_type": "execute_result"
    }
   ],
   "source": [
    "from sklearn.tree import DecisionTreeRegressor\n",
    "from sklearn.model_selection import cross_val_score\n",
    "# I added max_depth param = 4\n",
    "regressor = DecisionTreeRegressor(max_depth=4)\n",
    "\n",
    "regressor.fit(X_train, y_train)\n"
   ]
  },
  {
   "cell_type": "code",
   "execution_count": 125,
   "metadata": {},
   "outputs": [
    {
     "name": "stdout",
     "output_type": "stream",
     "text": [
      "Training R2 Score for X_train, y_train: 0.6912331339051985\n",
      "Test R2 Score for X_test, y_test: 0.4860315272658472\n",
      "Mean Squared Error (MSE) for regressor_mse_y_train_y_pred: 420578661.25696933\n",
      "Root Mean Squared Error (RMSE) for regressor_mse_y_train_y_pred: 20508.014561555425\n",
      "Mean Squared Error (MSE) for regressor_mse_y_test_y_pred: 420578661.25696933\n",
      "Root Mean Squared Error (RMSE) for regressor_mse_y_test_y_pred: 20508.014561555425\n",
      "Model feature importances: [0.82105149 0.06821247 0.         0.08883566 0.02190038]\n",
      "Cross-validated R2 scores: [0.56816268 0.71914981 0.22455965 0.66600079 0.51978856]\n",
      "Mean R2 score: 0.5395322985414459\n"
     ]
    }
   ],
   "source": [
    "regressor_y_pred_train=regressor.predict(X_train)\n",
    "regressor_mse_y_train_y_pred=mean_squared_error(y_train, y_pred_train)\n",
    "regressor_rmse_y_train_y_pred=np.sqrt(mean_squared_error(y_train, y_pred_train))\n",
    "\n",
    "regressor_y_pred_test = regressor.predict(X_test)\n",
    "regressor_mse_y_test_y_pred = mean_squared_error(y_test, y_pred_test)\n",
    "regressor_rmse_y_test_y_pred=np.sqrt(mean_squared_error(y_test, y_pred_test))\n",
    "\n",
    "train_score = regressor.score(X_train, y_train)\n",
    "print(\"Training R2 Score for X_train, y_train:\", train_score)\n",
    "\n",
    "test_score = regressor.score(X_test, y_test)\n",
    "print(\"Test R2 Score for X_test, y_test:\", test_score)\n",
    "\n",
    "print('Mean Squared Error (MSE) for regressor_mse_y_train_y_pred:', regressor_mse_y_train_y_pred)\n",
    "print('Root Mean Squared Error (RMSE) for regressor_mse_y_train_y_pred:', regressor_rmse_y_train_y_pred)\n",
    "print('Mean Squared Error (MSE) for regressor_mse_y_test_y_pred:', regressor_mse_y_train_y_pred)\n",
    "print('Root Mean Squared Error (RMSE) for regressor_mse_y_test_y_pred:', regressor_rmse_y_train_y_pred)\n",
    "\n",
    "print('Model feature importances:', regressor.feature_importances_) \n",
    "\n",
    "# Perform 5-fold cross-validation on the training data\n",
    "scores = cross_val_score(regressor, X_train, y_train, cv=5, scoring='r2')\n",
    "\n",
    "print(\"Cross-validated R2 scores:\", scores)\n",
    "print(\"Mean R2 score:\", scores.mean())"
   ]
  },
  {
   "cell_type": "code",
   "execution_count": 126,
   "metadata": {},
   "outputs": [
    {
     "data": {
      "text/html": [
       "<div>\n",
       "<style scoped>\n",
       "    .dataframe tbody tr th:only-of-type {\n",
       "        vertical-align: middle;\n",
       "    }\n",
       "\n",
       "    .dataframe tbody tr th {\n",
       "        vertical-align: top;\n",
       "    }\n",
       "\n",
       "    .dataframe thead th {\n",
       "        text-align: right;\n",
       "    }\n",
       "</style>\n",
       "<table border=\"1\" class=\"dataframe\">\n",
       "  <thead>\n",
       "    <tr style=\"text-align: right;\">\n",
       "      <th></th>\n",
       "      <th>Feature Importances</th>\n",
       "    </tr>\n",
       "  </thead>\n",
       "  <tbody>\n",
       "    <tr>\n",
       "      <th>flat_area</th>\n",
       "      <td>0.821051</td>\n",
       "    </tr>\n",
       "    <tr>\n",
       "      <th>rooms</th>\n",
       "      <td>0.068212</td>\n",
       "    </tr>\n",
       "    <tr>\n",
       "      <th>distance_category</th>\n",
       "      <td>0.000000</td>\n",
       "    </tr>\n",
       "    <tr>\n",
       "      <th>code type</th>\n",
       "      <td>0.088836</td>\n",
       "    </tr>\n",
       "    <tr>\n",
       "      <th>prestigious</th>\n",
       "      <td>0.021900</td>\n",
       "    </tr>\n",
       "  </tbody>\n",
       "</table>\n",
       "</div>"
      ],
      "text/plain": [
       "                   Feature Importances\n",
       "flat_area                     0.821051\n",
       "rooms                         0.068212\n",
       "distance_category             0.000000\n",
       "code type                     0.088836\n",
       "prestigious                   0.021900"
      ]
     },
     "execution_count": 126,
     "metadata": {},
     "output_type": "execute_result"
    }
   ],
   "source": [
    "# Оцінка кoефіцієнтів\n",
    "regr_df_imp = pd.DataFrame(regressor.feature_importances_, X.columns, columns=['Feature Importances'])\n",
    "regr_df_imp"
   ]
  },
  {
   "cell_type": "code",
   "execution_count": 127,
   "metadata": {},
   "outputs": [
    {
     "name": "stdout",
     "output_type": "stream",
     "text": [
      "Price for 40 sqmeters, 1 room, close to metro, Хороший стан of flat, prestigious district: [18518.34683099] hryvnas\n"
     ]
    },
    {
     "name": "stderr",
     "output_type": "stream",
     "text": [
      "C:\\Users\\liman\\anaconda3\\lib\\site-packages\\sklearn\\base.py:450: UserWarning: X does not have valid feature names, but RobustScaler was fitted with feature names\n",
      "  warnings.warn(\n"
     ]
    }
   ],
   "source": [
    "#Prediction\n",
    "price_pred = regressor.predict(rbscaler.transform([[40, 1, 1, 4, 3]])) # 40 sqmeters, 1 room, close to metro, good state of flat, prestigious district\n",
    "print(\"Price for 40 sqmeters, 1 room, close to metro, Хороший стан of flat, prestigious district:\", price_pred, \"hryvnas\")"
   ]
  },
  {
   "cell_type": "code",
   "execution_count": 128,
   "metadata": {},
   "outputs": [
    {
     "name": "stdout",
     "output_type": "stream",
     "text": [
      "Price for 60 sqmeters, 2 rooms, close to metro, Євроремонт state of flat, prestigious district: [20628.78661088] hryvnas\n"
     ]
    },
    {
     "name": "stderr",
     "output_type": "stream",
     "text": [
      "C:\\Users\\liman\\anaconda3\\lib\\site-packages\\sklearn\\base.py:450: UserWarning: X does not have valid feature names, but RobustScaler was fitted with feature names\n",
      "  warnings.warn(\n"
     ]
    }
   ],
   "source": [
    "#Prediction\n",
    "price_pred = regressor.predict(rbscaler.transform([[60, 2, 1, 5, 3]])) # 40 sqmeters, 1 room, close to metro, good state of flat, prestigious district\n",
    "print(\"Price for 60 sqmeters, 2 rooms, close to metro, Євроремонт state of flat, prestigious district:\", price_pred, \"hryvnas\")"
   ]
  },
  {
   "cell_type": "code",
   "execution_count": 129,
   "metadata": {},
   "outputs": [
    {
     "name": "stdout",
     "output_type": "stream",
     "text": [
      "Price for 40 sqmeters, 1 room, close to metro, Хороший стан of flat, not prestigious district: [11242.09689737] hryvnas\n"
     ]
    },
    {
     "name": "stderr",
     "output_type": "stream",
     "text": [
      "C:\\Users\\liman\\anaconda3\\lib\\site-packages\\sklearn\\base.py:450: UserWarning: X does not have valid feature names, but RobustScaler was fitted with feature names\n",
      "  warnings.warn(\n"
     ]
    }
   ],
   "source": [
    "#Prediction\n",
    "price_pred = regressor.predict(rbscaler.transform([[40, 1, 1, 4, 1]])) # 40 sqmeters, 1 room, close to metro, good state of flat, prestigious district\n",
    "print(\"Price for 40 sqmeters, 1 room, close to metro, Хороший стан of flat, not prestigious district:\", price_pred, \"hryvnas\")"
   ]
  },
  {
   "cell_type": "code",
   "execution_count": 130,
   "metadata": {},
   "outputs": [
    {
     "name": "stdout",
     "output_type": "stream",
     "text": [
      "Price for 160 sqmeters, 4 rooms, distant from metro, Дизайнерський ремонт of flat, prestigious district: [40585.66666667] hryvnas\n"
     ]
    },
    {
     "name": "stderr",
     "output_type": "stream",
     "text": [
      "C:\\Users\\liman\\anaconda3\\lib\\site-packages\\sklearn\\base.py:450: UserWarning: X does not have valid feature names, but RobustScaler was fitted with feature names\n",
      "  warnings.warn(\n"
     ]
    }
   ],
   "source": [
    "#Prediction\n",
    "price_pred = regressor.predict(rbscaler.transform([[160, 4, 3, 5, 3]])) # 40 sqmeters, 1 room, close to metro, good state of flat, prestigious district\n",
    "print(\"Price for 160 sqmeters, 4 rooms, distant from metro, Дизайнерський ремонт of flat, prestigious district:\", price_pred, \"hryvnas\")"
   ]
  },
  {
   "cell_type": "code",
   "execution_count": 131,
   "metadata": {},
   "outputs": [
    {
     "name": "stdout",
     "output_type": "stream",
     "text": [
      "Price for 40 sqmeters, 1 room, close to metro, Потрібен капітальний ремонт,prestigious district 1: [11242.09689737] hryvnas\n"
     ]
    },
    {
     "name": "stderr",
     "output_type": "stream",
     "text": [
      "C:\\Users\\liman\\anaconda3\\lib\\site-packages\\sklearn\\base.py:450: UserWarning: X does not have valid feature names, but RobustScaler was fitted with feature names\n",
      "  warnings.warn(\n"
     ]
    }
   ],
   "source": [
    "#Prediction\n",
    "price_pred = regressor.predict(rbscaler.transform([[40, 1, 1, 1, 1]])) # 40 sqmeters, 1 room, close to metro, good state of flat, prestigious district\n",
    "print(\"Price for 40 sqmeters, 1 room, close to metro, Потрібен капітальний ремонт,prestigious district 1:\", price_pred, \"hryvnas\")"
   ]
  },
  {
   "cell_type": "code",
   "execution_count": null,
   "metadata": {},
   "outputs": [],
   "source": []
  },
  {
   "cell_type": "code",
   "execution_count": 132,
   "metadata": {},
   "outputs": [
    {
     "data": {
      "text/plain": [
       "RandomForestRegressor(max_depth=12, min_samples_leaf=2, min_samples_split=3,\n",
       "                      n_estimators=150)"
      ]
     },
     "execution_count": 132,
     "metadata": {},
     "output_type": "execute_result"
    }
   ],
   "source": [
    "from sklearn.ensemble import RandomForestRegressor\n",
    "from sklearn.model_selection import cross_val_score\n",
    "from sklearn.metrics import r2_score\n",
    "\n",
    "regressor_forest = RandomForestRegressor(n_estimators=150, max_depth=12, min_samples_split=3, min_samples_leaf=2)\n",
    "\n",
    "regressor_forest.fit(X_train, y_train)\n"
   ]
  },
  {
   "cell_type": "code",
   "execution_count": 133,
   "metadata": {},
   "outputs": [
    {
     "name": "stdout",
     "output_type": "stream",
     "text": [
      "Training R2 Score for X_train, y_train: 0.8243683736832264\n",
      "Test R2 Score for X_test, y_test: 0.584981697753074\n",
      "Mean Squared Error (MSE) for regressor_forest_mse_y_train_y_pred: 420578661.25696933\n",
      "Root Mean Squared Error (RMSE) for regressor_forest_rmse_y_train_y_pred: 20508.014561555425\n",
      "Mean Squared Error (MSE) for regressor_forest_mse_y_test_y_pred: 420578661.25696933\n",
      "Root Mean Squared Error (RMSE) for regressor_forest_rmse_y_test_y_pred: 20508.014561555425\n",
      "Model regressor_forest feature importances: [0.80230203 0.05660633 0.00270114 0.09487709 0.0435134 ]\n",
      "Cross-validated R2 scores: [0.58714447 0.56340491 0.45495815 0.71393252 0.52879803]\n",
      "Mean R2 score: 0.5696476171842823\n"
     ]
    }
   ],
   "source": [
    "regressor_forest_y_pred_train=regressor_forest.predict(X_train)\n",
    "regressor_forest_mse_y_train_y_pred=mean_squared_error(y_train, y_pred_train)\n",
    "regressor_forest_rmse_y_train_y_pred=np.sqrt(mean_squared_error(y_train, y_pred_train))\n",
    "\n",
    "regressor_forest_y_pred_test = regressor_forest.predict(X_test)\n",
    "regressor_forest_mse_y_test_y_pred = mean_squared_error(y_test, y_pred_test)\n",
    "regressor_forest_rmse_y_test_y_pred=np.sqrt(mean_squared_error(y_test, y_pred_test))\n",
    "\n",
    "f_train_score = regressor_forest.score(X_train, y_train)\n",
    "print(\"Training R2 Score for X_train, y_train:\", f_train_score)\n",
    "\n",
    "f_test_score = regressor_forest.score(X_test, y_test)\n",
    "print(\"Test R2 Score for X_test, y_test:\", f_test_score)\n",
    "\n",
    "print('Mean Squared Error (MSE) for regressor_forest_mse_y_train_y_pred:', regressor_forest_mse_y_train_y_pred)\n",
    "print('Root Mean Squared Error (RMSE) for regressor_forest_rmse_y_train_y_pred:', regressor_forest_rmse_y_train_y_pred)\n",
    "print('Mean Squared Error (MSE) for regressor_forest_mse_y_test_y_pred:', regressor_forest_mse_y_train_y_pred)\n",
    "print('Root Mean Squared Error (RMSE) for regressor_forest_rmse_y_test_y_pred:', regressor_forest_rmse_y_train_y_pred)\n",
    "\n",
    "print('Model regressor_forest feature importances:', regressor_forest.feature_importances_) \n",
    "\n",
    "# Perform 5-fold cross-validation on the training data\n",
    "scores = cross_val_score(regressor_forest, X_train, y_train, cv=5, scoring='r2')\n",
    "\n",
    "print(\"Cross-validated R2 scores:\", scores)\n",
    "print(\"Mean R2 score:\", scores.mean())"
   ]
  },
  {
   "cell_type": "code",
   "execution_count": 134,
   "metadata": {},
   "outputs": [
    {
     "data": {
      "text/html": [
       "<div>\n",
       "<style scoped>\n",
       "    .dataframe tbody tr th:only-of-type {\n",
       "        vertical-align: middle;\n",
       "    }\n",
       "\n",
       "    .dataframe tbody tr th {\n",
       "        vertical-align: top;\n",
       "    }\n",
       "\n",
       "    .dataframe thead th {\n",
       "        text-align: right;\n",
       "    }\n",
       "</style>\n",
       "<table border=\"1\" class=\"dataframe\">\n",
       "  <thead>\n",
       "    <tr style=\"text-align: right;\">\n",
       "      <th></th>\n",
       "      <th>Feature Importances</th>\n",
       "    </tr>\n",
       "  </thead>\n",
       "  <tbody>\n",
       "    <tr>\n",
       "      <th>flat_area</th>\n",
       "      <td>0.802302</td>\n",
       "    </tr>\n",
       "    <tr>\n",
       "      <th>rooms</th>\n",
       "      <td>0.056606</td>\n",
       "    </tr>\n",
       "    <tr>\n",
       "      <th>distance_category</th>\n",
       "      <td>0.002701</td>\n",
       "    </tr>\n",
       "    <tr>\n",
       "      <th>code type</th>\n",
       "      <td>0.094877</td>\n",
       "    </tr>\n",
       "    <tr>\n",
       "      <th>prestigious</th>\n",
       "      <td>0.043513</td>\n",
       "    </tr>\n",
       "  </tbody>\n",
       "</table>\n",
       "</div>"
      ],
      "text/plain": [
       "                   Feature Importances\n",
       "flat_area                     0.802302\n",
       "rooms                         0.056606\n",
       "distance_category             0.002701\n",
       "code type                     0.094877\n",
       "prestigious                   0.043513"
      ]
     },
     "execution_count": 134,
     "metadata": {},
     "output_type": "execute_result"
    }
   ],
   "source": [
    "# Оцінка кoефіцієнтів\n",
    "regrfor_df_imp = pd.DataFrame(regressor_forest.feature_importances_, X.columns, columns=['Feature Importances'])\n",
    "regrfor_df_imp"
   ]
  },
  {
   "cell_type": "code",
   "execution_count": 135,
   "metadata": {},
   "outputs": [
    {
     "name": "stdout",
     "output_type": "stream",
     "text": [
      "[7013.71246117]\n",
      "[29957.92166138]\n",
      "[6741.49030948]\n",
      "[5116.38786744]\n"
     ]
    },
    {
     "name": "stderr",
     "output_type": "stream",
     "text": [
      "C:\\Users\\liman\\anaconda3\\lib\\site-packages\\sklearn\\base.py:450: UserWarning: X does not have valid feature names, but RobustScaler was fitted with feature names\n",
      "  warnings.warn(\n",
      "C:\\Users\\liman\\anaconda3\\lib\\site-packages\\sklearn\\base.py:450: UserWarning: X does not have valid feature names, but RobustScaler was fitted with feature names\n",
      "  warnings.warn(\n",
      "C:\\Users\\liman\\anaconda3\\lib\\site-packages\\sklearn\\base.py:450: UserWarning: X does not have valid feature names, but RobustScaler was fitted with feature names\n",
      "  warnings.warn(\n",
      "C:\\Users\\liman\\anaconda3\\lib\\site-packages\\sklearn\\base.py:450: UserWarning: X does not have valid feature names, but RobustScaler was fitted with feature names\n",
      "  warnings.warn(\n"
     ]
    }
   ],
   "source": [
    "#Predictions\n",
    "print(regressor_forest.predict(rbscaler.transform([[80, 2, 1, 1, 1]])))\n",
    "#80 meters, 2 rooms, close to metro, Задовільний стан  state of flat, non-prestigious district\n",
    "print(regressor_forest.predict(rbscaler.transform([[160, 3, 3, 5, 1]])))\n",
    "#160 sqmeters, 3 rooms, distant from metro, Дизайнерський ремонт, non-prestigious district\n",
    "print(regressor_forest.predict(rbscaler.transform([[100, 2, 3, 1, 1]])))\n",
    "#100 sqmeters, 2 rooms, distant from metro,Потрібен капітальний ремонт, non-prestigious district \n",
    "print(regressor_forest.predict(rbscaler.transform([[50, 2, 2, 1, 1]])))\n",
    "#50 sqmeters, 2 rooms, middle distance to metro, Потрібен капітальний ремонт, non-prestigious district "
   ]
  },
  {
   "cell_type": "code",
   "execution_count": 136,
   "metadata": {},
   "outputs": [
    {
     "name": "stdout",
     "output_type": "stream",
     "text": [
      "Price for 40 sqmeters, 1 room, close to metro, Хороший стан of flat, prestigious district: [15824.98174868] hryvnas\n"
     ]
    },
    {
     "name": "stderr",
     "output_type": "stream",
     "text": [
      "C:\\Users\\liman\\anaconda3\\lib\\site-packages\\sklearn\\base.py:450: UserWarning: X does not have valid feature names, but RobustScaler was fitted with feature names\n",
      "  warnings.warn(\n"
     ]
    }
   ],
   "source": [
    "#Prediction\n",
    "price_pred = regressor_forest.predict(rbscaler.transform([[40, 1, 1, 4, 3]])) # 40 sqmeters, 1 room, close to metro, good state of flat, prestigious district\n",
    "print(\"Price for 40 sqmeters, 1 room, close to metro, Хороший стан of flat, prestigious district:\", price_pred, \"hryvnas\")"
   ]
  },
  {
   "cell_type": "code",
   "execution_count": 137,
   "metadata": {},
   "outputs": [
    {
     "name": "stdout",
     "output_type": "stream",
     "text": [
      "Price for 60 sqmeters, 2 rooms, close to metro, Євроремонт state of flat, prestigious district: [21363.42419083] hryvnas\n"
     ]
    },
    {
     "name": "stderr",
     "output_type": "stream",
     "text": [
      "C:\\Users\\liman\\anaconda3\\lib\\site-packages\\sklearn\\base.py:450: UserWarning: X does not have valid feature names, but RobustScaler was fitted with feature names\n",
      "  warnings.warn(\n"
     ]
    }
   ],
   "source": [
    "#Prediction\n",
    "price_pred = regressor_forest.predict(rbscaler.transform([[60, 2, 1, 5, 3]])) # 40 sqmeters, 1 room, close to metro, good state of flat, prestigious district\n",
    "print(\"Price for 60 sqmeters, 2 rooms, close to metro, Євроремонт state of flat, prestigious district:\", price_pred, \"hryvnas\")"
   ]
  },
  {
   "cell_type": "code",
   "execution_count": 138,
   "metadata": {},
   "outputs": [
    {
     "name": "stdout",
     "output_type": "stream",
     "text": [
      "Price for 40 sqmeters, 1 room, close to metro, Хороший стан of flat, not prestigious district: [10856.93612952] hryvnas\n"
     ]
    },
    {
     "name": "stderr",
     "output_type": "stream",
     "text": [
      "C:\\Users\\liman\\anaconda3\\lib\\site-packages\\sklearn\\base.py:450: UserWarning: X does not have valid feature names, but RobustScaler was fitted with feature names\n",
      "  warnings.warn(\n"
     ]
    }
   ],
   "source": [
    "#Prediction\n",
    "price_pred = regressor_forest.predict(rbscaler.transform([[40, 1, 1, 4, 1]])) # 40 sqmeters, 1 room, close to metro, good state of flat, prestigious district\n",
    "print(\"Price for 40 sqmeters, 1 room, close to metro, Хороший стан of flat, not prestigious district:\", price_pred, \"hryvnas\")"
   ]
  },
  {
   "cell_type": "code",
   "execution_count": 139,
   "metadata": {},
   "outputs": [
    {
     "name": "stdout",
     "output_type": "stream",
     "text": [
      "Price for 160 sqmeters, 4 rooms, distant from metro, Дизайнерський ремонт of flat, prestigious district: [36811.05085426] hryvnas\n"
     ]
    },
    {
     "name": "stderr",
     "output_type": "stream",
     "text": [
      "C:\\Users\\liman\\anaconda3\\lib\\site-packages\\sklearn\\base.py:450: UserWarning: X does not have valid feature names, but RobustScaler was fitted with feature names\n",
      "  warnings.warn(\n"
     ]
    }
   ],
   "source": [
    "#Prediction\n",
    "price_pred = regressor_forest.predict(rbscaler.transform([[160, 4, 3, 5, 3]])) # 40 sqmeters, 1 room, close to metro, good state of flat, prestigious district\n",
    "print(\"Price for 160 sqmeters, 4 rooms, distant from metro, Дизайнерський ремонт of flat, prestigious district:\", price_pred, \"hryvnas\")"
   ]
  },
  {
   "cell_type": "code",
   "execution_count": 140,
   "metadata": {},
   "outputs": [
    {
     "name": "stdout",
     "output_type": "stream",
     "text": [
      "Price for 40 sqmeters, 1 room, distant from metro, Потрібен капітальний ремонт, prestigious district 1: [5226.37626626] hryvnas\n"
     ]
    },
    {
     "name": "stderr",
     "output_type": "stream",
     "text": [
      "C:\\Users\\liman\\anaconda3\\lib\\site-packages\\sklearn\\base.py:450: UserWarning: X does not have valid feature names, but RobustScaler was fitted with feature names\n",
      "  warnings.warn(\n"
     ]
    }
   ],
   "source": [
    "#Prediction\n",
    "price_pred = regressor_forest.predict(rbscaler.transform([[40, 1, 3, 1, 1]])) # 40 sqmeters, 1 room, close to metro, good state of flat, prestigious district\n",
    "print(\"Price for 40 sqmeters, 1 room, distant from metro, Потрібен капітальний ремонт, prestigious district 1:\", price_pred, \"hryvnas\")"
   ]
  },
  {
   "cell_type": "code",
   "execution_count": 141,
   "metadata": {},
   "outputs": [
    {
     "name": "stdout",
     "output_type": "stream",
     "text": [
      "R2 Score: -0.0933859637131167\n"
     ]
    }
   ],
   "source": [
    "from sklearn.svm import SVR\n",
    "\n",
    "regressor = SVR()\n",
    "\n",
    "regressor.fit(X_train, y_train)\n",
    "\n",
    "y_pred = regressor.predict(X_test)\n",
    "\n",
    "score = regressor.score(X_test, y_test)\n",
    "print(\"R2 Score:\", score)"
   ]
  },
  {
   "cell_type": "code",
   "execution_count": 142,
   "metadata": {},
   "outputs": [
    {
     "name": "stdout",
     "output_type": "stream",
     "text": [
      "Best Hyperparameters: {'fit_intercept': True}\n"
     ]
    }
   ],
   "source": [
    "import pandas as pd\n",
    "from sklearn.model_selection import train_test_split\n",
    "from sklearn.linear_model import LinearRegression\n",
    "from sklearn.model_selection import GridSearchCV\n",
    "from sklearn.metrics import mean_squared_error, r2_score\n",
    "\n",
    "rbscaler = RobustScaler()\n",
    "X_rbscaled = rbscaler.fit_transform(X)\n",
    "\n",
    "X_train, X_test, y_train, y_test = train_test_split(X_rbscaled, y, test_size=0.25, random_state=1)\n",
    "\n",
    "model = LinearRegression()\n",
    "\n",
    "\n",
    "param_grid = {'fit_intercept': [True, False]}\n",
    "\n",
    "grid_search = GridSearchCV(model, param_grid, cv=5)\n",
    "grid_search.fit(X_train, y_train)  \n",
    "\n",
    "\n",
    "best_params = grid_search.best_params_\n",
    "best_model = LinearRegression(**best_params)\n",
    "best_model.fit(X_train, y_train)  \n",
    "\n",
    "# Print the evaluation metrics\n",
    "print('Best Hyperparameters:', best_params)"
   ]
  },
  {
   "cell_type": "code",
   "execution_count": 143,
   "metadata": {},
   "outputs": [
    {
     "name": "stdout",
     "output_type": "stream",
     "text": [
      "Training  Score for X_train, y_train: 0.5790962964878814\n",
      "Test Score for X_test, y_test: 0.5435417979998884\n",
      "Mean Squared Error (MSE) for best_model_mse_y_train_y_pred: 420578325.65022373\n",
      "Root Mean Squared Error (RMSE) for best_model_rmse_y_train_y_pred: 20508.00637922233\n",
      "Mean Squared Error (MSE) for best_model_y_test_y_pred: 420578325.65022373\n",
      "Root Mean Squared Error (RMSE) for best_model_rmse_y_test_y_pred: 20508.00637922233\n",
      "Model best_model GridSearchCV coefficients: [ 22165.93244852 -13905.25911664  -1114.00590556   3135.13339275\n",
      "  11972.13713674]\n"
     ]
    }
   ],
   "source": [
    "best_model_y_pred_train = best_model.predict(X_train)\n",
    "y_pred_train = best_model_y_pred_train\n",
    "best_model_mse_y_train_y_pred = mean_squared_error(y_train, y_pred_train)\n",
    "best_model_rmse_y_train_y_pred = np.sqrt(mean_squared_error(y_train, y_pred_train))\n",
    "\n",
    "best_model_y_pred_test = best_model.predict(X_test)\n",
    "y_pred_test = best_model_y_pred_test\n",
    "best_model_mse_y_test_y_pred = mean_squared_error(y_test, y_pred_test)\n",
    "best_model_rmse_y_test_y_pred = np.sqrt(mean_squared_error(y_test, y_pred_test))\n",
    "\n",
    "gs_train_score = best_model.score(X_train, y_train)\n",
    "print(\"Training  Score for X_train, y_train:\", gs_train_score)\n",
    "\n",
    "gs_test_score = best_model.score(X_test, y_test)\n",
    "print(\"Test Score for X_test, y_test:\", gs_test_score)\n",
    "\n",
    "print('Mean Squared Error (MSE) for best_model_mse_y_train_y_pred:', best_model_mse_y_train_y_pred)\n",
    "print('Root Mean Squared Error (RMSE) for best_model_rmse_y_train_y_pred:', best_model_rmse_y_train_y_pred)\n",
    "print('Mean Squared Error (MSE) for best_model_y_test_y_pred:', best_model_mse_y_train_y_pred)\n",
    "print('Root Mean Squared Error (RMSE) for best_model_rmse_y_test_y_pred:', best_model_rmse_y_train_y_pred)\n",
    "\n",
    "print('Model best_model GridSearchCV coefficients:', best_model.coef_) \n"
   ]
  },
  {
   "cell_type": "code",
   "execution_count": 144,
   "metadata": {},
   "outputs": [
    {
     "data": {
      "text/html": [
       "<div>\n",
       "<style scoped>\n",
       "    .dataframe tbody tr th:only-of-type {\n",
       "        vertical-align: middle;\n",
       "    }\n",
       "\n",
       "    .dataframe tbody tr th {\n",
       "        vertical-align: top;\n",
       "    }\n",
       "\n",
       "    .dataframe thead th {\n",
       "        text-align: right;\n",
       "    }\n",
       "</style>\n",
       "<table border=\"1\" class=\"dataframe\">\n",
       "  <thead>\n",
       "    <tr style=\"text-align: right;\">\n",
       "      <th></th>\n",
       "      <th>Model coefficients</th>\n",
       "    </tr>\n",
       "  </thead>\n",
       "  <tbody>\n",
       "    <tr>\n",
       "      <th>flat_area</th>\n",
       "      <td>22165.932449</td>\n",
       "    </tr>\n",
       "    <tr>\n",
       "      <th>rooms</th>\n",
       "      <td>-13905.259117</td>\n",
       "    </tr>\n",
       "    <tr>\n",
       "      <th>distance_category</th>\n",
       "      <td>-1114.005906</td>\n",
       "    </tr>\n",
       "    <tr>\n",
       "      <th>code type</th>\n",
       "      <td>3135.133393</td>\n",
       "    </tr>\n",
       "    <tr>\n",
       "      <th>prestigious</th>\n",
       "      <td>11972.137137</td>\n",
       "    </tr>\n",
       "  </tbody>\n",
       "</table>\n",
       "</div>"
      ],
      "text/plain": [
       "                   Model coefficients\n",
       "flat_area                22165.932449\n",
       "rooms                   -13905.259117\n",
       "distance_category        -1114.005906\n",
       "code type                 3135.133393\n",
       "prestigious              11972.137137"
      ]
     },
     "execution_count": 144,
     "metadata": {},
     "output_type": "execute_result"
    }
   ],
   "source": [
    "# Оцінка кoефіцієнтів\n",
    "df_coef = pd.DataFrame(best_model.coef_, X.columns, columns=['Model coefficients'])\n",
    "df_coef"
   ]
  },
  {
   "cell_type": "code",
   "execution_count": 145,
   "metadata": {},
   "outputs": [
    {
     "name": "stdout",
     "output_type": "stream",
     "text": [
      "Price for 40 sqmeters, 1 room, close to metro, Хороший стан of flat, prestigious district: [11111.82443188] hryvnas\n"
     ]
    },
    {
     "name": "stderr",
     "output_type": "stream",
     "text": [
      "C:\\Users\\liman\\anaconda3\\lib\\site-packages\\sklearn\\base.py:450: UserWarning: X does not have valid feature names, but RobustScaler was fitted with feature names\n",
      "  warnings.warn(\n"
     ]
    }
   ],
   "source": [
    "#Prediction\n",
    "price_pred = best_model.predict(rbscaler.transform([[40, 1, 1, 4, 3]])) # 40 sqmeters, 1 room, close to metro, good state of flat, prestigious district\n",
    "print(\"Price for 40 sqmeters, 1 room, close to metro, Хороший стан of flat, prestigious district:\", price_pred, \"hryvnas\")\n"
   ]
  },
  {
   "cell_type": "code",
   "execution_count": 146,
   "metadata": {},
   "outputs": [
    {
     "name": "stdout",
     "output_type": "stream",
     "text": [
      "Price for 60 sqmeters, 2 rooms, close to metro, Євроремонт state of flat, prestigious district: [13719.2362224] hryvnas\n"
     ]
    },
    {
     "name": "stderr",
     "output_type": "stream",
     "text": [
      "C:\\Users\\liman\\anaconda3\\lib\\site-packages\\sklearn\\base.py:450: UserWarning: X does not have valid feature names, but RobustScaler was fitted with feature names\n",
      "  warnings.warn(\n"
     ]
    }
   ],
   "source": [
    "#Prediction\n",
    "price_pred = best_model.predict(rbscaler.transform([[60, 2, 1, 5, 3]])) # 40 sqmeters, 1 room, close to metro, good state of flat, prestigious district\n",
    "print(\"Price for 60 sqmeters, 2 rooms, close to metro, Євроремонт state of flat, prestigious district:\", price_pred, \"hryvnas\")"
   ]
  },
  {
   "cell_type": "code",
   "execution_count": 147,
   "metadata": {},
   "outputs": [
    {
     "name": "stdout",
     "output_type": "stream",
     "text": [
      "Price for 40 sqmeters, 1 room, close to metro, Хороший стан of flat, not prestigious district: [-860.31270486] hryvnas\n"
     ]
    },
    {
     "name": "stderr",
     "output_type": "stream",
     "text": [
      "C:\\Users\\liman\\anaconda3\\lib\\site-packages\\sklearn\\base.py:450: UserWarning: X does not have valid feature names, but RobustScaler was fitted with feature names\n",
      "  warnings.warn(\n"
     ]
    }
   ],
   "source": [
    "#Prediction\n",
    "price_pred = best_model.predict(rbscaler.transform([[40, 1, 1, 4, 1]])) # 40 sqmeters, 1 room, close to metro, good state of flat, prestigious district\n",
    "print(\"Price for 40 sqmeters, 1 room, close to metro, Хороший стан of flat, not prestigious district:\", price_pred, \"hryvnas\")"
   ]
  },
  {
   "cell_type": "code",
   "execution_count": 148,
   "metadata": {},
   "outputs": [
    {
     "name": "stdout",
     "output_type": "stream",
     "text": [
      "Price for 160 sqmeters, 4 rooms, distant from metro, Дизайнерський ремонт of flat, prestigious district: [29710.5050751] hryvnas\n"
     ]
    },
    {
     "name": "stderr",
     "output_type": "stream",
     "text": [
      "C:\\Users\\liman\\anaconda3\\lib\\site-packages\\sklearn\\base.py:450: UserWarning: X does not have valid feature names, but RobustScaler was fitted with feature names\n",
      "  warnings.warn(\n"
     ]
    }
   ],
   "source": [
    "#Prediction\n",
    "price_pred = best_model.predict(rbscaler.transform([[160, 4, 3, 5, 3]])) # 40 sqmeters, 1 room, close to metro, good state of flat, prestigious district\n",
    "print(\"Price for 160 sqmeters, 4 rooms, distant from metro, Дизайнерський ремонт of flat, prestigious district:\", price_pred, \"hryvnas\")"
   ]
  },
  {
   "cell_type": "code",
   "execution_count": 149,
   "metadata": {},
   "outputs": [
    {
     "name": "stdout",
     "output_type": "stream",
     "text": [
      "Price for 40 sqmeters, 1 room, distant from metro, Потрібен капітальний ремонт,prestigious district 1: [-12493.72469423] hryvnas\n"
     ]
    },
    {
     "name": "stderr",
     "output_type": "stream",
     "text": [
      "C:\\Users\\liman\\anaconda3\\lib\\site-packages\\sklearn\\base.py:450: UserWarning: X does not have valid feature names, but RobustScaler was fitted with feature names\n",
      "  warnings.warn(\n"
     ]
    }
   ],
   "source": [
    "#Prediction\n",
    "price_pred = best_model.predict(rbscaler.transform([[40, 1, 3, 1, 1]])) # 40 sqmeters, 1 room, close to metro, good state of flat, prestigious district\n",
    "print(\"Price for 40 sqmeters, 1 room, distant from metro, Потрібен капітальний ремонт,prestigious district 1:\", price_pred, \"hryvnas\")"
   ]
  },
  {
   "cell_type": "code",
   "execution_count": null,
   "metadata": {},
   "outputs": [],
   "source": []
  }
 ],
 "metadata": {
  "kernelspec": {
   "display_name": "Python 3 (ipykernel)",
   "language": "python",
   "name": "python3"
  },
  "language_info": {
   "codemirror_mode": {
    "name": "ipython",
    "version": 3
   },
   "file_extension": ".py",
   "mimetype": "text/x-python",
   "name": "python",
   "nbconvert_exporter": "python",
   "pygments_lexer": "ipython3",
   "version": "3.9.13"
  }
 },
 "nbformat": 4,
 "nbformat_minor": 2
}
