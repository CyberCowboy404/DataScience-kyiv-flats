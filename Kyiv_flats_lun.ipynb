{
 "cells": [
  {
   "cell_type": "code",
   "execution_count": 119,
   "id": "b72c581d",
   "metadata": {},
   "outputs": [
    {
     "name": "stderr",
     "output_type": "stream",
     "text": [
      "C:\\Users\\liman\\AppData\\Local\\Temp\\ipykernel_12836\\3800421055.py:14: DeprecationWarning: executable_path has been deprecated, please pass in a Service object\n",
      "  driver = webdriver.Chrome(driver_path, options=options)\n"
     ]
    },
    {
     "name": "stdout",
     "output_type": "stream",
     "text": [
      "{'rooms': '2 кімнати', 'price': ('25 000 грн',), 'address': ('Рудницького Степана вул. (Вільямса академіка), 19/14',), 'district': ('Голосіївський р-н',), 'latitude': ('50.38436508',), 'longitude': ('30.4560318',), 'area': 131, 'subway': 'Іподром'}\n",
      "{'rooms': '2 кімнати', 'price': ('15 500 грн',), 'address': ('Лобановського просп. (Червонозоряний), 4в',), 'district': (\"Солом'янський р-н\",), 'latitude': ('50.42233276',), 'longitude': ('30.4624939',), 'area': 114, 'subway': None}\n",
      "{'rooms': '2 кімнати', 'price': ('20 000 грн',), 'address': ('Лесі Українки бульв., 5',), 'district': ('Печерський р-н',), 'latitude': ('50.43521118',), 'longitude': ('30.53017426',), 'area': 117, 'subway': None}\n",
      "{'rooms': '3 кімнати', 'price': ('20 000 грн',), 'address': ('Лесі Українки бульв., 5',), 'district': ('Печерський р-н',), 'latitude': ('50.43521118',), 'longitude': ('30.53017426',), 'area': 118, 'subway': None}\n",
      "{'rooms': '3 кімнати', 'price': ('12 000 грн',), 'address': ('Драгоманова вул., 25',), 'district': ('Дарницький р-н',), 'latitude': ('50.40409088',), 'longitude': ('30.63778687',), 'area': 140, 'subway': None}\n",
      "{'rooms': '2 кімнати', 'price': ('11 000 грн',), 'address': ('Саксаганського вул., 60',), 'district': ('Голосіївський р-н',), 'latitude': ('50.43755722',), 'longitude': ('30.50500298',), 'area': 98, 'subway': None}\n",
      "{'rooms': '4 кімнати', 'price': ('3 200 $',), 'address': ('Василя Тютюнника вул. (Барбюса Анрі), 37',), 'district': ('Печерський р-н',), 'latitude': ('50.42152405',), 'longitude': ('30.52565956',), 'area': 290, 'subway': 'Палац Україна'}\n",
      "{'rooms': '4 кімнати', 'price': ('3 500 $',), 'address': ('Драгомирова вул., 11',), 'district': ('Печерський р-н',), 'latitude': ('50.40934753',), 'longitude': ('30.54587746',), 'area': 260, 'subway': None}\n",
      "{'rooms': '3 кімнати', 'price': ('1 500 $',), 'address': ('Предславинська вул., 42',), 'district': ('Печерський р-н',), 'latitude': ('50.41551208',), 'longitude': ('30.5252018',), 'area': 145, 'subway': 'Либідська'}\n",
      "{'rooms': '1 кімната', 'price': ('6 500 грн',), 'address': ('Вершигори Петра вул., 1',), 'district': ('Дніпровський р-н',), 'latitude': ('50.49303818',), 'longitude': ('30.57640648',), 'area': 62, 'subway': None}\n",
      "{'rooms': '1 кімната', 'price': ('17 000 грн',), 'address': ('Гоголевская, 27',), 'district': ('Шевченківський р-н',), 'latitude': ('50.45363235',), 'longitude': ('30.4850769',), 'area': 70, 'subway': None}\n",
      "{'rooms': '1 кімната', 'price': ('15 000 грн',), 'address': ('Осокорська вул., 2а',), 'district': ('Дарницький р-н',), 'latitude': ('50.39749146',), 'longitude': ('30.59981918',), 'area': 45, 'subway': None}\n",
      "{'rooms': '1 кімната', 'price': ('1 100 $',), 'address': ('Предславинська вул., 53',), 'district': ('Печерський р-н',), 'latitude': ('50.41633606',), 'longitude': ('30.52649879',), 'area': 112, 'subway': 'Либідська'}\n",
      "{'rooms': '3 кімнати', 'price': ('1 200 $',), 'address': ('Хрещатик вул., 23',), 'district': ('Печерський р-н',), 'latitude': ('50.44501495',), 'longitude': ('30.52206039',), 'area': 140, 'subway': None}\n",
      "{'rooms': '1 кімната', 'price': ('13 500 грн',), 'address': ('Максимовича вул. (Трутенка Онуфрія), 26б',), 'district': ('Голосіївський р-н',), 'latitude': ('50.39363098',), 'longitude': ('30.47339249',), 'area': 68, 'subway': 'Васильківська'}\n",
      "{'rooms': '2 кімнати', 'price': ('1 500 $',), 'address': ('Набережно-Рибальська дорога вул., 9',), 'district': ('Подільський р-н',), 'latitude': ('50.48041534',), 'longitude': ('30.53529167',), 'area': 138, 'subway': None}\n",
      "{'rooms': '1 кімната', 'price': ('18 000 грн',), 'address': ('Миколи Міхновського бульв. (Дружби Народів), 14-16',), 'district': ('Печерський р-н',), 'latitude': ('50.4140358',), 'longitude': ('30.53945923',), 'area': 90, 'subway': None}\n",
      "{'rooms': '4 кімнати', 'price': ('2 300 $',), 'address': ('Євгена Коновальця вул. (Щорса), 32б',), 'district': ('Печерський р-н',), 'latitude': ('50.42583847',), 'longitude': ('30.5324955',), 'area': 300, 'subway': None}\n",
      "{'rooms': '3 кімнати', 'price': ('22 000 грн',), 'address': ('Велика Васильківська вул., 20',), 'district': ('Шевченківський р-н',), 'latitude': ('50.43981171',), 'longitude': ('30.51712227',), 'area': 170, 'subway': 'Площа Льва Толстого'}\n",
      "{'rooms': '2 кімнати', 'price': ('999 $',), 'address': ('Оболонський просп., 26',), 'district': ('Оболонський р-н',), 'latitude': ('50.5135994',), 'longitude': ('30.50030136',), 'area': 84, 'subway': 'Мінська'}\n"
     ]
    }
   ],
   "source": [
    "#working variant\n",
    "from selenium import webdriver\n",
    "from bs4 import BeautifulSoup\n",
    "import pandas as pd\n",
    "import requests\n",
    "import re\n",
    "\n",
    "\n",
    "flat_dict = {}\n",
    "    \n",
    "driver_path = 'C:/Users/liman/Desktop/chromedriver_win32/chromedriver.exe'\n",
    "options = webdriver.ChromeOptions()\n",
    "options.add_argument('--headless')\n",
    "driver = webdriver.Chrome(driver_path, options=options)\n",
    "\n",
    "for i in soup.find_all('div', class_=\"catalog-card\"):  \n",
    "    price = i.get('data-label')\n",
    "    lat = i.get('data-latitude')\n",
    "    long = i.get('data-longitude')\n",
    "    address = i.find(\"div\", {\"class\": \"catalog-card-address\"}).text\n",
    "    room_type = i.find('div', class_='catalog-card-details-row').span.text.strip()\n",
    "        \n",
    "    #district of Kyiv   \n",
    "    region_links = i.find_all('a', {'data-analytics-event': 'card-click-region'})\n",
    "    district = region_links[1].text.strip()\n",
    "    \n",
    "    #calculate area of the flat\n",
    "    area = i.find_all('div', class_='catalog-card-details-row')[-2].span.text\n",
    "    area_str = area.replace(\" м²\", \"\")\n",
    "    area_list = area_str.split(\" / \")\n",
    "    area_list = [int(x) for x in area_list]\n",
    "    area_total = sum(area_list)\n",
    "    \n",
    "    #starting dict\n",
    "    flat_dict[\"rooms\"] = room_type\n",
    "    flat_dict[\"price\"] = price,\n",
    "    flat_dict[\"address\"] = address,\n",
    "    flat_dict[\"district\"] = district,\n",
    "    flat_dict[\"latitude\"] = lat,\n",
    "    flat_dict[\"longitude\"] = long,\n",
    "    flat_dict[\"area\"] = area_total\n",
    "    \n",
    "    #subway presence    \n",
    "    subway_element = i.find(\"a\", {\"class\": \"catalog-card-chip -subway -subway-blue\"})\n",
    "    if subway_element is not None:\n",
    "        subway_station = subway_element.span.text\n",
    "    else:\n",
    "        subway_station = None\n",
    "        \n",
    "    flat_dict[\"subway\"] = subway_station\n",
    "    \n",
    "    print(flat_dict)\n",
    "    "
   ]
  },
  {
   "cell_type": "code",
   "execution_count": null,
   "id": "3dd4bd0f",
   "metadata": {},
   "outputs": [],
   "source": [
    "#calculate the distance on Earth between two points\n",
    "import math\n",
    "\n",
    "def distance_on_earth(lat1, lon1, lat2, lon2):\n",
    "    # Earth radius in kilometers\n",
    "    radius = 6371\n",
    "\n",
    "    # Convert latitude and longitude from degrees to radians\n",
    "    lat1_rad = math.radians(lat1)\n",
    "    lon1_rad = math.radians(lon1)\n",
    "    lat2_rad = math.radians(lat2)\n",
    "    lon2_rad = math.radians(lon2)\n",
    "\n",
    "    # Calculate the differences between the latitudes and longitudes\n",
    "    dlat = lat2_rad - lat1_rad\n",
    "    dlon = lon2_rad - lon1_rad\n",
    "\n",
    "    # Apply the Haversine formula to calculate the distance\n",
    "    a = math.sin(dlat / 2) ** 2 + math.cos(lat1_rad) * math.cos(lat2_rad) * math.sin(dlon / 2) ** 2\n",
    "    c = 2 * math.atan2(math.sqrt(a), math.sqrt(1 - a))\n",
    "    distance = radius * c\n",
    "\n",
    "    return distance   \n",
    "\n"
   ]
  },
  {
   "cell_type": "code",
   "execution_count": null,
   "id": "a5b520f0",
   "metadata": {},
   "outputs": [],
   "source": []
  }
 ],
 "metadata": {
  "kernelspec": {
   "display_name": "Python 3 (ipykernel)",
   "language": "python",
   "name": "python3"
  },
  "language_info": {
   "codemirror_mode": {
    "name": "ipython",
    "version": 3
   },
   "file_extension": ".py",
   "mimetype": "text/x-python",
   "name": "python",
   "nbconvert_exporter": "python",
   "pygments_lexer": "ipython3",
   "version": "3.9.13"
  }
 },
 "nbformat": 4,
 "nbformat_minor": 5
}
