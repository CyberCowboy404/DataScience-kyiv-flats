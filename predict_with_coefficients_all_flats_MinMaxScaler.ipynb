{
 "cells": [
  {
   "cell_type": "markdown",
   "metadata": {},
   "source": [
    "<b> Data Vocabulary of Features taken to analysis:\n",
    "\n",
    "\"rooms\" - quantity of rooms\n",
    "\n",
    "\"price\" - price in hryvnas\n",
    "\n",
    "\"flat_area\" - area of a flat in square meters\n",
    "\n",
    "\"prestigious\" - code of districts:\n",
    "code_prestigious = {'Печерський': 3,\n",
    "                'Шевченківський': 3,\n",
    "                'Голосіївський': 3,\n",
    "                'Подільський': 2,\n",
    "                'Святошинський': 1,\n",
    "                'Солом\\'янський': 2,\n",
    "                'Оболонський': 2,\n",
    "                'Дніпровський': 1,\n",
    "                'Дарницький': 1,\n",
    "                'Деснянський': 1}\n",
    "\n",
    "code of flat types:\n",
    "\"code_type\" = {'Дизайнерський ремонт': 5,\n",
    "                'Євроремонт': 4,\n",
    "                'Чудовий стан': 4,\n",
    "                'Хороший стан': 3,\n",
    "                'Задовільний стан': 1,\n",
    "                'Перша здача': 2,\n",
    "                'Потрібен капітальний ремонт': 1,\n",
    "                'Незавершений ремонт': 1,\n",
    "                'Потрібен косметичний ремонт': 1,\n",
    "                'Від будівельників вільне планування': 1,\n",
    "                 'Незавершений ремонт': 1}\n",
    "\n",
    "codes of distances to metro: 1 - closer than 2 km, 2 - from 2 to 5 km, 3 - more than 5 km"
   ]
  },
  {
   "cell_type": "markdown",
   "metadata": {},
   "source": [
    "<b>Results: \n",
    "    \n",
    "MinMax Scaling did not influence the results \n",
    "\n"
   ]
  },
  {
   "cell_type": "code",
   "execution_count": 211,
   "metadata": {},
   "outputs": [
    {
     "name": "stdout",
     "output_type": "stream",
     "text": [
      "6020\n",
      "Train score: 0.5790962964878815\n",
      "Test score: 0.5435417979998883\n",
      "Mean Squared Error (MSE) for mse_y_train_y_pred: 420578325.6502237\n",
      "Root Mean Squared Error (RMSE) for mse_y_train_y_pred: 20508.006379222326\n",
      "Mean Squared Error (MSE) for mse_y_test_y_pred: 420578325.6502237\n",
      "Root Mean Squared Error (RMSE) for mse_y_test_y_pred: 20508.006379222326\n",
      "Model cofficients: [330240.26894313 -34763.14779159  -2228.01181112  12540.533571\n",
      "  11972.13713674]\n"
     ]
    }
   ],
   "source": [
    "import pandas as pd\n",
    "from sklearn.linear_model import LinearRegression\n",
    "from sklearn.model_selection import train_test_split\n",
    "from sklearn.preprocessing import LabelEncoder\n",
    "from sklearn.metrics import mean_squared_error\n",
    "import numpy as np\n",
    "from sklearn.preprocessing import MinMaxScaler\n",
    "\n",
    "df = pd.read_csv('all_flats_metro.csv')\n",
    "\n",
    "# df = df[df['rooms'] <= 3]\n",
    "# df = df[df['price'] <= 200000]\n",
    "\n",
    "print(len(df))\n",
    "\n",
    "#Linear regression\n",
    "\n",
    "df['flat_area'] = df['flat_area'].astype(int)\n",
    "df['price'] = df['price'].astype(int)\n",
    "df['rooms'] = df['rooms'].astype(int)\n",
    "\n",
    "# print(df.head(5))\n",
    "\n",
    "label_encoder = LabelEncoder()\n",
    "df['region_name_encoded'] = label_encoder.fit_transform(df['district'])\n",
    "\n",
    "X = df[['flat_area', 'rooms', 'distance_category', 'code type', 'prestigious']]\n",
    "y = df['price']\n",
    "\n",
    "mmscaler = MinMaxScaler()\n",
    "\n",
    "X_train, X_test, y_train, y_test = train_test_split(X, y, test_size=0.25, random_state=1)\n",
    "\n",
    "X_train_mmscaled = mmscaler.fit_transform(X_train)\n",
    "\n",
    "model = LinearRegression()\n",
    "model.fit(X_train_mmscaled, y_train)\n",
    "\n",
    "X_test_mmscaled = mmscaler.transform(X_test)\n",
    "# y_pred = model.predict(X_test_mmscaled)\n",
    "\n",
    "y_pred_train=model.predict(X_train_mmscaled)\n",
    "mse_y_train_y_pred=mean_squared_error(y_train, y_pred_train)\n",
    "rmse_y_train_y_pred=np.sqrt(mean_squared_error(y_train, y_pred_train))\n",
    "\n",
    "y_pred_test = model.predict(X_test_mmscaled)\n",
    "mse_y_test_y_pred = mean_squared_error(y_test, y_pred_test)\n",
    "rmse_y_test_y_pred=np.sqrt(mean_squared_error(y_test, y_pred_test))\n",
    "\n",
    "score_train = model.score(X_train_mmscaled, y_train)\n",
    "score_test = model.score(X_test_mmscaled, y_test)\n",
    "\n",
    "print('Train score:', score_train)\n",
    "print('Test score:', score_test)\n",
    "\n",
    "print('Mean Squared Error (MSE) for mse_y_train_y_pred:', mse_y_train_y_pred)\n",
    "print('Root Mean Squared Error (RMSE) for mse_y_train_y_pred:', rmse_y_train_y_pred)\n",
    "print('Mean Squared Error (MSE) for mse_y_test_y_pred:', mse_y_train_y_pred)\n",
    "print('Root Mean Squared Error (RMSE) for mse_y_test_y_pred:', rmse_y_train_y_pred)\n",
    "\n",
    "print('Model cofficients:', model.coef_)"
   ]
  },
  {
   "cell_type": "code",
   "execution_count": 212,
   "metadata": {},
   "outputs": [
    {
     "data": {
      "text/html": [
       "<div>\n",
       "<style scoped>\n",
       "    .dataframe tbody tr th:only-of-type {\n",
       "        vertical-align: middle;\n",
       "    }\n",
       "\n",
       "    .dataframe tbody tr th {\n",
       "        vertical-align: top;\n",
       "    }\n",
       "\n",
       "    .dataframe thead th {\n",
       "        text-align: right;\n",
       "    }\n",
       "</style>\n",
       "<table border=\"1\" class=\"dataframe\">\n",
       "  <thead>\n",
       "    <tr style=\"text-align: right;\">\n",
       "      <th></th>\n",
       "      <th>Model coefficients</th>\n",
       "    </tr>\n",
       "  </thead>\n",
       "  <tbody>\n",
       "    <tr>\n",
       "      <th>flat_area</th>\n",
       "      <td>330240.268943</td>\n",
       "    </tr>\n",
       "    <tr>\n",
       "      <th>rooms</th>\n",
       "      <td>-34763.147792</td>\n",
       "    </tr>\n",
       "    <tr>\n",
       "      <th>distance_category</th>\n",
       "      <td>-2228.011811</td>\n",
       "    </tr>\n",
       "    <tr>\n",
       "      <th>code type</th>\n",
       "      <td>12540.533571</td>\n",
       "    </tr>\n",
       "    <tr>\n",
       "      <th>prestigious</th>\n",
       "      <td>11972.137137</td>\n",
       "    </tr>\n",
       "  </tbody>\n",
       "</table>\n",
       "</div>"
      ],
      "text/plain": [
       "                   Model coefficients\n",
       "flat_area               330240.268943\n",
       "rooms                   -34763.147792\n",
       "distance_category        -2228.011811\n",
       "code type                12540.533571\n",
       "prestigious              11972.137137"
      ]
     },
     "execution_count": 212,
     "metadata": {},
     "output_type": "execute_result"
    }
   ],
   "source": [
    "# Оцінка кoефіцієнтів\n",
    "df_coef = pd.DataFrame(model.coef_, X.columns, columns=['Model coefficients'])\n",
    "df_coef"
   ]
  },
  {
   "cell_type": "code",
   "execution_count": 213,
   "metadata": {},
   "outputs": [
    {
     "name": "stdout",
     "output_type": "stream",
     "text": [
      "Price for 40 sqmeters, 1 room, close to metro, Хороший стан of flat, prestigious district: [11111.82443188] hryvnas\n"
     ]
    },
    {
     "name": "stderr",
     "output_type": "stream",
     "text": [
      "C:\\Users\\liman\\anaconda3\\lib\\site-packages\\sklearn\\base.py:450: UserWarning: X does not have valid feature names, but MinMaxScaler was fitted with feature names\n",
      "  warnings.warn(\n"
     ]
    }
   ],
   "source": [
    "#Prediction\n",
    "price_pred = model.predict(mmscaler.transform([[40, 1, 1, 4, 3]]))\n",
    "# 40 sqmeters, 1 room, close to metro, good state of flat, prestigious district\n",
    "print(\"Price for 40 sqmeters, 1 room, close to metro, Хороший стан of flat, prestigious district:\", price_pred, \"hryvnas\")"
   ]
  },
  {
   "cell_type": "code",
   "execution_count": 214,
   "metadata": {},
   "outputs": [
    {
     "name": "stdout",
     "output_type": "stream",
     "text": [
      "Price for 60 sqmeters, 2 rooms, close to metro, Євроремонт state of flat, prestigious district: [13719.2362224] hryvnas\n"
     ]
    },
    {
     "name": "stderr",
     "output_type": "stream",
     "text": [
      "C:\\Users\\liman\\anaconda3\\lib\\site-packages\\sklearn\\base.py:450: UserWarning: X does not have valid feature names, but MinMaxScaler was fitted with feature names\n",
      "  warnings.warn(\n"
     ]
    }
   ],
   "source": [
    "#Prediction\n",
    "price_pred = model.predict(mmscaler.transform([[60, 2, 1, 5, 3]]))\n",
    " # 40 sqmeters, 1 room, close to metro, good state of flat, prestigious district\n",
    "print(\"Price for 60 sqmeters, 2 rooms, close to metro, Євроремонт state of flat, prestigious district:\", price_pred, \"hryvnas\")"
   ]
  },
  {
   "cell_type": "code",
   "execution_count": 215,
   "metadata": {},
   "outputs": [
    {
     "name": "stdout",
     "output_type": "stream",
     "text": [
      "Price for 40 sqmeters, 1 room, close to metro, Хороший стан of flat, not prestigious district: [-860.31270486] hryvnas\n"
     ]
    },
    {
     "name": "stderr",
     "output_type": "stream",
     "text": [
      "C:\\Users\\liman\\anaconda3\\lib\\site-packages\\sklearn\\base.py:450: UserWarning: X does not have valid feature names, but MinMaxScaler was fitted with feature names\n",
      "  warnings.warn(\n"
     ]
    }
   ],
   "source": [
    "#Prediction\n",
    "price_pred = model.predict(mmscaler.transform([[40, 1, 1, 4, 1]])) # 40 sqmeters, 1 room, close to metro, good state of flat, prestigious district\n",
    "print(\"Price for 40 sqmeters, 1 room, close to metro, Хороший стан of flat, not prestigious district:\", price_pred, \"hryvnas\")"
   ]
  },
  {
   "cell_type": "code",
   "execution_count": 216,
   "metadata": {},
   "outputs": [
    {
     "name": "stdout",
     "output_type": "stream",
     "text": [
      "Price for 160 sqmeters, 4 rooms, distant from metro, Дизайнерський ремонт of flat, prestigious district: [29710.5050751] hryvnas\n"
     ]
    },
    {
     "name": "stderr",
     "output_type": "stream",
     "text": [
      "C:\\Users\\liman\\anaconda3\\lib\\site-packages\\sklearn\\base.py:450: UserWarning: X does not have valid feature names, but MinMaxScaler was fitted with feature names\n",
      "  warnings.warn(\n"
     ]
    }
   ],
   "source": [
    "#Prediction\n",
    "price_pred = model.predict(mmscaler.transform([[160, 4, 3, 5, 3]])) # 40 sqmeters, 1 room, close to metro, good state of flat, prestigious district\n",
    "print(\"Price for 160 sqmeters, 4 rooms, distant from metro, Дизайнерський ремонт of flat, prestigious district:\", price_pred, \"hryvnas\")"
   ]
  },
  {
   "cell_type": "code",
   "execution_count": 217,
   "metadata": {},
   "outputs": [
    {
     "name": "stdout",
     "output_type": "stream",
     "text": [
      "Price for 40 sqmeters, 1 room, close to metro, Потрібен капітальний ремонт,prestigious district 1: [-10265.71288311] hryvnas\n"
     ]
    },
    {
     "name": "stderr",
     "output_type": "stream",
     "text": [
      "C:\\Users\\liman\\anaconda3\\lib\\site-packages\\sklearn\\base.py:450: UserWarning: X does not have valid feature names, but MinMaxScaler was fitted with feature names\n",
      "  warnings.warn(\n"
     ]
    }
   ],
   "source": [
    "#Prediction\n",
    "price_pred = model.predict(mmscaler.transform([[40, 1, 1, 1, 1]])) # 40 sqmeters, 1 room, close to metro, good state of flat, prestigious district\n",
    "print(\"Price for 40 sqmeters, 1 room, close to metro, Потрібен капітальний ремонт,prestigious district 1:\", price_pred, \"hryvnas\")"
   ]
  },
  {
   "cell_type": "code",
   "execution_count": 218,
   "metadata": {},
   "outputs": [
    {
     "data": {
      "text/plain": [
       "Lasso(alpha=1)"
      ]
     },
     "execution_count": 218,
     "metadata": {},
     "output_type": "execute_result"
    }
   ],
   "source": [
    "#Lasso of the model\n",
    "\n",
    "from sklearn.linear_model import Lasso\n",
    "\n",
    "lasso_model = Lasso(alpha=1)\n",
    "\n",
    "lasso_model.fit(X_train_mmscaled, y_train)\n"
   ]
  },
  {
   "cell_type": "code",
   "execution_count": 219,
   "metadata": {},
   "outputs": [
    {
     "name": "stdout",
     "output_type": "stream",
     "text": [
      "Train score for lasso_model: 0.5790954205303336\n",
      "Test score for lasso_model: 0.5436404900780325\n",
      "Mean Squared Error (MSE) for lasso_mse_y_train_y_pred: 420579200.93061626\n",
      "Root Mean Squared Error (RMSE) for lasso_mse_y_train_y_pred: 20508.02771917905\n",
      "Mean Squared Error (MSE) for lasso_mse_y_test_y_pred: 420579200.93061626\n",
      "Root Mean Squared Error (RMSE) for lasso_mse_y_test_y_pred: 20508.02771917905\n",
      "Model cofficients: [329606.95659402 -34533.27271539  -2215.41702127  12549.09301658\n",
      "  11974.50202567]\n"
     ]
    }
   ],
   "source": [
    "y_pred_train=lasso_model.predict(X_train_mmscaled)\n",
    "lasso_mse_y_train_y_pred=mean_squared_error(y_train, y_pred_train)\n",
    "lasso_rmse_y_train_y_pred=np.sqrt(mean_squared_error(y_train, y_pred_train))\n",
    "\n",
    "lasso_y_pred_test = lasso_model.predict(X_test_mmscaled)\n",
    "lasso_mse_y_test_y_pred = mean_squared_error(y_test, y_pred_test)\n",
    "lasso_rmse_y_test_y_pred=np.sqrt(mean_squared_error(y_test, y_pred_test))\n",
    "\n",
    "lasso_score_train = lasso_model.score(X_train_mmscaled, y_train)\n",
    "lasso_score_test = lasso_model.score(X_test_mmscaled, y_test)\n",
    "\n",
    "print('Train score for lasso_model:', lasso_score_train)\n",
    "print('Test score for lasso_model:', lasso_score_test)\n",
    "\n",
    "print('Mean Squared Error (MSE) for lasso_mse_y_train_y_pred:', lasso_mse_y_train_y_pred)\n",
    "print('Root Mean Squared Error (RMSE) for lasso_mse_y_train_y_pred:', lasso_rmse_y_train_y_pred)\n",
    "print('Mean Squared Error (MSE) for lasso_mse_y_test_y_pred:', lasso_mse_y_train_y_pred)\n",
    "print('Root Mean Squared Error (RMSE) for lasso_mse_y_test_y_pred:', lasso_rmse_y_train_y_pred)\n",
    "\n",
    "print('Model cofficients:', lasso_model.coef_)"
   ]
  },
  {
   "cell_type": "code",
   "execution_count": 220,
   "metadata": {},
   "outputs": [
    {
     "data": {
      "text/html": [
       "<div>\n",
       "<style scoped>\n",
       "    .dataframe tbody tr th:only-of-type {\n",
       "        vertical-align: middle;\n",
       "    }\n",
       "\n",
       "    .dataframe tbody tr th {\n",
       "        vertical-align: top;\n",
       "    }\n",
       "\n",
       "    .dataframe thead th {\n",
       "        text-align: right;\n",
       "    }\n",
       "</style>\n",
       "<table border=\"1\" class=\"dataframe\">\n",
       "  <thead>\n",
       "    <tr style=\"text-align: right;\">\n",
       "      <th></th>\n",
       "      <th>Model coefficients</th>\n",
       "    </tr>\n",
       "  </thead>\n",
       "  <tbody>\n",
       "    <tr>\n",
       "      <th>flat_area</th>\n",
       "      <td>329606.956594</td>\n",
       "    </tr>\n",
       "    <tr>\n",
       "      <th>rooms</th>\n",
       "      <td>-34533.272715</td>\n",
       "    </tr>\n",
       "    <tr>\n",
       "      <th>distance_category</th>\n",
       "      <td>-2215.417021</td>\n",
       "    </tr>\n",
       "    <tr>\n",
       "      <th>code type</th>\n",
       "      <td>12549.093017</td>\n",
       "    </tr>\n",
       "    <tr>\n",
       "      <th>prestigious</th>\n",
       "      <td>11974.502026</td>\n",
       "    </tr>\n",
       "  </tbody>\n",
       "</table>\n",
       "</div>"
      ],
      "text/plain": [
       "                   Model coefficients\n",
       "flat_area               329606.956594\n",
       "rooms                   -34533.272715\n",
       "distance_category        -2215.417021\n",
       "code type                12549.093017\n",
       "prestigious              11974.502026"
      ]
     },
     "execution_count": 220,
     "metadata": {},
     "output_type": "execute_result"
    }
   ],
   "source": [
    "# Оцінка кoефіцієнтів\n",
    "lasso_df_coef = pd.DataFrame(lasso_model.coef_, X.columns, columns=['Model coefficients'])\n",
    "lasso_df_coef"
   ]
  },
  {
   "cell_type": "code",
   "execution_count": 221,
   "metadata": {},
   "outputs": [
    {
     "name": "stdout",
     "output_type": "stream",
     "text": [
      "Price for 40 sqmeters, 1 room, close to metro, Хороший стан of flat, prestigious district: [11116.2579913] hryvnas\n"
     ]
    },
    {
     "name": "stderr",
     "output_type": "stream",
     "text": [
      "C:\\Users\\liman\\anaconda3\\lib\\site-packages\\sklearn\\base.py:450: UserWarning: X does not have valid feature names, but MinMaxScaler was fitted with feature names\n",
      "  warnings.warn(\n"
     ]
    }
   ],
   "source": [
    "#Prediction \n",
    "price_pred = lasso_model.predict(mmscaler.transform([[40, 1, 1, 4, 3]])) # 40 sqmeters, 1 room, close to metro, good state of flat, prestigious district\n",
    "print(\"Price for 40 sqmeters, 1 room, close to metro, Хороший стан of flat, prestigious district:\", price_pred, \"hryvnas\")"
   ]
  },
  {
   "cell_type": "code",
   "execution_count": 222,
   "metadata": {},
   "outputs": [
    {
     "name": "stdout",
     "output_type": "stream",
     "text": [
      "Price for 40 sqmeters, 1 room, close to metro, Хороший стан of flat, not prestigious district: [-858.24403438] hryvnas\n"
     ]
    },
    {
     "name": "stderr",
     "output_type": "stream",
     "text": [
      "C:\\Users\\liman\\anaconda3\\lib\\site-packages\\sklearn\\base.py:450: UserWarning: X does not have valid feature names, but MinMaxScaler was fitted with feature names\n",
      "  warnings.warn(\n"
     ]
    }
   ],
   "source": [
    "#Prediction\n",
    "price_pred = lasso_model.predict(mmscaler.transform([[40, 1, 1, 4, 1]]))# 40 sqmeters, 1 room, close to metro, good state of flat, prestigious district\n",
    "print(\"Price for 40 sqmeters, 1 room, close to metro, Хороший стан of flat, not prestigious district:\", price_pred, \"hryvnas\")"
   ]
  },
  {
   "cell_type": "code",
   "execution_count": 223,
   "metadata": {},
   "outputs": [
    {
     "name": "stdout",
     "output_type": "stream",
     "text": [
      "Price for 40 sqmeters, 1 room, close to metro, Потрібен капітальний ремонт,prestigious district 1: [-10270.06379681] hryvnas\n"
     ]
    },
    {
     "name": "stderr",
     "output_type": "stream",
     "text": [
      "C:\\Users\\liman\\anaconda3\\lib\\site-packages\\sklearn\\base.py:450: UserWarning: X does not have valid feature names, but MinMaxScaler was fitted with feature names\n",
      "  warnings.warn(\n"
     ]
    }
   ],
   "source": [
    "#Prediction\n",
    "price_pred = lasso_model.predict(mmscaler.transform([[40, 1, 1, 1, 1]])) # 40 sqmeters, 1 room, close to metro, good state of flat, prestigious district\n",
    "print(\"Price for 40 sqmeters, 1 room, close to metro, Потрібен капітальний ремонт,prestigious district 1:\", price_pred, \"hryvnas\")"
   ]
  },
  {
   "cell_type": "code",
   "execution_count": 224,
   "metadata": {},
   "outputs": [
    {
     "data": {
      "text/plain": [
       "Ridge(alpha=1)"
      ]
     },
     "execution_count": 224,
     "metadata": {},
     "output_type": "execute_result"
    }
   ],
   "source": [
    "from sklearn.linear_model import Ridge\n",
    "\n",
    "ridge_model = Ridge(alpha=1)\n",
    "\n",
    "ridge_model.fit(X_train_mmscaled, y_train)\n"
   ]
  },
  {
   "cell_type": "code",
   "execution_count": 225,
   "metadata": {},
   "outputs": [
    {
     "name": "stdout",
     "output_type": "stream",
     "text": [
      "Train score for ridge_model: 0.5768338518559327\n",
      "Test score for ridge_model: 0.5462479884403388\n",
      "Mean Squared Error (MSE) for ridge_mse_y_train_y_pred: 422839021.3087355\n",
      "Root Mean Squared Error (RMSE) for ridge_mse_y_train_y_pred: 20563.049902889783\n",
      "Mean Squared Error (MSE) for ridge_mse_y_test_y_pred: 422839021.3087355\n",
      "Root Mean Squared Error (RMSE) for ridge_mse_y_test_y_pred: 20563.049902889783\n",
      "Model cofficients: [296606.263845   -24290.26751724  -2371.77885435  13883.90311037\n",
      "  12330.00870108]\n"
     ]
    }
   ],
   "source": [
    "y_pred_train=ridge_model.predict(X_train_mmscaled)\n",
    "ridge_mse_y_train_y_pred=mean_squared_error(y_train, y_pred_train)\n",
    "ridge_rmse_y_train_y_pred=np.sqrt(mean_squared_error(y_train, y_pred_train))\n",
    "\n",
    "ridge_y_pred_test = ridge_model.predict(X_test_mmscaled)\n",
    "ridge_mse_y_test_y_pred = mean_squared_error(y_test, y_pred_test)\n",
    "ridge_rmse_y_test_y_pred=np.sqrt(mean_squared_error(y_test, y_pred_test))\n",
    "\n",
    "ridge_score_train = ridge_model.score(X_train_mmscaled, y_train)\n",
    "ridge_score_test = ridge_model.score(X_test_mmscaled, y_test)\n",
    "\n",
    "print('Train score for ridge_model:', ridge_score_train)\n",
    "print('Test score for ridge_model:', ridge_score_test)\n",
    "\n",
    "print('Mean Squared Error (MSE) for ridge_mse_y_train_y_pred:', ridge_mse_y_train_y_pred)\n",
    "print('Root Mean Squared Error (RMSE) for ridge_mse_y_train_y_pred:', ridge_rmse_y_train_y_pred)\n",
    "print('Mean Squared Error (MSE) for ridge_mse_y_test_y_pred:', ridge_mse_y_train_y_pred)\n",
    "print('Root Mean Squared Error (RMSE) for ridge_mse_y_test_y_pred:', ridge_rmse_y_train_y_pred)\n",
    "\n",
    "print('Model cofficients:', ridge_model.coef_)"
   ]
  },
  {
   "cell_type": "code",
   "execution_count": 226,
   "metadata": {},
   "outputs": [
    {
     "data": {
      "text/html": [
       "<div>\n",
       "<style scoped>\n",
       "    .dataframe tbody tr th:only-of-type {\n",
       "        vertical-align: middle;\n",
       "    }\n",
       "\n",
       "    .dataframe tbody tr th {\n",
       "        vertical-align: top;\n",
       "    }\n",
       "\n",
       "    .dataframe thead th {\n",
       "        text-align: right;\n",
       "    }\n",
       "</style>\n",
       "<table border=\"1\" class=\"dataframe\">\n",
       "  <thead>\n",
       "    <tr style=\"text-align: right;\">\n",
       "      <th></th>\n",
       "      <th>Model coefficients</th>\n",
       "    </tr>\n",
       "  </thead>\n",
       "  <tbody>\n",
       "    <tr>\n",
       "      <th>flat_area</th>\n",
       "      <td>296606.263845</td>\n",
       "    </tr>\n",
       "    <tr>\n",
       "      <th>rooms</th>\n",
       "      <td>-24290.267517</td>\n",
       "    </tr>\n",
       "    <tr>\n",
       "      <th>distance_category</th>\n",
       "      <td>-2371.778854</td>\n",
       "    </tr>\n",
       "    <tr>\n",
       "      <th>code type</th>\n",
       "      <td>13883.903110</td>\n",
       "    </tr>\n",
       "    <tr>\n",
       "      <th>prestigious</th>\n",
       "      <td>12330.008701</td>\n",
       "    </tr>\n",
       "  </tbody>\n",
       "</table>\n",
       "</div>"
      ],
      "text/plain": [
       "                   Model coefficients\n",
       "flat_area               296606.263845\n",
       "rooms                   -24290.267517\n",
       "distance_category        -2371.778854\n",
       "code type                13883.903110\n",
       "prestigious              12330.008701"
      ]
     },
     "execution_count": 226,
     "metadata": {},
     "output_type": "execute_result"
    }
   ],
   "source": [
    "# Оцінка кoефіцієнтів\n",
    "ridge_df_coef = pd.DataFrame(ridge_model.coef_, X.columns, columns=['Model coefficients'])\n",
    "ridge_df_coef"
   ]
  },
  {
   "cell_type": "code",
   "execution_count": 227,
   "metadata": {},
   "outputs": [
    {
     "name": "stdout",
     "output_type": "stream",
     "text": [
      "Price for 40 sqmeters, 1 room, close to metro, Хороший стан of flat, prestigious district: [11972.89085969] hryvnas\n"
     ]
    },
    {
     "name": "stderr",
     "output_type": "stream",
     "text": [
      "C:\\Users\\liman\\anaconda3\\lib\\site-packages\\sklearn\\base.py:450: UserWarning: X does not have valid feature names, but MinMaxScaler was fitted with feature names\n",
      "  warnings.warn(\n"
     ]
    }
   ],
   "source": [
    "#Prediction\n",
    "price_pred = ridge_model.predict(mmscaler.transform([[40, 1, 1, 4, 3]])) # 40 sqmeters, 1 room, close to metro, good state of flat, prestigious district\n",
    "print(\"Price for 40 sqmeters, 1 room, close to metro, Хороший стан of flat, prestigious district:\", price_pred, \"hryvnas\")"
   ]
  },
  {
   "cell_type": "code",
   "execution_count": 228,
   "metadata": {},
   "outputs": [
    {
     "name": "stdout",
     "output_type": "stream",
     "text": [
      "Price for 40 sqmeters, 1 room, close to metro, Потрібен капітальний ремонт,prestigious district 1: [-10265.71288311] hryvnas\n"
     ]
    },
    {
     "name": "stderr",
     "output_type": "stream",
     "text": [
      "C:\\Users\\liman\\anaconda3\\lib\\site-packages\\sklearn\\base.py:450: UserWarning: X does not have valid feature names, but MinMaxScaler was fitted with feature names\n",
      "  warnings.warn(\n"
     ]
    }
   ],
   "source": [
    "#Prediction\n",
    "price_pred = model.predict(mmscaler.transform([[40, 1, 1, 1, 1]])) # 40 sqmeters, 1 room, close to metro, good state of flat, prestigious district\n",
    "print(\"Price for 40 sqmeters, 1 room, close to metro, Потрібен капітальний ремонт,prestigious district 1:\", price_pred, \"hryvnas\")"
   ]
  },
  {
   "cell_type": "code",
   "execution_count": 229,
   "metadata": {},
   "outputs": [
    {
     "data": {
      "text/plain": [
       "DecisionTreeRegressor(max_depth=4)"
      ]
     },
     "execution_count": 229,
     "metadata": {},
     "output_type": "execute_result"
    }
   ],
   "source": [
    "from sklearn.tree import DecisionTreeRegressor\n",
    "from sklearn.model_selection import cross_val_score\n",
    "# I added max_depth param = 4\n",
    "regressor = DecisionTreeRegressor(max_depth=4)\n",
    "\n",
    "regressor.fit(X_train_mmscaled, y_train)\n"
   ]
  },
  {
   "cell_type": "code",
   "execution_count": 230,
   "metadata": {},
   "outputs": [
    {
     "name": "stdout",
     "output_type": "stream",
     "text": [
      "Training R2 Score for X_train, y_train: 0.6912331339051985\n",
      "Test R2 Score for X_test, y_test: 0.4860315272658472\n",
      "Mean Squared Error (MSE) for regressor_mse_y_train_y_pred: 422839021.3087355\n",
      "Root Mean Squared Error (RMSE) for regressor_mse_y_train_y_pred: 20563.049902889783\n",
      "Mean Squared Error (MSE) for regressor_mse_y_test_y_pred: 422839021.3087355\n",
      "Root Mean Squared Error (RMSE) for regressor_mse_y_test_y_pred: 20563.049902889783\n",
      "Model feature importances: [0.82105149 0.06821247 0.         0.08883566 0.02190038]\n",
      "Cross-validated R2 scores: [0.56816268 0.71914981 0.28635202 0.66600079 0.51978856]\n",
      "Mean R2 score: 0.5518907723759898\n"
     ]
    }
   ],
   "source": [
    "regressor_y_pred_train=regressor.predict(X_train_mmscaled)\n",
    "regressor_mse_y_train_y_pred=mean_squared_error(y_train, y_pred_train)\n",
    "regressor_rmse_y_train_y_pred=np.sqrt(mean_squared_error(y_train, y_pred_train))\n",
    "\n",
    "regressor_y_pred_test = regressor.predict(X_test_mmscaled)\n",
    "regressor_mse_y_test_y_pred = mean_squared_error(y_test, y_pred_test)\n",
    "regressor_rmse_y_test_y_pred=np.sqrt(mean_squared_error(y_test, y_pred_test))\n",
    "\n",
    "train_score = regressor.score(X_train_mmscaled, y_train)\n",
    "print(\"Training R2 Score for X_train, y_train:\", train_score)\n",
    "\n",
    "test_score = regressor.score(X_test_mmscaled, y_test)\n",
    "print(\"Test R2 Score for X_test, y_test:\", test_score)\n",
    "\n",
    "print('Mean Squared Error (MSE) for regressor_mse_y_train_y_pred:', regressor_mse_y_train_y_pred)\n",
    "print('Root Mean Squared Error (RMSE) for regressor_mse_y_train_y_pred:', regressor_rmse_y_train_y_pred)\n",
    "print('Mean Squared Error (MSE) for regressor_mse_y_test_y_pred:', regressor_mse_y_train_y_pred)\n",
    "print('Root Mean Squared Error (RMSE) for regressor_mse_y_test_y_pred:', regressor_rmse_y_train_y_pred)\n",
    "\n",
    "print('Model feature importances:', regressor.feature_importances_) \n",
    "\n",
    "# Perform 5-fold cross-validation on the training data\n",
    "scores = cross_val_score(regressor, X_train, y_train, cv=5, scoring='r2')\n",
    "\n",
    "print(\"Cross-validated R2 scores:\", scores)\n",
    "print(\"Mean R2 score:\", scores.mean())"
   ]
  },
  {
   "cell_type": "code",
   "execution_count": 231,
   "metadata": {},
   "outputs": [
    {
     "data": {
      "text/html": [
       "<div>\n",
       "<style scoped>\n",
       "    .dataframe tbody tr th:only-of-type {\n",
       "        vertical-align: middle;\n",
       "    }\n",
       "\n",
       "    .dataframe tbody tr th {\n",
       "        vertical-align: top;\n",
       "    }\n",
       "\n",
       "    .dataframe thead th {\n",
       "        text-align: right;\n",
       "    }\n",
       "</style>\n",
       "<table border=\"1\" class=\"dataframe\">\n",
       "  <thead>\n",
       "    <tr style=\"text-align: right;\">\n",
       "      <th></th>\n",
       "      <th>Feature Importances</th>\n",
       "    </tr>\n",
       "  </thead>\n",
       "  <tbody>\n",
       "    <tr>\n",
       "      <th>flat_area</th>\n",
       "      <td>0.821051</td>\n",
       "    </tr>\n",
       "    <tr>\n",
       "      <th>rooms</th>\n",
       "      <td>0.068212</td>\n",
       "    </tr>\n",
       "    <tr>\n",
       "      <th>distance_category</th>\n",
       "      <td>0.000000</td>\n",
       "    </tr>\n",
       "    <tr>\n",
       "      <th>code type</th>\n",
       "      <td>0.088836</td>\n",
       "    </tr>\n",
       "    <tr>\n",
       "      <th>prestigious</th>\n",
       "      <td>0.021900</td>\n",
       "    </tr>\n",
       "  </tbody>\n",
       "</table>\n",
       "</div>"
      ],
      "text/plain": [
       "                   Feature Importances\n",
       "flat_area                     0.821051\n",
       "rooms                         0.068212\n",
       "distance_category             0.000000\n",
       "code type                     0.088836\n",
       "prestigious                   0.021900"
      ]
     },
     "execution_count": 231,
     "metadata": {},
     "output_type": "execute_result"
    }
   ],
   "source": [
    "# Оцінка кoефіцієнтів\n",
    "regr_df_imp = pd.DataFrame(regressor.feature_importances_, X.columns, columns=['Feature Importances'])\n",
    "regr_df_imp"
   ]
  },
  {
   "cell_type": "code",
   "execution_count": 232,
   "metadata": {},
   "outputs": [
    {
     "name": "stdout",
     "output_type": "stream",
     "text": [
      "Price for 40 sqmeters, 1 room, close to metro, Хороший стан of flat, prestigious district: [18518.34683099] hryvnas\n"
     ]
    },
    {
     "name": "stderr",
     "output_type": "stream",
     "text": [
      "C:\\Users\\liman\\anaconda3\\lib\\site-packages\\sklearn\\base.py:450: UserWarning: X does not have valid feature names, but MinMaxScaler was fitted with feature names\n",
      "  warnings.warn(\n"
     ]
    }
   ],
   "source": [
    "#Prediction\n",
    "price_pred = regressor.predict(mmscaler.transform([[40, 1, 1, 4, 3]])) # 40 sqmeters, 1 room, close to metro, good state of flat, prestigious district\n",
    "print(\"Price for 40 sqmeters, 1 room, close to metro, Хороший стан of flat, prestigious district:\", price_pred, \"hryvnas\")"
   ]
  },
  {
   "cell_type": "code",
   "execution_count": 233,
   "metadata": {},
   "outputs": [
    {
     "name": "stdout",
     "output_type": "stream",
     "text": [
      "Price for 60 sqmeters, 2 rooms, close to metro, Євроремонт state of flat, prestigious district: [20628.78661088] hryvnas\n"
     ]
    },
    {
     "name": "stderr",
     "output_type": "stream",
     "text": [
      "C:\\Users\\liman\\anaconda3\\lib\\site-packages\\sklearn\\base.py:450: UserWarning: X does not have valid feature names, but MinMaxScaler was fitted with feature names\n",
      "  warnings.warn(\n"
     ]
    }
   ],
   "source": [
    "#Prediction\n",
    "price_pred = regressor.predict(mmscaler.transform([[60, 2, 1, 5, 3]])) # 40 sqmeters, 1 room, close to metro, good state of flat, prestigious district\n",
    "print(\"Price for 60 sqmeters, 2 rooms, close to metro, Євроремонт state of flat, prestigious district:\", price_pred, \"hryvnas\")"
   ]
  },
  {
   "cell_type": "code",
   "execution_count": 234,
   "metadata": {},
   "outputs": [
    {
     "name": "stdout",
     "output_type": "stream",
     "text": [
      "Price for 40 sqmeters, 1 room, close to metro, Хороший стан of flat, not prestigious district: [11242.09689737] hryvnas\n"
     ]
    },
    {
     "name": "stderr",
     "output_type": "stream",
     "text": [
      "C:\\Users\\liman\\anaconda3\\lib\\site-packages\\sklearn\\base.py:450: UserWarning: X does not have valid feature names, but MinMaxScaler was fitted with feature names\n",
      "  warnings.warn(\n"
     ]
    }
   ],
   "source": [
    "#Prediction\n",
    "price_pred = regressor.predict(mmscaler.transform([[40, 1, 1, 4, 1]])) # 40 sqmeters, 1 room, close to metro, good state of flat, prestigious district\n",
    "print(\"Price for 40 sqmeters, 1 room, close to metro, Хороший стан of flat, not prestigious district:\", price_pred, \"hryvnas\")"
   ]
  },
  {
   "cell_type": "code",
   "execution_count": 235,
   "metadata": {},
   "outputs": [
    {
     "name": "stdout",
     "output_type": "stream",
     "text": [
      "Price for 160 sqmeters, 4 rooms, distant from metro, Дизайнерський ремонт of flat, prestigious district: [40585.66666667] hryvnas\n"
     ]
    },
    {
     "name": "stderr",
     "output_type": "stream",
     "text": [
      "C:\\Users\\liman\\anaconda3\\lib\\site-packages\\sklearn\\base.py:450: UserWarning: X does not have valid feature names, but MinMaxScaler was fitted with feature names\n",
      "  warnings.warn(\n"
     ]
    }
   ],
   "source": [
    "#Prediction\n",
    "price_pred = regressor.predict(mmscaler.transform([[160, 4, 3, 5, 3]])) # 40 sqmeters, 1 room, close to metro, good state of flat, prestigious district\n",
    "print(\"Price for 160 sqmeters, 4 rooms, distant from metro, Дизайнерський ремонт of flat, prestigious district:\", price_pred, \"hryvnas\")"
   ]
  },
  {
   "cell_type": "code",
   "execution_count": 236,
   "metadata": {},
   "outputs": [
    {
     "name": "stdout",
     "output_type": "stream",
     "text": [
      "Price for 40 sqmeters, 1 room, close to metro, Потрібен капітальний ремонт,prestigious district 1: [11242.09689737] hryvnas\n"
     ]
    },
    {
     "name": "stderr",
     "output_type": "stream",
     "text": [
      "C:\\Users\\liman\\anaconda3\\lib\\site-packages\\sklearn\\base.py:450: UserWarning: X does not have valid feature names, but MinMaxScaler was fitted with feature names\n",
      "  warnings.warn(\n"
     ]
    }
   ],
   "source": [
    "#Prediction\n",
    "price_pred = regressor.predict(mmscaler.transform([[40, 1, 1, 1, 1]])) # 40 sqmeters, 1 room, close to metro, good state of flat, prestigious district\n",
    "print(\"Price for 40 sqmeters, 1 room, close to metro, Потрібен капітальний ремонт,prestigious district 1:\", price_pred, \"hryvnas\")"
   ]
  },
  {
   "cell_type": "code",
   "execution_count": null,
   "metadata": {},
   "outputs": [],
   "source": []
  },
  {
   "cell_type": "code",
   "execution_count": 237,
   "metadata": {},
   "outputs": [
    {
     "data": {
      "text/plain": [
       "RandomForestRegressor(max_depth=12, min_samples_leaf=2, min_samples_split=3,\n",
       "                      n_estimators=150)"
      ]
     },
     "execution_count": 237,
     "metadata": {},
     "output_type": "execute_result"
    }
   ],
   "source": [
    "from sklearn.ensemble import RandomForestRegressor\n",
    "from sklearn.model_selection import cross_val_score\n",
    "from sklearn.metrics import r2_score\n",
    "\n",
    "regressor_forest = RandomForestRegressor(n_estimators=150, max_depth=12, min_samples_split=3, min_samples_leaf=2)\n",
    "\n",
    "regressor_forest.fit(X_train_mmscaled, y_train)\n"
   ]
  },
  {
   "cell_type": "code",
   "execution_count": 238,
   "metadata": {},
   "outputs": [
    {
     "name": "stdout",
     "output_type": "stream",
     "text": [
      "Training R2 Score for X_train, y_train: 0.8216590497930709\n",
      "Test R2 Score for X_test, y_test: 0.588163396563768\n",
      "Mean Squared Error (MSE) for regressor_forest_mse_y_train_y_pred: 422839021.3087355\n",
      "Root Mean Squared Error (RMSE) for regressor_forest_rmse_y_train_y_pred: 20563.049902889783\n",
      "Mean Squared Error (MSE) for regressor_forest_mse_y_test_y_pred: 422839021.3087355\n",
      "Root Mean Squared Error (RMSE) for regressor_forest_rmse_y_test_y_pred: 20563.049902889783\n",
      "Model regressor_forest feature importances: [0.80572236 0.05252039 0.00260856 0.09290884 0.04623985]\n",
      "Cross-validated R2 scores: [0.58317391 0.56732519 0.53408154 0.72316243 0.52436964]\n",
      "Mean R2 score: 0.5864225423523839\n"
     ]
    }
   ],
   "source": [
    "regressor_forest_y_pred_train=regressor_forest.predict(X_train_mmscaled)\n",
    "regressor_forest_mse_y_train_y_pred=mean_squared_error(y_train, y_pred_train)\n",
    "regressor_forest_rmse_y_train_y_pred=np.sqrt(mean_squared_error(y_train, y_pred_train))\n",
    "\n",
    "regressor_forest_y_pred_test = regressor_forest.predict(X_test_mmscaled)\n",
    "regressor_forest_mse_y_test_y_pred = mean_squared_error(y_test, y_pred_test)\n",
    "regressor_forest_rmse_y_test_y_pred=np.sqrt(mean_squared_error(y_test, y_pred_test))\n",
    "\n",
    "f_train_score = regressor_forest.score(X_train_mmscaled, y_train)\n",
    "print(\"Training R2 Score for X_train, y_train:\", f_train_score)\n",
    "\n",
    "f_test_score = regressor_forest.score(X_test_mmscaled, y_test)\n",
    "print(\"Test R2 Score for X_test, y_test:\", f_test_score)\n",
    "\n",
    "print('Mean Squared Error (MSE) for regressor_forest_mse_y_train_y_pred:', regressor_forest_mse_y_train_y_pred)\n",
    "print('Root Mean Squared Error (RMSE) for regressor_forest_rmse_y_train_y_pred:', regressor_forest_rmse_y_train_y_pred)\n",
    "print('Mean Squared Error (MSE) for regressor_forest_mse_y_test_y_pred:', regressor_forest_mse_y_train_y_pred)\n",
    "print('Root Mean Squared Error (RMSE) for regressor_forest_rmse_y_test_y_pred:', regressor_forest_rmse_y_train_y_pred)\n",
    "\n",
    "print('Model regressor_forest feature importances:', regressor_forest.feature_importances_) \n",
    "\n",
    "# Perform 5-fold cross-validation on the training data\n",
    "scores = cross_val_score(regressor_forest, X_train_mmscaled, y_train, cv=5, scoring='r2')\n",
    "\n",
    "print(\"Cross-validated R2 scores:\", scores)\n",
    "print(\"Mean R2 score:\", scores.mean())"
   ]
  },
  {
   "cell_type": "code",
   "execution_count": 239,
   "metadata": {},
   "outputs": [
    {
     "data": {
      "text/html": [
       "<div>\n",
       "<style scoped>\n",
       "    .dataframe tbody tr th:only-of-type {\n",
       "        vertical-align: middle;\n",
       "    }\n",
       "\n",
       "    .dataframe tbody tr th {\n",
       "        vertical-align: top;\n",
       "    }\n",
       "\n",
       "    .dataframe thead th {\n",
       "        text-align: right;\n",
       "    }\n",
       "</style>\n",
       "<table border=\"1\" class=\"dataframe\">\n",
       "  <thead>\n",
       "    <tr style=\"text-align: right;\">\n",
       "      <th></th>\n",
       "      <th>Feature Importances</th>\n",
       "    </tr>\n",
       "  </thead>\n",
       "  <tbody>\n",
       "    <tr>\n",
       "      <th>flat_area</th>\n",
       "      <td>0.805722</td>\n",
       "    </tr>\n",
       "    <tr>\n",
       "      <th>rooms</th>\n",
       "      <td>0.052520</td>\n",
       "    </tr>\n",
       "    <tr>\n",
       "      <th>distance_category</th>\n",
       "      <td>0.002609</td>\n",
       "    </tr>\n",
       "    <tr>\n",
       "      <th>code type</th>\n",
       "      <td>0.092909</td>\n",
       "    </tr>\n",
       "    <tr>\n",
       "      <th>prestigious</th>\n",
       "      <td>0.046240</td>\n",
       "    </tr>\n",
       "  </tbody>\n",
       "</table>\n",
       "</div>"
      ],
      "text/plain": [
       "                   Feature Importances\n",
       "flat_area                     0.805722\n",
       "rooms                         0.052520\n",
       "distance_category             0.002609\n",
       "code type                     0.092909\n",
       "prestigious                   0.046240"
      ]
     },
     "execution_count": 239,
     "metadata": {},
     "output_type": "execute_result"
    }
   ],
   "source": [
    "# Оцінка кoефіцієнтів\n",
    "regrfor_df_imp = pd.DataFrame(regressor_forest.feature_importances_, X.columns, columns=['Feature Importances'])\n",
    "regrfor_df_imp"
   ]
  },
  {
   "cell_type": "code",
   "execution_count": 240,
   "metadata": {},
   "outputs": [
    {
     "name": "stdout",
     "output_type": "stream",
     "text": [
      "[7004.41570197]\n",
      "[28882.97249206]\n",
      "[6842.45042003]\n",
      "[5093.91388408]\n"
     ]
    },
    {
     "name": "stderr",
     "output_type": "stream",
     "text": [
      "C:\\Users\\liman\\anaconda3\\lib\\site-packages\\sklearn\\base.py:450: UserWarning: X does not have valid feature names, but MinMaxScaler was fitted with feature names\n",
      "  warnings.warn(\n",
      "C:\\Users\\liman\\anaconda3\\lib\\site-packages\\sklearn\\base.py:450: UserWarning: X does not have valid feature names, but MinMaxScaler was fitted with feature names\n",
      "  warnings.warn(\n",
      "C:\\Users\\liman\\anaconda3\\lib\\site-packages\\sklearn\\base.py:450: UserWarning: X does not have valid feature names, but MinMaxScaler was fitted with feature names\n",
      "  warnings.warn(\n",
      "C:\\Users\\liman\\anaconda3\\lib\\site-packages\\sklearn\\base.py:450: UserWarning: X does not have valid feature names, but MinMaxScaler was fitted with feature names\n",
      "  warnings.warn(\n"
     ]
    }
   ],
   "source": [
    "#Predictions\n",
    "print(regressor_forest.predict(mmscaler.transform([[80, 2, 1, 1, 1]])))\n",
    "#80 meters, 2 rooms, close to metro, Задовільний стан  state of flat, non-prestigious district\n",
    "print(regressor_forest.predict(mmscaler.transform([[160, 3, 3, 5, 1]])))\n",
    "#160 sqmeters, 3 rooms, distant from metro, Дизайнерський ремонт, non-prestigious district\n",
    "print(regressor_forest.predict(mmscaler.transform([[100, 2, 3, 1, 1]])))\n",
    "#100 sqmeters, 2 rooms, distant from metro,Потрібен капітальний ремонт, non-prestigious district \n",
    "print(regressor_forest.predict(mmscaler.transform([[50, 2, 2, 1, 1]])))\n",
    "#50 sqmeters, 2 rooms, middle distance to metro, Потрібен капітальний ремонт, non-prestigious district "
   ]
  },
  {
   "cell_type": "code",
   "execution_count": 241,
   "metadata": {},
   "outputs": [
    {
     "name": "stdout",
     "output_type": "stream",
     "text": [
      "Price for 40 sqmeters, 1 room, close to metro, Хороший стан of flat, prestigious district: [15715.80849206] hryvnas\n"
     ]
    },
    {
     "name": "stderr",
     "output_type": "stream",
     "text": [
      "C:\\Users\\liman\\anaconda3\\lib\\site-packages\\sklearn\\base.py:450: UserWarning: X does not have valid feature names, but MinMaxScaler was fitted with feature names\n",
      "  warnings.warn(\n"
     ]
    }
   ],
   "source": [
    "#Prediction\n",
    "price_pred = regressor_forest.predict(mmscaler.transform([[40, 1, 1, 4, 3]])) # 40 sqmeters, 1 room, close to metro, good state of flat, prestigious district\n",
    "print(\"Price for 40 sqmeters, 1 room, close to metro, Хороший стан of flat, prestigious district:\", price_pred, \"hryvnas\")"
   ]
  },
  {
   "cell_type": "code",
   "execution_count": 242,
   "metadata": {},
   "outputs": [
    {
     "name": "stdout",
     "output_type": "stream",
     "text": [
      "Price for 60 sqmeters, 2 rooms, close to metro, Євроремонт state of flat, prestigious district: [21982.60049182] hryvnas\n"
     ]
    },
    {
     "name": "stderr",
     "output_type": "stream",
     "text": [
      "C:\\Users\\liman\\anaconda3\\lib\\site-packages\\sklearn\\base.py:450: UserWarning: X does not have valid feature names, but MinMaxScaler was fitted with feature names\n",
      "  warnings.warn(\n"
     ]
    }
   ],
   "source": [
    "#Prediction\n",
    "price_pred = regressor_forest.predict(mmscaler.transform([[60, 2, 1, 5, 3]])) # 40 sqmeters, 1 room, close to metro, good state of flat, prestigious district\n",
    "print(\"Price for 60 sqmeters, 2 rooms, close to metro, Євроремонт state of flat, prestigious district:\", price_pred, \"hryvnas\")"
   ]
  },
  {
   "cell_type": "code",
   "execution_count": 243,
   "metadata": {},
   "outputs": [
    {
     "name": "stdout",
     "output_type": "stream",
     "text": [
      "Price for 40 sqmeters, 1 room, close to metro, Хороший стан of flat, not prestigious district: [10728.6547984] hryvnas\n"
     ]
    },
    {
     "name": "stderr",
     "output_type": "stream",
     "text": [
      "C:\\Users\\liman\\anaconda3\\lib\\site-packages\\sklearn\\base.py:450: UserWarning: X does not have valid feature names, but MinMaxScaler was fitted with feature names\n",
      "  warnings.warn(\n"
     ]
    }
   ],
   "source": [
    "#Prediction\n",
    "price_pred = regressor_forest.predict(mmscaler.transform([[40, 1, 1, 4, 1]])) # 40 sqmeters, 1 room, close to metro, good state of flat, prestigious district\n",
    "print(\"Price for 40 sqmeters, 1 room, close to metro, Хороший стан of flat, not prestigious district:\", price_pred, \"hryvnas\")"
   ]
  },
  {
   "cell_type": "code",
   "execution_count": 244,
   "metadata": {},
   "outputs": [
    {
     "name": "stderr",
     "output_type": "stream",
     "text": [
      "C:\\Users\\liman\\anaconda3\\lib\\site-packages\\sklearn\\base.py:450: UserWarning: X does not have valid feature names, but MinMaxScaler was fitted with feature names\n",
      "  warnings.warn(\n"
     ]
    },
    {
     "name": "stdout",
     "output_type": "stream",
     "text": [
      "Price for 160 sqmeters, 4 rooms, distant from metro, Дизайнерський ремонт of flat, prestigious district: [38109.64532768] hryvnas\n"
     ]
    }
   ],
   "source": [
    "#Prediction\n",
    "price_pred = regressor_forest.predict(mmscaler.transform([[160, 4, 3, 5, 3]])) # 40 sqmeters, 1 room, close to metro, good state of flat, prestigious district\n",
    "print(\"Price for 160 sqmeters, 4 rooms, distant from metro, Дизайнерський ремонт of flat, prestigious district:\", price_pred, \"hryvnas\")"
   ]
  },
  {
   "cell_type": "code",
   "execution_count": 245,
   "metadata": {},
   "outputs": [
    {
     "name": "stdout",
     "output_type": "stream",
     "text": [
      "Price for 40 sqmeters, 1 room, distant from metro, Потрібен капітальний ремонт, prestigious district 1: [5254.12902305] hryvnas\n"
     ]
    },
    {
     "name": "stderr",
     "output_type": "stream",
     "text": [
      "C:\\Users\\liman\\anaconda3\\lib\\site-packages\\sklearn\\base.py:450: UserWarning: X does not have valid feature names, but MinMaxScaler was fitted with feature names\n",
      "  warnings.warn(\n"
     ]
    }
   ],
   "source": [
    "#Prediction\n",
    "price_pred = regressor_forest.predict(mmscaler.transform([[40, 1, 3, 1, 1]])) # 40 sqmeters, 1 room, close to metro, good state of flat, prestigious district\n",
    "print(\"Price for 40 sqmeters, 1 room, distant from metro, Потрібен капітальний ремонт, prestigious district 1:\", price_pred, \"hryvnas\")"
   ]
  },
  {
   "cell_type": "code",
   "execution_count": 246,
   "metadata": {},
   "outputs": [
    {
     "name": "stdout",
     "output_type": "stream",
     "text": [
      "R2 Score: -0.08827913191998493\n"
     ]
    }
   ],
   "source": [
    "from sklearn.svm import SVR\n",
    "\n",
    "regressor = SVR()\n",
    "\n",
    "regressor.fit(X_train_mmscaled, y_train)\n",
    "\n",
    "y_pred = regressor.predict(X_test_mmscaled)\n",
    "\n",
    "score = regressor.score(X_test_mmscaled, y_test)\n",
    "print(\"R2 Score:\", score)"
   ]
  },
  {
   "cell_type": "code",
   "execution_count": 247,
   "metadata": {},
   "outputs": [
    {
     "name": "stdout",
     "output_type": "stream",
     "text": [
      "Best Hyperparameters: {'fit_intercept': True}\n"
     ]
    }
   ],
   "source": [
    "import pandas as pd\n",
    "from sklearn.model_selection import train_test_split\n",
    "from sklearn.linear_model import LinearRegression\n",
    "from sklearn.model_selection import GridSearchCV\n",
    "from sklearn.metrics import mean_squared_error, r2_score\n",
    "\n",
    "X = df[['flat_area', 'rooms', 'distance_category', 'code type', 'prestigious']]\n",
    "y = df['price']\n",
    "\n",
    "mmscaler = MinMaxScaler()\n",
    "\n",
    "X_train, X_test, y_train, y_test = train_test_split(X, y, test_size=0.25, random_state=1)\n",
    "\n",
    "X_train_mmscaled = mmscaler.fit_transform(X_train)\n",
    "\n",
    "model = LinearRegression()\n",
    "model.fit(X_train_mmscaled, y_train)\n",
    "\n",
    "X_test_mmscaled = mmscaler.transform(X_test)\n",
    "\n",
    "X_test_mmscaled = mmscaler.transform(X_test)\n",
    "# y_pred = model.predict(X_test_mmscaled)\n",
    "\n",
    "y_pred_train=model.predict(X_train_mmscaled)\n",
    "\n",
    "param_grid = {'fit_intercept': [True, False]}\n",
    "\n",
    "grid_search = GridSearchCV(model, param_grid, cv=5)\n",
    "grid_search.fit(X_train_mmscaled, y_train)  \n",
    "\n",
    "\n",
    "best_params = grid_search.best_params_\n",
    "best_model = LinearRegression(**best_params)\n",
    "best_model.fit(X_train_mmscaled, y_train)  \n",
    "\n",
    "# Print the evaluation metrics\n",
    "print('Best Hyperparameters:', best_params)"
   ]
  },
  {
   "cell_type": "code",
   "execution_count": 248,
   "metadata": {},
   "outputs": [
    {
     "name": "stdout",
     "output_type": "stream",
     "text": [
      "Training  Score for X_train, y_train: 0.5790962964878815\n",
      "Test Score for X_test, y_test: 0.5435417979998883\n",
      "Mean Squared Error (MSE) for best_model_mse_y_train_y_pred: 420578325.6502237\n",
      "Root Mean Squared Error (RMSE) for best_model_rmse_y_train_y_pred: 20508.006379222326\n",
      "Mean Squared Error (MSE) for best_model_y_test_y_pred: 420578325.6502237\n",
      "Root Mean Squared Error (RMSE) for best_model_rmse_y_test_y_pred: 20508.006379222326\n",
      "Model best_model GridSearchCV coefficients: [330240.26894313 -34763.14779159  -2228.01181112  12540.533571\n",
      "  11972.13713674]\n"
     ]
    }
   ],
   "source": [
    "best_model_y_pred_train = best_model.predict(X_train_mmscaled)\n",
    "y_pred_train = best_model_y_pred_train\n",
    "best_model_mse_y_train_y_pred = mean_squared_error(y_train, y_pred_train)\n",
    "best_model_rmse_y_train_y_pred = np.sqrt(mean_squared_error(y_train, y_pred_train))\n",
    "\n",
    "best_model_y_pred_test = best_model.predict(X_test_mmscaled)\n",
    "y_pred_test = best_model_y_pred_test\n",
    "best_model_mse_y_test_y_pred = mean_squared_error(y_test, y_pred_test)\n",
    "best_model_rmse_y_test_y_pred = np.sqrt(mean_squared_error(y_test, y_pred_test))\n",
    "\n",
    "gs_train_score = best_model.score(X_train_mmscaled, y_train)\n",
    "print(\"Training  Score for X_train, y_train:\", gs_train_score)\n",
    "\n",
    "gs_test_score = best_model.score(X_test_mmscaled, y_test)\n",
    "print(\"Test Score for X_test, y_test:\", gs_test_score)\n",
    "\n",
    "print('Mean Squared Error (MSE) for best_model_mse_y_train_y_pred:', best_model_mse_y_train_y_pred)\n",
    "print('Root Mean Squared Error (RMSE) for best_model_rmse_y_train_y_pred:', best_model_rmse_y_train_y_pred)\n",
    "print('Mean Squared Error (MSE) for best_model_y_test_y_pred:', best_model_mse_y_train_y_pred)\n",
    "print('Root Mean Squared Error (RMSE) for best_model_rmse_y_test_y_pred:', best_model_rmse_y_train_y_pred)\n",
    "\n",
    "print('Model best_model GridSearchCV coefficients:', best_model.coef_) \n"
   ]
  },
  {
   "cell_type": "code",
   "execution_count": 249,
   "metadata": {},
   "outputs": [
    {
     "data": {
      "text/html": [
       "<div>\n",
       "<style scoped>\n",
       "    .dataframe tbody tr th:only-of-type {\n",
       "        vertical-align: middle;\n",
       "    }\n",
       "\n",
       "    .dataframe tbody tr th {\n",
       "        vertical-align: top;\n",
       "    }\n",
       "\n",
       "    .dataframe thead th {\n",
       "        text-align: right;\n",
       "    }\n",
       "</style>\n",
       "<table border=\"1\" class=\"dataframe\">\n",
       "  <thead>\n",
       "    <tr style=\"text-align: right;\">\n",
       "      <th></th>\n",
       "      <th>Model coefficients</th>\n",
       "    </tr>\n",
       "  </thead>\n",
       "  <tbody>\n",
       "    <tr>\n",
       "      <th>flat_area</th>\n",
       "      <td>330240.268943</td>\n",
       "    </tr>\n",
       "    <tr>\n",
       "      <th>rooms</th>\n",
       "      <td>-34763.147792</td>\n",
       "    </tr>\n",
       "    <tr>\n",
       "      <th>distance_category</th>\n",
       "      <td>-2228.011811</td>\n",
       "    </tr>\n",
       "    <tr>\n",
       "      <th>code type</th>\n",
       "      <td>12540.533571</td>\n",
       "    </tr>\n",
       "    <tr>\n",
       "      <th>prestigious</th>\n",
       "      <td>11972.137137</td>\n",
       "    </tr>\n",
       "  </tbody>\n",
       "</table>\n",
       "</div>"
      ],
      "text/plain": [
       "                   Model coefficients\n",
       "flat_area               330240.268943\n",
       "rooms                   -34763.147792\n",
       "distance_category        -2228.011811\n",
       "code type                12540.533571\n",
       "prestigious              11972.137137"
      ]
     },
     "execution_count": 249,
     "metadata": {},
     "output_type": "execute_result"
    }
   ],
   "source": [
    "# Оцінка кoефіцієнтів\n",
    "df_coef = pd.DataFrame(best_model.coef_, X.columns, columns=['Model coefficients'])\n",
    "df_coef"
   ]
  },
  {
   "cell_type": "code",
   "execution_count": 250,
   "metadata": {},
   "outputs": [
    {
     "name": "stdout",
     "output_type": "stream",
     "text": [
      "Price for 40 sqmeters, 1 room, close to metro, Хороший стан of flat, prestigious district: [11111.82443188] hryvnas\n"
     ]
    },
    {
     "name": "stderr",
     "output_type": "stream",
     "text": [
      "C:\\Users\\liman\\anaconda3\\lib\\site-packages\\sklearn\\base.py:450: UserWarning: X does not have valid feature names, but MinMaxScaler was fitted with feature names\n",
      "  warnings.warn(\n"
     ]
    }
   ],
   "source": [
    "#Prediction\n",
    "price_pred = best_model.predict(mmscaler.transform([[40, 1, 1, 4, 3]])) # 40 sqmeters, 1 room, close to metro, good state of flat, prestigious district\n",
    "print(\"Price for 40 sqmeters, 1 room, close to metro, Хороший стан of flat, prestigious district:\", price_pred, \"hryvnas\")\n"
   ]
  },
  {
   "cell_type": "code",
   "execution_count": 251,
   "metadata": {},
   "outputs": [
    {
     "name": "stdout",
     "output_type": "stream",
     "text": [
      "Price for 60 sqmeters, 2 rooms, close to metro, Євроремонт state of flat, prestigious district: [13719.2362224] hryvnas\n"
     ]
    },
    {
     "name": "stderr",
     "output_type": "stream",
     "text": [
      "C:\\Users\\liman\\anaconda3\\lib\\site-packages\\sklearn\\base.py:450: UserWarning: X does not have valid feature names, but MinMaxScaler was fitted with feature names\n",
      "  warnings.warn(\n"
     ]
    }
   ],
   "source": [
    "#Prediction\n",
    "price_pred = best_model.predict(mmscaler.transform([[60, 2, 1, 5, 3]])) # 40 sqmeters, 1 room, close to metro, good state of flat, prestigious district\n",
    "print(\"Price for 60 sqmeters, 2 rooms, close to metro, Євроремонт state of flat, prestigious district:\", price_pred, \"hryvnas\")"
   ]
  },
  {
   "cell_type": "code",
   "execution_count": 252,
   "metadata": {},
   "outputs": [
    {
     "name": "stdout",
     "output_type": "stream",
     "text": [
      "Price for 40 sqmeters, 1 room, close to metro, Хороший стан of flat, not prestigious district: [-860.31270486] hryvnas\n"
     ]
    },
    {
     "name": "stderr",
     "output_type": "stream",
     "text": [
      "C:\\Users\\liman\\anaconda3\\lib\\site-packages\\sklearn\\base.py:450: UserWarning: X does not have valid feature names, but MinMaxScaler was fitted with feature names\n",
      "  warnings.warn(\n"
     ]
    }
   ],
   "source": [
    "#Prediction\n",
    "price_pred = best_model.predict(mmscaler.transform([[40, 1, 1, 4, 1]])) # 40 sqmeters, 1 room, close to metro, good state of flat, prestigious district\n",
    "print(\"Price for 40 sqmeters, 1 room, close to metro, Хороший стан of flat, not prestigious district:\", price_pred, \"hryvnas\")"
   ]
  },
  {
   "cell_type": "code",
   "execution_count": 253,
   "metadata": {},
   "outputs": [
    {
     "name": "stdout",
     "output_type": "stream",
     "text": [
      "Price for 160 sqmeters, 4 rooms, distant from metro, Дизайнерський ремонт of flat, prestigious district: [29710.5050751] hryvnas\n"
     ]
    },
    {
     "name": "stderr",
     "output_type": "stream",
     "text": [
      "C:\\Users\\liman\\anaconda3\\lib\\site-packages\\sklearn\\base.py:450: UserWarning: X does not have valid feature names, but MinMaxScaler was fitted with feature names\n",
      "  warnings.warn(\n"
     ]
    }
   ],
   "source": [
    "#Prediction\n",
    "price_pred = best_model.predict(mmscaler.transform([[160, 4, 3, 5, 3]])) # 40 sqmeters, 1 room, close to metro, good state of flat, prestigious district\n",
    "print(\"Price for 160 sqmeters, 4 rooms, distant from metro, Дизайнерський ремонт of flat, prestigious district:\", price_pred, \"hryvnas\")"
   ]
  },
  {
   "cell_type": "code",
   "execution_count": 254,
   "metadata": {},
   "outputs": [
    {
     "name": "stdout",
     "output_type": "stream",
     "text": [
      "Price for 40 sqmeters, 1 room, distant from metro, Потрібен капітальний ремонт,prestigious district 1: [-12493.72469423] hryvnas\n"
     ]
    },
    {
     "name": "stderr",
     "output_type": "stream",
     "text": [
      "C:\\Users\\liman\\anaconda3\\lib\\site-packages\\sklearn\\base.py:450: UserWarning: X does not have valid feature names, but MinMaxScaler was fitted with feature names\n",
      "  warnings.warn(\n"
     ]
    }
   ],
   "source": [
    "#Prediction\n",
    "price_pred = best_model.predict(mmscaler.transform([[40, 1, 3, 1, 1]])) # 40 sqmeters, 1 room, close to metro, good state of flat, prestigious district\n",
    "print(\"Price for 40 sqmeters, 1 room, distant from metro, Потрібен капітальний ремонт,prestigious district 1:\", price_pred, \"hryvnas\")"
   ]
  },
  {
   "cell_type": "code",
   "execution_count": null,
   "metadata": {},
   "outputs": [],
   "source": []
  }
 ],
 "metadata": {
  "kernelspec": {
   "display_name": "Python 3 (ipykernel)",
   "language": "python",
   "name": "python3"
  },
  "language_info": {
   "codemirror_mode": {
    "name": "ipython",
    "version": 3
   },
   "file_extension": ".py",
   "mimetype": "text/x-python",
   "name": "python",
   "nbconvert_exporter": "python",
   "pygments_lexer": "ipython3",
   "version": "3.9.13"
  }
 },
 "nbformat": 4,
 "nbformat_minor": 2
}
