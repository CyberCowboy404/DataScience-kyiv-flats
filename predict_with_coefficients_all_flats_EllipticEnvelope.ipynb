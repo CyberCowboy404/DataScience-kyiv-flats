{
 "cells": [
  {
   "cell_type": "markdown",
   "metadata": {},
   "source": [
    "<b> Data Vocabulary of Features taken to analysis:\n",
    "\n",
    "\"rooms\" - quantity of rooms\n",
    "\n",
    "\"price\" - price in hryvnas\n",
    "\n",
    "\"flat_area\" - area of a flat in square meters\n",
    "\n",
    "\"prestigious\" - code of districts:\n",
    "code_prestigious = {'Печерський': 3,\n",
    "                'Шевченківський': 3,\n",
    "                'Голосіївський': 3,\n",
    "                'Подільський': 2,\n",
    "                'Святошинський': 1,\n",
    "                'Солом\\'янський': 2,\n",
    "                'Оболонський': 2,\n",
    "                'Дніпровський': 1,\n",
    "                'Дарницький': 1,\n",
    "                'Деснянський': 1}\n",
    "\n",
    "code of flat types:\n",
    "\"code_type\" = {'Дизайнерський ремонт': 5,\n",
    "                'Євроремонт': 4,\n",
    "                'Чудовий стан': 4,\n",
    "                'Хороший стан': 3,\n",
    "                'Задовільний стан': 1,\n",
    "                'Перша здача': 2,\n",
    "                'Потрібен капітальний ремонт': 1,\n",
    "                'Незавершений ремонт': 1,\n",
    "                'Потрібен косметичний ремонт': 1,\n",
    "                'Від будівельників вільне планування': 1,\n",
    "                 'Незавершений ремонт': 1}\n",
    "\n",
    "codes of distances to metro: 1 - closer than 2 km, 2 - from 2 to 5 km, 3 - more than 5 km"
   ]
  },
  {
   "cell_type": "markdown",
   "metadata": {},
   "source": [
    "<b>Results: \n",
    "    \n",
    "<b> This method was the best in data preparation: it increased score in RandomForest to 0.67.\n",
    "Also impoved scores in LinearREgression, but there are still problems in these models with low prices.\n",
    "Also DecisionTree worked good after improving dataset with EllipticEnvelope\n",
    "\n"
   ]
  },
  {
   "cell_type": "code",
   "execution_count": 80,
   "metadata": {},
   "outputs": [],
   "source": [
    "#Searching outliers with EllipticEnvelope\n",
    "\n",
    "import pandas as pd\n",
    "from sklearn.linear_model import LinearRegression\n",
    "from sklearn.model_selection import train_test_split\n",
    "from sklearn.preprocessing import LabelEncoder\n",
    "from sklearn.metrics import mean_squared_error\n",
    "from sklearn.covariance import EllipticEnvelope\n",
    "import numpy as np\n",
    "\n",
    "df = pd.read_csv('all_flats_metro.csv')"
   ]
  },
  {
   "cell_type": "code",
   "execution_count": 81,
   "metadata": {},
   "outputs": [
    {
     "name": "stdout",
     "output_type": "stream",
     "text": [
      "                                              link  rooms     price  \\\n",
      "0     https://rieltor.ua/flats-rent/view/10834307/    2.0   24500.0   \n",
      "1     https://rieltor.ua/flats-rent/view/10832872/    2.0   24500.0   \n",
      "2     https://rieltor.ua/flats-rent/view/10725408/    2.0   22000.0   \n",
      "3     https://rieltor.ua/flats-rent/view/10766471/    2.0   22000.0   \n",
      "4     https://rieltor.ua/flats-rent/view/10832868/    3.0   55410.0   \n",
      "...                                            ...    ...       ...   \n",
      "6015  https://rieltor.ua/flats-rent/view/10803998/    1.0    9500.0   \n",
      "6016   https://rieltor.ua/flats-rent/view/9615917/    2.0    6000.0   \n",
      "6017  https://rieltor.ua/flats-rent/view/10055853/    1.0    9000.0   \n",
      "6018  https://rieltor.ua/flats-rent/view/10548982/    2.0    7000.0   \n",
      "6019  https://rieltor.ua/flats-rent/view/10820150/    3.0  600000.0   \n",
      "\n",
      "      flat_area  premium        district  \\\n",
      "0         109.0  ПРЕМІУМ      Дарницький   \n",
      "1         112.0  ПРЕМІУМ      Дарницький   \n",
      "2          94.0  ПРЕМІУМ      Печерський   \n",
      "3          82.0  ПРЕМІУМ      Печерський   \n",
      "4         161.0  ПРЕМІУМ      Печерський   \n",
      "...         ...      ...             ...   \n",
      "6015       64.0       no   Святошинський   \n",
      "6016       55.0       no  Шевченківський   \n",
      "6017       89.0       no   Святошинський   \n",
      "6018       80.5       no    Дніпровський   \n",
      "6019      876.0  ПРЕМІУМ  Печерський р-н   \n",
      "\n",
      "                                         address   latitude  longitude  \\\n",
      "0                              Зарічна вул., 1-Б  50.395950  30.599648   \n",
      "1                               Зарічна вул., 1б  50.395950  30.599648   \n",
      "2                       Лесі Українки бульв., 17  50.429684  30.536922   \n",
      "3                       Лесі Українки бульв., 17  50.429684  30.536922   \n",
      "4                        Предславинська вул., 42  50.415512  30.525202   \n",
      "...                                          ...        ...        ...   \n",
      "6015               Кіпріанова академіка вул., 6А  50.438808  30.379671   \n",
      "6016  Данила Щербаківського вул. (Щербакова), 54  50.460178  30.402700   \n",
      "6017                      Стуса Василя вул., 28а        NaN        NaN   \n",
      "6018                      Гродненська вул., 3/5         NaN        NaN   \n",
      "6019                           Арсенальна пл., 8  50.443375  30.545589   \n",
      "\n",
      "         subway  ...      type_of_rooms     type_of_condition Unnamed: 14  \\\n",
      "0           NaN  ...          Роздільне  Дизайнерський ремонт         NaN   \n",
      "1           NaN  ...     Кухня-вітальня  Дизайнерський ремонт         NaN   \n",
      "2           NaN  ...          Роздільне            Євроремонт         NaN   \n",
      "3           NaN  ...          Роздільне  Дизайнерський ремонт         NaN   \n",
      "4     Либідська  ...          Роздільне            Євроремонт         NaN   \n",
      "...         ...  ...                ...                   ...         ...   \n",
      "6015        NaN  ...          Роздільне            Євроремонт         NaN   \n",
      "6016        NaN  ...          Роздільне          Хороший стан         NaN   \n",
      "6017        NaN  ...          Роздільне      Задовільний стан         NaN   \n",
      "6018        NaN  ...  Суміжно-роздільна          Чудовий стан         NaN   \n",
      "6019        NaN  ...          Роздільне  Дизайнерський ремонт         NaN   \n",
      "\n",
      "     prestigious code type   closest_subway       subway_location  \\\n",
      "0              1         5         Славутич  50.394167, 30.604167   \n",
      "1              1         5         Славутич  50.394167, 30.604167   \n",
      "2              3         4        Печерська    50.4275, 30.538889   \n",
      "3              3         5        Печерська    50.4275, 30.538889   \n",
      "4              3         4  Палац \"Україна\"  50.420833, 30.520833   \n",
      "...          ...       ...              ...                   ...   \n",
      "6015           1         4      Житомирська  50.456175, 30.365628   \n",
      "6016           3         3            Нивки  50.458653, 30.404042   \n",
      "6017           1         1              NaN                   NaN   \n",
      "6018           1         4              NaN                   NaN   \n",
      "6019           3         5       Арсенальна  50.443889, 30.545556   \n",
      "\n",
      "     distance_to_subway distance_category  outlier  \n",
      "0              0.376771                 1        1  \n",
      "1              0.376771                 1        1  \n",
      "2              0.279936                 1        1  \n",
      "3              0.279936                 1        1  \n",
      "4              0.667737                 1        1  \n",
      "...                 ...               ...      ...  \n",
      "6015           2.172046                 2        1  \n",
      "6016           0.194392                 1        1  \n",
      "6017           0.000000                 1        1  \n",
      "6018           0.000000                 1        1  \n",
      "6019           0.057244                 1       -1  \n",
      "\n",
      "[6020 rows x 22 columns]\n"
     ]
    }
   ],
   "source": [
    "# Create a numpy array of the selected column\n",
    "X = np.array(df['price']).reshape(-1, 1)\n",
    "\n",
    "# Create an instance of the EllipticEnvelope class\n",
    "envelope = EllipticEnvelope(contamination=0.05)\n",
    "\n",
    "# Fit the model to the data\n",
    "envelope.fit(X)\n",
    "\n",
    "# Predict the outliers\n",
    "outliers = envelope.predict(X)\n",
    "\n",
    "# Add a column to the dataframe with the outliers (-1 for outliers, 1 for inliers)\n",
    "df['outlier'] = outliers\n",
    "\n",
    "# Print the dataframe\n",
    "print(df)"
   ]
  },
  {
   "cell_type": "code",
   "execution_count": 82,
   "metadata": {},
   "outputs": [
    {
     "data": {
      "text/html": [
       "<div>\n",
       "<style scoped>\n",
       "    .dataframe tbody tr th:only-of-type {\n",
       "        vertical-align: middle;\n",
       "    }\n",
       "\n",
       "    .dataframe tbody tr th {\n",
       "        vertical-align: top;\n",
       "    }\n",
       "\n",
       "    .dataframe thead th {\n",
       "        text-align: right;\n",
       "    }\n",
       "</style>\n",
       "<table border=\"1\" class=\"dataframe\">\n",
       "  <thead>\n",
       "    <tr style=\"text-align: right;\">\n",
       "      <th></th>\n",
       "      <th>link</th>\n",
       "      <th>rooms</th>\n",
       "      <th>price</th>\n",
       "      <th>flat_area</th>\n",
       "      <th>premium</th>\n",
       "      <th>district</th>\n",
       "      <th>address</th>\n",
       "      <th>latitude</th>\n",
       "      <th>longitude</th>\n",
       "      <th>subway</th>\n",
       "      <th>...</th>\n",
       "      <th>type_of_rooms</th>\n",
       "      <th>type_of_condition</th>\n",
       "      <th>Unnamed: 14</th>\n",
       "      <th>prestigious</th>\n",
       "      <th>code type</th>\n",
       "      <th>closest_subway</th>\n",
       "      <th>subway_location</th>\n",
       "      <th>distance_to_subway</th>\n",
       "      <th>distance_category</th>\n",
       "      <th>outlier</th>\n",
       "    </tr>\n",
       "  </thead>\n",
       "  <tbody>\n",
       "    <tr>\n",
       "      <th>61</th>\n",
       "      <td>https://rieltor.ua/flats-rent/view/10825753/</td>\n",
       "      <td>4.0</td>\n",
       "      <td>129290.0</td>\n",
       "      <td>260.0</td>\n",
       "      <td>ПРЕМІУМ</td>\n",
       "      <td>Печерський</td>\n",
       "      <td>Драгомирова вул., 11</td>\n",
       "      <td>50.409348</td>\n",
       "      <td>30.545877</td>\n",
       "      <td>NaN</td>\n",
       "      <td>...</td>\n",
       "      <td>Суміжно-роздільна</td>\n",
       "      <td>Дизайнерський ремонт</td>\n",
       "      <td>NaN</td>\n",
       "      <td>3</td>\n",
       "      <td>5</td>\n",
       "      <td>Дружби народів</td>\n",
       "      <td>50.418056, 30.545</td>\n",
       "      <td>0.970332</td>\n",
       "      <td>1</td>\n",
       "      <td>-1</td>\n",
       "    </tr>\n",
       "    <tr>\n",
       "      <th>62</th>\n",
       "      <td>https://rieltor.ua/flats-rent/view/10829861/</td>\n",
       "      <td>4.0</td>\n",
       "      <td>118208.0</td>\n",
       "      <td>290.0</td>\n",
       "      <td>ПРЕМІУМ</td>\n",
       "      <td>Печерський</td>\n",
       "      <td>Василя Тютюнника вул. (Барбюса Анрі), 37</td>\n",
       "      <td>50.421524</td>\n",
       "      <td>30.525660</td>\n",
       "      <td>Палац Україна</td>\n",
       "      <td>...</td>\n",
       "      <td>Суміжно-роздільна</td>\n",
       "      <td>Дизайнерський ремонт</td>\n",
       "      <td>NaN</td>\n",
       "      <td>3</td>\n",
       "      <td>5</td>\n",
       "      <td>Палац \"Україна\"</td>\n",
       "      <td>50.420833, 30.520833</td>\n",
       "      <td>0.350473</td>\n",
       "      <td>1</td>\n",
       "      <td>-1</td>\n",
       "    </tr>\n",
       "    <tr>\n",
       "      <th>66</th>\n",
       "      <td>https://rieltor.ua/flats-rent/view/10729782/</td>\n",
       "      <td>5.0</td>\n",
       "      <td>221640.0</td>\n",
       "      <td>376.0</td>\n",
       "      <td>ПРЕМІУМ</td>\n",
       "      <td>Шевченківський</td>\n",
       "      <td>Володимирська вул., 20</td>\n",
       "      <td>50.453846</td>\n",
       "      <td>30.515612</td>\n",
       "      <td>NaN</td>\n",
       "      <td>...</td>\n",
       "      <td>Роздільне</td>\n",
       "      <td>Дизайнерський ремонт</td>\n",
       "      <td>NaN</td>\n",
       "      <td>3</td>\n",
       "      <td>5</td>\n",
       "      <td>Золоті ворота</td>\n",
       "      <td>50.448333, 30.513333</td>\n",
       "      <td>0.633890</td>\n",
       "      <td>1</td>\n",
       "      <td>-1</td>\n",
       "    </tr>\n",
       "    <tr>\n",
       "      <th>70</th>\n",
       "      <td>https://rieltor.ua/flats-rent/view/10832763/</td>\n",
       "      <td>3.0</td>\n",
       "      <td>129290.0</td>\n",
       "      <td>224.0</td>\n",
       "      <td>ПРЕМІУМ</td>\n",
       "      <td>Печерський</td>\n",
       "      <td>Драгомирова вул., 1-20а</td>\n",
       "      <td>50.413387</td>\n",
       "      <td>30.546608</td>\n",
       "      <td>NaN</td>\n",
       "      <td>...</td>\n",
       "      <td>Роздільне</td>\n",
       "      <td>Дизайнерський ремонт</td>\n",
       "      <td>NaN</td>\n",
       "      <td>3</td>\n",
       "      <td>5</td>\n",
       "      <td>Дружби народів</td>\n",
       "      <td>50.418056, 30.545</td>\n",
       "      <td>0.531491</td>\n",
       "      <td>1</td>\n",
       "      <td>-1</td>\n",
       "    </tr>\n",
       "    <tr>\n",
       "      <th>107</th>\n",
       "      <td>https://rieltor.ua/flats-rent/view/10828327/</td>\n",
       "      <td>4.0</td>\n",
       "      <td>110820.0</td>\n",
       "      <td>320.0</td>\n",
       "      <td>ПРЕМІУМ</td>\n",
       "      <td>Печерський</td>\n",
       "      <td>Драгомирова вул., 11</td>\n",
       "      <td>50.409348</td>\n",
       "      <td>30.545877</td>\n",
       "      <td>NaN</td>\n",
       "      <td>...</td>\n",
       "      <td>Роздільне</td>\n",
       "      <td>Дизайнерський ремонт</td>\n",
       "      <td>NaN</td>\n",
       "      <td>3</td>\n",
       "      <td>5</td>\n",
       "      <td>Дружби народів</td>\n",
       "      <td>50.418056, 30.545</td>\n",
       "      <td>0.970332</td>\n",
       "      <td>1</td>\n",
       "      <td>-1</td>\n",
       "    </tr>\n",
       "    <tr>\n",
       "      <th>...</th>\n",
       "      <td>...</td>\n",
       "      <td>...</td>\n",
       "      <td>...</td>\n",
       "      <td>...</td>\n",
       "      <td>...</td>\n",
       "      <td>...</td>\n",
       "      <td>...</td>\n",
       "      <td>...</td>\n",
       "      <td>...</td>\n",
       "      <td>...</td>\n",
       "      <td>...</td>\n",
       "      <td>...</td>\n",
       "      <td>...</td>\n",
       "      <td>...</td>\n",
       "      <td>...</td>\n",
       "      <td>...</td>\n",
       "      <td>...</td>\n",
       "      <td>...</td>\n",
       "      <td>...</td>\n",
       "      <td>...</td>\n",
       "      <td>...</td>\n",
       "    </tr>\n",
       "    <tr>\n",
       "      <th>5917</th>\n",
       "      <td>https://rieltor.ua/flats-rent/view/10793606/</td>\n",
       "      <td>3.0</td>\n",
       "      <td>110820.0</td>\n",
       "      <td>298.0</td>\n",
       "      <td>no</td>\n",
       "      <td>Печерський</td>\n",
       "      <td>Болсуновська вул. (Струтинського), 2</td>\n",
       "      <td>50.421375</td>\n",
       "      <td>30.552515</td>\n",
       "      <td>NaN</td>\n",
       "      <td>...</td>\n",
       "      <td>Роздільне</td>\n",
       "      <td>Дизайнерський ремонт</td>\n",
       "      <td>NaN</td>\n",
       "      <td>3</td>\n",
       "      <td>5</td>\n",
       "      <td>Дружби народів</td>\n",
       "      <td>50.418056, 30.545</td>\n",
       "      <td>0.647848</td>\n",
       "      <td>1</td>\n",
       "      <td>-1</td>\n",
       "    </tr>\n",
       "    <tr>\n",
       "      <th>5920</th>\n",
       "      <td>https://rieltor.ua/flats-rent/view/10811439/</td>\n",
       "      <td>3.0</td>\n",
       "      <td>80000.0</td>\n",
       "      <td>171.0</td>\n",
       "      <td>no</td>\n",
       "      <td>Печерський</td>\n",
       "      <td>Болсуновська вул. (Струтинського), 2а</td>\n",
       "      <td>50.421173</td>\n",
       "      <td>30.552177</td>\n",
       "      <td>NaN</td>\n",
       "      <td>...</td>\n",
       "      <td>Роздільне</td>\n",
       "      <td>Дизайнерський ремонт</td>\n",
       "      <td>NaN</td>\n",
       "      <td>3</td>\n",
       "      <td>5</td>\n",
       "      <td>Дружби народів</td>\n",
       "      <td>50.418056, 30.545</td>\n",
       "      <td>0.615404</td>\n",
       "      <td>1</td>\n",
       "      <td>-1</td>\n",
       "    </tr>\n",
       "    <tr>\n",
       "      <th>5977</th>\n",
       "      <td>https://rieltor.ua/flats-rent/view/8932774/</td>\n",
       "      <td>6.0</td>\n",
       "      <td>295520.0</td>\n",
       "      <td>630.0</td>\n",
       "      <td>no</td>\n",
       "      <td>Шевченківський</td>\n",
       "      <td>Гончара Олеся вул., 35</td>\n",
       "      <td>NaN</td>\n",
       "      <td>NaN</td>\n",
       "      <td>NaN</td>\n",
       "      <td>...</td>\n",
       "      <td>Багаторівнева</td>\n",
       "      <td>Євроремонт</td>\n",
       "      <td>NaN</td>\n",
       "      <td>3</td>\n",
       "      <td>4</td>\n",
       "      <td>NaN</td>\n",
       "      <td>NaN</td>\n",
       "      <td>0.000000</td>\n",
       "      <td>1</td>\n",
       "      <td>-1</td>\n",
       "    </tr>\n",
       "    <tr>\n",
       "      <th>5980</th>\n",
       "      <td>https://rieltor.ua/flats-rent/view/10613480/</td>\n",
       "      <td>4.0</td>\n",
       "      <td>184700.0</td>\n",
       "      <td>384.0</td>\n",
       "      <td>no</td>\n",
       "      <td>Печерський</td>\n",
       "      <td>Ольгинська вул., 6</td>\n",
       "      <td>50.447277</td>\n",
       "      <td>30.528854</td>\n",
       "      <td>NaN</td>\n",
       "      <td>...</td>\n",
       "      <td>Суміжно-роздільна</td>\n",
       "      <td>Дизайнерський ремонт</td>\n",
       "      <td>NaN</td>\n",
       "      <td>3</td>\n",
       "      <td>5</td>\n",
       "      <td>Хрещатик</td>\n",
       "      <td>50.44726, 30.52483</td>\n",
       "      <td>0.284962</td>\n",
       "      <td>1</td>\n",
       "      <td>-1</td>\n",
       "    </tr>\n",
       "    <tr>\n",
       "      <th>6019</th>\n",
       "      <td>https://rieltor.ua/flats-rent/view/10820150/</td>\n",
       "      <td>3.0</td>\n",
       "      <td>600000.0</td>\n",
       "      <td>876.0</td>\n",
       "      <td>ПРЕМІУМ</td>\n",
       "      <td>Печерський р-н</td>\n",
       "      <td>Арсенальна пл., 8</td>\n",
       "      <td>50.443375</td>\n",
       "      <td>30.545589</td>\n",
       "      <td>NaN</td>\n",
       "      <td>...</td>\n",
       "      <td>Роздільне</td>\n",
       "      <td>Дизайнерський ремонт</td>\n",
       "      <td>NaN</td>\n",
       "      <td>3</td>\n",
       "      <td>5</td>\n",
       "      <td>Арсенальна</td>\n",
       "      <td>50.443889, 30.545556</td>\n",
       "      <td>0.057244</td>\n",
       "      <td>1</td>\n",
       "      <td>-1</td>\n",
       "    </tr>\n",
       "  </tbody>\n",
       "</table>\n",
       "<p>256 rows × 22 columns</p>\n",
       "</div>"
      ],
      "text/plain": [
       "                                              link  rooms     price  \\\n",
       "61    https://rieltor.ua/flats-rent/view/10825753/    4.0  129290.0   \n",
       "62    https://rieltor.ua/flats-rent/view/10829861/    4.0  118208.0   \n",
       "66    https://rieltor.ua/flats-rent/view/10729782/    5.0  221640.0   \n",
       "70    https://rieltor.ua/flats-rent/view/10832763/    3.0  129290.0   \n",
       "107   https://rieltor.ua/flats-rent/view/10828327/    4.0  110820.0   \n",
       "...                                            ...    ...       ...   \n",
       "5917  https://rieltor.ua/flats-rent/view/10793606/    3.0  110820.0   \n",
       "5920  https://rieltor.ua/flats-rent/view/10811439/    3.0   80000.0   \n",
       "5977   https://rieltor.ua/flats-rent/view/8932774/    6.0  295520.0   \n",
       "5980  https://rieltor.ua/flats-rent/view/10613480/    4.0  184700.0   \n",
       "6019  https://rieltor.ua/flats-rent/view/10820150/    3.0  600000.0   \n",
       "\n",
       "      flat_area  premium        district  \\\n",
       "61        260.0  ПРЕМІУМ      Печерський   \n",
       "62        290.0  ПРЕМІУМ      Печерський   \n",
       "66        376.0  ПРЕМІУМ  Шевченківський   \n",
       "70        224.0  ПРЕМІУМ      Печерський   \n",
       "107       320.0  ПРЕМІУМ      Печерський   \n",
       "...         ...      ...             ...   \n",
       "5917      298.0       no      Печерський   \n",
       "5920      171.0       no      Печерський   \n",
       "5977      630.0       no  Шевченківський   \n",
       "5980      384.0       no      Печерський   \n",
       "6019      876.0  ПРЕМІУМ  Печерський р-н   \n",
       "\n",
       "                                       address   latitude  longitude  \\\n",
       "61                        Драгомирова вул., 11  50.409348  30.545877   \n",
       "62    Василя Тютюнника вул. (Барбюса Анрі), 37  50.421524  30.525660   \n",
       "66                      Володимирська вул., 20  50.453846  30.515612   \n",
       "70                     Драгомирова вул., 1-20а  50.413387  30.546608   \n",
       "107                       Драгомирова вул., 11  50.409348  30.545877   \n",
       "...                                        ...        ...        ...   \n",
       "5917      Болсуновська вул. (Струтинського), 2  50.421375  30.552515   \n",
       "5920     Болсуновська вул. (Струтинського), 2а  50.421173  30.552177   \n",
       "5977                    Гончара Олеся вул., 35        NaN        NaN   \n",
       "5980                        Ольгинська вул., 6  50.447277  30.528854   \n",
       "6019                         Арсенальна пл., 8  50.443375  30.545589   \n",
       "\n",
       "             subway  ...      type_of_rooms     type_of_condition Unnamed: 14  \\\n",
       "61              NaN  ...  Суміжно-роздільна  Дизайнерський ремонт         NaN   \n",
       "62    Палац Україна  ...  Суміжно-роздільна  Дизайнерський ремонт         NaN   \n",
       "66              NaN  ...          Роздільне  Дизайнерський ремонт         NaN   \n",
       "70              NaN  ...          Роздільне  Дизайнерський ремонт         NaN   \n",
       "107             NaN  ...          Роздільне  Дизайнерський ремонт         NaN   \n",
       "...             ...  ...                ...                   ...         ...   \n",
       "5917            NaN  ...          Роздільне  Дизайнерський ремонт         NaN   \n",
       "5920            NaN  ...          Роздільне  Дизайнерський ремонт         NaN   \n",
       "5977            NaN  ...      Багаторівнева            Євроремонт         NaN   \n",
       "5980            NaN  ...  Суміжно-роздільна  Дизайнерський ремонт         NaN   \n",
       "6019            NaN  ...          Роздільне  Дизайнерський ремонт         NaN   \n",
       "\n",
       "     prestigious code type   closest_subway       subway_location  \\\n",
       "61             3         5   Дружби народів     50.418056, 30.545   \n",
       "62             3         5  Палац \"Україна\"  50.420833, 30.520833   \n",
       "66             3         5    Золоті ворота  50.448333, 30.513333   \n",
       "70             3         5   Дружби народів     50.418056, 30.545   \n",
       "107            3         5   Дружби народів     50.418056, 30.545   \n",
       "...          ...       ...              ...                   ...   \n",
       "5917           3         5   Дружби народів     50.418056, 30.545   \n",
       "5920           3         5   Дружби народів     50.418056, 30.545   \n",
       "5977           3         4              NaN                   NaN   \n",
       "5980           3         5         Хрещатик    50.44726, 30.52483   \n",
       "6019           3         5       Арсенальна  50.443889, 30.545556   \n",
       "\n",
       "     distance_to_subway distance_category  outlier  \n",
       "61             0.970332                 1       -1  \n",
       "62             0.350473                 1       -1  \n",
       "66             0.633890                 1       -1  \n",
       "70             0.531491                 1       -1  \n",
       "107            0.970332                 1       -1  \n",
       "...                 ...               ...      ...  \n",
       "5917           0.647848                 1       -1  \n",
       "5920           0.615404                 1       -1  \n",
       "5977           0.000000                 1       -1  \n",
       "5980           0.284962                 1       -1  \n",
       "6019           0.057244                 1       -1  \n",
       "\n",
       "[256 rows x 22 columns]"
      ]
     },
     "execution_count": 82,
     "metadata": {},
     "output_type": "execute_result"
    }
   ],
   "source": [
    "df_outliers = df[df['outlier'] != 1]\n",
    "df_outliers"
   ]
  },
  {
   "cell_type": "code",
   "execution_count": 83,
   "metadata": {},
   "outputs": [],
   "source": [
    "df_outliers.to_excel('all_lats_outliers_Elliptic Envelope.xlsx', index=False)"
   ]
  },
  {
   "cell_type": "code",
   "execution_count": 84,
   "metadata": {},
   "outputs": [],
   "source": [
    "df_outliers.to_csv('all_flats_outliers_Elliptic Envelope.csv', index=False)"
   ]
  },
  {
   "cell_type": "code",
   "execution_count": 85,
   "metadata": {},
   "outputs": [
    {
     "data": {
      "text/plain": [
       "77574.0"
      ]
     },
     "execution_count": 85,
     "metadata": {},
     "output_type": "execute_result"
    }
   ],
   "source": [
    "min_val = df_outliers['price'].min()\n",
    "min_val"
   ]
  },
  {
   "cell_type": "code",
   "execution_count": 86,
   "metadata": {},
   "outputs": [
    {
     "data": {
      "text/html": [
       "<div>\n",
       "<style scoped>\n",
       "    .dataframe tbody tr th:only-of-type {\n",
       "        vertical-align: middle;\n",
       "    }\n",
       "\n",
       "    .dataframe tbody tr th {\n",
       "        vertical-align: top;\n",
       "    }\n",
       "\n",
       "    .dataframe thead th {\n",
       "        text-align: right;\n",
       "    }\n",
       "</style>\n",
       "<table border=\"1\" class=\"dataframe\">\n",
       "  <thead>\n",
       "    <tr style=\"text-align: right;\">\n",
       "      <th></th>\n",
       "      <th>link</th>\n",
       "      <th>rooms</th>\n",
       "      <th>price</th>\n",
       "      <th>flat_area</th>\n",
       "      <th>premium</th>\n",
       "      <th>district</th>\n",
       "      <th>address</th>\n",
       "      <th>latitude</th>\n",
       "      <th>longitude</th>\n",
       "      <th>subway</th>\n",
       "      <th>...</th>\n",
       "      <th>type_of_rooms</th>\n",
       "      <th>type_of_condition</th>\n",
       "      <th>Unnamed: 14</th>\n",
       "      <th>prestigious</th>\n",
       "      <th>code type</th>\n",
       "      <th>closest_subway</th>\n",
       "      <th>subway_location</th>\n",
       "      <th>distance_to_subway</th>\n",
       "      <th>distance_category</th>\n",
       "      <th>outlier</th>\n",
       "    </tr>\n",
       "  </thead>\n",
       "  <tbody>\n",
       "    <tr>\n",
       "      <th>0</th>\n",
       "      <td>https://rieltor.ua/flats-rent/view/10834307/</td>\n",
       "      <td>2.0</td>\n",
       "      <td>24500.0</td>\n",
       "      <td>109.0</td>\n",
       "      <td>ПРЕМІУМ</td>\n",
       "      <td>Дарницький</td>\n",
       "      <td>Зарічна вул., 1-Б</td>\n",
       "      <td>50.395950</td>\n",
       "      <td>30.599648</td>\n",
       "      <td>NaN</td>\n",
       "      <td>...</td>\n",
       "      <td>Роздільне</td>\n",
       "      <td>Дизайнерський ремонт</td>\n",
       "      <td>NaN</td>\n",
       "      <td>1</td>\n",
       "      <td>5</td>\n",
       "      <td>Славутич</td>\n",
       "      <td>50.394167, 30.604167</td>\n",
       "      <td>0.376771</td>\n",
       "      <td>1</td>\n",
       "      <td>1</td>\n",
       "    </tr>\n",
       "    <tr>\n",
       "      <th>1</th>\n",
       "      <td>https://rieltor.ua/flats-rent/view/10832872/</td>\n",
       "      <td>2.0</td>\n",
       "      <td>24500.0</td>\n",
       "      <td>112.0</td>\n",
       "      <td>ПРЕМІУМ</td>\n",
       "      <td>Дарницький</td>\n",
       "      <td>Зарічна вул., 1б</td>\n",
       "      <td>50.395950</td>\n",
       "      <td>30.599648</td>\n",
       "      <td>NaN</td>\n",
       "      <td>...</td>\n",
       "      <td>Кухня-вітальня</td>\n",
       "      <td>Дизайнерський ремонт</td>\n",
       "      <td>NaN</td>\n",
       "      <td>1</td>\n",
       "      <td>5</td>\n",
       "      <td>Славутич</td>\n",
       "      <td>50.394167, 30.604167</td>\n",
       "      <td>0.376771</td>\n",
       "      <td>1</td>\n",
       "      <td>1</td>\n",
       "    </tr>\n",
       "    <tr>\n",
       "      <th>2</th>\n",
       "      <td>https://rieltor.ua/flats-rent/view/10725408/</td>\n",
       "      <td>2.0</td>\n",
       "      <td>22000.0</td>\n",
       "      <td>94.0</td>\n",
       "      <td>ПРЕМІУМ</td>\n",
       "      <td>Печерський</td>\n",
       "      <td>Лесі Українки бульв., 17</td>\n",
       "      <td>50.429684</td>\n",
       "      <td>30.536922</td>\n",
       "      <td>NaN</td>\n",
       "      <td>...</td>\n",
       "      <td>Роздільне</td>\n",
       "      <td>Євроремонт</td>\n",
       "      <td>NaN</td>\n",
       "      <td>3</td>\n",
       "      <td>4</td>\n",
       "      <td>Печерська</td>\n",
       "      <td>50.4275, 30.538889</td>\n",
       "      <td>0.279936</td>\n",
       "      <td>1</td>\n",
       "      <td>1</td>\n",
       "    </tr>\n",
       "    <tr>\n",
       "      <th>3</th>\n",
       "      <td>https://rieltor.ua/flats-rent/view/10766471/</td>\n",
       "      <td>2.0</td>\n",
       "      <td>22000.0</td>\n",
       "      <td>82.0</td>\n",
       "      <td>ПРЕМІУМ</td>\n",
       "      <td>Печерський</td>\n",
       "      <td>Лесі Українки бульв., 17</td>\n",
       "      <td>50.429684</td>\n",
       "      <td>30.536922</td>\n",
       "      <td>NaN</td>\n",
       "      <td>...</td>\n",
       "      <td>Роздільне</td>\n",
       "      <td>Дизайнерський ремонт</td>\n",
       "      <td>NaN</td>\n",
       "      <td>3</td>\n",
       "      <td>5</td>\n",
       "      <td>Печерська</td>\n",
       "      <td>50.4275, 30.538889</td>\n",
       "      <td>0.279936</td>\n",
       "      <td>1</td>\n",
       "      <td>1</td>\n",
       "    </tr>\n",
       "    <tr>\n",
       "      <th>4</th>\n",
       "      <td>https://rieltor.ua/flats-rent/view/10832868/</td>\n",
       "      <td>3.0</td>\n",
       "      <td>55410.0</td>\n",
       "      <td>161.0</td>\n",
       "      <td>ПРЕМІУМ</td>\n",
       "      <td>Печерський</td>\n",
       "      <td>Предславинська вул., 42</td>\n",
       "      <td>50.415512</td>\n",
       "      <td>30.525202</td>\n",
       "      <td>Либідська</td>\n",
       "      <td>...</td>\n",
       "      <td>Роздільне</td>\n",
       "      <td>Євроремонт</td>\n",
       "      <td>NaN</td>\n",
       "      <td>3</td>\n",
       "      <td>4</td>\n",
       "      <td>Палац \"Україна\"</td>\n",
       "      <td>50.420833, 30.520833</td>\n",
       "      <td>0.667737</td>\n",
       "      <td>1</td>\n",
       "      <td>1</td>\n",
       "    </tr>\n",
       "    <tr>\n",
       "      <th>...</th>\n",
       "      <td>...</td>\n",
       "      <td>...</td>\n",
       "      <td>...</td>\n",
       "      <td>...</td>\n",
       "      <td>...</td>\n",
       "      <td>...</td>\n",
       "      <td>...</td>\n",
       "      <td>...</td>\n",
       "      <td>...</td>\n",
       "      <td>...</td>\n",
       "      <td>...</td>\n",
       "      <td>...</td>\n",
       "      <td>...</td>\n",
       "      <td>...</td>\n",
       "      <td>...</td>\n",
       "      <td>...</td>\n",
       "      <td>...</td>\n",
       "      <td>...</td>\n",
       "      <td>...</td>\n",
       "      <td>...</td>\n",
       "      <td>...</td>\n",
       "    </tr>\n",
       "    <tr>\n",
       "      <th>6014</th>\n",
       "      <td>https://rieltor.ua/flats-rent/view/10620878/</td>\n",
       "      <td>1.0</td>\n",
       "      <td>16000.0</td>\n",
       "      <td>85.0</td>\n",
       "      <td>no</td>\n",
       "      <td>Святошинський</td>\n",
       "      <td>Крамського Івана вул., 9</td>\n",
       "      <td>50.453461</td>\n",
       "      <td>30.372721</td>\n",
       "      <td>NaN</td>\n",
       "      <td>...</td>\n",
       "      <td>Роздільне</td>\n",
       "      <td>Євроремонт</td>\n",
       "      <td>NaN</td>\n",
       "      <td>1</td>\n",
       "      <td>4</td>\n",
       "      <td>Житомирська</td>\n",
       "      <td>50.456175, 30.365628</td>\n",
       "      <td>0.585864</td>\n",
       "      <td>1</td>\n",
       "      <td>1</td>\n",
       "    </tr>\n",
       "    <tr>\n",
       "      <th>6015</th>\n",
       "      <td>https://rieltor.ua/flats-rent/view/10803998/</td>\n",
       "      <td>1.0</td>\n",
       "      <td>9500.0</td>\n",
       "      <td>64.0</td>\n",
       "      <td>no</td>\n",
       "      <td>Святошинський</td>\n",
       "      <td>Кіпріанова академіка вул., 6А</td>\n",
       "      <td>50.438808</td>\n",
       "      <td>30.379671</td>\n",
       "      <td>NaN</td>\n",
       "      <td>...</td>\n",
       "      <td>Роздільне</td>\n",
       "      <td>Євроремонт</td>\n",
       "      <td>NaN</td>\n",
       "      <td>1</td>\n",
       "      <td>4</td>\n",
       "      <td>Житомирська</td>\n",
       "      <td>50.456175, 30.365628</td>\n",
       "      <td>2.172046</td>\n",
       "      <td>2</td>\n",
       "      <td>1</td>\n",
       "    </tr>\n",
       "    <tr>\n",
       "      <th>6016</th>\n",
       "      <td>https://rieltor.ua/flats-rent/view/9615917/</td>\n",
       "      <td>2.0</td>\n",
       "      <td>6000.0</td>\n",
       "      <td>55.0</td>\n",
       "      <td>no</td>\n",
       "      <td>Шевченківський</td>\n",
       "      <td>Данила Щербаківського вул. (Щербакова), 54</td>\n",
       "      <td>50.460178</td>\n",
       "      <td>30.402700</td>\n",
       "      <td>NaN</td>\n",
       "      <td>...</td>\n",
       "      <td>Роздільне</td>\n",
       "      <td>Хороший стан</td>\n",
       "      <td>NaN</td>\n",
       "      <td>3</td>\n",
       "      <td>3</td>\n",
       "      <td>Нивки</td>\n",
       "      <td>50.458653, 30.404042</td>\n",
       "      <td>0.194392</td>\n",
       "      <td>1</td>\n",
       "      <td>1</td>\n",
       "    </tr>\n",
       "    <tr>\n",
       "      <th>6017</th>\n",
       "      <td>https://rieltor.ua/flats-rent/view/10055853/</td>\n",
       "      <td>1.0</td>\n",
       "      <td>9000.0</td>\n",
       "      <td>89.0</td>\n",
       "      <td>no</td>\n",
       "      <td>Святошинський</td>\n",
       "      <td>Стуса Василя вул., 28а</td>\n",
       "      <td>NaN</td>\n",
       "      <td>NaN</td>\n",
       "      <td>NaN</td>\n",
       "      <td>...</td>\n",
       "      <td>Роздільне</td>\n",
       "      <td>Задовільний стан</td>\n",
       "      <td>NaN</td>\n",
       "      <td>1</td>\n",
       "      <td>1</td>\n",
       "      <td>NaN</td>\n",
       "      <td>NaN</td>\n",
       "      <td>0.000000</td>\n",
       "      <td>1</td>\n",
       "      <td>1</td>\n",
       "    </tr>\n",
       "    <tr>\n",
       "      <th>6018</th>\n",
       "      <td>https://rieltor.ua/flats-rent/view/10548982/</td>\n",
       "      <td>2.0</td>\n",
       "      <td>7000.0</td>\n",
       "      <td>80.5</td>\n",
       "      <td>no</td>\n",
       "      <td>Дніпровський</td>\n",
       "      <td>Гродненська вул., 3/5</td>\n",
       "      <td>NaN</td>\n",
       "      <td>NaN</td>\n",
       "      <td>NaN</td>\n",
       "      <td>...</td>\n",
       "      <td>Суміжно-роздільна</td>\n",
       "      <td>Чудовий стан</td>\n",
       "      <td>NaN</td>\n",
       "      <td>1</td>\n",
       "      <td>4</td>\n",
       "      <td>NaN</td>\n",
       "      <td>NaN</td>\n",
       "      <td>0.000000</td>\n",
       "      <td>1</td>\n",
       "      <td>1</td>\n",
       "    </tr>\n",
       "  </tbody>\n",
       "</table>\n",
       "<p>5764 rows × 22 columns</p>\n",
       "</div>"
      ],
      "text/plain": [
       "                                              link  rooms    price  flat_area  \\\n",
       "0     https://rieltor.ua/flats-rent/view/10834307/    2.0  24500.0      109.0   \n",
       "1     https://rieltor.ua/flats-rent/view/10832872/    2.0  24500.0      112.0   \n",
       "2     https://rieltor.ua/flats-rent/view/10725408/    2.0  22000.0       94.0   \n",
       "3     https://rieltor.ua/flats-rent/view/10766471/    2.0  22000.0       82.0   \n",
       "4     https://rieltor.ua/flats-rent/view/10832868/    3.0  55410.0      161.0   \n",
       "...                                            ...    ...      ...        ...   \n",
       "6014  https://rieltor.ua/flats-rent/view/10620878/    1.0  16000.0       85.0   \n",
       "6015  https://rieltor.ua/flats-rent/view/10803998/    1.0   9500.0       64.0   \n",
       "6016   https://rieltor.ua/flats-rent/view/9615917/    2.0   6000.0       55.0   \n",
       "6017  https://rieltor.ua/flats-rent/view/10055853/    1.0   9000.0       89.0   \n",
       "6018  https://rieltor.ua/flats-rent/view/10548982/    2.0   7000.0       80.5   \n",
       "\n",
       "      premium        district                                     address  \\\n",
       "0     ПРЕМІУМ      Дарницький                           Зарічна вул., 1-Б   \n",
       "1     ПРЕМІУМ      Дарницький                            Зарічна вул., 1б   \n",
       "2     ПРЕМІУМ      Печерський                    Лесі Українки бульв., 17   \n",
       "3     ПРЕМІУМ      Печерський                    Лесі Українки бульв., 17   \n",
       "4     ПРЕМІУМ      Печерський                     Предславинська вул., 42   \n",
       "...       ...             ...                                         ...   \n",
       "6014       no   Святошинський                    Крамського Івана вул., 9   \n",
       "6015       no   Святошинський               Кіпріанова академіка вул., 6А   \n",
       "6016       no  Шевченківський  Данила Щербаківського вул. (Щербакова), 54   \n",
       "6017       no   Святошинський                      Стуса Василя вул., 28а   \n",
       "6018       no    Дніпровський                      Гродненська вул., 3/5    \n",
       "\n",
       "       latitude  longitude     subway  ...      type_of_rooms  \\\n",
       "0     50.395950  30.599648        NaN  ...          Роздільне   \n",
       "1     50.395950  30.599648        NaN  ...     Кухня-вітальня   \n",
       "2     50.429684  30.536922        NaN  ...          Роздільне   \n",
       "3     50.429684  30.536922        NaN  ...          Роздільне   \n",
       "4     50.415512  30.525202  Либідська  ...          Роздільне   \n",
       "...         ...        ...        ...  ...                ...   \n",
       "6014  50.453461  30.372721        NaN  ...          Роздільне   \n",
       "6015  50.438808  30.379671        NaN  ...          Роздільне   \n",
       "6016  50.460178  30.402700        NaN  ...          Роздільне   \n",
       "6017        NaN        NaN        NaN  ...          Роздільне   \n",
       "6018        NaN        NaN        NaN  ...  Суміжно-роздільна   \n",
       "\n",
       "         type_of_condition Unnamed: 14 prestigious code type   closest_subway  \\\n",
       "0     Дизайнерський ремонт         NaN           1         5         Славутич   \n",
       "1     Дизайнерський ремонт         NaN           1         5         Славутич   \n",
       "2               Євроремонт         NaN           3         4        Печерська   \n",
       "3     Дизайнерський ремонт         NaN           3         5        Печерська   \n",
       "4               Євроремонт         NaN           3         4  Палац \"Україна\"   \n",
       "...                    ...         ...         ...       ...              ...   \n",
       "6014            Євроремонт         NaN           1         4      Житомирська   \n",
       "6015            Євроремонт         NaN           1         4      Житомирська   \n",
       "6016          Хороший стан         NaN           3         3            Нивки   \n",
       "6017      Задовільний стан         NaN           1         1              NaN   \n",
       "6018          Чудовий стан         NaN           1         4              NaN   \n",
       "\n",
       "           subway_location distance_to_subway distance_category  outlier  \n",
       "0     50.394167, 30.604167           0.376771                 1        1  \n",
       "1     50.394167, 30.604167           0.376771                 1        1  \n",
       "2       50.4275, 30.538889           0.279936                 1        1  \n",
       "3       50.4275, 30.538889           0.279936                 1        1  \n",
       "4     50.420833, 30.520833           0.667737                 1        1  \n",
       "...                    ...                ...               ...      ...  \n",
       "6014  50.456175, 30.365628           0.585864                 1        1  \n",
       "6015  50.456175, 30.365628           2.172046                 2        1  \n",
       "6016  50.458653, 30.404042           0.194392                 1        1  \n",
       "6017                   NaN           0.000000                 1        1  \n",
       "6018                   NaN           0.000000                 1        1  \n",
       "\n",
       "[5764 rows x 22 columns]"
      ]
     },
     "execution_count": 86,
     "metadata": {},
     "output_type": "execute_result"
    }
   ],
   "source": [
    "df_without_outliers = df[df['outlier'] != -1]\n",
    "df_without_outliers"
   ]
  },
  {
   "cell_type": "code",
   "execution_count": 87,
   "metadata": {},
   "outputs": [],
   "source": [
    "df_without_outliers.to_excel('all_flats_without_outliers_Elliptic Envelope.xlsx', index=False)"
   ]
  },
  {
   "cell_type": "code",
   "execution_count": 88,
   "metadata": {},
   "outputs": [],
   "source": [
    "df_without_outliers.to_csv('all_flats_without_outliers_Elliptic Envelope.csv', index=False)"
   ]
  },
  {
   "cell_type": "code",
   "execution_count": 89,
   "metadata": {},
   "outputs": [
    {
     "name": "stdout",
     "output_type": "stream",
     "text": [
      "5764\n",
      "Train score: 0.6164678796625092\n",
      "Test score: 0.6322247507978889\n",
      "Mean Squared Error (MSE) for mse_y_train_y_pred: 78964702.43635108\n",
      "Root Mean Squared Error (RMSE) for mse_y_train_y_pred: 8886.208552377728\n",
      "Mean Squared Error (MSE) for mse_y_test_y_pred: 78964702.43635108\n",
      "Root Mean Squared Error (RMSE) for mse_y_test_y_pred: 8886.208552377728\n",
      "Model cofficients: [  124.26882114  -786.70033526 -2212.77132579  3977.66112956\n",
      "  4901.08408017]\n"
     ]
    }
   ],
   "source": [
    "import pandas as pd\n",
    "from sklearn.linear_model import LinearRegression\n",
    "from sklearn.model_selection import train_test_split\n",
    "from sklearn.preprocessing import LabelEncoder\n",
    "from sklearn.metrics import mean_squared_error\n",
    "import numpy as np\n",
    "\n",
    "df = pd.read_csv('all_flats_without_outliers_Elliptic Envelope.csv')\n",
    "\n",
    "# df = df[df['rooms'] <= 3]\n",
    "# df = df[df['price'] <= 200000]\n",
    "\n",
    "print(len(df))\n",
    "\n",
    "#Linear regression\n",
    "\n",
    "df['flat_area'] = df['flat_area'].astype(int)\n",
    "df['price'] = df['price'].astype(int)\n",
    "df['rooms'] = df['rooms'].astype(int)\n",
    "\n",
    "# print(df.head(5))\n",
    "\n",
    "label_encoder = LabelEncoder()\n",
    "df['region_name_encoded'] = label_encoder.fit_transform(df['district'])\n",
    "\n",
    "X = df[['flat_area', 'rooms', 'distance_category', 'code type', 'prestigious']]\n",
    "y = df['price']\n",
    "\n",
    "X_train, X_test, y_train, y_test = train_test_split(X, y, test_size=0.25, random_state=1)\n",
    "\n",
    "model = LinearRegression()\n",
    "model.fit(X_train, y_train)\n",
    "\n",
    "y_pred_train=model.predict(X_train)\n",
    "mse_y_train_y_pred=mean_squared_error(y_train, y_pred_train)\n",
    "rmse_y_train_y_pred=np.sqrt(mean_squared_error(y_train, y_pred_train))\n",
    "\n",
    "y_pred_test = model.predict(X_test)\n",
    "mse_y_test_y_pred = mean_squared_error(y_test, y_pred_test)\n",
    "rmse_y_test_y_pred=np.sqrt(mean_squared_error(y_test, y_pred_test))\n",
    "\n",
    "score_train = model.score(X_train, y_train)\n",
    "score_test = model.score(X_test, y_test)\n",
    "\n",
    "print('Train score:', score_train)\n",
    "print('Test score:', score_test)\n",
    "\n",
    "print('Mean Squared Error (MSE) for mse_y_train_y_pred:', mse_y_train_y_pred)\n",
    "print('Root Mean Squared Error (RMSE) for mse_y_train_y_pred:', rmse_y_train_y_pred)\n",
    "print('Mean Squared Error (MSE) for mse_y_test_y_pred:', mse_y_train_y_pred)\n",
    "print('Root Mean Squared Error (RMSE) for mse_y_test_y_pred:', rmse_y_train_y_pred)\n",
    "\n",
    "print('Model cofficients:', model.coef_)"
   ]
  },
  {
   "cell_type": "code",
   "execution_count": 90,
   "metadata": {},
   "outputs": [
    {
     "data": {
      "text/html": [
       "<div>\n",
       "<style scoped>\n",
       "    .dataframe tbody tr th:only-of-type {\n",
       "        vertical-align: middle;\n",
       "    }\n",
       "\n",
       "    .dataframe tbody tr th {\n",
       "        vertical-align: top;\n",
       "    }\n",
       "\n",
       "    .dataframe thead th {\n",
       "        text-align: right;\n",
       "    }\n",
       "</style>\n",
       "<table border=\"1\" class=\"dataframe\">\n",
       "  <thead>\n",
       "    <tr style=\"text-align: right;\">\n",
       "      <th></th>\n",
       "      <th>Model coefficients</th>\n",
       "    </tr>\n",
       "  </thead>\n",
       "  <tbody>\n",
       "    <tr>\n",
       "      <th>flat_area</th>\n",
       "      <td>124.268821</td>\n",
       "    </tr>\n",
       "    <tr>\n",
       "      <th>rooms</th>\n",
       "      <td>-786.700335</td>\n",
       "    </tr>\n",
       "    <tr>\n",
       "      <th>distance_category</th>\n",
       "      <td>-2212.771326</td>\n",
       "    </tr>\n",
       "    <tr>\n",
       "      <th>code type</th>\n",
       "      <td>3977.661130</td>\n",
       "    </tr>\n",
       "    <tr>\n",
       "      <th>prestigious</th>\n",
       "      <td>4901.084080</td>\n",
       "    </tr>\n",
       "  </tbody>\n",
       "</table>\n",
       "</div>"
      ],
      "text/plain": [
       "                   Model coefficients\n",
       "flat_area                  124.268821\n",
       "rooms                     -786.700335\n",
       "distance_category        -2212.771326\n",
       "code type                 3977.661130\n",
       "prestigious               4901.084080"
      ]
     },
     "execution_count": 90,
     "metadata": {},
     "output_type": "execute_result"
    }
   ],
   "source": [
    "# Оцінка кoефіцієнтів\n",
    "df_coef = pd.DataFrame(model.coef_, X.columns, columns=['Model coefficients'])\n",
    "df_coef"
   ]
  },
  {
   "cell_type": "code",
   "execution_count": 91,
   "metadata": {},
   "outputs": [
    {
     "name": "stdout",
     "output_type": "stream",
     "text": [
      "Price for 40 sqmeters, 1 room, close to metro, Хороший стан of flat, prestigious district: [17565.03111325] hryvnas\n"
     ]
    },
    {
     "name": "stderr",
     "output_type": "stream",
     "text": [
      "C:\\Users\\liman\\anaconda3\\lib\\site-packages\\sklearn\\base.py:450: UserWarning: X does not have valid feature names, but LinearRegression was fitted with feature names\n",
      "  warnings.warn(\n"
     ]
    }
   ],
   "source": [
    "#Prediction\n",
    "price_pred = model.predict([[40, 1, 1, 4, 3]]) # 40 sqmeters, 1 room, close to metro, good state of flat, prestigious district\n",
    "print(\"Price for 40 sqmeters, 1 room, close to metro, Хороший стан of flat, prestigious district:\", price_pred, \"hryvnas\")"
   ]
  },
  {
   "cell_type": "code",
   "execution_count": 92,
   "metadata": {},
   "outputs": [
    {
     "name": "stdout",
     "output_type": "stream",
     "text": [
      "Price for 60 sqmeters, 2 rooms, close to metro, Євроремонт state of flat, prestigious district: [23241.36833029] hryvnas\n"
     ]
    },
    {
     "name": "stderr",
     "output_type": "stream",
     "text": [
      "C:\\Users\\liman\\anaconda3\\lib\\site-packages\\sklearn\\base.py:450: UserWarning: X does not have valid feature names, but LinearRegression was fitted with feature names\n",
      "  warnings.warn(\n"
     ]
    }
   ],
   "source": [
    "#Prediction\n",
    "price_pred = model.predict([[60, 2, 1, 5, 3]]) # 40 sqmeters, 1 room, close to metro, good state of flat, prestigious district\n",
    "print(\"Price for 60 sqmeters, 2 rooms, close to metro, Євроремонт state of flat, prestigious district:\", price_pred, \"hryvnas\")"
   ]
  },
  {
   "cell_type": "code",
   "execution_count": 93,
   "metadata": {},
   "outputs": [
    {
     "name": "stdout",
     "output_type": "stream",
     "text": [
      "Price for 40 sqmeters, 1 room, close to metro, Хороший стан of flat, not prestigious district: [7762.86295292] hryvnas\n"
     ]
    },
    {
     "name": "stderr",
     "output_type": "stream",
     "text": [
      "C:\\Users\\liman\\anaconda3\\lib\\site-packages\\sklearn\\base.py:450: UserWarning: X does not have valid feature names, but LinearRegression was fitted with feature names\n",
      "  warnings.warn(\n"
     ]
    }
   ],
   "source": [
    "#Prediction\n",
    "price_pred = model.predict([[40, 1, 1, 4, 1]]) # 40 sqmeters, 1 room, close to metro, good state of flat, prestigious district\n",
    "print(\"Price for 40 sqmeters, 1 room, close to metro, Хороший стан of flat, not prestigious district:\", price_pred, \"hryvnas\")"
   ]
  },
  {
   "cell_type": "code",
   "execution_count": 94,
   "metadata": {},
   "outputs": [
    {
     "name": "stdout",
     "output_type": "stream",
     "text": [
      "Price for 160 sqmeters, 4 rooms, distant from metro, Дизайнерський ремонт of flat, prestigious district: [29669.3071219] hryvnas\n"
     ]
    },
    {
     "name": "stderr",
     "output_type": "stream",
     "text": [
      "C:\\Users\\liman\\anaconda3\\lib\\site-packages\\sklearn\\base.py:450: UserWarning: X does not have valid feature names, but LinearRegression was fitted with feature names\n",
      "  warnings.warn(\n"
     ]
    }
   ],
   "source": [
    "#Prediction\n",
    "price_pred = model.predict([[160, 4, 3, 5, 3]]) # 40 sqmeters, 1 room, close to metro, good state of flat, prestigious district\n",
    "print(\"Price for 160 sqmeters, 4 rooms, distant from metro, Дизайнерський ремонт of flat, prestigious district:\", price_pred, \"hryvnas\")"
   ]
  },
  {
   "cell_type": "code",
   "execution_count": 95,
   "metadata": {},
   "outputs": [
    {
     "name": "stdout",
     "output_type": "stream",
     "text": [
      "Price for 40 sqmeters, 1 room, close to metro, Потрібен капітальний ремонт,prestigious district 1: [-4170.12043576] hryvnas\n"
     ]
    },
    {
     "name": "stderr",
     "output_type": "stream",
     "text": [
      "C:\\Users\\liman\\anaconda3\\lib\\site-packages\\sklearn\\base.py:450: UserWarning: X does not have valid feature names, but LinearRegression was fitted with feature names\n",
      "  warnings.warn(\n"
     ]
    }
   ],
   "source": [
    "#Prediction\n",
    "price_pred = model.predict([[40, 1, 1, 1, 1]]) # 40 sqmeters, 1 room, close to metro, good state of flat, prestigious district\n",
    "print(\"Price for 40 sqmeters, 1 room, close to metro, Потрібен капітальний ремонт,prestigious district 1:\", price_pred, \"hryvnas\")"
   ]
  },
  {
   "cell_type": "code",
   "execution_count": 96,
   "metadata": {},
   "outputs": [
    {
     "data": {
      "text/plain": [
       "Lasso(alpha=1)"
      ]
     },
     "execution_count": 96,
     "metadata": {},
     "output_type": "execute_result"
    }
   ],
   "source": [
    "#Lasso of the model\n",
    "\n",
    "from sklearn.linear_model import Lasso\n",
    "\n",
    "lasso_model = Lasso(alpha=1)\n",
    "\n",
    "lasso_model.fit(X_train, y_train)\n"
   ]
  },
  {
   "cell_type": "code",
   "execution_count": 97,
   "metadata": {},
   "outputs": [
    {
     "name": "stdout",
     "output_type": "stream",
     "text": [
      "Train score for lasso_model: 0.6164678384906253\n",
      "Test score for lasso_model: 0.632228470759215\n",
      "Mean Squared Error (MSE) for lasso_mse_y_train_y_pred: 78964710.91315232\n",
      "Root Mean Squared Error (RMSE) for lasso_mse_y_train_y_pred: 8886.209029341608\n",
      "Mean Squared Error (MSE) for lasso_mse_y_test_y_pred: 78964710.91315232\n",
      "Root Mean Squared Error (RMSE) for lasso_mse_y_test_y_pred: 8886.209029341608\n",
      "Model cofficients: [  124.23778767  -783.1425318  -2209.25226898  3977.16554704\n",
      "  4900.21140033]\n"
     ]
    }
   ],
   "source": [
    "y_pred_train=lasso_model.predict(X_train)\n",
    "lasso_mse_y_train_y_pred=mean_squared_error(y_train, y_pred_train)\n",
    "lasso_rmse_y_train_y_pred=np.sqrt(mean_squared_error(y_train, y_pred_train))\n",
    "\n",
    "lasso_y_pred_test = lasso_model.predict(X_test)\n",
    "lasso_mse_y_test_y_pred = mean_squared_error(y_test, y_pred_test)\n",
    "lasso_rmse_y_test_y_pred=np.sqrt(mean_squared_error(y_test, y_pred_test))\n",
    "\n",
    "lasso_score_train = lasso_model.score(X_train, y_train)\n",
    "lasso_score_test = lasso_model.score(X_test, y_test)\n",
    "\n",
    "print('Train score for lasso_model:', lasso_score_train)\n",
    "print('Test score for lasso_model:', lasso_score_test)\n",
    "\n",
    "print('Mean Squared Error (MSE) for lasso_mse_y_train_y_pred:', lasso_mse_y_train_y_pred)\n",
    "print('Root Mean Squared Error (RMSE) for lasso_mse_y_train_y_pred:', lasso_rmse_y_train_y_pred)\n",
    "print('Mean Squared Error (MSE) for lasso_mse_y_test_y_pred:', lasso_mse_y_train_y_pred)\n",
    "print('Root Mean Squared Error (RMSE) for lasso_mse_y_test_y_pred:', lasso_rmse_y_train_y_pred)\n",
    "\n",
    "print('Model cofficients:', lasso_model.coef_)"
   ]
  },
  {
   "cell_type": "code",
   "execution_count": 98,
   "metadata": {},
   "outputs": [
    {
     "data": {
      "text/html": [
       "<div>\n",
       "<style scoped>\n",
       "    .dataframe tbody tr th:only-of-type {\n",
       "        vertical-align: middle;\n",
       "    }\n",
       "\n",
       "    .dataframe tbody tr th {\n",
       "        vertical-align: top;\n",
       "    }\n",
       "\n",
       "    .dataframe thead th {\n",
       "        text-align: right;\n",
       "    }\n",
       "</style>\n",
       "<table border=\"1\" class=\"dataframe\">\n",
       "  <thead>\n",
       "    <tr style=\"text-align: right;\">\n",
       "      <th></th>\n",
       "      <th>Model coefficients</th>\n",
       "    </tr>\n",
       "  </thead>\n",
       "  <tbody>\n",
       "    <tr>\n",
       "      <th>flat_area</th>\n",
       "      <td>124.237788</td>\n",
       "    </tr>\n",
       "    <tr>\n",
       "      <th>rooms</th>\n",
       "      <td>-783.142532</td>\n",
       "    </tr>\n",
       "    <tr>\n",
       "      <th>distance_category</th>\n",
       "      <td>-2209.252269</td>\n",
       "    </tr>\n",
       "    <tr>\n",
       "      <th>code type</th>\n",
       "      <td>3977.165547</td>\n",
       "    </tr>\n",
       "    <tr>\n",
       "      <th>prestigious</th>\n",
       "      <td>4900.211400</td>\n",
       "    </tr>\n",
       "  </tbody>\n",
       "</table>\n",
       "</div>"
      ],
      "text/plain": [
       "                   Model coefficients\n",
       "flat_area                  124.237788\n",
       "rooms                     -783.142532\n",
       "distance_category        -2209.252269\n",
       "code type                 3977.165547\n",
       "prestigious               4900.211400"
      ]
     },
     "execution_count": 98,
     "metadata": {},
     "output_type": "execute_result"
    }
   ],
   "source": [
    "# Оцінка кoефіцієнтів\n",
    "lasso_df_coef = pd.DataFrame(lasso_model.coef_, X.columns, columns=['Model coefficients'])\n",
    "lasso_df_coef"
   ]
  },
  {
   "cell_type": "code",
   "execution_count": 99,
   "metadata": {},
   "outputs": [
    {
     "name": "stdout",
     "output_type": "stream",
     "text": [
      "Price for 40 sqmeters, 1 room, close to metro, Хороший стан of flat, prestigious district: [17562.00354784] hryvnas\n"
     ]
    },
    {
     "name": "stderr",
     "output_type": "stream",
     "text": [
      "C:\\Users\\liman\\anaconda3\\lib\\site-packages\\sklearn\\base.py:450: UserWarning: X does not have valid feature names, but Lasso was fitted with feature names\n",
      "  warnings.warn(\n"
     ]
    }
   ],
   "source": [
    "#Prediction\n",
    "price_pred = lasso_model.predict([[40, 1, 1, 4, 3]]) # 40 sqmeters, 1 room, close to metro, good state of flat, prestigious district\n",
    "print(\"Price for 40 sqmeters, 1 room, close to metro, Хороший стан of flat, prestigious district:\", price_pred, \"hryvnas\")"
   ]
  },
  {
   "cell_type": "code",
   "execution_count": 100,
   "metadata": {},
   "outputs": [
    {
     "name": "stdout",
     "output_type": "stream",
     "text": [
      "Price for 40 sqmeters, 1 room, close to metro, Хороший стан of flat, not prestigious district: [7761.58074719] hryvnas\n"
     ]
    },
    {
     "name": "stderr",
     "output_type": "stream",
     "text": [
      "C:\\Users\\liman\\anaconda3\\lib\\site-packages\\sklearn\\base.py:450: UserWarning: X does not have valid feature names, but Lasso was fitted with feature names\n",
      "  warnings.warn(\n"
     ]
    }
   ],
   "source": [
    "#Prediction\n",
    "price_pred = lasso_model.predict([[40, 1, 1, 4, 1]]) # 40 sqmeters, 1 room, close to metro, good state of flat, prestigious district\n",
    "print(\"Price for 40 sqmeters, 1 room, close to metro, Хороший стан of flat, not prestigious district:\", price_pred, \"hryvnas\")"
   ]
  },
  {
   "cell_type": "code",
   "execution_count": 101,
   "metadata": {},
   "outputs": [
    {
     "name": "stdout",
     "output_type": "stream",
     "text": [
      "Price for 40 sqmeters, 1 room, close to metro, Потрібен капітальний ремонт,prestigious district 1: [-4170.12043576] hryvnas\n"
     ]
    },
    {
     "name": "stderr",
     "output_type": "stream",
     "text": [
      "C:\\Users\\liman\\anaconda3\\lib\\site-packages\\sklearn\\base.py:450: UserWarning: X does not have valid feature names, but LinearRegression was fitted with feature names\n",
      "  warnings.warn(\n"
     ]
    }
   ],
   "source": [
    "#Prediction\n",
    "price_pred = model.predict([[40, 1, 1, 1, 1]]) # 40 sqmeters, 1 room, close to metro, good state of flat, prestigious district\n",
    "print(\"Price for 40 sqmeters, 1 room, close to metro, Потрібен капітальний ремонт,prestigious district 1:\", price_pred, \"hryvnas\")"
   ]
  },
  {
   "cell_type": "code",
   "execution_count": 102,
   "metadata": {},
   "outputs": [
    {
     "data": {
      "text/plain": [
       "Ridge(alpha=1)"
      ]
     },
     "execution_count": 102,
     "metadata": {},
     "output_type": "execute_result"
    }
   ],
   "source": [
    "from sklearn.linear_model import Ridge\n",
    "\n",
    "ridge_model = Ridge(alpha=1)\n",
    "\n",
    "ridge_model.fit(X_train, y_train)\n"
   ]
  },
  {
   "cell_type": "code",
   "execution_count": 103,
   "metadata": {},
   "outputs": [
    {
     "name": "stdout",
     "output_type": "stream",
     "text": [
      "Train score for ridge_model: 0.6164678649594781\n",
      "Test score for ridge_model: 0.6322281616310017\n",
      "Mean Squared Error (MSE) for ridge_mse_y_train_y_pred: 78964705.4635303\n",
      "Root Mean Squared Error (RMSE) for ridge_mse_y_train_y_pred: 8886.20872270792\n",
      "Mean Squared Error (MSE) for ridge_mse_y_test_y_pred: 78964705.4635303\n",
      "Root Mean Squared Error (RMSE) for ridge_mse_y_test_y_pred: 8886.20872270792\n",
      "Model cofficients: [  124.27288042  -786.18229875 -2211.58908161  3976.9028003\n",
      "  4899.64534561]\n"
     ]
    }
   ],
   "source": [
    "y_pred_train=ridge_model.predict(X_train)\n",
    "ridge_mse_y_train_y_pred=mean_squared_error(y_train, y_pred_train)\n",
    "ridge_rmse_y_train_y_pred=np.sqrt(mean_squared_error(y_train, y_pred_train))\n",
    "\n",
    "ridge_y_pred_test = ridge_model.predict(X_test)\n",
    "ridge_mse_y_test_y_pred = mean_squared_error(y_test, y_pred_test)\n",
    "ridge_rmse_y_test_y_pred=np.sqrt(mean_squared_error(y_test, y_pred_test))\n",
    "\n",
    "ridge_score_train = ridge_model.score(X_train, y_train)\n",
    "ridge_score_test = ridge_model.score(X_test, y_test)\n",
    "\n",
    "print('Train score for ridge_model:', ridge_score_train)\n",
    "print('Test score for ridge_model:', ridge_score_test)\n",
    "\n",
    "print('Mean Squared Error (MSE) for ridge_mse_y_train_y_pred:', ridge_mse_y_train_y_pred)\n",
    "print('Root Mean Squared Error (RMSE) for ridge_mse_y_train_y_pred:', ridge_rmse_y_train_y_pred)\n",
    "print('Mean Squared Error (MSE) for ridge_mse_y_test_y_pred:', ridge_mse_y_train_y_pred)\n",
    "print('Root Mean Squared Error (RMSE) for ridge_mse_y_test_y_pred:', ridge_rmse_y_train_y_pred)\n",
    "\n",
    "print('Model cofficients:', ridge_model.coef_)"
   ]
  },
  {
   "cell_type": "code",
   "execution_count": 104,
   "metadata": {},
   "outputs": [
    {
     "data": {
      "text/html": [
       "<div>\n",
       "<style scoped>\n",
       "    .dataframe tbody tr th:only-of-type {\n",
       "        vertical-align: middle;\n",
       "    }\n",
       "\n",
       "    .dataframe tbody tr th {\n",
       "        vertical-align: top;\n",
       "    }\n",
       "\n",
       "    .dataframe thead th {\n",
       "        text-align: right;\n",
       "    }\n",
       "</style>\n",
       "<table border=\"1\" class=\"dataframe\">\n",
       "  <thead>\n",
       "    <tr style=\"text-align: right;\">\n",
       "      <th></th>\n",
       "      <th>Model coefficients</th>\n",
       "    </tr>\n",
       "  </thead>\n",
       "  <tbody>\n",
       "    <tr>\n",
       "      <th>flat_area</th>\n",
       "      <td>124.272880</td>\n",
       "    </tr>\n",
       "    <tr>\n",
       "      <th>rooms</th>\n",
       "      <td>-786.182299</td>\n",
       "    </tr>\n",
       "    <tr>\n",
       "      <th>distance_category</th>\n",
       "      <td>-2211.589082</td>\n",
       "    </tr>\n",
       "    <tr>\n",
       "      <th>code type</th>\n",
       "      <td>3976.902800</td>\n",
       "    </tr>\n",
       "    <tr>\n",
       "      <th>prestigious</th>\n",
       "      <td>4899.645346</td>\n",
       "    </tr>\n",
       "  </tbody>\n",
       "</table>\n",
       "</div>"
      ],
      "text/plain": [
       "                   Model coefficients\n",
       "flat_area                  124.272880\n",
       "rooms                     -786.182299\n",
       "distance_category        -2211.589082\n",
       "code type                 3976.902800\n",
       "prestigious               4899.645346"
      ]
     },
     "execution_count": 104,
     "metadata": {},
     "output_type": "execute_result"
    }
   ],
   "source": [
    "# Оцінка кoефіцієнтів\n",
    "ridge_df_coef = pd.DataFrame(ridge_model.coef_, X.columns, columns=['Model coefficients'])\n",
    "ridge_df_coef"
   ]
  },
  {
   "cell_type": "code",
   "execution_count": 105,
   "metadata": {},
   "outputs": [
    {
     "name": "stdout",
     "output_type": "stream",
     "text": [
      "Price for 40 sqmeters, 1 room, close to metro, Хороший стан of flat, prestigious district: [17562.23478643] hryvnas\n"
     ]
    },
    {
     "name": "stderr",
     "output_type": "stream",
     "text": [
      "C:\\Users\\liman\\anaconda3\\lib\\site-packages\\sklearn\\base.py:450: UserWarning: X does not have valid feature names, but Ridge was fitted with feature names\n",
      "  warnings.warn(\n"
     ]
    }
   ],
   "source": [
    "#Prediction\n",
    "price_pred = ridge_model.predict([[40, 1, 1, 4, 3]]) # 40 sqmeters, 1 room, close to metro, good state of flat, prestigious district\n",
    "print(\"Price for 40 sqmeters, 1 room, close to metro, Хороший стан of flat, prestigious district:\", price_pred, \"hryvnas\")"
   ]
  },
  {
   "cell_type": "code",
   "execution_count": 106,
   "metadata": {},
   "outputs": [
    {
     "name": "stdout",
     "output_type": "stream",
     "text": [
      "Price for 40 sqmeters, 1 room, close to metro, Потрібен капітальний ремонт,prestigious district 1: [-4170.12043576] hryvnas\n"
     ]
    },
    {
     "name": "stderr",
     "output_type": "stream",
     "text": [
      "C:\\Users\\liman\\anaconda3\\lib\\site-packages\\sklearn\\base.py:450: UserWarning: X does not have valid feature names, but LinearRegression was fitted with feature names\n",
      "  warnings.warn(\n"
     ]
    }
   ],
   "source": [
    "#Prediction\n",
    "price_pred = model.predict([[40, 1, 1, 1, 1]]) # 40 sqmeters, 1 room, close to metro, good state of flat, prestigious district\n",
    "print(\"Price for 40 sqmeters, 1 room, close to metro, Потрібен капітальний ремонт,prestigious district 1:\", price_pred, \"hryvnas\")"
   ]
  },
  {
   "cell_type": "code",
   "execution_count": 107,
   "metadata": {},
   "outputs": [
    {
     "data": {
      "text/plain": [
       "DecisionTreeRegressor(max_depth=4)"
      ]
     },
     "execution_count": 107,
     "metadata": {},
     "output_type": "execute_result"
    }
   ],
   "source": [
    "from sklearn.tree import DecisionTreeRegressor\n",
    "from sklearn.model_selection import cross_val_score\n",
    "# I added max_depth param = 4\n",
    "regressor = DecisionTreeRegressor(max_depth=4)\n",
    "\n",
    "regressor.fit(X_train, y_train)\n"
   ]
  },
  {
   "cell_type": "code",
   "execution_count": 108,
   "metadata": {},
   "outputs": [
    {
     "name": "stdout",
     "output_type": "stream",
     "text": [
      "Training R2 Score for X_train, y_train: 0.6311131778168158\n",
      "Test R2 Score for X_test, y_test: 0.6453584100931515\n",
      "Mean Squared Error (MSE) for regressor_mse_y_train_y_pred: 78964705.4635303\n",
      "Root Mean Squared Error (RMSE) for regressor_mse_y_train_y_pred: 8886.20872270792\n",
      "Mean Squared Error (MSE) for regressor_mse_y_test_y_pred: 78964705.4635303\n",
      "Root Mean Squared Error (RMSE) for regressor_mse_y_test_y_pred: 8886.20872270792\n",
      "Model feature importances: [0.60355768 0.         0.         0.21491231 0.18153001]\n",
      "Cross-validated R2 scores: [0.62400391 0.59191613 0.59982541 0.63324927 0.61064727]\n",
      "Mean R2 score: 0.6119283990421123\n"
     ]
    }
   ],
   "source": [
    "regressor_y_pred_train=regressor.predict(X_train)\n",
    "regressor_mse_y_train_y_pred=mean_squared_error(y_train, y_pred_train)\n",
    "regressor_rmse_y_train_y_pred=np.sqrt(mean_squared_error(y_train, y_pred_train))\n",
    "\n",
    "regressor_y_pred_test = regressor.predict(X_test)\n",
    "regressor_mse_y_test_y_pred = mean_squared_error(y_test, y_pred_test)\n",
    "regressor_rmse_y_test_y_pred=np.sqrt(mean_squared_error(y_test, y_pred_test))\n",
    "\n",
    "train_score = regressor.score(X_train, y_train)\n",
    "print(\"Training R2 Score for X_train, y_train:\", train_score)\n",
    "\n",
    "test_score = regressor.score(X_test, y_test)\n",
    "print(\"Test R2 Score for X_test, y_test:\", test_score)\n",
    "\n",
    "print('Mean Squared Error (MSE) for regressor_mse_y_train_y_pred:', regressor_mse_y_train_y_pred)\n",
    "print('Root Mean Squared Error (RMSE) for regressor_mse_y_train_y_pred:', regressor_rmse_y_train_y_pred)\n",
    "print('Mean Squared Error (MSE) for regressor_mse_y_test_y_pred:', regressor_mse_y_train_y_pred)\n",
    "print('Root Mean Squared Error (RMSE) for regressor_mse_y_test_y_pred:', regressor_rmse_y_train_y_pred)\n",
    "\n",
    "print('Model feature importances:', regressor.feature_importances_) \n",
    "\n",
    "# Perform 5-fold cross-validation on the training data\n",
    "scores = cross_val_score(regressor, X_train, y_train, cv=5, scoring='r2')\n",
    "\n",
    "print(\"Cross-validated R2 scores:\", scores)\n",
    "print(\"Mean R2 score:\", scores.mean())"
   ]
  },
  {
   "cell_type": "code",
   "execution_count": 109,
   "metadata": {},
   "outputs": [
    {
     "data": {
      "text/html": [
       "<div>\n",
       "<style scoped>\n",
       "    .dataframe tbody tr th:only-of-type {\n",
       "        vertical-align: middle;\n",
       "    }\n",
       "\n",
       "    .dataframe tbody tr th {\n",
       "        vertical-align: top;\n",
       "    }\n",
       "\n",
       "    .dataframe thead th {\n",
       "        text-align: right;\n",
       "    }\n",
       "</style>\n",
       "<table border=\"1\" class=\"dataframe\">\n",
       "  <thead>\n",
       "    <tr style=\"text-align: right;\">\n",
       "      <th></th>\n",
       "      <th>Feature Importances</th>\n",
       "    </tr>\n",
       "  </thead>\n",
       "  <tbody>\n",
       "    <tr>\n",
       "      <th>flat_area</th>\n",
       "      <td>0.603558</td>\n",
       "    </tr>\n",
       "    <tr>\n",
       "      <th>rooms</th>\n",
       "      <td>0.000000</td>\n",
       "    </tr>\n",
       "    <tr>\n",
       "      <th>distance_category</th>\n",
       "      <td>0.000000</td>\n",
       "    </tr>\n",
       "    <tr>\n",
       "      <th>code type</th>\n",
       "      <td>0.214912</td>\n",
       "    </tr>\n",
       "    <tr>\n",
       "      <th>prestigious</th>\n",
       "      <td>0.181530</td>\n",
       "    </tr>\n",
       "  </tbody>\n",
       "</table>\n",
       "</div>"
      ],
      "text/plain": [
       "                   Feature Importances\n",
       "flat_area                     0.603558\n",
       "rooms                         0.000000\n",
       "distance_category             0.000000\n",
       "code type                     0.214912\n",
       "prestigious                   0.181530"
      ]
     },
     "execution_count": 109,
     "metadata": {},
     "output_type": "execute_result"
    }
   ],
   "source": [
    "# Оцінка кoефіцієнтів\n",
    "regr_df_imp = pd.DataFrame(regressor.feature_importances_, X.columns, columns=['Feature Importances'])\n",
    "regr_df_imp"
   ]
  },
  {
   "cell_type": "code",
   "execution_count": 110,
   "metadata": {},
   "outputs": [
    {
     "name": "stderr",
     "output_type": "stream",
     "text": [
      "C:\\Users\\liman\\anaconda3\\lib\\site-packages\\sklearn\\base.py:450: UserWarning: X does not have valid feature names, but DecisionTreeRegressor was fitted with feature names\n",
      "  warnings.warn(\n"
     ]
    },
    {
     "name": "stdout",
     "output_type": "stream",
     "text": [
      "Price for 40 sqmeters, 1 room, close to metro, Хороший стан of flat, prestigious district: [13648.16666667] hryvnas\n"
     ]
    }
   ],
   "source": [
    "#Prediction\n",
    "price_pred = regressor.predict([[40, 1, 1, 4, 3]]) # 40 sqmeters, 1 room, close to metro, good state of flat, prestigious district\n",
    "print(\"Price for 40 sqmeters, 1 room, close to metro, Хороший стан of flat, prestigious district:\", price_pred, \"hryvnas\")"
   ]
  },
  {
   "cell_type": "code",
   "execution_count": 111,
   "metadata": {},
   "outputs": [
    {
     "name": "stdout",
     "output_type": "stream",
     "text": [
      "Price for 60 sqmeters, 2 rooms, close to metro, Євроремонт state of flat, prestigious district: [25526.85483871] hryvnas\n"
     ]
    },
    {
     "name": "stderr",
     "output_type": "stream",
     "text": [
      "C:\\Users\\liman\\anaconda3\\lib\\site-packages\\sklearn\\base.py:450: UserWarning: X does not have valid feature names, but DecisionTreeRegressor was fitted with feature names\n",
      "  warnings.warn(\n"
     ]
    }
   ],
   "source": [
    "#Prediction\n",
    "price_pred = regressor.predict([[60, 2, 1, 5, 3]]) # 40 sqmeters, 1 room, close to metro, good state of flat, prestigious district\n",
    "print(\"Price for 60 sqmeters, 2 rooms, close to metro, Євроремонт state of flat, prestigious district:\", price_pred, \"hryvnas\")"
   ]
  },
  {
   "cell_type": "code",
   "execution_count": 112,
   "metadata": {},
   "outputs": [
    {
     "name": "stdout",
     "output_type": "stream",
     "text": [
      "Price for 40 sqmeters, 1 room, close to metro, Хороший стан of flat, not prestigious district: [13661.03254973] hryvnas\n"
     ]
    },
    {
     "name": "stderr",
     "output_type": "stream",
     "text": [
      "C:\\Users\\liman\\anaconda3\\lib\\site-packages\\sklearn\\base.py:450: UserWarning: X does not have valid feature names, but DecisionTreeRegressor was fitted with feature names\n",
      "  warnings.warn(\n"
     ]
    }
   ],
   "source": [
    "#Prediction\n",
    "price_pred = regressor.predict([[40, 1, 1, 4, 1]]) # 40 sqmeters, 1 room, close to metro, good state of flat, prestigious district\n",
    "print(\"Price for 40 sqmeters, 1 room, close to metro, Хороший стан of flat, not prestigious district:\", price_pred, \"hryvnas\")"
   ]
  },
  {
   "cell_type": "code",
   "execution_count": 113,
   "metadata": {},
   "outputs": [
    {
     "name": "stdout",
     "output_type": "stream",
     "text": [
      "Price for 160 sqmeters, 4 rooms, distant from metro, Дизайнерський ремонт of flat, prestigious district: [43291.12048193] hryvnas\n"
     ]
    },
    {
     "name": "stderr",
     "output_type": "stream",
     "text": [
      "C:\\Users\\liman\\anaconda3\\lib\\site-packages\\sklearn\\base.py:450: UserWarning: X does not have valid feature names, but DecisionTreeRegressor was fitted with feature names\n",
      "  warnings.warn(\n"
     ]
    }
   ],
   "source": [
    "#Prediction\n",
    "price_pred = regressor.predict([[160, 4, 3, 5, 3]]) # 40 sqmeters, 1 room, close to metro, good state of flat, prestigious district\n",
    "print(\"Price for 160 sqmeters, 4 rooms, distant from metro, Дизайнерський ремонт of flat, prestigious district:\", price_pred, \"hryvnas\")"
   ]
  },
  {
   "cell_type": "code",
   "execution_count": 114,
   "metadata": {},
   "outputs": [
    {
     "name": "stdout",
     "output_type": "stream",
     "text": [
      "Price for 40 sqmeters, 1 room, close to metro, Потрібен капітальний ремонт,prestigious district 1: [8678.17502559] hryvnas\n"
     ]
    },
    {
     "name": "stderr",
     "output_type": "stream",
     "text": [
      "C:\\Users\\liman\\anaconda3\\lib\\site-packages\\sklearn\\base.py:450: UserWarning: X does not have valid feature names, but DecisionTreeRegressor was fitted with feature names\n",
      "  warnings.warn(\n"
     ]
    }
   ],
   "source": [
    "#Prediction\n",
    "price_pred = regressor.predict([[40, 1, 1, 1, 1]]) # 40 sqmeters, 1 room, close to metro, good state of flat, prestigious district\n",
    "print(\"Price for 40 sqmeters, 1 room, close to metro, Потрібен капітальний ремонт,prestigious district 1:\", price_pred, \"hryvnas\")"
   ]
  },
  {
   "cell_type": "code",
   "execution_count": null,
   "metadata": {},
   "outputs": [],
   "source": []
  },
  {
   "cell_type": "code",
   "execution_count": 115,
   "metadata": {},
   "outputs": [
    {
     "data": {
      "text/plain": [
       "RandomForestRegressor(max_depth=12, min_samples_leaf=2, min_samples_split=3,\n",
       "                      n_estimators=150)"
      ]
     },
     "execution_count": 115,
     "metadata": {},
     "output_type": "execute_result"
    }
   ],
   "source": [
    "from sklearn.ensemble import RandomForestRegressor\n",
    "from sklearn.model_selection import cross_val_score\n",
    "from sklearn.metrics import r2_score\n",
    "\n",
    "regressor_forest = RandomForestRegressor(n_estimators=150, max_depth=12, min_samples_split=3, min_samples_leaf=2)\n",
    "\n",
    "regressor_forest.fit(X_train, y_train)\n"
   ]
  },
  {
   "cell_type": "code",
   "execution_count": 116,
   "metadata": {},
   "outputs": [
    {
     "name": "stdout",
     "output_type": "stream",
     "text": [
      "Training R2 Score for X_train, y_train: 0.8161822295228297\n",
      "Test R2 Score for X_test, y_test: 0.6689557972830136\n",
      "Mean Squared Error (MSE) for regressor_forest_mse_y_train_y_pred: 78964705.4635303\n",
      "Root Mean Squared Error (RMSE) for regressor_forest_rmse_y_train_y_pred: 8886.20872270792\n",
      "Mean Squared Error (MSE) for regressor_forest_mse_y_test_y_pred: 78964705.4635303\n",
      "Root Mean Squared Error (RMSE) for regressor_forest_rmse_y_test_y_pred: 8886.20872270792\n",
      "Model regressor_forest feature importances: [0.62364024 0.03316689 0.01153005 0.19129219 0.14037064]\n",
      "Cross-validated R2 scores: [0.64821416 0.63499857 0.62312883 0.66645139 0.65803756]\n",
      "Mean R2 score: 0.6461661018327046\n"
     ]
    }
   ],
   "source": [
    "regressor_forest_y_pred_train=regressor_forest.predict(X_train)\n",
    "regressor_forest_mse_y_train_y_pred=mean_squared_error(y_train, y_pred_train)\n",
    "regressor_forest_rmse_y_train_y_pred=np.sqrt(mean_squared_error(y_train, y_pred_train))\n",
    "\n",
    "regressor_forest_y_pred_test = regressor_forest.predict(X_test)\n",
    "regressor_forest_mse_y_test_y_pred = mean_squared_error(y_test, y_pred_test)\n",
    "regressor_forest_rmse_y_test_y_pred=np.sqrt(mean_squared_error(y_test, y_pred_test))\n",
    "\n",
    "f_train_score = regressor_forest.score(X_train, y_train)\n",
    "print(\"Training R2 Score for X_train, y_train:\", f_train_score)\n",
    "\n",
    "f_test_score = regressor_forest.score(X_test, y_test)\n",
    "print(\"Test R2 Score for X_test, y_test:\", f_test_score)\n",
    "\n",
    "print('Mean Squared Error (MSE) for regressor_forest_mse_y_train_y_pred:', regressor_forest_mse_y_train_y_pred)\n",
    "print('Root Mean Squared Error (RMSE) for regressor_forest_rmse_y_train_y_pred:', regressor_forest_rmse_y_train_y_pred)\n",
    "print('Mean Squared Error (MSE) for regressor_forest_mse_y_test_y_pred:', regressor_forest_mse_y_train_y_pred)\n",
    "print('Root Mean Squared Error (RMSE) for regressor_forest_rmse_y_test_y_pred:', regressor_forest_rmse_y_train_y_pred)\n",
    "\n",
    "print('Model regressor_forest feature importances:', regressor_forest.feature_importances_) \n",
    "\n",
    "# Perform 5-fold cross-validation on the training data\n",
    "scores = cross_val_score(regressor_forest, X_train, y_train, cv=5, scoring='r2')\n",
    "\n",
    "print(\"Cross-validated R2 scores:\", scores)\n",
    "print(\"Mean R2 score:\", scores.mean())"
   ]
  },
  {
   "cell_type": "code",
   "execution_count": 117,
   "metadata": {},
   "outputs": [
    {
     "data": {
      "text/html": [
       "<div>\n",
       "<style scoped>\n",
       "    .dataframe tbody tr th:only-of-type {\n",
       "        vertical-align: middle;\n",
       "    }\n",
       "\n",
       "    .dataframe tbody tr th {\n",
       "        vertical-align: top;\n",
       "    }\n",
       "\n",
       "    .dataframe thead th {\n",
       "        text-align: right;\n",
       "    }\n",
       "</style>\n",
       "<table border=\"1\" class=\"dataframe\">\n",
       "  <thead>\n",
       "    <tr style=\"text-align: right;\">\n",
       "      <th></th>\n",
       "      <th>Feature Importances</th>\n",
       "    </tr>\n",
       "  </thead>\n",
       "  <tbody>\n",
       "    <tr>\n",
       "      <th>flat_area</th>\n",
       "      <td>0.623640</td>\n",
       "    </tr>\n",
       "    <tr>\n",
       "      <th>rooms</th>\n",
       "      <td>0.033167</td>\n",
       "    </tr>\n",
       "    <tr>\n",
       "      <th>distance_category</th>\n",
       "      <td>0.011530</td>\n",
       "    </tr>\n",
       "    <tr>\n",
       "      <th>code type</th>\n",
       "      <td>0.191292</td>\n",
       "    </tr>\n",
       "    <tr>\n",
       "      <th>prestigious</th>\n",
       "      <td>0.140371</td>\n",
       "    </tr>\n",
       "  </tbody>\n",
       "</table>\n",
       "</div>"
      ],
      "text/plain": [
       "                   Feature Importances\n",
       "flat_area                     0.623640\n",
       "rooms                         0.033167\n",
       "distance_category             0.011530\n",
       "code type                     0.191292\n",
       "prestigious                   0.140371"
      ]
     },
     "execution_count": 117,
     "metadata": {},
     "output_type": "execute_result"
    }
   ],
   "source": [
    "# Оцінка кoефіцієнтів\n",
    "regrfor_df_imp = pd.DataFrame(regressor_forest.feature_importances_, X.columns, columns=['Feature Importances'])\n",
    "regrfor_df_imp"
   ]
  },
  {
   "cell_type": "code",
   "execution_count": 118,
   "metadata": {},
   "outputs": [
    {
     "name": "stdout",
     "output_type": "stream",
     "text": [
      "[6597.77520841]\n",
      "[25438.32218519]\n",
      "[6559.81223436]\n",
      "[5012.84419396]\n"
     ]
    },
    {
     "name": "stderr",
     "output_type": "stream",
     "text": [
      "C:\\Users\\liman\\anaconda3\\lib\\site-packages\\sklearn\\base.py:450: UserWarning: X does not have valid feature names, but RandomForestRegressor was fitted with feature names\n",
      "  warnings.warn(\n",
      "C:\\Users\\liman\\anaconda3\\lib\\site-packages\\sklearn\\base.py:450: UserWarning: X does not have valid feature names, but RandomForestRegressor was fitted with feature names\n",
      "  warnings.warn(\n",
      "C:\\Users\\liman\\anaconda3\\lib\\site-packages\\sklearn\\base.py:450: UserWarning: X does not have valid feature names, but RandomForestRegressor was fitted with feature names\n",
      "  warnings.warn(\n",
      "C:\\Users\\liman\\anaconda3\\lib\\site-packages\\sklearn\\base.py:450: UserWarning: X does not have valid feature names, but RandomForestRegressor was fitted with feature names\n",
      "  warnings.warn(\n"
     ]
    }
   ],
   "source": [
    "#Predictions\n",
    "print(regressor_forest.predict([[80, 2, 1, 1, 1]]))\n",
    "#80 meters, 2 rooms, close to metro, Задовільний стан  state of flat, non-prestigious district\n",
    "print(regressor_forest.predict([[160, 3, 3, 5, 1]]))\n",
    "#160 sqmeters, 3 rooms, distant from metro, Дизайнерський ремонт, non-prestigious district\n",
    "print(regressor_forest.predict([[100, 2, 3, 1, 1]]))\n",
    "#100 sqmeters, 2 rooms, distant from metro,Потрібен капітальний ремонт, non-prestigious district \n",
    "print(regressor_forest.predict([[50, 2, 2, 1, 1]]))\n",
    "#50 sqmeters, 2 rooms, middle distance to metro, Потрібен капітальний ремонт, non-prestigious district "
   ]
  },
  {
   "cell_type": "code",
   "execution_count": 119,
   "metadata": {},
   "outputs": [
    {
     "name": "stdout",
     "output_type": "stream",
     "text": [
      "Price for 40 sqmeters, 1 room, close to metro, Хороший стан of flat, prestigious district: [12883.46022487] hryvnas\n"
     ]
    },
    {
     "name": "stderr",
     "output_type": "stream",
     "text": [
      "C:\\Users\\liman\\anaconda3\\lib\\site-packages\\sklearn\\base.py:450: UserWarning: X does not have valid feature names, but RandomForestRegressor was fitted with feature names\n",
      "  warnings.warn(\n"
     ]
    }
   ],
   "source": [
    "#Prediction\n",
    "price_pred = regressor_forest.predict([[40, 1, 1, 4, 3]]) # 40 sqmeters, 1 room, close to metro, good state of flat, prestigious district\n",
    "print(\"Price for 40 sqmeters, 1 room, close to metro, Хороший стан of flat, prestigious district:\", price_pred, \"hryvnas\")"
   ]
  },
  {
   "cell_type": "code",
   "execution_count": 120,
   "metadata": {},
   "outputs": [
    {
     "name": "stdout",
     "output_type": "stream",
     "text": [
      "Price for 60 sqmeters, 2 rooms, close to metro, Євроремонт state of flat, prestigious district: [23907.45342665] hryvnas\n"
     ]
    },
    {
     "name": "stderr",
     "output_type": "stream",
     "text": [
      "C:\\Users\\liman\\anaconda3\\lib\\site-packages\\sklearn\\base.py:450: UserWarning: X does not have valid feature names, but RandomForestRegressor was fitted with feature names\n",
      "  warnings.warn(\n"
     ]
    }
   ],
   "source": [
    "#Prediction\n",
    "price_pred = regressor_forest.predict([[60, 2, 1, 5, 3]]) # 40 sqmeters, 1 room, close to metro, good state of flat, prestigious district\n",
    "print(\"Price for 60 sqmeters, 2 rooms, close to metro, Євроремонт state of flat, prestigious district:\", price_pred, \"hryvnas\")"
   ]
  },
  {
   "cell_type": "code",
   "execution_count": 121,
   "metadata": {},
   "outputs": [
    {
     "name": "stdout",
     "output_type": "stream",
     "text": [
      "Price for 40 sqmeters, 1 room, close to metro, Хороший стан of flat, not prestigious district: [10338.94685884] hryvnas\n"
     ]
    },
    {
     "name": "stderr",
     "output_type": "stream",
     "text": [
      "C:\\Users\\liman\\anaconda3\\lib\\site-packages\\sklearn\\base.py:450: UserWarning: X does not have valid feature names, but RandomForestRegressor was fitted with feature names\n",
      "  warnings.warn(\n"
     ]
    }
   ],
   "source": [
    "#Prediction\n",
    "price_pred = regressor_forest.predict([[40, 1, 1, 4, 1]]) # 40 sqmeters, 1 room, close to metro, good state of flat, prestigious district\n",
    "print(\"Price for 40 sqmeters, 1 room, close to metro, Хороший стан of flat, not prestigious district:\", price_pred, \"hryvnas\")"
   ]
  },
  {
   "cell_type": "code",
   "execution_count": 122,
   "metadata": {},
   "outputs": [
    {
     "name": "stdout",
     "output_type": "stream",
     "text": [
      "Price for 160 sqmeters, 4 rooms, distant from metro, Дизайнерський ремонт of flat, prestigious district: [38920.28841775] hryvnas\n"
     ]
    },
    {
     "name": "stderr",
     "output_type": "stream",
     "text": [
      "C:\\Users\\liman\\anaconda3\\lib\\site-packages\\sklearn\\base.py:450: UserWarning: X does not have valid feature names, but RandomForestRegressor was fitted with feature names\n",
      "  warnings.warn(\n"
     ]
    }
   ],
   "source": [
    "#Prediction\n",
    "price_pred = regressor_forest.predict([[160, 4, 3, 5, 3]]) # 40 sqmeters, 1 room, close to metro, good state of flat, prestigious district\n",
    "print(\"Price for 160 sqmeters, 4 rooms, distant from metro, Дизайнерський ремонт of flat, prestigious district:\", price_pred, \"hryvnas\")"
   ]
  },
  {
   "cell_type": "code",
   "execution_count": 123,
   "metadata": {},
   "outputs": [
    {
     "name": "stdout",
     "output_type": "stream",
     "text": [
      "Price for 40 sqmeters, 1 room, distant from metro, Потрібен капітальний ремонт, prestigious district 1: [5215.67161172] hryvnas\n"
     ]
    },
    {
     "name": "stderr",
     "output_type": "stream",
     "text": [
      "C:\\Users\\liman\\anaconda3\\lib\\site-packages\\sklearn\\base.py:450: UserWarning: X does not have valid feature names, but RandomForestRegressor was fitted with feature names\n",
      "  warnings.warn(\n"
     ]
    }
   ],
   "source": [
    "#Prediction\n",
    "price_pred = regressor_forest.predict([[40, 1, 3, 1, 1]]) # 40 sqmeters, 1 room, close to metro, good state of flat, prestigious district\n",
    "print(\"Price for 40 sqmeters, 1 room, distant from metro, Потрібен капітальний ремонт, prestigious district 1:\", price_pred, \"hryvnas\")"
   ]
  },
  {
   "cell_type": "code",
   "execution_count": 124,
   "metadata": {},
   "outputs": [
    {
     "name": "stdout",
     "output_type": "stream",
     "text": [
      "R2 Score: -0.08802916532761484\n"
     ]
    }
   ],
   "source": [
    "from sklearn.svm import SVR\n",
    "\n",
    "regressor = SVR()\n",
    "\n",
    "regressor.fit(X_train, y_train)\n",
    "\n",
    "y_pred = regressor.predict(X_test)\n",
    "\n",
    "score = regressor.score(X_test, y_test)\n",
    "print(\"R2 Score:\", score)"
   ]
  },
  {
   "cell_type": "code",
   "execution_count": 125,
   "metadata": {},
   "outputs": [
    {
     "name": "stdout",
     "output_type": "stream",
     "text": [
      "Best Hyperparameters: {'fit_intercept': True}\n"
     ]
    }
   ],
   "source": [
    "import pandas as pd\n",
    "from sklearn.model_selection import train_test_split\n",
    "from sklearn.linear_model import LinearRegression\n",
    "from sklearn.model_selection import GridSearchCV\n",
    "from sklearn.metrics import mean_squared_error, r2_score\n",
    "\n",
    "X_train, X_test, y_train, y_test = train_test_split(X, y, test_size=0.2, random_state=42)\n",
    "\n",
    "model = LinearRegression()\n",
    "\n",
    "param_grid = {'fit_intercept': [True, False]}\n",
    "\n",
    "grid_search = GridSearchCV(model, param_grid, cv=5)\n",
    "grid_search.fit(X_train, y_train)  \n",
    "\n",
    "\n",
    "best_params = grid_search.best_params_\n",
    "best_model = LinearRegression(**best_params)\n",
    "best_model.fit(X_train, y_train)  \n",
    "\n",
    "# Print the evaluation metrics\n",
    "print('Best Hyperparameters:', best_params)"
   ]
  },
  {
   "cell_type": "code",
   "execution_count": 126,
   "metadata": {},
   "outputs": [
    {
     "name": "stdout",
     "output_type": "stream",
     "text": [
      "Training  Score for X_train, y_train: 0.6200727050264129\n",
      "Test Score for X_test, y_test: 0.6221293190866778\n",
      "Mean Squared Error (MSE) for best_model_mse_y_train_y_pred: 78253602.53796825\n",
      "Root Mean Squared Error (RMSE) for best_model_rmse_y_train_y_pred: 8846.106631618695\n",
      "Mean Squared Error (MSE) for best_model_y_test_y_pred: 78253602.53796825\n",
      "Root Mean Squared Error (RMSE) for best_model_rmse_y_test_y_pred: 8846.106631618695\n",
      "Model best_model GridSearchCV coefficients: [  128.4510051   -861.22199964 -2153.61208033  4012.61085135\n",
      "  4855.34232177]\n"
     ]
    }
   ],
   "source": [
    "best_model_y_pred_train = best_model.predict(X_train)\n",
    "y_pred_train = best_model_y_pred_train\n",
    "best_model_mse_y_train_y_pred = mean_squared_error(y_train, y_pred_train)\n",
    "best_model_rmse_y_train_y_pred = np.sqrt(mean_squared_error(y_train, y_pred_train))\n",
    "\n",
    "best_model_y_pred_test = best_model.predict(X_test)\n",
    "y_pred_test = best_model_y_pred_test\n",
    "best_model_mse_y_test_y_pred = mean_squared_error(y_test, y_pred_test)\n",
    "best_model_rmse_y_test_y_pred = np.sqrt(mean_squared_error(y_test, y_pred_test))\n",
    "\n",
    "gs_train_score = best_model.score(X_train, y_train)\n",
    "print(\"Training  Score for X_train, y_train:\", gs_train_score)\n",
    "\n",
    "gs_test_score = best_model.score(X_test, y_test)\n",
    "print(\"Test Score for X_test, y_test:\", gs_test_score)\n",
    "\n",
    "print('Mean Squared Error (MSE) for best_model_mse_y_train_y_pred:', best_model_mse_y_train_y_pred)\n",
    "print('Root Mean Squared Error (RMSE) for best_model_rmse_y_train_y_pred:', best_model_rmse_y_train_y_pred)\n",
    "print('Mean Squared Error (MSE) for best_model_y_test_y_pred:', best_model_mse_y_train_y_pred)\n",
    "print('Root Mean Squared Error (RMSE) for best_model_rmse_y_test_y_pred:', best_model_rmse_y_train_y_pred)\n",
    "\n",
    "print('Model best_model GridSearchCV coefficients:', best_model.coef_) \n"
   ]
  },
  {
   "cell_type": "code",
   "execution_count": 127,
   "metadata": {},
   "outputs": [
    {
     "data": {
      "text/html": [
       "<div>\n",
       "<style scoped>\n",
       "    .dataframe tbody tr th:only-of-type {\n",
       "        vertical-align: middle;\n",
       "    }\n",
       "\n",
       "    .dataframe tbody tr th {\n",
       "        vertical-align: top;\n",
       "    }\n",
       "\n",
       "    .dataframe thead th {\n",
       "        text-align: right;\n",
       "    }\n",
       "</style>\n",
       "<table border=\"1\" class=\"dataframe\">\n",
       "  <thead>\n",
       "    <tr style=\"text-align: right;\">\n",
       "      <th></th>\n",
       "      <th>Model coefficients</th>\n",
       "    </tr>\n",
       "  </thead>\n",
       "  <tbody>\n",
       "    <tr>\n",
       "      <th>flat_area</th>\n",
       "      <td>128.451005</td>\n",
       "    </tr>\n",
       "    <tr>\n",
       "      <th>rooms</th>\n",
       "      <td>-861.222000</td>\n",
       "    </tr>\n",
       "    <tr>\n",
       "      <th>distance_category</th>\n",
       "      <td>-2153.612080</td>\n",
       "    </tr>\n",
       "    <tr>\n",
       "      <th>code type</th>\n",
       "      <td>4012.610851</td>\n",
       "    </tr>\n",
       "    <tr>\n",
       "      <th>prestigious</th>\n",
       "      <td>4855.342322</td>\n",
       "    </tr>\n",
       "  </tbody>\n",
       "</table>\n",
       "</div>"
      ],
      "text/plain": [
       "                   Model coefficients\n",
       "flat_area                  128.451005\n",
       "rooms                     -861.222000\n",
       "distance_category        -2153.612080\n",
       "code type                 4012.610851\n",
       "prestigious               4855.342322"
      ]
     },
     "execution_count": 127,
     "metadata": {},
     "output_type": "execute_result"
    }
   ],
   "source": [
    "# Оцінка кoефіцієнтів\n",
    "df_coef = pd.DataFrame(best_model.coef_, X.columns, columns=['Model coefficients'])\n",
    "df_coef"
   ]
  },
  {
   "cell_type": "code",
   "execution_count": 128,
   "metadata": {},
   "outputs": [
    {
     "name": "stdout",
     "output_type": "stream",
     "text": [
      "Price for 40 sqmeters, 1 room, close to metro, Хороший стан of flat, prestigious district: [17211.39088057] hryvnas\n"
     ]
    },
    {
     "name": "stderr",
     "output_type": "stream",
     "text": [
      "C:\\Users\\liman\\anaconda3\\lib\\site-packages\\sklearn\\base.py:450: UserWarning: X does not have valid feature names, but LinearRegression was fitted with feature names\n",
      "  warnings.warn(\n"
     ]
    }
   ],
   "source": [
    "#Prediction\n",
    "price_pred = best_model.predict([[40, 1, 1, 4, 3]]) # 40 sqmeters, 1 room, close to metro, good state of flat, prestigious district\n",
    "print(\"Price for 40 sqmeters, 1 room, close to metro, Хороший стан of flat, prestigious district:\", price_pred, \"hryvnas\")\n"
   ]
  },
  {
   "cell_type": "code",
   "execution_count": 129,
   "metadata": {},
   "outputs": [
    {
     "name": "stdout",
     "output_type": "stream",
     "text": [
      "Price for 60 sqmeters, 2 rooms, close to metro, Євроремонт state of flat, prestigious district: [22931.79983437] hryvnas\n"
     ]
    },
    {
     "name": "stderr",
     "output_type": "stream",
     "text": [
      "C:\\Users\\liman\\anaconda3\\lib\\site-packages\\sklearn\\base.py:450: UserWarning: X does not have valid feature names, but LinearRegression was fitted with feature names\n",
      "  warnings.warn(\n"
     ]
    }
   ],
   "source": [
    "#Prediction\n",
    "price_pred = best_model.predict([[60, 2, 1, 5, 3]]) # 40 sqmeters, 1 room, close to metro, good state of flat, prestigious district\n",
    "print(\"Price for 60 sqmeters, 2 rooms, close to metro, Євроремонт state of flat, prestigious district:\", price_pred, \"hryvnas\")"
   ]
  },
  {
   "cell_type": "code",
   "execution_count": 130,
   "metadata": {},
   "outputs": [
    {
     "name": "stdout",
     "output_type": "stream",
     "text": [
      "Price for 40 sqmeters, 1 room, close to metro, Хороший стан of flat, not prestigious district: [7500.70623703] hryvnas\n"
     ]
    },
    {
     "name": "stderr",
     "output_type": "stream",
     "text": [
      "C:\\Users\\liman\\anaconda3\\lib\\site-packages\\sklearn\\base.py:450: UserWarning: X does not have valid feature names, but LinearRegression was fitted with feature names\n",
      "  warnings.warn(\n"
     ]
    }
   ],
   "source": [
    "#Prediction\n",
    "price_pred = best_model.predict([[40, 1, 1, 4, 1]]) # 40 sqmeters, 1 room, close to metro, good state of flat, prestigious district\n",
    "print(\"Price for 40 sqmeters, 1 room, close to metro, Хороший стан of flat, not prestigious district:\", price_pred, \"hryvnas\")"
   ]
  },
  {
   "cell_type": "code",
   "execution_count": 131,
   "metadata": {},
   "outputs": [
    {
     "name": "stdout",
     "output_type": "stream",
     "text": [
      "Price for 160 sqmeters, 4 rooms, distant from metro, Дизайнерський ремонт of flat, prestigious district: [29747.23218488] hryvnas\n"
     ]
    },
    {
     "name": "stderr",
     "output_type": "stream",
     "text": [
      "C:\\Users\\liman\\anaconda3\\lib\\site-packages\\sklearn\\base.py:450: UserWarning: X does not have valid feature names, but LinearRegression was fitted with feature names\n",
      "  warnings.warn(\n"
     ]
    }
   ],
   "source": [
    "#Prediction\n",
    "price_pred = best_model.predict([[160, 4, 3, 5, 3]]) # 40 sqmeters, 1 room, close to metro, good state of flat, prestigious district\n",
    "print(\"Price for 160 sqmeters, 4 rooms, distant from metro, Дизайнерський ремонт of flat, prestigious district:\", price_pred, \"hryvnas\")"
   ]
  },
  {
   "cell_type": "code",
   "execution_count": 132,
   "metadata": {},
   "outputs": [
    {
     "name": "stdout",
     "output_type": "stream",
     "text": [
      "Price for 40 sqmeters, 1 room, distant from metro, Потрібен капітальний ремонт,prestigious district 1: [-8844.35047767] hryvnas\n"
     ]
    },
    {
     "name": "stderr",
     "output_type": "stream",
     "text": [
      "C:\\Users\\liman\\anaconda3\\lib\\site-packages\\sklearn\\base.py:450: UserWarning: X does not have valid feature names, but LinearRegression was fitted with feature names\n",
      "  warnings.warn(\n"
     ]
    }
   ],
   "source": [
    "#Prediction\n",
    "price_pred = best_model.predict([[40, 1, 3, 1, 1]]) # 40 sqmeters, 1 room, close to metro, good state of flat, prestigious district\n",
    "print(\"Price for 40 sqmeters, 1 room, distant from metro, Потрібен капітальний ремонт,prestigious district 1:\", price_pred, \"hryvnas\")"
   ]
  },
  {
   "cell_type": "code",
   "execution_count": null,
   "metadata": {},
   "outputs": [],
   "source": []
  }
 ],
 "metadata": {
  "kernelspec": {
   "display_name": "Python 3 (ipykernel)",
   "language": "python",
   "name": "python3"
  },
  "language_info": {
   "codemirror_mode": {
    "name": "ipython",
    "version": 3
   },
   "file_extension": ".py",
   "mimetype": "text/x-python",
   "name": "python",
   "nbconvert_exporter": "python",
   "pygments_lexer": "ipython3",
   "version": "3.9.13"
  }
 },
 "nbformat": 4,
 "nbformat_minor": 2
}
