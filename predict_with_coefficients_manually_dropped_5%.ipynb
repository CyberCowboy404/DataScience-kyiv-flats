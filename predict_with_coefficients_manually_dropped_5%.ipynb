{
 "cells": [
  {
   "cell_type": "markdown",
   "metadata": {},
   "source": [
    "<b> Data Vocabulary of Features taken to analysis:\n",
    "\n",
    "\"rooms\" - quantity of rooms\n",
    "\n",
    "\"price\" - price in hryvnas\n",
    "\n",
    "\"flat_area\" - area of a flat in square meters\n",
    "\n",
    "\"prestigious\" - code of districts:\n",
    "code_prestigious = {'Печерський': 3,\n",
    "                'Шевченківський': 3,\n",
    "                'Голосіївський': 3,\n",
    "                'Подільський': 2,\n",
    "                'Святошинський': 1,\n",
    "                'Солом\\'янський': 2,\n",
    "                'Оболонський': 2,\n",
    "                'Дніпровський': 1,\n",
    "                'Дарницький': 1,\n",
    "                'Деснянський': 1}\n",
    "\n",
    "code of flat types:\n",
    "\"code_type\" = {'Дизайнерський ремонт': 5,\n",
    "                'Євроремонт': 4,\n",
    "                'Чудовий стан': 4,\n",
    "                'Хороший стан': 3,\n",
    "                'Задовільний стан': 1,\n",
    "                'Перша здача': 2,\n",
    "                'Потрібен капітальний ремонт': 1,\n",
    "                'Незавершений ремонт': 1,\n",
    "                'Потрібен косметичний ремонт': 1,\n",
    "                'Від будівельників вільне планування': 1,\n",
    "                 'Незавершений ремонт': 1}\n",
    "\n",
    "codes of distances to metro: 1 - closer than 2 km, 2 - from 2 to 5 km, 3 - more than 5 km"
   ]
  },
  {
   "cell_type": "markdown",
   "metadata": {},
   "source": [
    "<b>Results: \n",
    "    \n",
    "LinearRegression, Lasso, Ridge worked the same: they were good on flats with high prices \n",
    "but were not good if the flat predicted to have small price (the resulting price was negative)\n",
    "Also the coefficients for some features were negative showing negative correlation although in real life the correlation\n",
    "was obviously positive\n",
    "Model of LinearRegression with GridSearchCV was very close to simple LinearRegression with the same drawbacks of prediction.\n",
    "    \n",
    "<b> !!!!The best models were DecisionTreeRegressor and RandomForestRegressor with accurate prediction of \n",
    "prices in all price categories.\n",
    "Also all features importances were positive and obviously reflecting real life tendencies\n",
    "\n",
    "regressor = SVR() was not proper for our data\n",
    "\n"
   ]
  },
  {
   "cell_type": "code",
   "execution_count": 2,
   "metadata": {},
   "outputs": [
    {
     "name": "stdout",
     "output_type": "stream",
     "text": [
      "5633\n",
      "Train score: 0.6066680674181433\n",
      "Test score: 0.6003018276972387\n",
      "Mean Squared Error (MSE) for mse_y_train_y_pred: 58981576.89103278\n",
      "Root Mean Squared Error (RMSE) for mse_y_train_y_pred: 7679.946411989655\n",
      "Mean Squared Error (MSE) for mse_y_test_y_pred: 58981576.89103278\n",
      "Root Mean Squared Error (RMSE) for mse_y_test_y_pred: 7679.946411989655\n",
      "Model cofficients: [  114.27891968  -791.46015293 -2065.31994412  3905.1969012\n",
      "  3724.59140347]\n"
     ]
    }
   ],
   "source": [
    "import pandas as pd\n",
    "from sklearn.linear_model import LinearRegression\n",
    "from sklearn.model_selection import train_test_split\n",
    "from sklearn.preprocessing import LabelEncoder\n",
    "from sklearn.metrics import mean_squared_error\n",
    "import numpy as np\n",
    "\n",
    "df = pd.read_csv('rieltor_subways_new2.csv')\n",
    "\n",
    "# df = df[df['rooms'] <= 3]\n",
    "# df = df[df['price'] <= 200000]\n",
    "\n",
    "print(len(df))\n",
    "\n",
    "#Linear regression\n",
    "\n",
    "df['flat_area'] = df['flat_area'].astype(int)\n",
    "df['price'] = df['price'].astype(int)\n",
    "df['rooms'] = df['rooms'].astype(int)\n",
    "\n",
    "# print(df.head(5))\n",
    "\n",
    "label_encoder = LabelEncoder()\n",
    "df['region_name_encoded'] = label_encoder.fit_transform(df['district'])\n",
    "\n",
    "X = df[['flat_area', 'rooms', 'distance_category', 'code type', 'prestigious']]\n",
    "y = df['price']\n",
    "\n",
    "X_train, X_test, y_train, y_test = train_test_split(X, y, test_size=0.25, random_state=1)\n",
    "\n",
    "model = LinearRegression()\n",
    "model.fit(X_train, y_train)\n",
    "\n",
    "y_pred_train=model.predict(X_train)\n",
    "mse_y_train_y_pred=mean_squared_error(y_train, y_pred_train)\n",
    "rmse_y_train_y_pred=np.sqrt(mean_squared_error(y_train, y_pred_train))\n",
    "\n",
    "y_pred_test = model.predict(X_test)\n",
    "mse_y_test_y_pred = mean_squared_error(y_test, y_pred_test)\n",
    "rmse_y_test_y_pred=np.sqrt(mean_squared_error(y_test, y_pred_test))\n",
    "\n",
    "score_train = model.score(X_train, y_train)\n",
    "score_test = model.score(X_test, y_test)\n",
    "\n",
    "print('Train score:', score_train)\n",
    "print('Test score:', score_test)\n",
    "\n",
    "print('Mean Squared Error (MSE) for mse_y_train_y_pred:', mse_y_train_y_pred)\n",
    "print('Root Mean Squared Error (RMSE) for mse_y_train_y_pred:', rmse_y_train_y_pred)\n",
    "print('Mean Squared Error (MSE) for mse_y_test_y_pred:', mse_y_train_y_pred)\n",
    "print('Root Mean Squared Error (RMSE) for mse_y_test_y_pred:', rmse_y_train_y_pred)\n",
    "\n",
    "print('Model cofficients:', model.coef_)"
   ]
  },
  {
   "cell_type": "code",
   "execution_count": 3,
   "metadata": {},
   "outputs": [
    {
     "data": {
      "text/html": [
       "<div>\n",
       "<style scoped>\n",
       "    .dataframe tbody tr th:only-of-type {\n",
       "        vertical-align: middle;\n",
       "    }\n",
       "\n",
       "    .dataframe tbody tr th {\n",
       "        vertical-align: top;\n",
       "    }\n",
       "\n",
       "    .dataframe thead th {\n",
       "        text-align: right;\n",
       "    }\n",
       "</style>\n",
       "<table border=\"1\" class=\"dataframe\">\n",
       "  <thead>\n",
       "    <tr style=\"text-align: right;\">\n",
       "      <th></th>\n",
       "      <th>Model coefficients</th>\n",
       "    </tr>\n",
       "  </thead>\n",
       "  <tbody>\n",
       "    <tr>\n",
       "      <th>flat_area</th>\n",
       "      <td>114.278920</td>\n",
       "    </tr>\n",
       "    <tr>\n",
       "      <th>rooms</th>\n",
       "      <td>-791.460153</td>\n",
       "    </tr>\n",
       "    <tr>\n",
       "      <th>distance_category</th>\n",
       "      <td>-2065.319944</td>\n",
       "    </tr>\n",
       "    <tr>\n",
       "      <th>code type</th>\n",
       "      <td>3905.196901</td>\n",
       "    </tr>\n",
       "    <tr>\n",
       "      <th>prestigious</th>\n",
       "      <td>3724.591403</td>\n",
       "    </tr>\n",
       "  </tbody>\n",
       "</table>\n",
       "</div>"
      ],
      "text/plain": [
       "                   Model coefficients\n",
       "flat_area                  114.278920\n",
       "rooms                     -791.460153\n",
       "distance_category        -2065.319944\n",
       "code type                 3905.196901\n",
       "prestigious               3724.591403"
      ]
     },
     "execution_count": 3,
     "metadata": {},
     "output_type": "execute_result"
    }
   ],
   "source": [
    "# Оцінка кoефіцієнтів\n",
    "df_coef = pd.DataFrame(model.coef_, X.columns, columns=['Model coefficients'])\n",
    "df_coef"
   ]
  },
  {
   "cell_type": "code",
   "execution_count": 4,
   "metadata": {},
   "outputs": [
    {
     "name": "stdout",
     "output_type": "stream",
     "text": [
      "Price for 40 sqmeters, 1 room, close to metro, Хороший стан of flat, prestigious district: [15875.88821037] hryvnas\n"
     ]
    },
    {
     "name": "stderr",
     "output_type": "stream",
     "text": [
      "C:\\Users\\liman\\anaconda3\\lib\\site-packages\\sklearn\\base.py:450: UserWarning: X does not have valid feature names, but LinearRegression was fitted with feature names\n",
      "  warnings.warn(\n"
     ]
    }
   ],
   "source": [
    "#Prediction\n",
    "price_pred = model.predict([[40, 1, 1, 4, 3]]) # 40 sqmeters, 1 room, close to metro, good state of flat, prestigious district\n",
    "print(\"Price for 40 sqmeters, 1 room, close to metro, Хороший стан of flat, prestigious district:\", price_pred, \"hryvnas\")"
   ]
  },
  {
   "cell_type": "code",
   "execution_count": 5,
   "metadata": {},
   "outputs": [
    {
     "name": "stdout",
     "output_type": "stream",
     "text": [
      "Price for 60 sqmeters, 2 rooms, close to metro, Євроремонт state of flat, prestigious district: [21275.20335222] hryvnas\n"
     ]
    },
    {
     "name": "stderr",
     "output_type": "stream",
     "text": [
      "C:\\Users\\liman\\anaconda3\\lib\\site-packages\\sklearn\\base.py:450: UserWarning: X does not have valid feature names, but LinearRegression was fitted with feature names\n",
      "  warnings.warn(\n"
     ]
    }
   ],
   "source": [
    "#Prediction\n",
    "price_pred = model.predict([[60, 2, 1, 5, 3]]) # 40 sqmeters, 1 room, close to metro, good state of flat, prestigious district\n",
    "print(\"Price for 60 sqmeters, 2 rooms, close to metro, Євроремонт state of flat, prestigious district:\", price_pred, \"hryvnas\")"
   ]
  },
  {
   "cell_type": "code",
   "execution_count": 6,
   "metadata": {},
   "outputs": [
    {
     "name": "stdout",
     "output_type": "stream",
     "text": [
      "Price for 40 sqmeters, 1 room, close to metro, Хороший стан of flat, not prestigious district: [8426.70540344] hryvnas\n"
     ]
    },
    {
     "name": "stderr",
     "output_type": "stream",
     "text": [
      "C:\\Users\\liman\\anaconda3\\lib\\site-packages\\sklearn\\base.py:450: UserWarning: X does not have valid feature names, but LinearRegression was fitted with feature names\n",
      "  warnings.warn(\n"
     ]
    }
   ],
   "source": [
    "#Prediction\n",
    "price_pred = model.predict([[40, 1, 1, 4, 1]]) # 40 sqmeters, 1 room, close to metro, good state of flat, prestigious district\n",
    "print(\"Price for 40 sqmeters, 1 room, close to metro, Хороший стан of flat, not prestigious district:\", price_pred, \"hryvnas\")"
   ]
  },
  {
   "cell_type": "code",
   "execution_count": 7,
   "metadata": {},
   "outputs": [
    {
     "name": "stdout",
     "output_type": "stream",
     "text": [
      "Price for 160 sqmeters, 4 rooms, distant from metro, Дизайнерський ремонт of flat, prestigious district: [26989.53512595] hryvnas\n"
     ]
    },
    {
     "name": "stderr",
     "output_type": "stream",
     "text": [
      "C:\\Users\\liman\\anaconda3\\lib\\site-packages\\sklearn\\base.py:450: UserWarning: X does not have valid feature names, but LinearRegression was fitted with feature names\n",
      "  warnings.warn(\n"
     ]
    }
   ],
   "source": [
    "#Prediction\n",
    "price_pred = model.predict([[160, 4, 3, 5, 3]]) # 40 sqmeters, 1 room, close to metro, good state of flat, prestigious district\n",
    "print(\"Price for 160 sqmeters, 4 rooms, distant from metro, Дизайнерський ремонт of flat, prestigious district:\", price_pred, \"hryvnas\")"
   ]
  },
  {
   "cell_type": "code",
   "execution_count": 8,
   "metadata": {},
   "outputs": [
    {
     "name": "stdout",
     "output_type": "stream",
     "text": [
      "Price for 40 sqmeters, 1 room, close to metro, Потрібен капітальний ремонт,prestigious district 1: [-3288.88530017] hryvnas\n"
     ]
    },
    {
     "name": "stderr",
     "output_type": "stream",
     "text": [
      "C:\\Users\\liman\\anaconda3\\lib\\site-packages\\sklearn\\base.py:450: UserWarning: X does not have valid feature names, but LinearRegression was fitted with feature names\n",
      "  warnings.warn(\n"
     ]
    }
   ],
   "source": [
    "#Prediction\n",
    "price_pred = model.predict([[40, 1, 1, 1, 1]]) # 40 sqmeters, 1 room, close to metro, good state of flat, prestigious district\n",
    "print(\"Price for 40 sqmeters, 1 room, close to metro, Потрібен капітальний ремонт,prestigious district 1:\", price_pred, \"hryvnas\")"
   ]
  },
  {
   "cell_type": "code",
   "execution_count": 9,
   "metadata": {},
   "outputs": [
    {
     "data": {
      "text/plain": [
       "Lasso(alpha=1)"
      ]
     },
     "execution_count": 9,
     "metadata": {},
     "output_type": "execute_result"
    }
   ],
   "source": [
    "#Lasso of the model\n",
    "\n",
    "from sklearn.linear_model import Lasso\n",
    "\n",
    "lasso_model = Lasso(alpha=1)\n",
    "\n",
    "lasso_model.fit(X_train, y_train)\n"
   ]
  },
  {
   "cell_type": "code",
   "execution_count": 10,
   "metadata": {},
   "outputs": [
    {
     "name": "stdout",
     "output_type": "stream",
     "text": [
      "Train score for lasso_model: 0.6066680118446848\n",
      "Test score for lasso_model: 0.6003063005208494\n",
      "Mean Squared Error (MSE) for lasso_mse_y_train_y_pred: 58981585.224478245\n",
      "Root Mean Squared Error (RMSE) for lasso_mse_y_train_y_pred: 7679.946954535444\n",
      "Mean Squared Error (MSE) for lasso_mse_y_test_y_pred: 58981585.224478245\n",
      "Root Mean Squared Error (RMSE) for lasso_mse_y_test_y_pred: 7679.946954535444\n",
      "Model cofficients: [  114.24136168  -787.71822021 -2061.83612246  3904.68756039\n",
      "  3724.03132958]\n"
     ]
    }
   ],
   "source": [
    "y_pred_train=lasso_model.predict(X_train)\n",
    "lasso_mse_y_train_y_pred=mean_squared_error(y_train, y_pred_train)\n",
    "lasso_rmse_y_train_y_pred=np.sqrt(mean_squared_error(y_train, y_pred_train))\n",
    "\n",
    "lasso_y_pred_test = lasso_model.predict(X_test)\n",
    "lasso_mse_y_test_y_pred = mean_squared_error(y_test, y_pred_test)\n",
    "lasso_rmse_y_test_y_pred=np.sqrt(mean_squared_error(y_test, y_pred_test))\n",
    "\n",
    "lasso_score_train = lasso_model.score(X_train, y_train)\n",
    "lasso_score_test = lasso_model.score(X_test, y_test)\n",
    "\n",
    "print('Train score for lasso_model:', lasso_score_train)\n",
    "print('Test score for lasso_model:', lasso_score_test)\n",
    "\n",
    "print('Mean Squared Error (MSE) for lasso_mse_y_train_y_pred:', lasso_mse_y_train_y_pred)\n",
    "print('Root Mean Squared Error (RMSE) for lasso_mse_y_train_y_pred:', lasso_rmse_y_train_y_pred)\n",
    "print('Mean Squared Error (MSE) for lasso_mse_y_test_y_pred:', lasso_mse_y_train_y_pred)\n",
    "print('Root Mean Squared Error (RMSE) for lasso_mse_y_test_y_pred:', lasso_rmse_y_train_y_pred)\n",
    "\n",
    "print('Model cofficients:', lasso_model.coef_)"
   ]
  },
  {
   "cell_type": "code",
   "execution_count": 11,
   "metadata": {},
   "outputs": [
    {
     "data": {
      "text/html": [
       "<div>\n",
       "<style scoped>\n",
       "    .dataframe tbody tr th:only-of-type {\n",
       "        vertical-align: middle;\n",
       "    }\n",
       "\n",
       "    .dataframe tbody tr th {\n",
       "        vertical-align: top;\n",
       "    }\n",
       "\n",
       "    .dataframe thead th {\n",
       "        text-align: right;\n",
       "    }\n",
       "</style>\n",
       "<table border=\"1\" class=\"dataframe\">\n",
       "  <thead>\n",
       "    <tr style=\"text-align: right;\">\n",
       "      <th></th>\n",
       "      <th>Model coefficients</th>\n",
       "    </tr>\n",
       "  </thead>\n",
       "  <tbody>\n",
       "    <tr>\n",
       "      <th>flat_area</th>\n",
       "      <td>114.241362</td>\n",
       "    </tr>\n",
       "    <tr>\n",
       "      <th>rooms</th>\n",
       "      <td>-787.718220</td>\n",
       "    </tr>\n",
       "    <tr>\n",
       "      <th>distance_category</th>\n",
       "      <td>-2061.836122</td>\n",
       "    </tr>\n",
       "    <tr>\n",
       "      <th>code type</th>\n",
       "      <td>3904.687560</td>\n",
       "    </tr>\n",
       "    <tr>\n",
       "      <th>prestigious</th>\n",
       "      <td>3724.031330</td>\n",
       "    </tr>\n",
       "  </tbody>\n",
       "</table>\n",
       "</div>"
      ],
      "text/plain": [
       "                   Model coefficients\n",
       "flat_area                  114.241362\n",
       "rooms                     -787.718220\n",
       "distance_category        -2061.836122\n",
       "code type                 3904.687560\n",
       "prestigious               3724.031330"
      ]
     },
     "execution_count": 11,
     "metadata": {},
     "output_type": "execute_result"
    }
   ],
   "source": [
    "# Оцінка кoефіцієнтів\n",
    "lasso_df_coef = pd.DataFrame(lasso_model.coef_, X.columns, columns=['Model coefficients'])\n",
    "lasso_df_coef"
   ]
  },
  {
   "cell_type": "code",
   "execution_count": 12,
   "metadata": {},
   "outputs": [
    {
     "name": "stdout",
     "output_type": "stream",
     "text": [
      "Price for 40 sqmeters, 1 room, close to metro, Хороший стан of flat, prestigious district: [15873.53546769] hryvnas\n"
     ]
    },
    {
     "name": "stderr",
     "output_type": "stream",
     "text": [
      "C:\\Users\\liman\\anaconda3\\lib\\site-packages\\sklearn\\base.py:450: UserWarning: X does not have valid feature names, but Lasso was fitted with feature names\n",
      "  warnings.warn(\n"
     ]
    }
   ],
   "source": [
    "#Prediction\n",
    "price_pred = lasso_model.predict([[40, 1, 1, 4, 3]]) # 40 sqmeters, 1 room, close to metro, good state of flat, prestigious district\n",
    "print(\"Price for 40 sqmeters, 1 room, close to metro, Хороший стан of flat, prestigious district:\", price_pred, \"hryvnas\")"
   ]
  },
  {
   "cell_type": "code",
   "execution_count": 13,
   "metadata": {},
   "outputs": [
    {
     "name": "stdout",
     "output_type": "stream",
     "text": [
      "Price for 40 sqmeters, 1 room, close to metro, Хороший стан of flat, not prestigious district: [8425.47280853] hryvnas\n"
     ]
    },
    {
     "name": "stderr",
     "output_type": "stream",
     "text": [
      "C:\\Users\\liman\\anaconda3\\lib\\site-packages\\sklearn\\base.py:450: UserWarning: X does not have valid feature names, but Lasso was fitted with feature names\n",
      "  warnings.warn(\n"
     ]
    }
   ],
   "source": [
    "#Prediction\n",
    "price_pred = lasso_model.predict([[40, 1, 1, 4, 1]]) # 40 sqmeters, 1 room, close to metro, good state of flat, prestigious district\n",
    "print(\"Price for 40 sqmeters, 1 room, close to metro, Хороший стан of flat, not prestigious district:\", price_pred, \"hryvnas\")"
   ]
  },
  {
   "cell_type": "code",
   "execution_count": 14,
   "metadata": {},
   "outputs": [
    {
     "name": "stdout",
     "output_type": "stream",
     "text": [
      "Price for 40 sqmeters, 1 room, close to metro, Потрібен капітальний ремонт,prestigious district 1: [-3288.88530017] hryvnas\n"
     ]
    },
    {
     "name": "stderr",
     "output_type": "stream",
     "text": [
      "C:\\Users\\liman\\anaconda3\\lib\\site-packages\\sklearn\\base.py:450: UserWarning: X does not have valid feature names, but LinearRegression was fitted with feature names\n",
      "  warnings.warn(\n"
     ]
    }
   ],
   "source": [
    "#Prediction\n",
    "price_pred = model.predict([[40, 1, 1, 1, 1]]) # 40 sqmeters, 1 room, close to metro, good state of flat, prestigious district\n",
    "print(\"Price for 40 sqmeters, 1 room, close to metro, Потрібен капітальний ремонт,prestigious district 1:\", price_pred, \"hryvnas\")"
   ]
  },
  {
   "cell_type": "code",
   "execution_count": 15,
   "metadata": {},
   "outputs": [
    {
     "data": {
      "text/plain": [
       "Ridge(alpha=1)"
      ]
     },
     "execution_count": 15,
     "metadata": {},
     "output_type": "execute_result"
    }
   ],
   "source": [
    "from sklearn.linear_model import Ridge\n",
    "\n",
    "ridge_model = Ridge(alpha=1)\n",
    "\n",
    "ridge_model.fit(X_train, y_train)\n"
   ]
  },
  {
   "cell_type": "code",
   "execution_count": 16,
   "metadata": {},
   "outputs": [
    {
     "name": "stdout",
     "output_type": "stream",
     "text": [
      "Train score for ridge_model: 0.6066680529619406\n",
      "Test score for ridge_model: 0.6003018267149254\n",
      "Mean Squared Error (MSE) for ridge_mse_y_train_y_pred: 58981579.05879379\n",
      "Root Mean Squared Error (RMSE) for ridge_mse_y_train_y_pred: 7679.9465531209125\n",
      "Mean Squared Error (MSE) for ridge_mse_y_test_y_pred: 58981579.05879379\n",
      "Root Mean Squared Error (RMSE) for ridge_mse_y_test_y_pred: 7679.9465531209125\n",
      "Model cofficients: [  114.28055487  -790.96680721 -2064.0543636   3904.34415654\n",
      "  3723.83278893]\n"
     ]
    }
   ],
   "source": [
    "y_pred_train=ridge_model.predict(X_train)\n",
    "ridge_mse_y_train_y_pred=mean_squared_error(y_train, y_pred_train)\n",
    "ridge_rmse_y_train_y_pred=np.sqrt(mean_squared_error(y_train, y_pred_train))\n",
    "\n",
    "ridge_y_pred_test = ridge_model.predict(X_test)\n",
    "ridge_mse_y_test_y_pred = mean_squared_error(y_test, y_pred_test)\n",
    "ridge_rmse_y_test_y_pred=np.sqrt(mean_squared_error(y_test, y_pred_test))\n",
    "\n",
    "ridge_score_train = ridge_model.score(X_train, y_train)\n",
    "ridge_score_test = ridge_model.score(X_test, y_test)\n",
    "\n",
    "print('Train score for ridge_model:', ridge_score_train)\n",
    "print('Test score for ridge_model:', ridge_score_test)\n",
    "\n",
    "print('Mean Squared Error (MSE) for ridge_mse_y_train_y_pred:', ridge_mse_y_train_y_pred)\n",
    "print('Root Mean Squared Error (RMSE) for ridge_mse_y_train_y_pred:', ridge_rmse_y_train_y_pred)\n",
    "print('Mean Squared Error (MSE) for ridge_mse_y_test_y_pred:', ridge_mse_y_train_y_pred)\n",
    "print('Root Mean Squared Error (RMSE) for ridge_mse_y_test_y_pred:', ridge_rmse_y_train_y_pred)\n",
    "\n",
    "print('Model cofficients:', ridge_model.coef_)"
   ]
  },
  {
   "cell_type": "code",
   "execution_count": 17,
   "metadata": {},
   "outputs": [
    {
     "data": {
      "text/html": [
       "<div>\n",
       "<style scoped>\n",
       "    .dataframe tbody tr th:only-of-type {\n",
       "        vertical-align: middle;\n",
       "    }\n",
       "\n",
       "    .dataframe tbody tr th {\n",
       "        vertical-align: top;\n",
       "    }\n",
       "\n",
       "    .dataframe thead th {\n",
       "        text-align: right;\n",
       "    }\n",
       "</style>\n",
       "<table border=\"1\" class=\"dataframe\">\n",
       "  <thead>\n",
       "    <tr style=\"text-align: right;\">\n",
       "      <th></th>\n",
       "      <th>Model coefficients</th>\n",
       "    </tr>\n",
       "  </thead>\n",
       "  <tbody>\n",
       "    <tr>\n",
       "      <th>flat_area</th>\n",
       "      <td>114.280555</td>\n",
       "    </tr>\n",
       "    <tr>\n",
       "      <th>rooms</th>\n",
       "      <td>-790.966807</td>\n",
       "    </tr>\n",
       "    <tr>\n",
       "      <th>distance_category</th>\n",
       "      <td>-2064.054364</td>\n",
       "    </tr>\n",
       "    <tr>\n",
       "      <th>code type</th>\n",
       "      <td>3904.344157</td>\n",
       "    </tr>\n",
       "    <tr>\n",
       "      <th>prestigious</th>\n",
       "      <td>3723.832789</td>\n",
       "    </tr>\n",
       "  </tbody>\n",
       "</table>\n",
       "</div>"
      ],
      "text/plain": [
       "                   Model coefficients\n",
       "flat_area                  114.280555\n",
       "rooms                     -790.966807\n",
       "distance_category        -2064.054364\n",
       "code type                 3904.344157\n",
       "prestigious               3723.832789"
      ]
     },
     "execution_count": 17,
     "metadata": {},
     "output_type": "execute_result"
    }
   ],
   "source": [
    "# Оцінка кoефіцієнтів\n",
    "ridge_df_coef = pd.DataFrame(ridge_model.coef_, X.columns, columns=['Model coefficients'])\n",
    "ridge_df_coef"
   ]
  },
  {
   "cell_type": "code",
   "execution_count": 18,
   "metadata": {},
   "outputs": [
    {
     "name": "stdout",
     "output_type": "stream",
     "text": [
      "Price for 40 sqmeters, 1 room, close to metro, Хороший стан of flat, prestigious district: [15874.04847353] hryvnas\n"
     ]
    },
    {
     "name": "stderr",
     "output_type": "stream",
     "text": [
      "C:\\Users\\liman\\anaconda3\\lib\\site-packages\\sklearn\\base.py:450: UserWarning: X does not have valid feature names, but Ridge was fitted with feature names\n",
      "  warnings.warn(\n"
     ]
    }
   ],
   "source": [
    "#Prediction\n",
    "price_pred = ridge_model.predict([[40, 1, 1, 4, 3]]) # 40 sqmeters, 1 room, close to metro, good state of flat, prestigious district\n",
    "print(\"Price for 40 sqmeters, 1 room, close to metro, Хороший стан of flat, prestigious district:\", price_pred, \"hryvnas\")"
   ]
  },
  {
   "cell_type": "code",
   "execution_count": 19,
   "metadata": {},
   "outputs": [
    {
     "name": "stdout",
     "output_type": "stream",
     "text": [
      "Price for 40 sqmeters, 1 room, close to metro, Потрібен капітальний ремонт,prestigious district 1: [-3288.88530017] hryvnas\n"
     ]
    },
    {
     "name": "stderr",
     "output_type": "stream",
     "text": [
      "C:\\Users\\liman\\anaconda3\\lib\\site-packages\\sklearn\\base.py:450: UserWarning: X does not have valid feature names, but LinearRegression was fitted with feature names\n",
      "  warnings.warn(\n"
     ]
    }
   ],
   "source": [
    "#Prediction\n",
    "price_pred = model.predict([[40, 1, 1, 1, 1]]) # 40 sqmeters, 1 room, close to metro, good state of flat, prestigious district\n",
    "print(\"Price for 40 sqmeters, 1 room, close to metro, Потрібен капітальний ремонт,prestigious district 1:\", price_pred, \"hryvnas\")"
   ]
  },
  {
   "cell_type": "code",
   "execution_count": 48,
   "metadata": {},
   "outputs": [
    {
     "data": {
      "text/plain": [
       "DecisionTreeRegressor()"
      ]
     },
     "execution_count": 48,
     "metadata": {},
     "output_type": "execute_result"
    }
   ],
   "source": [
    "from sklearn.tree import DecisionTreeRegressor\n",
    "from sklearn.model_selection import cross_val_score\n",
    "\n",
    "regressor = DecisionTreeRegressor()\n",
    "\n",
    "regressor.fit(X_train, y_train)\n"
   ]
  },
  {
   "cell_type": "code",
   "execution_count": 49,
   "metadata": {},
   "outputs": [
    {
     "name": "stdout",
     "output_type": "stream",
     "text": [
      "Training R2 Score for X_train, y_train: 0.8783490034376813\n",
      "Test R2 Score for X_test, y_test: 0.48582421357365724\n",
      "Mean Squared Error (MSE) for regressor_mse_y_train_y_pred: 58695955.81184674\n",
      "Root Mean Squared Error (RMSE) for regressor_mse_y_train_y_pred: 7661.328593125786\n",
      "Mean Squared Error (MSE) for regressor_mse_y_test_y_pred: 58695955.81184674\n",
      "Root Mean Squared Error (RMSE) for regressor_mse_y_test_y_pred: 7661.328593125786\n",
      "Model feature importances: [0.60375149 0.03850141 0.01851411 0.20163614 0.13759686]\n",
      "Cross-validated R2 scores: [0.49325323 0.49564584 0.42077458 0.5419753  0.49948531]\n",
      "Mean R2 score: 0.4902268512229349\n"
     ]
    }
   ],
   "source": [
    "regressor_y_pred_train=regressor.predict(X_train)\n",
    "regressor_mse_y_train_y_pred=mean_squared_error(y_train, y_pred_train)\n",
    "regressor_rmse_y_train_y_pred=np.sqrt(mean_squared_error(y_train, y_pred_train))\n",
    "\n",
    "regressor_y_pred_test = regressor.predict(X_test)\n",
    "regressor_mse_y_test_y_pred = mean_squared_error(y_test, y_pred_test)\n",
    "regressor_rmse_y_test_y_pred=np.sqrt(mean_squared_error(y_test, y_pred_test))\n",
    "\n",
    "train_score = regressor.score(X_train, y_train)\n",
    "print(\"Training R2 Score for X_train, y_train:\", train_score)\n",
    "\n",
    "test_score = regressor.score(X_test, y_test)\n",
    "print(\"Test R2 Score for X_test, y_test:\", test_score)\n",
    "\n",
    "print('Mean Squared Error (MSE) for regressor_mse_y_train_y_pred:', regressor_mse_y_train_y_pred)\n",
    "print('Root Mean Squared Error (RMSE) for regressor_mse_y_train_y_pred:', regressor_rmse_y_train_y_pred)\n",
    "print('Mean Squared Error (MSE) for regressor_mse_y_test_y_pred:', regressor_mse_y_train_y_pred)\n",
    "print('Root Mean Squared Error (RMSE) for regressor_mse_y_test_y_pred:', regressor_rmse_y_train_y_pred)\n",
    "\n",
    "print('Model feature importances:', regressor.feature_importances_) \n",
    "\n",
    "# Perform 5-fold cross-validation on the training data\n",
    "scores = cross_val_score(regressor, X_train, y_train, cv=5, scoring='r2')\n",
    "\n",
    "print(\"Cross-validated R2 scores:\", scores)\n",
    "print(\"Mean R2 score:\", scores.mean())"
   ]
  },
  {
   "cell_type": "code",
   "execution_count": 50,
   "metadata": {},
   "outputs": [
    {
     "data": {
      "text/html": [
       "<div>\n",
       "<style scoped>\n",
       "    .dataframe tbody tr th:only-of-type {\n",
       "        vertical-align: middle;\n",
       "    }\n",
       "\n",
       "    .dataframe tbody tr th {\n",
       "        vertical-align: top;\n",
       "    }\n",
       "\n",
       "    .dataframe thead th {\n",
       "        text-align: right;\n",
       "    }\n",
       "</style>\n",
       "<table border=\"1\" class=\"dataframe\">\n",
       "  <thead>\n",
       "    <tr style=\"text-align: right;\">\n",
       "      <th></th>\n",
       "      <th>Feature Importances</th>\n",
       "    </tr>\n",
       "  </thead>\n",
       "  <tbody>\n",
       "    <tr>\n",
       "      <th>flat_area</th>\n",
       "      <td>0.603751</td>\n",
       "    </tr>\n",
       "    <tr>\n",
       "      <th>rooms</th>\n",
       "      <td>0.038501</td>\n",
       "    </tr>\n",
       "    <tr>\n",
       "      <th>distance_category</th>\n",
       "      <td>0.018514</td>\n",
       "    </tr>\n",
       "    <tr>\n",
       "      <th>code type</th>\n",
       "      <td>0.201636</td>\n",
       "    </tr>\n",
       "    <tr>\n",
       "      <th>prestigious</th>\n",
       "      <td>0.137597</td>\n",
       "    </tr>\n",
       "  </tbody>\n",
       "</table>\n",
       "</div>"
      ],
      "text/plain": [
       "                   Feature Importances\n",
       "flat_area                     0.603751\n",
       "rooms                         0.038501\n",
       "distance_category             0.018514\n",
       "code type                     0.201636\n",
       "prestigious                   0.137597"
      ]
     },
     "execution_count": 50,
     "metadata": {},
     "output_type": "execute_result"
    }
   ],
   "source": [
    "# Оцінка кoефіцієнтів\n",
    "regr_df_imp = pd.DataFrame(regressor.feature_importances_, X.columns, columns=['Feature Importances'])\n",
    "regr_df_imp"
   ]
  },
  {
   "cell_type": "code",
   "execution_count": 23,
   "metadata": {},
   "outputs": [
    {
     "name": "stdout",
     "output_type": "stream",
     "text": [
      "Price for 40 sqmeters, 1 room, close to metro, Хороший стан of flat, prestigious district: [12999.] hryvnas\n"
     ]
    },
    {
     "name": "stderr",
     "output_type": "stream",
     "text": [
      "C:\\Users\\liman\\anaconda3\\lib\\site-packages\\sklearn\\base.py:450: UserWarning: X does not have valid feature names, but DecisionTreeRegressor was fitted with feature names\n",
      "  warnings.warn(\n"
     ]
    }
   ],
   "source": [
    "#Prediction\n",
    "price_pred = regressor.predict([[40, 1, 1, 4, 3]]) # 40 sqmeters, 1 room, close to metro, good state of flat, prestigious district\n",
    "print(\"Price for 40 sqmeters, 1 room, close to metro, Хороший стан of flat, prestigious district:\", price_pred, \"hryvnas\")"
   ]
  },
  {
   "cell_type": "code",
   "execution_count": 24,
   "metadata": {},
   "outputs": [
    {
     "name": "stdout",
     "output_type": "stream",
     "text": [
      "Price for 60 sqmeters, 2 rooms, close to metro, Євроремонт state of flat, prestigious district: [26470.] hryvnas\n"
     ]
    },
    {
     "name": "stderr",
     "output_type": "stream",
     "text": [
      "C:\\Users\\liman\\anaconda3\\lib\\site-packages\\sklearn\\base.py:450: UserWarning: X does not have valid feature names, but DecisionTreeRegressor was fitted with feature names\n",
      "  warnings.warn(\n"
     ]
    }
   ],
   "source": [
    "#Prediction\n",
    "price_pred = regressor.predict([[60, 2, 1, 5, 3]]) # 40 sqmeters, 1 room, close to metro, good state of flat, prestigious district\n",
    "print(\"Price for 60 sqmeters, 2 rooms, close to metro, Євроремонт state of flat, prestigious district:\", price_pred, \"hryvnas\")"
   ]
  },
  {
   "cell_type": "code",
   "execution_count": 25,
   "metadata": {},
   "outputs": [
    {
     "name": "stdout",
     "output_type": "stream",
     "text": [
      "Price for 40 sqmeters, 1 room, close to metro, Хороший стан of flat, not prestigious district: [11747.25] hryvnas\n"
     ]
    },
    {
     "name": "stderr",
     "output_type": "stream",
     "text": [
      "C:\\Users\\liman\\anaconda3\\lib\\site-packages\\sklearn\\base.py:450: UserWarning: X does not have valid feature names, but DecisionTreeRegressor was fitted with feature names\n",
      "  warnings.warn(\n"
     ]
    }
   ],
   "source": [
    "#Prediction\n",
    "price_pred = regressor.predict([[40, 1, 1, 4, 1]]) # 40 sqmeters, 1 room, close to metro, good state of flat, prestigious district\n",
    "print(\"Price for 40 sqmeters, 1 room, close to metro, Хороший стан of flat, not prestigious district:\", price_pred, \"hryvnas\")"
   ]
  },
  {
   "cell_type": "code",
   "execution_count": 26,
   "metadata": {},
   "outputs": [
    {
     "name": "stdout",
     "output_type": "stream",
     "text": [
      "Price for 160 sqmeters, 4 rooms, distant from metro, Дизайнерський ремонт of flat, prestigious district: [39156.25] hryvnas\n"
     ]
    },
    {
     "name": "stderr",
     "output_type": "stream",
     "text": [
      "C:\\Users\\liman\\anaconda3\\lib\\site-packages\\sklearn\\base.py:450: UserWarning: X does not have valid feature names, but DecisionTreeRegressor was fitted with feature names\n",
      "  warnings.warn(\n"
     ]
    }
   ],
   "source": [
    "#Prediction\n",
    "price_pred = regressor.predict([[160, 4, 3, 5, 3]]) # 40 sqmeters, 1 room, close to metro, good state of flat, prestigious district\n",
    "print(\"Price for 160 sqmeters, 4 rooms, distant from metro, Дизайнерський ремонт of flat, prestigious district:\", price_pred, \"hryvnas\")"
   ]
  },
  {
   "cell_type": "code",
   "execution_count": 51,
   "metadata": {},
   "outputs": [
    {
     "name": "stdout",
     "output_type": "stream",
     "text": [
      "Price for 40 sqmeters, 1 room, close to metro, Потрібен капітальний ремонт,prestigious district 1: [6000.] hryvnas\n"
     ]
    },
    {
     "name": "stderr",
     "output_type": "stream",
     "text": [
      "C:\\Users\\liman\\anaconda3\\lib\\site-packages\\sklearn\\base.py:450: UserWarning: X does not have valid feature names, but DecisionTreeRegressor was fitted with feature names\n",
      "  warnings.warn(\n"
     ]
    }
   ],
   "source": [
    "#Prediction\n",
    "price_pred = regressor.predict([[40, 1, 1, 1, 1]]) # 40 sqmeters, 1 room, close to metro, good state of flat, prestigious district\n",
    "print(\"Price for 40 sqmeters, 1 room, close to metro, Потрібен капітальний ремонт,prestigious district 1:\", price_pred, \"hryvnas\")"
   ]
  },
  {
   "cell_type": "code",
   "execution_count": null,
   "metadata": {},
   "outputs": [],
   "source": []
  },
  {
   "cell_type": "code",
   "execution_count": 56,
   "metadata": {},
   "outputs": [
    {
     "data": {
      "text/plain": [
       "RandomForestRegressor(max_depth=12, min_samples_leaf=2, min_samples_split=3,\n",
       "                      n_estimators=150)"
      ]
     },
     "execution_count": 56,
     "metadata": {},
     "output_type": "execute_result"
    }
   ],
   "source": [
    "from sklearn.ensemble import RandomForestRegressor\n",
    "from sklearn.model_selection import cross_val_score\n",
    "from sklearn.metrics import r2_score\n",
    "\n",
    "regressor_forest = RandomForestRegressor(n_estimators=150, max_depth=12, min_samples_split=3, min_samples_leaf=2)\n",
    "\n",
    "regressor_forest.fit(X_train, y_train)\n"
   ]
  },
  {
   "cell_type": "code",
   "execution_count": 57,
   "metadata": {},
   "outputs": [
    {
     "name": "stdout",
     "output_type": "stream",
     "text": [
      "Training R2 Score for X_train, y_train: 0.8009400013401703\n",
      "Test R2 Score for X_test, y_test: 0.622556652971408\n",
      "Mean Squared Error (MSE) for regressor_forest_mse_y_train_y_pred: 58695955.81184674\n",
      "Root Mean Squared Error (RMSE) for regressor_forest_rmse_y_train_y_pred: 7661.328593125786\n",
      "Mean Squared Error (MSE) for regressor_forest_mse_y_test_y_pred: 58695955.81184674\n",
      "Root Mean Squared Error (RMSE) for regressor_forest_rmse_y_test_y_pred: 7661.328593125786\n",
      "Model regressor_forest feature importances: [0.60033801 0.03009044 0.01474107 0.20904345 0.14578704]\n",
      "Cross-validated R2 scores: [0.64027977 0.6614198  0.62588312 0.67872882 0.63934657]\n",
      "Mean R2 score: 0.649131615241359\n"
     ]
    }
   ],
   "source": [
    "regressor_forest_y_pred_train=regressor_forest.predict(X_train)\n",
    "regressor_forest_mse_y_train_y_pred=mean_squared_error(y_train, y_pred_train)\n",
    "regressor_forest_rmse_y_train_y_pred=np.sqrt(mean_squared_error(y_train, y_pred_train))\n",
    "\n",
    "regressor_forest_y_pred_test = regressor_forest.predict(X_test)\n",
    "regressor_forest_mse_y_test_y_pred = mean_squared_error(y_test, y_pred_test)\n",
    "regressor_forest_rmse_y_test_y_pred=np.sqrt(mean_squared_error(y_test, y_pred_test))\n",
    "\n",
    "f_train_score = regressor_forest.score(X_train, y_train)\n",
    "print(\"Training R2 Score for X_train, y_train:\", f_train_score)\n",
    "\n",
    "f_test_score = regressor_forest.score(X_test, y_test)\n",
    "print(\"Test R2 Score for X_test, y_test:\", f_test_score)\n",
    "\n",
    "print('Mean Squared Error (MSE) for regressor_forest_mse_y_train_y_pred:', regressor_forest_mse_y_train_y_pred)\n",
    "print('Root Mean Squared Error (RMSE) for regressor_forest_rmse_y_train_y_pred:', regressor_forest_rmse_y_train_y_pred)\n",
    "print('Mean Squared Error (MSE) for regressor_forest_mse_y_test_y_pred:', regressor_forest_mse_y_train_y_pred)\n",
    "print('Root Mean Squared Error (RMSE) for regressor_forest_rmse_y_test_y_pred:', regressor_forest_rmse_y_train_y_pred)\n",
    "\n",
    "print('Model regressor_forest feature importances:', regressor_forest.feature_importances_) \n",
    "\n",
    "# Perform 5-fold cross-validation on the training data\n",
    "scores = cross_val_score(regressor_forest, X_train, y_train, cv=5, scoring='r2')\n",
    "\n",
    "print(\"Cross-validated R2 scores:\", scores)\n",
    "print(\"Mean R2 score:\", scores.mean())"
   ]
  },
  {
   "cell_type": "code",
   "execution_count": 30,
   "metadata": {},
   "outputs": [
    {
     "data": {
      "text/html": [
       "<div>\n",
       "<style scoped>\n",
       "    .dataframe tbody tr th:only-of-type {\n",
       "        vertical-align: middle;\n",
       "    }\n",
       "\n",
       "    .dataframe tbody tr th {\n",
       "        vertical-align: top;\n",
       "    }\n",
       "\n",
       "    .dataframe thead th {\n",
       "        text-align: right;\n",
       "    }\n",
       "</style>\n",
       "<table border=\"1\" class=\"dataframe\">\n",
       "  <thead>\n",
       "    <tr style=\"text-align: right;\">\n",
       "      <th></th>\n",
       "      <th>Feature Importances</th>\n",
       "    </tr>\n",
       "  </thead>\n",
       "  <tbody>\n",
       "    <tr>\n",
       "      <th>flat_area</th>\n",
       "      <td>0.593348</td>\n",
       "    </tr>\n",
       "    <tr>\n",
       "      <th>rooms</th>\n",
       "      <td>0.030541</td>\n",
       "    </tr>\n",
       "    <tr>\n",
       "      <th>distance_category</th>\n",
       "      <td>0.014018</td>\n",
       "    </tr>\n",
       "    <tr>\n",
       "      <th>code type</th>\n",
       "      <td>0.222739</td>\n",
       "    </tr>\n",
       "    <tr>\n",
       "      <th>prestigious</th>\n",
       "      <td>0.139354</td>\n",
       "    </tr>\n",
       "  </tbody>\n",
       "</table>\n",
       "</div>"
      ],
      "text/plain": [
       "                   Feature Importances\n",
       "flat_area                     0.593348\n",
       "rooms                         0.030541\n",
       "distance_category             0.014018\n",
       "code type                     0.222739\n",
       "prestigious                   0.139354"
      ]
     },
     "execution_count": 30,
     "metadata": {},
     "output_type": "execute_result"
    }
   ],
   "source": [
    "# Оцінка кoефіцієнтів\n",
    "regrfor_df_imp = pd.DataFrame(regressor_forest.feature_importances_, X.columns, columns=['Feature Importances'])\n",
    "regrfor_df_imp"
   ]
  },
  {
   "cell_type": "code",
   "execution_count": 31,
   "metadata": {},
   "outputs": [
    {
     "name": "stdout",
     "output_type": "stream",
     "text": [
      "[6107.28643813]\n",
      "[24660.23339683]\n",
      "[6374.15065725]\n",
      "[5040.29489951]\n"
     ]
    },
    {
     "name": "stderr",
     "output_type": "stream",
     "text": [
      "C:\\Users\\liman\\anaconda3\\lib\\site-packages\\sklearn\\base.py:450: UserWarning: X does not have valid feature names, but RandomForestRegressor was fitted with feature names\n",
      "  warnings.warn(\n",
      "C:\\Users\\liman\\anaconda3\\lib\\site-packages\\sklearn\\base.py:450: UserWarning: X does not have valid feature names, but RandomForestRegressor was fitted with feature names\n",
      "  warnings.warn(\n",
      "C:\\Users\\liman\\anaconda3\\lib\\site-packages\\sklearn\\base.py:450: UserWarning: X does not have valid feature names, but RandomForestRegressor was fitted with feature names\n",
      "  warnings.warn(\n",
      "C:\\Users\\liman\\anaconda3\\lib\\site-packages\\sklearn\\base.py:450: UserWarning: X does not have valid feature names, but RandomForestRegressor was fitted with feature names\n",
      "  warnings.warn(\n"
     ]
    }
   ],
   "source": [
    "#Predictions\n",
    "print(regressor_forest.predict([[80, 2, 1, 1, 1]]))\n",
    "#80 meters, 2 rooms, close to metro, Задовільний стан  state of flat, non-prestigious district\n",
    "print(regressor_forest.predict([[160, 3, 3, 5, 1]]))\n",
    "#160 sqmeters, 3 rooms, distant from metro, Дизайнерський ремонт, prestigious district\n",
    "print(regressor_forest.predict([[100, 2, 3, 1, 1]]))\n",
    "#100 sqmeters, 2 rooms, distant from metro,Потрібен капітальний ремонт, non-prestigious district \n",
    "print(regressor_forest.predict([[50, 2, 2, 1, 1]]))\n",
    "#50 sqmeters, 2 rooms, middle distance to metro, Потрібен капітальний ремонт, non-prestigious district "
   ]
  },
  {
   "cell_type": "code",
   "execution_count": 32,
   "metadata": {},
   "outputs": [
    {
     "name": "stdout",
     "output_type": "stream",
     "text": [
      "Price for 40 sqmeters, 1 room, close to metro, Хороший стан of flat, prestigious district: [12741.90184127] hryvnas\n"
     ]
    },
    {
     "name": "stderr",
     "output_type": "stream",
     "text": [
      "C:\\Users\\liman\\anaconda3\\lib\\site-packages\\sklearn\\base.py:450: UserWarning: X does not have valid feature names, but RandomForestRegressor was fitted with feature names\n",
      "  warnings.warn(\n"
     ]
    }
   ],
   "source": [
    "#Prediction\n",
    "price_pred = regressor_forest.predict([[40, 1, 1, 4, 3]]) # 40 sqmeters, 1 room, close to metro, good state of flat, prestigious district\n",
    "print(\"Price for 40 sqmeters, 1 room, close to metro, Хороший стан of flat, prestigious district:\", price_pred, \"hryvnas\")"
   ]
  },
  {
   "cell_type": "code",
   "execution_count": 33,
   "metadata": {},
   "outputs": [
    {
     "name": "stdout",
     "output_type": "stream",
     "text": [
      "Price for 60 sqmeters, 2 rooms, close to metro, Євроремонт state of flat, prestigious district: [25358.02465107] hryvnas\n"
     ]
    },
    {
     "name": "stderr",
     "output_type": "stream",
     "text": [
      "C:\\Users\\liman\\anaconda3\\lib\\site-packages\\sklearn\\base.py:450: UserWarning: X does not have valid feature names, but RandomForestRegressor was fitted with feature names\n",
      "  warnings.warn(\n"
     ]
    }
   ],
   "source": [
    "#Prediction\n",
    "price_pred = regressor_forest.predict([[60, 2, 1, 5, 3]]) # 40 sqmeters, 1 room, close to metro, good state of flat, prestigious district\n",
    "print(\"Price for 60 sqmeters, 2 rooms, close to metro, Євроремонт state of flat, prestigious district:\", price_pred, \"hryvnas\")"
   ]
  },
  {
   "cell_type": "code",
   "execution_count": 34,
   "metadata": {},
   "outputs": [
    {
     "name": "stdout",
     "output_type": "stream",
     "text": [
      "Price for 40 sqmeters, 1 room, close to metro, Хороший стан of flat, not prestigious district: [10818.65855543] hryvnas\n"
     ]
    },
    {
     "name": "stderr",
     "output_type": "stream",
     "text": [
      "C:\\Users\\liman\\anaconda3\\lib\\site-packages\\sklearn\\base.py:450: UserWarning: X does not have valid feature names, but RandomForestRegressor was fitted with feature names\n",
      "  warnings.warn(\n"
     ]
    }
   ],
   "source": [
    "#Prediction\n",
    "price_pred = regressor_forest.predict([[40, 1, 1, 4, 1]]) # 40 sqmeters, 1 room, close to metro, good state of flat, prestigious district\n",
    "print(\"Price for 40 sqmeters, 1 room, close to metro, Хороший стан of flat, not prestigious district:\", price_pred, \"hryvnas\")"
   ]
  },
  {
   "cell_type": "code",
   "execution_count": 35,
   "metadata": {},
   "outputs": [
    {
     "name": "stdout",
     "output_type": "stream",
     "text": [
      "Price for 160 sqmeters, 4 rooms, distant from metro, Дизайнерський ремонт of flat, prestigious district: [38770.83040653] hryvnas\n"
     ]
    },
    {
     "name": "stderr",
     "output_type": "stream",
     "text": [
      "C:\\Users\\liman\\anaconda3\\lib\\site-packages\\sklearn\\base.py:450: UserWarning: X does not have valid feature names, but RandomForestRegressor was fitted with feature names\n",
      "  warnings.warn(\n"
     ]
    }
   ],
   "source": [
    "#Prediction\n",
    "price_pred = regressor_forest.predict([[160, 4, 3, 5, 3]]) # 40 sqmeters, 1 room, close to metro, good state of flat, prestigious district\n",
    "print(\"Price for 160 sqmeters, 4 rooms, distant from metro, Дизайнерський ремонт of flat, prestigious district:\", price_pred, \"hryvnas\")"
   ]
  },
  {
   "cell_type": "code",
   "execution_count": 52,
   "metadata": {},
   "outputs": [
    {
     "name": "stdout",
     "output_type": "stream",
     "text": [
      "Price for 40 sqmeters, 1 room, distant from metro, Потрібен капітальний ремонт, prestigious district 1: [5128.18606862] hryvnas\n"
     ]
    },
    {
     "name": "stderr",
     "output_type": "stream",
     "text": [
      "C:\\Users\\liman\\anaconda3\\lib\\site-packages\\sklearn\\base.py:450: UserWarning: X does not have valid feature names, but RandomForestRegressor was fitted with feature names\n",
      "  warnings.warn(\n"
     ]
    }
   ],
   "source": [
    "#Prediction\n",
    "price_pred = regressor_forest.predict([[40, 1, 3, 1, 1]]) # 40 sqmeters, 1 room, close to metro, good state of flat, prestigious district\n",
    "print(\"Price for 40 sqmeters, 1 room, distant from metro, Потрібен капітальний ремонт, prestigious district 1:\", price_pred, \"hryvnas\")"
   ]
  },
  {
   "cell_type": "code",
   "execution_count": 37,
   "metadata": {},
   "outputs": [
    {
     "name": "stdout",
     "output_type": "stream",
     "text": [
      "R2 Score: -0.08954924600519854\n"
     ]
    }
   ],
   "source": [
    "from sklearn.svm import SVR\n",
    "\n",
    "regressor = SVR()\n",
    "\n",
    "regressor.fit(X_train, y_train)\n",
    "\n",
    "y_pred = regressor.predict(X_test)\n",
    "\n",
    "score = regressor.score(X_test, y_test)\n",
    "print(\"R2 Score:\", score)"
   ]
  },
  {
   "cell_type": "code",
   "execution_count": 38,
   "metadata": {},
   "outputs": [
    {
     "name": "stdout",
     "output_type": "stream",
     "text": [
      "Best Hyperparameters: {'fit_intercept': True}\n"
     ]
    }
   ],
   "source": [
    "import pandas as pd\n",
    "from sklearn.model_selection import train_test_split\n",
    "from sklearn.linear_model import LinearRegression\n",
    "from sklearn.model_selection import GridSearchCV\n",
    "from sklearn.metrics import mean_squared_error, r2_score\n",
    "\n",
    "X_train, X_test, y_train, y_test = train_test_split(X, y, test_size=0.2, random_state=42)\n",
    "\n",
    "model = LinearRegression()\n",
    "\n",
    "param_grid = {'fit_intercept': [True, False]}\n",
    "\n",
    "grid_search = GridSearchCV(model, param_grid, cv=5)\n",
    "grid_search.fit(X_train, y_train)  \n",
    "\n",
    "\n",
    "best_params = grid_search.best_params_\n",
    "best_model = LinearRegression(**best_params)\n",
    "best_model.fit(X_train, y_train)  \n",
    "\n",
    "# Print the evaluation metrics\n",
    "print('Best Hyperparameters:', best_params)"
   ]
  },
  {
   "cell_type": "code",
   "execution_count": 39,
   "metadata": {},
   "outputs": [
    {
     "name": "stdout",
     "output_type": "stream",
     "text": [
      "Training  Score for X_train, y_train: 0.6117860057624023\n",
      "Test Score for X_test, y_test: 0.5784104078382445\n",
      "Mean Squared Error (MSE) for best_model_mse_y_train_y_pred: 58695955.81184674\n",
      "Root Mean Squared Error (RMSE) for best_model_rmse_y_train_y_pred: 7661.328593125786\n",
      "Mean Squared Error (MSE) for best_model_y_test_y_pred: 58695955.81184674\n",
      "Root Mean Squared Error (RMSE) for best_model_rmse_y_test_y_pred: 7661.328593125786\n",
      "Model best_model GridSearchCV coefficients: [  113.01107243  -750.16682921 -2116.44182628  3877.74712856\n",
      "  3773.94301353]\n"
     ]
    }
   ],
   "source": [
    "best_model_y_pred_train = best_model.predict(X_train)\n",
    "y_pred_train = best_model_y_pred_train\n",
    "best_model_mse_y_train_y_pred = mean_squared_error(y_train, y_pred_train)\n",
    "best_model_rmse_y_train_y_pred = np.sqrt(mean_squared_error(y_train, y_pred_train))\n",
    "\n",
    "best_model_y_pred_test = best_model.predict(X_test)\n",
    "y_pred_test = best_model_y_pred_test\n",
    "best_model_mse_y_test_y_pred = mean_squared_error(y_test, y_pred_test)\n",
    "best_model_rmse_y_test_y_pred = np.sqrt(mean_squared_error(y_test, y_pred_test))\n",
    "\n",
    "gs_train_score = best_model.score(X_train, y_train)\n",
    "print(\"Training  Score for X_train, y_train:\", gs_train_score)\n",
    "\n",
    "gs_test_score = best_model.score(X_test, y_test)\n",
    "print(\"Test Score for X_test, y_test:\", gs_test_score)\n",
    "\n",
    "print('Mean Squared Error (MSE) for best_model_mse_y_train_y_pred:', best_model_mse_y_train_y_pred)\n",
    "print('Root Mean Squared Error (RMSE) for best_model_rmse_y_train_y_pred:', best_model_rmse_y_train_y_pred)\n",
    "print('Mean Squared Error (MSE) for best_model_y_test_y_pred:', best_model_mse_y_train_y_pred)\n",
    "print('Root Mean Squared Error (RMSE) for best_model_rmse_y_test_y_pred:', best_model_rmse_y_train_y_pred)\n",
    "\n",
    "print('Model best_model GridSearchCV coefficients:', best_model.coef_) \n"
   ]
  },
  {
   "cell_type": "code",
   "execution_count": 40,
   "metadata": {},
   "outputs": [
    {
     "data": {
      "text/html": [
       "<div>\n",
       "<style scoped>\n",
       "    .dataframe tbody tr th:only-of-type {\n",
       "        vertical-align: middle;\n",
       "    }\n",
       "\n",
       "    .dataframe tbody tr th {\n",
       "        vertical-align: top;\n",
       "    }\n",
       "\n",
       "    .dataframe thead th {\n",
       "        text-align: right;\n",
       "    }\n",
       "</style>\n",
       "<table border=\"1\" class=\"dataframe\">\n",
       "  <thead>\n",
       "    <tr style=\"text-align: right;\">\n",
       "      <th></th>\n",
       "      <th>Model coefficients</th>\n",
       "    </tr>\n",
       "  </thead>\n",
       "  <tbody>\n",
       "    <tr>\n",
       "      <th>flat_area</th>\n",
       "      <td>113.011072</td>\n",
       "    </tr>\n",
       "    <tr>\n",
       "      <th>rooms</th>\n",
       "      <td>-750.166829</td>\n",
       "    </tr>\n",
       "    <tr>\n",
       "      <th>distance_category</th>\n",
       "      <td>-2116.441826</td>\n",
       "    </tr>\n",
       "    <tr>\n",
       "      <th>code type</th>\n",
       "      <td>3877.747129</td>\n",
       "    </tr>\n",
       "    <tr>\n",
       "      <th>prestigious</th>\n",
       "      <td>3773.943014</td>\n",
       "    </tr>\n",
       "  </tbody>\n",
       "</table>\n",
       "</div>"
      ],
      "text/plain": [
       "                   Model coefficients\n",
       "flat_area                  113.011072\n",
       "rooms                     -750.166829\n",
       "distance_category        -2116.441826\n",
       "code type                 3877.747129\n",
       "prestigious               3773.943014"
      ]
     },
     "execution_count": 40,
     "metadata": {},
     "output_type": "execute_result"
    }
   ],
   "source": [
    "# Оцінка кoефіцієнтів\n",
    "df_coef = pd.DataFrame(best_model.coef_, X.columns, columns=['Model coefficients'])\n",
    "df_coef"
   ]
  },
  {
   "cell_type": "code",
   "execution_count": 41,
   "metadata": {},
   "outputs": [
    {
     "name": "stdout",
     "output_type": "stream",
     "text": [
      "Price for 40 sqmeters, 1 room, close to metro, Хороший стан of flat, prestigious district: [15975.40758035] hryvnas\n"
     ]
    },
    {
     "name": "stderr",
     "output_type": "stream",
     "text": [
      "C:\\Users\\liman\\anaconda3\\lib\\site-packages\\sklearn\\base.py:450: UserWarning: X does not have valid feature names, but LinearRegression was fitted with feature names\n",
      "  warnings.warn(\n"
     ]
    }
   ],
   "source": [
    "#Prediction\n",
    "price_pred = best_model.predict([[40, 1, 1, 4, 3]]) # 40 sqmeters, 1 room, close to metro, good state of flat, prestigious district\n",
    "print(\"Price for 40 sqmeters, 1 room, close to metro, Хороший стан of flat, prestigious district:\", price_pred, \"hryvnas\")\n"
   ]
  },
  {
   "cell_type": "code",
   "execution_count": 42,
   "metadata": {},
   "outputs": [
    {
     "name": "stdout",
     "output_type": "stream",
     "text": [
      "Price for 60 sqmeters, 2 rooms, close to metro, Євроремонт state of flat, prestigious district: [21363.20932825] hryvnas\n"
     ]
    },
    {
     "name": "stderr",
     "output_type": "stream",
     "text": [
      "C:\\Users\\liman\\anaconda3\\lib\\site-packages\\sklearn\\base.py:450: UserWarning: X does not have valid feature names, but LinearRegression was fitted with feature names\n",
      "  warnings.warn(\n"
     ]
    }
   ],
   "source": [
    "#Prediction\n",
    "price_pred = best_model.predict([[60, 2, 1, 5, 3]]) # 40 sqmeters, 1 room, close to metro, good state of flat, prestigious district\n",
    "print(\"Price for 60 sqmeters, 2 rooms, close to metro, Євроремонт state of flat, prestigious district:\", price_pred, \"hryvnas\")"
   ]
  },
  {
   "cell_type": "code",
   "execution_count": 43,
   "metadata": {},
   "outputs": [
    {
     "name": "stdout",
     "output_type": "stream",
     "text": [
      "Price for 40 sqmeters, 1 room, close to metro, Хороший стан of flat, not prestigious district: [8427.5215533] hryvnas\n"
     ]
    },
    {
     "name": "stderr",
     "output_type": "stream",
     "text": [
      "C:\\Users\\liman\\anaconda3\\lib\\site-packages\\sklearn\\base.py:450: UserWarning: X does not have valid feature names, but LinearRegression was fitted with feature names\n",
      "  warnings.warn(\n"
     ]
    }
   ],
   "source": [
    "#Prediction\n",
    "price_pred = best_model.predict([[40, 1, 1, 4, 1]]) # 40 sqmeters, 1 room, close to metro, good state of flat, prestigious district\n",
    "print(\"Price for 40 sqmeters, 1 room, close to metro, Хороший стан of flat, not prestigious district:\", price_pred, \"hryvnas\")"
   ]
  },
  {
   "cell_type": "code",
   "execution_count": 44,
   "metadata": {},
   "outputs": [
    {
     "name": "stdout",
     "output_type": "stream",
     "text": [
      "Price for 160 sqmeters, 4 rooms, distant from metro, Дизайнерський ремонт of flat, prestigious district: [26931.09925999] hryvnas\n"
     ]
    },
    {
     "name": "stderr",
     "output_type": "stream",
     "text": [
      "C:\\Users\\liman\\anaconda3\\lib\\site-packages\\sklearn\\base.py:450: UserWarning: X does not have valid feature names, but LinearRegression was fitted with feature names\n",
      "  warnings.warn(\n"
     ]
    }
   ],
   "source": [
    "#Prediction\n",
    "price_pred = best_model.predict([[160, 4, 3, 5, 3]]) # 40 sqmeters, 1 room, close to metro, good state of flat, prestigious district\n",
    "print(\"Price for 160 sqmeters, 4 rooms, distant from metro, Дизайнерський ремонт of flat, prestigious district:\", price_pred, \"hryvnas\")"
   ]
  },
  {
   "cell_type": "code",
   "execution_count": 45,
   "metadata": {},
   "outputs": [
    {
     "name": "stdout",
     "output_type": "stream",
     "text": [
      "Price for 40 sqmeters, 1 room, distant from metro, Потрібен капітальний ремонт,prestigious district 1: [-7438.60348493] hryvnas\n"
     ]
    },
    {
     "name": "stderr",
     "output_type": "stream",
     "text": [
      "C:\\Users\\liman\\anaconda3\\lib\\site-packages\\sklearn\\base.py:450: UserWarning: X does not have valid feature names, but LinearRegression was fitted with feature names\n",
      "  warnings.warn(\n"
     ]
    }
   ],
   "source": [
    "#Prediction\n",
    "price_pred = best_model.predict([[40, 1, 3, 1, 1]]) # 40 sqmeters, 1 room, close to metro, good state of flat, prestigious district\n",
    "print(\"Price for 40 sqmeters, 1 room, distant from metro, Потрібен капітальний ремонт,prestigious district 1:\", price_pred, \"hryvnas\")"
   ]
  },
  {
   "cell_type": "code",
   "execution_count": null,
   "metadata": {},
   "outputs": [],
   "source": []
  }
 ],
 "metadata": {
  "kernelspec": {
   "display_name": "Python 3 (ipykernel)",
   "language": "python",
   "name": "python3"
  },
  "language_info": {
   "codemirror_mode": {
    "name": "ipython",
    "version": 3
   },
   "file_extension": ".py",
   "mimetype": "text/x-python",
   "name": "python",
   "nbconvert_exporter": "python",
   "pygments_lexer": "ipython3",
   "version": "3.9.13"
  }
 },
 "nbformat": 4,
 "nbformat_minor": 2
}
