{
 "cells": [
  {
   "cell_type": "code",
   "execution_count": null,
   "metadata": {},
   "outputs": [],
   "source": [
    "import requests\n",
    "import pandas as pd\n",
    "import time\n",
    "import json\n",
    "# Define your API key and endpoint\n",
    "ENDPOINT = 'https://maps.googleapis.com/maps/api/place/nearbysearch/json'\n",
    "\n",
    "#csv to pandas\n",
    "df = pd.read_csv('orenda_Kyiv_lun_rieltor.csv')\n",
    "\n",
    "#iterate over dataframe\n",
    "for index, row in df.iterrows():\n",
    "    latitude = row.latitude\n",
    "    longitude = row.longitude\n",
    "\n",
    "    params = {\n",
    "        'key': API_KEY,\n",
    "        'location': f'{latitude},{longitude}',\n",
    "        'radius': 10000,\n",
    "        'type': 'subway_station'\n",
    "    }\n",
    "\n",
    "    # Send the nearby search request\n",
    "    response = requests.get(ENDPOINT, params=params)\n",
    "    results = response.json()\n",
    "    json_string = json.dumps(results, indent=4)\n",
    "\n",
    "    print(json_string)\n",
    "\n",
    "    # if results not empty\n",
    "    if len(results['results']) > 0:\n",
    "        # Access the details of the closest subway station\n",
    "        closest_station = results['results'][0]\n",
    "        name = closest_station['name']\n",
    "        l = closest_station['geometry']['location']\n",
    "        location = f'{l[\"lat\"]}, {l[\"lng\"]}'\n",
    "\n",
    "        # Display the details of the closest subway station\n",
    "        print('Closest Subway Station:')\n",
    "        print('Name:', name)\n",
    "        print('Location:', location)\n",
    "\n",
    "        df.at[index, \"Closest_subway\"] = name\n",
    "        df.at[index, \"Closest_subway_location\"] = location\n",
    "\n",
    "        df.to_csv('rieltor_subways.csv', index=False)"
   ]
  }
 ],
 "metadata": {
  "kernelspec": {
   "display_name": "Python 3",
   "language": "python",
   "name": "python3"
  },
  "language_info": {
   "codemirror_mode": {
    "name": "ipython",
    "version": 3
   },
   "file_extension": ".py",
   "mimetype": "text/x-python",
   "name": "python",
   "nbconvert_exporter": "python",
   "pygments_lexer": "ipython3",
   "version": "3.9.6"
  },
  "orig_nbformat": 4
 },
 "nbformat": 4,
 "nbformat_minor": 2
}
